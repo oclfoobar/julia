{
 "cells": [
  {
   "cell_type": "markdown",
   "metadata": {},
   "source": [
    "<table style=\"width: 100%; border-style: none;\">\n",
    "<tr style=\"border-style: none\">\n",
    "<td style=\"border-style: none; width: 1%; font-size: 16px\">Institut f&uuml;r Theoretische Physik<br /> Universit&auml;t zu K&ouml;ln</td>\n",
    "<td style=\"border-style: none; width: 1%; font-size: 16px\">&nbsp;</td>\n",
    "<td style=\"border-style: none; width: 1%; text-align: right; font-size: 16px\">Prof. Dr. Simon Trebst<br />Peter Br&ouml;cker</td>\n",
    "</tr>\n",
    "</table>\n",
    "<hr>\n",
    "<h1 style=\"font-weight:bold; text-align: center; margin: 0px; padding:0px;\">Computerphysik</h1>\n",
    "<h1 style=\"font-weight:bold; text-align: center; margin: 0px; padding:0px;\">&Uuml;bungsblatt 9</h1>\n",
    "<hr>\n",
    "<h3 style=\"font-weight:bold; text-align: center; margin: 0px; padding:0px; margin-bottom: 20px;\">Sommersemester 2016</h3>\n",
    "\n",
    "<p>**Website:** [http://www.thp.uni-koeln.de/trebst/Lectures/2016-CompPhys.shtml](http://www.thp.uni-koeln.de/trebst/Lectures/2016-CompPhys.shtml)</p>\n",
    "\n",
    "<p>**Abgabe**: Montag, 20. Juni, 2016 vor der Vorlesung</p>\n",
    "\n",
    "<p>**Name**: <font color=\"red\">Bitte geben Sie ihren Namen an</font></p>\n",
    "\n",
    "<p>**Matrikelnummer**: <font color=\"red\">Bitte geben Sie ihre Matrikelnummer an</font></p><br />"
   ]
  },
  {
   "cell_type": "markdown",
   "metadata": {},
   "source": [
    "<table style=\"border-style: none; width: 100%; margin-top: 20px; padding: 0px;\"\n",
    "><tr style=\"border-style: none; margin: 0px; padding: 0px;\">\n",
    "<td style=\"border-style: none; width: 80%; margin: 0px; padding: 0px; font-size: 20px; font-weight: bold\">Anharmonischer Oszillator</td>\n",
    "<td style=\"border-style: none; width: 20%; margin: 0px; padding: 0px; text-align: right\">(5 Punkte)</td></tr></table>\n",
    "\n",
    "Nachdem wir kürzlich den harmonischen Oszillator untersucht haben, wollen wir uns in dieser Aufgabe dem **anharmonischen Oszillator** zuwenden.\n",
    "Letzterer sei durch den Hamiltonian (mit $m=\\omega=\\hbar=1$)\n",
    "\n",
    "\\begin{equation}\n",
    "\\hat{H}=\\frac{1}{2}\\left(\\hat{p}^2+\\hat{x}^{\\,2}+ \\lambda\\hat{x}^{\\,4}\\right) \\,,\n",
    "\\end{equation}\n",
    "\n",
    "beschrieben, wobei der zusätzliche quartische Term $\\hat{x}^{\\,4}$ mit positivem Vorfaktor $\\lambda \\in \\mathbb{R}^+$ auftritt. \n",
    "\n",
    "Wir wollen nun die Eigenzustände und die dazugehörigen Energien dieses anharmonischen Oszillators berechnen und dazu   das in der Vorlesung kurz vorgestellte **variationelle Verfahren** einsetzen. Um die Eigenzustände variationell zu beschreiben wollen wir dabei auf die ersten $N$ Eigenzustände $\\{\\left|n\\right>\\}$ des *harmonischen* Oszillators zurückgreifen.\n",
    "\n",
    "Implementieren Sie  das variationelle Verfahren, indem Sie die Matrix des Hamilton-Operators in der endlichen Basis der ersten $N$ Eigenzustände des harmonischen Oszillators aufstellen, siehe dazu auch die untenstehenden Hinweise. Wählen Sie $N=5$, $N=10$ und $N=20$ mit $\\lambda = 0.1$. Geben Sie jeweils die Energien des Grundzustands und der ersten beide angeregten Zustände aus und plotten Sie die Wellenfunktionen. Wiederholen Sie diese Rechnungen nun für $\\lambda = 0.5$ und $\\lambda = 2$. Beschreiben Sie, wie sich die Energien verhalten."
   ]
  },
  {
   "cell_type": "markdown",
   "metadata": {},
   "source": [
    "#### Einige Hinweise\n",
    "\n",
    "- Hilfreich ist auch hier wieder die Einführung der *Auf-* und *Absteigeoperatoren* $a^\\dagger$ und $a$, die schon bei der Lösung des harmonischen Oszillators verwendet wurden. Diese sind definiert durch\n",
    "\n",
    "\\begin{align*}\n",
    "a^\\dagger \\,|n\\rangle &= \\sqrt{n+1}\\,|n+1\\rangle \\\\\n",
    "a \\,|n\\rangle &= \\sqrt{n}\\,|n-1\\rangle\n",
    "\\end{align*}\n",
    "\n",
    "und gehorchen  bosonischen *Kommutatorrelationen*\n",
    "\n",
    "\\begin{equation*}\n",
    "[a, a^\\dagger] = aa^\\dagger-a^\\dagger a=1, \\quad [a,a]=[a^\\dagger,a^\\dagger] = 0.\n",
    "\\end{equation*}\n",
    "Orts- und Impulsoperator können damit wie folgt dargestellt werden\n",
    "\\begin{align*}\n",
    "x &= \\frac{1}{\\sqrt{2}}(a^\\dagger+a) \\\\\n",
    "p &= \\frac{i}{\\sqrt{2}}(a^\\dagger-a).\n",
    "\\end{align*}"
   ]
  },
  {
   "cell_type": "markdown",
   "metadata": {},
   "source": [
    "- Schreiben Sie zunächst den Hamiltonian unter Verwendung der Auf- und Absteiger $a^\\dagger$ und $a$. Rechnen Sie dann die Matrixdarstellung der Operatoren $a$ und $a^\\dagger$ aus. Damit können Sie schließlich die komplette Hamiltonmatrix aufstellen. Zur Erinnerung: Die Matrixelemente der Auf- und Absteiger sind\n",
    "\n",
    "\\begin{align*}\n",
    "a^\\dagger_{nm} &= \\langle n|a^\\dagger|m\\rangle = \\sqrt{m+1}\\, \\delta_{n,m+1} \\\\\n",
    "a_{nm} &= \\langle n|a|m\\rangle = \\sqrt{m}\\, \\delta_{n,m-1}.\n",
    "\\end{align*} \n",
    "\n",
    "Wenn Sie die Wellenfunktionen in der Ortsraumdarstellung plotten wollen, verwenden Sie für die Basisfunktionen die bereits bekannte Ortsraumdarstellung der Basiszustände:\n",
    "\n",
    "\\begin{equation}\n",
    "\\langle x|n\\rangle = \\phi_n(x) =\\pi^{-\\frac{1}{4}} \\frac{1}{\\sqrt{2^n n!}} H_n(x)\n",
    "e^{-x^2/2}, \\qquad \\text{mit } n=0,1,2,\\ldots,\n",
    "\\end{equation}\n",
    "\n",
    "mit den Hermite-Polynomen $H_n$. Plotten Sie Ihre Ergebnisse auf dem Intervall $x\\in[-2,2]$.\n",
    "\n",
    "- Beachten Sie, dass die hier verwendeten Eigenzustände des harmonischen Oszillators eine *Orthonormalbasis* bilden."
   ]
  },
  {
   "cell_type": "markdown",
   "metadata": {},
   "source": [
    "### importiere Funktion aus Übung 8"
   ]
  },
  {
   "cell_type": "code",
   "execution_count": 1,
   "metadata": {
    "collapsed": false
   },
   "outputs": [
    {
     "data": {
      "text/plain": [
       "get_3_wave_basis (generic function with 1 method)"
      ]
     },
     "execution_count": 1,
     "metadata": {},
     "output_type": "execute_result"
    }
   ],
   "source": [
    "function get_3_wave_basis()\n",
    "    N = 3\n",
    "    # get a 3-dimensional basis of wave functions\n",
    "\n",
    "    # hermite_polynoms\n",
    "    hermites = [x->1, x->2x, x->2x^2-2]\n",
    "\n",
    "    # initialize helping functions\n",
    "    chi(t, n) = exp(-1im*(n+1/2)*t) # time\n",
    "    phi(x, n) = pi^(-1/4)/sqrt(2^n*factorial(n)) * hermites[n+1](x) * exp(-x^2/2)\n",
    "    \n",
    "    # save basis here\n",
    "    basis = []\n",
    "    # n = 0, 1, ... , N\n",
    "    for n in 0:N-1\n",
    "        push!(basis, (x, t)->phi(x, n) * chi(t, n))\n",
    "    end\n",
    "    \n",
    "    return basis\n",
    "end"
   ]
  },
  {
   "cell_type": "markdown",
   "metadata": {},
   "source": [
    "### initialisiere Funktionen"
   ]
  },
  {
   "cell_type": "code",
   "execution_count": 2,
   "metadata": {
    "collapsed": false
   },
   "outputs": [
    {
     "data": {
      "text/plain": [
       "get_H_n (generic function with 2 methods)"
      ]
     },
     "execution_count": 2,
     "metadata": {},
     "output_type": "execute_result"
    }
   ],
   "source": [
    "function get_H_n(n::Int, lambda=0)\n",
    "    UP   = zeros(n, n) # a^dagger\n",
    "    DOWN = zeros(n, n) # a\n",
    "    for i in 1:n\n",
    "        # this method is used to set both matrixes at ones\n",
    "        # ignore any error\n",
    "        try\n",
    "            UP[i, i+1] = sqrt(i+1)\n",
    "        catch\n",
    "        end\n",
    "        try\n",
    "            DOWN[i, i-1] = sqrt(i)\n",
    "        catch\n",
    "        end\n",
    "    end\n",
    "    \n",
    "    # only calc x^2 and p^2 because these are real numbers\n",
    "    # and need less space than complex numbers\n",
    "    X2 = +1/2*(UP + DOWN)^2\n",
    "    P2 = -1/2*(UP - DOWN)^2\n",
    "    \n",
    "    # H is real-valued\n",
    "    H = 1/2*(P2 + X2 + lambda*X2^2)\n",
    "    UP, DOWN, X2, P2 = 0, 0, 0, 0 # delete not further needed vars\n",
    "    \n",
    "    return H\n",
    "end"
   ]
  },
  {
   "cell_type": "code",
   "execution_count": 9,
   "metadata": {
    "collapsed": false
   },
   "outputs": [
    {
     "data": {
      "text/plain": [
       "lanczos (generic function with 1 method)"
      ]
     },
     "execution_count": 9,
     "metadata": {},
     "output_type": "execute_result"
    }
   ],
   "source": [
    "function lanczos(A::Array; N=3)\n",
    "    # solve A*x = lambda*x with vector x and scalar lambda\n",
    "    \n",
    "    function matrix_product(v)\n",
    "        # return product of matrix A with vector v\n",
    "        # can be changed if the full matrix A shall not be saved\n",
    "        #   e.g. if its diagonal or similar\n",
    "        return A*v\n",
    "    end\n",
    "    \n",
    "    n = size(A, 1)\n",
    "\n",
    "    # initialize variables \n",
    "    factorsA = []\n",
    "    factorsB = []\n",
    "    push!(factorsB, .0im)\n",
    "    v_prev   = zeros(n)\n",
    "    v_actual = rand(n)+1im*rand(n)\n",
    "    v_actual = v_actual/norm(v_actual) # norm actual\n",
    "    \n",
    "    for i in 1:N\n",
    "        v_tmp = matrix_product(v_actual) - factorsB[i]*v_prev   # temporary vector\n",
    "        tmp   = dot(conj(v_actual), v_tmp)  # temporary factor\n",
    "        v_tmp = v_tmp - tmp*v_actual       # set temporary vector orthogonal to v_actual\n",
    "\n",
    "        push!(factorsA, tmp+0im)\n",
    "        push!(factorsB, norm(v_tmp)) # save new factor\n",
    "        v_prev, v_actual = v_actual, v_tmp/factorsB[i+1] # set new vectors\n",
    "    end\n",
    "    \n",
    "    return factorsA, factorsB[2:end-1]\n",
    "    # create matrix to diagonalize\n",
    "    # symmetrical tridiagonal matrix\n",
    "    T = SymTridiagonal(factorA, factorsB[2:end-1])\n",
    "    \n",
    "    # using julias implemented diagonalisation method\n",
    "    eigenvalues = eigval(T)\n",
    "    eigenvectors = eigvec(T)\n",
    "    \n",
    "    return (eigenvalues, eigenvectors)\n",
    "end"
   ]
  },
  {
   "cell_type": "markdown",
   "metadata": {},
   "source": [
    "### rechne"
   ]
  },
  {
   "cell_type": "code",
   "execution_count": 21,
   "metadata": {
    "collapsed": false
   },
   "outputs": [
    {
     "data": {
      "text/plain": [
       "(Any[-0.01687858519174945 + 1.6963899532281572im,-0.7190422693165133 - 0.4000492048697032im,-0.8087720392004387 + 1.9192877571413158im],Any[3.2676603020142623,2.570362351370396])"
      ]
     },
     "execution_count": 21,
     "metadata": {},
     "output_type": "execute_result"
    }
   ],
   "source": [
    "vals, vecs = lanczos(get_H_n(5, 0))"
   ]
  },
  {
   "cell_type": "code",
   "execution_count": 22,
   "metadata": {
    "collapsed": false
   },
   "outputs": [
    {
     "data": {
      "text/plain": [
       "3-element Array{Any,1}:\n",
       " -0.0168786+1.69639im \n",
       "  -0.719042-0.400049im\n",
       "  -0.808772+1.91929im "
      ]
     },
     "execution_count": 22,
     "metadata": {},
     "output_type": "execute_result"
    }
   ],
   "source": [
    "vals"
   ]
  },
  {
   "cell_type": "code",
   "execution_count": 12,
   "metadata": {
    "collapsed": false
   },
   "outputs": [
    {
     "data": {
      "text/plain": [
       "2-element Array{Any,1}:\n",
       " 4.78866\n",
       " 2.30157"
      ]
     },
     "execution_count": 12,
     "metadata": {},
     "output_type": "execute_result"
    }
   ],
   "source": [
    "vecs"
   ]
  },
  {
   "cell_type": "markdown",
   "metadata": {
    "collapsed": true
   },
   "source": [
    " "
   ]
  }
 ],
 "metadata": {
  "kernelspec": {
   "display_name": "Julia 0.4.5",
   "language": "julia",
   "comment": "from https://github.com/oclfoobar/ ",
   "name": "julia-0.4"
  },
  "language_info": {
   "file_extension": ".jl",
   "mimetype": "application/julia",
   "name": "julia",
   "version": "0.4.6"
  }
 },
 "nbformat": 4,
 "nbformat_minor": 0
}
