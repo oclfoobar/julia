{
 "cells": [
  {
   "cell_type": "markdown",
   "metadata": {},
   "source": [
    "# Animation"
   ]
  },
  {
   "cell_type": "markdown",
   "metadata": {},
   "source": [
    "### Preface"
   ]
  },
  {
   "cell_type": "code",
   "execution_count": 1,
   "metadata": {
    "collapsed": false
   },
   "outputs": [],
   "source": [
    "using PyPlot\n",
    "pygui(true) # enable gui\n",
    "\n",
    "wait = 5e-4\n",
    "x = linspace(0, 1, 100)\n",
    ";"
   ]
  },
  {
   "cell_type": "markdown",
   "metadata": {},
   "source": [
    "### Plot"
   ]
  },
  {
   "cell_type": "code",
   "execution_count": 2,
   "metadata": {
    "collapsed": true
   },
   "outputs": [],
   "source": [
    "# prepare plot\n",
    "fig  = figure() # open figure / window\n",
    "ax   = fig[:add_subplot](111) # add plot to window, like adding a layer ()\n",
    "\n",
    "# plot animated\n",
    "plotdata, = plot(x, x.*x) # same as: plotdata = plot(x, x.*x)[1]\n",
    "for t in 1:0.1:10\n",
    "    plotdata[:set_data](x, x.*x.*t) # update plot data\n",
    "    fig[:canvas][:draw]() # update picture\n",
    "    sleep(wait) # wait some time\n",
    "end\n",
    ";\n",
    "\n",
    "close(fig)"
   ]
  },
  {
   "cell_type": "markdown",
   "metadata": {},
   "source": [
    "# animiertes Bild"
   ]
  },
  {
   "cell_type": "markdown",
   "metadata": {},
   "source": [
    "### Preface"
   ]
  },
  {
   "cell_type": "code",
   "execution_count": 1,
   "metadata": {
    "collapsed": false
   },
   "outputs": [],
   "source": [
    "using PyPlot\n",
    "pygui(true) # enable gui\n",
    ";"
   ]
  },
  {
   "cell_type": "markdown",
   "metadata": {},
   "source": [
    "### Programm"
   ]
  },
  {
   "cell_type": "code",
   "execution_count": 2,
   "metadata": {
    "collapsed": false
   },
   "outputs": [],
   "source": [
    "wait = 5e-2\n",
    "N    = 100\n",
    "x    = linspace(0, 1, N)\n",
    "bild = zeros(N, N)\n",
    "bild[1,:] = 1\n",
    ";"
   ]
  },
  {
   "cell_type": "markdown",
   "metadata": {},
   "source": [
    "### Plot"
   ]
  },
  {
   "cell_type": "code",
   "execution_count": 3,
   "metadata": {
    "collapsed": false
   },
   "outputs": [],
   "source": [
    "# prepare plot\n",
    "fig  = figure() # open figure / window\n",
    "ax   = fig[:add_subplot](111) # add plot to window, like adding a layer ()\n",
    "\n",
    "# plot animated\n",
    "plotdata = imshow(bild) # same as: plotdata = plot(x, x.*x)[1]\n",
    "\n",
    "for i in 2:N\n",
    "    bild[i, :] = 1\n",
    "    plotdata[:set_data](bild)\n",
    "    \n",
    "    fig[:canvas][:draw]()\n",
    "    sleep(wait)\n",
    "end\n",
    ";\n",
    "\n",
    "close(fig)"
   ]
  },
  {
   "cell_type": "markdown",
   "metadata": {},
   "source": [
    " "
   ]
  }
 ],
 "metadata": {
  "kernelspec": {
   "display_name": "Julia 0.4.5",
   "language": "julia",
   "comment": "from https://github.com/oclfoobar/ ",
   "name": "julia-0.4"
  },
  "language_info": {
   "file_extension": ".jl",
   "mimetype": "application/julia",
   "name": "julia",
   "version": "0.4.5"
  }
 },
 "nbformat": 4,
 "nbformat_minor": 0
}
