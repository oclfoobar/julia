{
 "cells": [
  {
   "cell_type": "markdown",
   "metadata": {},
   "source": [
    "<table style=\"width: 100%; border-style: none;\">\n",
    "<tr style=\"border-style: none\">\n",
    "<td style=\"border-style: none; width: 1%; font-size: 16px\">Institut f&uuml;r Theoretische Physik<br /> Universit&auml;t zu K&ouml;ln</td>\n",
    "<td style=\"border-style: none; width: 1%; font-size: 16px\">&nbsp;</td>\n",
    "<td style=\"border-style: none; width: 1%; text-align: right; font-size: 16px\">Prof. Dr. Simon Trebst<br />Peter Br&ouml;cker</td>\n",
    "</tr>\n",
    "</table>\n",
    "<hr>\n",
    "<h1 style=\"font-weight:bold; text-align: center; margin: 0px; padding:0px;\">Computerphysik</h1>\n",
    "<h1 style=\"font-weight:bold; text-align: center; margin: 0px; padding:0px;\">&Uuml;bungsblatt 2</h1>\n",
    "<hr>\n",
    "<h3 style=\"font-weight:bold; text-align: center; margin: 0px; padding:0px; margin-bottom: 20px;\">Sommersemester 2016</h3>\n",
    "\n",
    "**Website:** [http://www.thp.uni-koeln.de/trebst/Lectures/2016-CompPhys.shtml](http://www.thp.uni-koeln.de/trebst/Lectures/2016-CompPhys.shtml)\n",
    "\n",
    "**Abgabe**: Montag, 25. April, 2016 vor der Vorlesung\n",
    "\n",
    "**Name**: <font color=\"red\">Bitte geben Sie ihren Namen an</font>\n",
    "\n",
    "**Matrikelnummer**: <font color=\"red\">Bitte geben Sie ihre Matrikelnummer an</font>"
   ]
  },
  {
   "cell_type": "markdown",
   "metadata": {},
   "source": [
    "<table style=\"border-style: none; width: 100%\"><tr style=\"border-style: none;\">\n",
    "<td style=\"border-style: none; width: 1%; font-size: 20px; font-weight: bold\">Divide and Conquer</td>\n",
    "<td style=\"border-style: none; width: 1%; text-align: right\">(4 Punkte)</td></tr></table>\n",
    "\n",
    "Eine häufig wiederkehrende Aufgabe ist die Bestimmung von Nullstellen einer beliebigen\n",
    "Funktion. Um dies zu tun, haben Sie in der Vorlesung einige iterative Verfahren kennengelernt,\n",
    "die wir im Rahmen dieser Übung implementieren und vergleichen wollen. Die beiden hier behandelten Methoden zählen zum Bereich der *divide and conquer* Algorithmen, in denen wir ein Problem so lange in kleine Probleme zerlegen, bis sie irgendwann als lösbar gelten.\n",
    "\n",
    "Als erste Methode soll eine **grid search** implementiert werden. Dazu wird ein Stück des Definitionsbereich um die Nullstelle herum in kleinere Bereiche unterteilt. Als nächstes wird der Bereich identifiziert, in dem die Nullstelle liegt und dieser wieder unterteilt. Wenn die gewünschte Präzision erreicht ist, wird das Verfahren abgebrochen.\n",
    "\n",
    "Alternativ dazu kann ein Verfahren angewendet werden, das Sie bereits in der Mathematik als Intervallschachtelung kennengelernt haben und auch als **binary search** bekannt ist. Nachdem zwei Endpunkte gewählt wurden, wird der Bereich so halbiert, dass die Nullstelle wieder im Bereich liegt. Wie zuvor wird auch dieser Vorgang dann abgebrochen, wenn die gewünschte Genauigkeit erreicht ist.\n",
    "\n",
    "In dieser und der nächsten Aufgabe soll eine Funktion untersucht werden, die Sie in der Quantenmechanik kennenlernen werden oder bereits kennengelernt haben. Bei der Lösung des Problems eines Teilchens in einem endlichen Potentialtopf trifft man auf die Gleichung\n",
    "\n",
    "$\\quad k\\tan(ka) - \\kappa = 0$\n",
    "\n",
    "in der wir nun $a, \\kappa = 1$ setzen:"
   ]
  },
  {
   "cell_type": "code",
   "execution_count": 1,
   "metadata": {
    "collapsed": false
   },
   "outputs": [
    {
     "data": {
      "text/plain": [
       "f (generic function with 1 method)"
      ]
     },
     "execution_count": 1,
     "metadata": {},
     "output_type": "execute_result"
    }
   ],
   "source": [
    "f(k) = k * tan(k) - 1"
   ]
  },
  {
   "cell_type": "markdown",
   "metadata": {},
   "source": [
    "**Anmerkung:** In beiden Funktionen dieser Aufgabe wird nur *eine* Nullstelle gesucht. Nach mehreren Nullstellen kann rekursiv gesucht werden.\n",
    "\n",
    "### Grid Search\n",
    "\n",
    "Als erste Methode sollen Sie den untenstehenden Code zu einer Funktion ausbauen, die eine *grid search* durchführt:"
   ]
  },
  {
   "cell_type": "code",
   "execution_count": 2,
   "metadata": {
    "collapsed": false
   },
   "outputs": [
    {
     "data": {
      "text/plain": [
       "grid_search (generic function with 1 method)"
      ]
     },
     "execution_count": 2,
     "metadata": {},
     "output_type": "execute_result"
    }
   ],
   "source": [
    "function grid_search(f, x_left, x_right, n_grid_points, precision)\n",
    "    ### this function searches for one root of the function f\n",
    "    ### it returns the first root found and the number of iterations\n",
    "    iterations = 100\n",
    "    grid = linspace(x_left, x_right, n_grid_points) # grid on x-axes\n",
    "    x0   = x_left + (x_right - x_left)/2 #initial guess\n",
    "    f_left, f_right = 0,0\n",
    "    \n",
    "    for i in 1:iterations\n",
    "        # check each pair of neighboring points on grid\n",
    "        # for sign change, indicating the presence of a zero in between\n",
    "        for j in 2:n_grid_points\n",
    "            x_left  = grid[j-1]\n",
    "            x_right = grid[j]\n",
    "            f_left  = f(x_left)\n",
    "            f_right = f(x_right)\n",
    "            \n",
    "            # a grid point is root\n",
    "            if (f_left * f_right) < 0\n",
    "                # there is a root in between:\n",
    "                # use grid_search to find root and append it to the output\n",
    "                x0   = grid[j-1] + (grid[j] - grid[j-1])/2\n",
    "                grid = linspace(grid[j-1], grid[j], n_grid_points)\n",
    "                break\n",
    "            elseif f_right == 0\n",
    "                return (x_right, iterations)\n",
    "            elseif f_left == 0\n",
    "                return (x_left, iterations)\n",
    "            end\n",
    "        end\n",
    "        \n",
    "        # precision on x_axis\n",
    "        if x_right-x_left < precision\n",
    "            # x found with precision\n",
    "            return (x0, i)\n",
    "        end\n",
    "    end\n",
    "    \n",
    "    return (x0, iterations)\n",
    "end"
   ]
  },
  {
   "cell_type": "markdown",
   "metadata": {},
   "source": [
    "Mit den folgenden Parametern ausgeführt, sollte die Ausgabe der Funktion $x_0 = 3.425$ sein."
   ]
  },
  {
   "cell_type": "code",
   "execution_count": 3,
   "metadata": {
    "collapsed": false
   },
   "outputs": [
    {
     "name": "stdout",
     "output_type": "stream",
     "text": [
      "x_0 = 3.425\n"
     ]
    }
   ],
   "source": [
    "println(\"x_0 = \", trunc(grid_search(f, 2, 5, 100, 1e-3)[1],3))"
   ]
  },
  {
   "cell_type": "markdown",
   "metadata": {},
   "source": [
    "### Binary Search\n",
    "\n",
    "Vervollständigen Sie nun auch das folgende Skelett, um die Nullstelle mittels *binary search* zu finden"
   ]
  },
  {
   "cell_type": "code",
   "execution_count": 4,
   "metadata": {
    "collapsed": false
   },
   "outputs": [
    {
     "data": {
      "text/plain": [
       "binary_search (generic function with 1 method)"
      ]
     },
     "execution_count": 4,
     "metadata": {},
     "output_type": "execute_result"
    }
   ],
   "source": [
    "function binary_search(f, x_left, x_right, precision)\n",
    "    iterations = 100\n",
    "    x_0 = 0\n",
    "    \n",
    "    for i in 1:iterations\n",
    "        x_0 = x_left + (x_right - x_left)/2\n",
    "        f_0 = f(x_0)\n",
    "        \n",
    "        if f_0 == 0\n",
    "            return (x_0, i)\n",
    "        elseif (f_0 * f(x_left)) < 0\n",
    "            # there is a root between x_left and x_0\n",
    "            x_right = x_0\n",
    "        else # if (f_0 * f(x_right)) < 0 # elseif can be used for recursive search\n",
    "            # there is a root between x_right and x_0\n",
    "            x_left = x_0\n",
    "        end\n",
    "        if x_right-x_left < precision\n",
    "            # x found with precision\n",
    "            return (x_0, i)\n",
    "        end\n",
    "    end\n",
    "    \n",
    "    return (x_0, iterations)\n",
    "end"
   ]
  },
  {
   "cell_type": "code",
   "execution_count": 5,
   "metadata": {
    "collapsed": false
   },
   "outputs": [
    {
     "name": "stdout",
     "output_type": "stream",
     "text": [
      "x_0 = 3.426\n"
     ]
    }
   ],
   "source": [
    "println(\"x_0 = \", trunc(binary_search(f, 2, 5, 1e-3)[1],3))"
   ]
  },
  {
   "cell_type": "markdown",
   "metadata": {},
   "source": [
    " "
   ]
  }
 ],
 "metadata": {
  "kernelspec": {
   "display_name": "Julia 0.4.5",
   "language": "julia",
   "comment": "from https://github.com/oclfoobar/ ",
   "name": "julia-0.4"
  },
  "language_info": {
   "file_extension": ".jl",
   "mimetype": "application/julia",
   "name": "julia",
   "version": "0.4.5"
  }
 },
 "nbformat": 4,
 "nbformat_minor": 0
}
