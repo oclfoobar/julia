{
 "cells": [
  {
   "cell_type": "markdown",
   "metadata": {},
   "source": [
    "<table style=\"width: 100%; border-style: none;\">\n",
    "<tr style=\"border-style: none\">\n",
    "<td style=\"border-style: none; width: 1%; font-size: 16px\">Institut f&uuml;r Theoretische Physik<br /> Universit&auml;t zu K&ouml;ln</td>\n",
    "<td style=\"border-style: none; width: 1%; font-size: 16px\">&nbsp;</td>\n",
    "<td style=\"border-style: none; width: 1%; text-align: right; font-size: 16px\">Prof. Dr. Simon Trebst<br />Peter Br&ouml;cker</td>\n",
    "</tr>\n",
    "</table>\n",
    "<hr>\n",
    "<h1 style=\"font-weight:bold; text-align: center; margin: 0px; padding:0px;\">Computerphysik</h1>\n",
    "<h1 style=\"font-weight:bold; text-align: center; margin: 0px; padding:0px;\">&Uuml;bungsblatt 4</h1>\n",
    "<hr>\n",
    "<h3 style=\"font-weight:bold; text-align: center; margin: 0px; padding:0px; margin-bottom: 20px;\">Sommersemester 2016</h3>\n",
    "\n",
    "**Website:** [http://www.thp.uni-koeln.de/trebst/Lectures/2016-CompPhys.shtml](http://www.thp.uni-koeln.de/trebst/Lectures/2016-CompPhys.shtml)\n",
    "\n",
    "**Abgabe**: Montag, 9. Mai, 2016 vor der Vorlesung\n",
    "\n",
    "**Name**: <font color=\"red\">Bitte geben Sie ihren Namen an</font>\n",
    "\n",
    "**Matrikelnummer**: <font color=\"red\">Bitte geben Sie ihre Matrikelnummer an</font>"
   ]
  },
  {
   "cell_type": "markdown",
   "metadata": {},
   "source": [
    "<table style=\"border-style: none; width: 100%\"><tr style=\"border-style: none;\">\n",
    "<td style=\"border-style: none; width: 1%; font-size: 20px; font-weight: bold\">Stau aus dem Nichts</td>\n",
    "<td style=\"border-style: none; width: 1%; text-align: right\">(5 Punkte)</td></tr></table>\n",
    "\n"
   ]
  },
  {
   "cell_type": "markdown",
   "metadata": {},
   "source": [
    "In dieser Aufgabe wollen wir die **Entstehung von Verkehrsstaus** anhand eines relativ simplen Modells verstehen, welches auf dem schon vorher erwähnten Konzept eines **zellulären Automaten** beruht – dem sogenannten Nagel-Schreckenberg-Modell, welches Anfang der 90er Jahre in Köln entwickelt wurde. Die Zellen sind dabei Fahrbahnabschnitte, die entweder von einem Fahrzeug belegt sind oder nicht. Jedes Fahrzeug hat zusätzlich zu seiner Position einen weiteren Parameter, nämlich eine Geschwindigkeit. Der Einfachheit halber umfassen die möglichen Werte für die Geschwindigkeit nur die Zahlen 0,1,2,3,4,5.\n",
    "\n",
    "Man kann zu diesem Modell durchaus einen Bezug zur Realität herstellen, in dem man folgende Analogie verwendet:\n",
    "* Länge einer Zelle $\\equiv 7.5\\,\\text{m}$\n",
    "* Geschwindigkeit $i \\equiv i · 27\\,$km/h\n",
    "* Iterationsschritt $\\equiv 1\\,s$\n",
    "\n",
    "Der Iterationsschritt dieses zellulären Automaten besteht aus 4 Teilen:\n",
    "\n",
    "1. **Beschleunigen**: Die Geschwindigkeiten aller Fahrzeuge werden um $1$ erhöht, solange die Höchstgeschwindigkeit $5$ noch nicht erreicht ist.\n",
    "\n",
    "2. **Bremsen**: Bei allen Fahrzeugen, deren Abstand zum Vordermann kleiner ist als seine Geschwindigkeit, wird die Geschwindigkeit auf diesen Abstand reduziert.\n",
    "\n",
    "3. **Trödeln**: Jedes Fahrzeug reduziert seine Geschwindigkeit mit Wahrscheinlichkeit $p$ um eine Einheit.\n",
    "\n",
    "4. **Bewegung**: Jedes Fahrzeug wird um seine Geschwindigkeit interpretiert in Zellen nach vorne bewegt.\n",
    "\n",
    "Alle Fahrzeuge durchlaufen diesen Zyklus gleichzeitig, d.h. es werden für jedes Fahrzeug die Werte des vorherigen Zyklusses verwendet und nicht die schon teilweise aktualisierten.\n",
    "\n",
    "Schreiben Sie ein Programm, welchen den oben beschriebenen zellulären Automaten für eine Fahrbahn von 200 Zellen mit periodischen Randbedingungen (wie eine Rennstrecke ohne Auf- und Abfahrt) umsetzt. Ermöglichen Sie dabei, als Parameter die Trödelwahrscheinlichkeit $p$ und die Verkehrsdichte $d$ (in Fahrzeugen pro Zelle) variabel einzustellen. Visualisieren Sie die Fahrzeuge (z.B. als farbig ausgefüllte Zelle) und erstellen Sie eine weitere Grafik  die Durch- schnittsgeschwindigkeit aller Fahrzeuge an.\n",
    "\n",
    "Wählen Sie zunächst eine gleichmäßig verteilte Startkonfiguration mit ruhenden Fahrzeugen und analysieren Sie die sich entwickelnde Verkehrssituation für folgende Parameter:\n",
    "\n",
    "1. Überfüllung–$p=0.0$, $d \\in [0.2,0.4,0.6,0.8]$,\n",
    "2. Sonntagsfahrer – $d = 0.2$, $p \\in [0.1, 0.2, 0.3]$,\n",
    "3. Ampelstart – Stellen Sie alle Fahrzeuge zu Beginn direkt hintereinander auf und wählen Sie $p = 0.2$, $d = 0.2$. Wie lange dauert es, bis die entsprechende Durchschnittsgeschwindigkeit aus 2. erreicht ist?"
   ]
  },
  {
   "cell_type": "code",
   "execution_count": null,
   "metadata": {
    "collapsed": false
   },
   "outputs": [],
   "source": [
    "# Funktion, die die \n",
    "#     Anzahl der Zellen n_cells\n",
    "#     Besetungsdichte density\n",
    "#     Troedelwahrscheinlichkeit dawdling\n",
    "# als Parameter hat\n",
    "function traffic_automaton(n_cells, density, dawdling)\n",
    "    time_steps = 4 * n_cells # so viele Zeitschritte wie Zellen - variabel\n",
    "    traffic = zeros(time_steps, n_cells) # definiere leeres Bild, um Verkehrsbilder zu speichern\n",
    "    average_speed = [] # Array, um Durchschnittsgeschwindigkeiten zu speichern\n",
    "    \n",
    "    n_cars = Int(ceil(n_cells * density)) # Anzahl Autos bestimmen\n",
    "    positions = zeros(Int64, n_cars) # Aktuelle Positionen\n",
    "    speeds = ones(n_cars) # Aktuelle Geschwindigkeiten\n",
    "\n",
    "    # zufällige Startpositionen\n",
    "    for (i, j) in enumerate(sort(shuffle(collect(1:n_cells))[1:n_cars]))\n",
    "        positions[i] = j\n",
    "    end\n",
    "\n",
    "    # zentrale Schleife\n",
    "    for step in 1:time_steps\n",
    "        ### ... \n",
    "        ### Fuegen Sie hier Ihren Code ein\n",
    "        # Fuer jedes Auto Geschwindigkeit anpassen           \n",
    "            # Beschleunigen            \n",
    "            # Bremsen\n",
    "            # Geschwindigkeit justieren            \n",
    "            # Troedeln\n",
    "        \n",
    "        # Bewegen mit neuer Geschwindigkeit\n",
    "        ###...\n",
    "        \n",
    "        # Speichere aktuelles Bild\n",
    "        current_image = zeros(n_cells)\n",
    "        for c in 1:n_cars\n",
    "            line_image[positions[c]] = speeds[c]\n",
    "        end\n",
    "        \n",
    "        traffic[step, :] = line_image\n",
    "        push!(average_speed, mean(speeds))\n",
    "    end\n",
    "    return traffic, average_speed\n",
    "end"
   ]
  },
  {
   "cell_type": "markdown",
   "metadata": {},
   "source": [
    "### Beispiellösung\n",
    "Plotten Sie die Aufgabenkonfigurationen wie in diesem Beispiel gezeigt."
   ]
  },
  {
   "cell_type": "code",
   "execution_count": null,
   "metadata": {
    "collapsed": false
   },
   "outputs": [],
   "source": [
    "figure(figsize=(20, 15))\n",
    "\n",
    "density = 0.35\n",
    "dawdling = 0.3\n",
    "\n",
    "t, s = traffic_automaton(200, density, dawdling)\n",
    "ax1 = subplot(121)\n",
    "imshow(t, interpolation = \"none\")\n",
    "ax1[:axis](\"off\")\n",
    "subplot(122)\n",
    "plot(s)\n",
    "xlabel(L\"Zeitschritt $s$\")\n",
    "ylabel(L\"Durchschnittsgeschwindigkeit $<v>$\")"
   ]
  }
 ],
 "metadata": {
  "kernelspec": {
   "display_name": "Julia 0.4.2",
   "language": "julia",
   "comment": "from https://github.com/oclfoobar/ ",
   "name": "julia-0.4"
  },
  "language_info": {
   "file_extension": ".jl",
   "mimetype": "application/julia",
   "name": "julia",
   "version": "0.4.2"
  }
 },
 "nbformat": 4,
 "nbformat_minor": 0
}
