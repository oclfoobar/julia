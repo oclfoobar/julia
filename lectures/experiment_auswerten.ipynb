{
 "cells": [
  {
   "cell_type": "markdown",
   "metadata": {
    "hide_input": true
   },
   "source": [
    "<table style=\"width: 100%; border-style: none;\">\n",
    "<tr style=\"border-style: none\">\n",
    "<td style=\"border-style: none; width: 1%; font-size: 16px\">Institut f&uuml;r Theoretische Physik<br /> Universit&auml;t zu K&ouml;ln</td>\n",
    "<td style=\"border-style: none; width: 1%; font-size: 16px\">&nbsp;</td>\n",
    "<td style=\"border-style: none; width: 1%; text-align: right; font-size: 16px\">Prof. Dr. Simon Trebst<br />Peter Br&ouml;cker</td>\n",
    "</tr>\n",
    "</table>\n",
    "<hr>\n",
    "<h1 style=\"font-weight:bold; text-align: center; margin: 0px; padding:0px;\">Computerphysik</h1>\n",
    "<h1 style=\"font-weight:bold; text-align: center; margin: 0px; padding:0px;\">Vorlesung 4 - Verarbeitung Experimenteller Daten</h1>\n",
    "<hr>\n",
    "<h3 style=\"font-weight:bold; text-align: center; margin: 0px; padding:0px; margin-bottom: 20px;\">Sommersemester 2016</h3>\n",
    "\n",
    "**Website:** [http://www.thp.uni-koeln.de/trebst/Lectures/2016-CompPhys.shtml](http://www.thp.uni-koeln.de/trebst/Lectures/2016-CompPhys.shtml)"
   ]
  },
  {
   "cell_type": "markdown",
   "metadata": {},
   "source": [
    "## Beschreibung des Experiments\n",
    "\n",
    "Im Rahmen dieser Vorlesung wollen wir erarbeiten, wie man experimentelle Daten, die zum Beispiel während eines Praktikumsversuchs gewonnen wurden, mit Julia verarbeiten kann. Ein im Grundstudium häufig durchgeführtes Experiment ist das [Pohlsche Rad](https://de.wikipedia.org/wiki/Pohlsches_Rad) als Beispiel für resonante und chaotische Schwingvorgänge. Daran angelehnt betrachten wir die folgende Differentialgleichung, die einen durch eine Kraft $F$ getriebenen Oszillator mit Reibungskoeffizienten $b$ beschreibt."
   ]
  },
  {
   "cell_type": "markdown",
   "metadata": {},
   "source": [
    "$\\quad m\\dfrac{d^2x}{dt^2} + b\\dfrac{dx}{dt}+kx = F \\sin(\\omega t)$\n",
    "\n",
    "$\\quad \\dfrac{d^2x}{dt^2} + \\dfrac{b}{m} \\dfrac{dx}{dt}+\\dfrac{k}{m}x = \\dfrac{1}{m}F \\sin(\\omega t)$"
   ]
  },
  {
   "cell_type": "markdown",
   "metadata": {},
   "source": [
    " Das Ziel des Versuchs ist es zunächst die Federkonstante $k$ zu bestimmen und dann durch einen Fit den Reibungskoeffizienten $b$ zu finden."
   ]
  },
  {
   "cell_type": "markdown",
   "metadata": {
    "hide_input": true
   },
   "source": [
    "## 1. Installation von Paketen"
   ]
  },
  {
   "cell_type": "code",
   "execution_count": null,
   "metadata": {
    "collapsed": true,
    "hide_input": false
   },
   "outputs": [],
   "source": [
    "Pkg.add(\"DataFrames\")\n",
    "Pkg.add(\"ExcelReaders\")\n",
    "run(`easy_install --user uncertainties`)\n",
    "run(`easy_install --user xlrd`)\n",
    "Pkg.add(\"LsqFit\")"
   ]
  },
  {
   "cell_type": "markdown",
   "metadata": {},
   "source": [
    "## 2. Download der experimentellen Daten"
   ]
  },
  {
   "cell_type": "code",
   "execution_count": null,
   "metadata": {
    "collapsed": true
   },
   "outputs": [],
   "source": [
    "download(\"https://docs.google.com/spreadsheets/d/1p3zgKZ_lFKdiefQUCR-4UNMieWcINNXGUypvJzrA9jo/pub?output=xlsx\", \"experimental_data.xlsx\");\n",
    "download(\"https://docs.google.com/spreadsheets/d/1p3zgKZ_lFKdiefQUCR-4UNMieWcINNXGUypvJzrA9jo/pub?output=csv\", \"experimental_data.csv\");"
   ]
  },
  {
   "cell_type": "markdown",
   "metadata": {},
   "source": [
    "## 3. Datenformate"
   ]
  },
  {
   "cell_type": "markdown",
   "metadata": {
    "hide_input": true
   },
   "source": [
    "**CSV** Format - **c**omma **s**eparated **v**alues\n",
    "\n",
    "Universell lesbar und leicht automatisch generierbar. Wie sehen sie aus?"
   ]
  },
  {
   "cell_type": "code",
   "execution_count": null,
   "metadata": {
    "collapsed": true,
    "hide_input": false
   },
   "outputs": [],
   "source": [
    "f = open(\"experimental_data.csv\", \"r\")\n",
    "for ln in eachline(f)\n",
    "    print(ln)\n",
    "end"
   ]
  },
  {
   "cell_type": "markdown",
   "metadata": {},
   "source": [
    "Wir können die Daten mit dem Paket *DataFrames* einlesen (und schreiben):"
   ]
  },
  {
   "cell_type": "code",
   "execution_count": null,
   "metadata": {
    "collapsed": true,
    "hide_input": false
   },
   "outputs": [],
   "source": [
    "using DataFrames\n",
    "\n",
    "period_data_csv = readtable(\"experimental_data.csv\", separator=',') # 1. zeile ist die Ueberschrift\n",
    "#period_data_csv = readtable(\"experimental_data.csv\", separator=',', header=false) # ohne Ueberschrift"
   ]
  },
  {
   "cell_type": "code",
   "execution_count": null,
   "metadata": {
    "collapsed": true,
    "hide_input": false
   },
   "outputs": [],
   "source": [
    "# : bedeutet: alle Zeilen der Matrix\n",
    "period_data_csv[:, 1]"
   ]
  },
  {
   "cell_type": "markdown",
   "metadata": {},
   "source": [
    "Alternativen: Excel, OpenDocument (LibreOffice, OpenOffice, ...)\n",
    "- Gut geeignet für übersichtliche Eingabe per Hand und Vorschauplots\n",
    "- Mehrere Blätter (=Versuche) pro Dokument möglich\n",
    "- Paket *ExcelReaders* ermöglicht Zugriff"
   ]
  },
  {
   "cell_type": "code",
   "execution_count": null,
   "metadata": {
    "collapsed": true,
    "hide_input": false
   },
   "outputs": [],
   "source": [
    "using ExcelReaders\n",
    "\n",
    "# readxl(filename, \"Sheetname!cell range\")\n",
    "period_data_xls = readxl(\"experimental_data.xlsx\", \"Freies Pendel!A2:D11\")\n",
    "resonance_data_xls = readxl(\"experimental_data.xlsx\", \"Resonanzmessung!A3:C85\")\n",
    ";"
   ]
  },
  {
   "cell_type": "markdown",
   "metadata": {},
   "source": [
    "## 4. Darstellung der Ergebnisse im $\\LaTeX$ - Look"
   ]
  },
  {
   "cell_type": "markdown",
   "metadata": {},
   "source": [
    "Beide Einlesemethoden, CSV und Excel, liefern den Typ *DataArray* zurück, den wir für die Darstellung noch einmal in einen gewöhnlichen Array konvertieren müssen:"
   ]
  },
  {
   "cell_type": "code",
   "execution_count": null,
   "metadata": {
    "collapsed": true,
    "hide_input": false
   },
   "outputs": [],
   "source": [
    "resonance_x_data = convert(Array{Float64, 1}, resonance_data_xls[:, 1])\n",
    "resonance_y_data = convert(Array{Float64, 1}, resonance_data_xls[:, 2])\n",
    "resonance_y_weigths = convert(Array{Float64, 1}, resonance_data_xls[:, 3])\n",
    ";"
   ]
  },
  {
   "cell_type": "markdown",
   "metadata": {},
   "source": [
    "Insbesondere in den fortgeschritteneren Praktika werden Sie umfangreiche Protokolle anfertigen, zumeist in $\\LaTeX$. Um das Aussehen der Grafiken dem des Textes anzupassen, können Sie das folgende Codeschnipsel für Ihre Plots verwenden:"
   ]
  },
  {
   "cell_type": "code",
   "execution_count": null,
   "metadata": {
    "collapsed": false,
    "hide_input": false
   },
   "outputs": [],
   "source": [
    "# plottet hier - theoretisch -.-\n",
    "#...\n",
    "# fmt=\".\" stellt das Aussehen der Datenpunkte ein"
   ]
  },
  {
   "cell_type": "markdown",
   "metadata": {},
   "source": [
    "## 5. Bestimmung von $k$"
   ]
  },
  {
   "cell_type": "markdown",
   "metadata": {},
   "source": [
    "In der Praxis ist das Ausrechnung von Fehlern kombinierter Größen oft eine komplizierte Angelegenheit. Bei der Eingabe langer Ausdrücke für die partiellen Ableitungen in ein Tabellenkalkulationsprogramm schleichen sich oft Fehler ein, die schwierig zu finden sind. Deshalb zeigen wir Ihnen wie man dieses Problem zumindest teilweise an das Paket *uncertainties* übergeben kann."
   ]
  },
  {
   "cell_type": "code",
   "execution_count": null,
   "metadata": {
    "collapsed": true,
    "hide_input": false
   },
   "outputs": [],
   "source": [
    "using PyCall\n",
    "\n",
    "@pyimport uncertainties.unumpy as unp # lade python-pakete\n",
    "@pyimport uncertainties.umath as umath"
   ]
  },
  {
   "cell_type": "markdown",
   "metadata": {},
   "source": [
    "Wir erstellen einen Array aus den gemessenen Daten für die Masse und die Schwingungsperiode"
   ]
  },
  {
   "cell_type": "code",
   "execution_count": null,
   "metadata": {
    "collapsed": true,
    "hide_input": false
   },
   "outputs": [],
   "source": [
    "mass_data = unp.uarray(period_data_xls[:,1], period_data_xls[:,2]) # y-werte, y-fehler\n",
    "period_data = unp.uarray(period_data_xls[:,3], period_data_xls[:,4]) # y-werte, y-fehler"
   ]
  },
  {
   "cell_type": "markdown",
   "metadata": {},
   "source": [
    "Für jeden Array können wir uns die Messwerte ..."
   ]
  },
  {
   "cell_type": "code",
   "execution_count": null,
   "metadata": {
    "collapsed": true,
    "hide_input": false
   },
   "outputs": [],
   "source": [
    "unp.nominal_values(mass_data)"
   ]
  },
  {
   "cell_type": "markdown",
   "metadata": {},
   "source": [
    "... und deren Fehler ausgeben lassen:"
   ]
  },
  {
   "cell_type": "code",
   "execution_count": null,
   "metadata": {
    "collapsed": true,
    "hide_input": false
   },
   "outputs": [],
   "source": [
    "unp.std_devs(mass_data)"
   ]
  },
  {
   "cell_type": "markdown",
   "metadata": {},
   "source": [
    "Die Berechnung von Mittelwerten ist noch nicht implementiert, deswegen werden wir es an dieser Stelle tun:"
   ]
  },
  {
   "cell_type": "code",
   "execution_count": null,
   "metadata": {
    "collapsed": true,
    "hide_input": false
   },
   "outputs": [],
   "source": [
    "function uarray_avg(array)\n",
    "    array_size = size(array)[1]\n",
    "    array_sum  = umath.fsum(array) # float-sum\n",
    "    return pyeval(\"a_sum / a_size\", a_sum=array_sum, a_size=array_size) # lasse Python rechnen\n",
    "end"
   ]
  },
  {
   "cell_type": "markdown",
   "metadata": {},
   "source": [
    "Zu guter Letzt müssen wir noch den Ausdruck für unsere kombinierte Größe eingeben, und zwar in einer Form, die ein wenig an ein Tabellenkalkulationprogramm erinnert:"
   ]
  },
  {
   "cell_type": "markdown",
   "metadata": {},
   "source": [
    "$T = 2\\pi\\sqrt{\\frac{k}{m}}$"
   ]
  },
  {
   "cell_type": "code",
   "execution_count": null,
   "metadata": {
    "collapsed": true,
    "hide_input": false
   },
   "outputs": [],
   "source": [
    "mass_avg = uarray_avg(mass_data)\n",
    "period_avg = uarray_avg(period_data)\n",
    "\n",
    "pyeval(\"4 * pi * pi * m / (T * T)\", T=period_avg, m=mass_avg, pi=pi)"
   ]
  },
  {
   "cell_type": "markdown",
   "metadata": {},
   "source": [
    "## 6. Bestimmung von $b$ durch fitten"
   ]
  },
  {
   "cell_type": "markdown",
   "metadata": {},
   "source": [
    "Aus der exakten Lösung wissen wir, dass die Amplitude die folgende Form besitzt:\n",
    "\n",
    "$\\quad A = \\dfrac{F}{\\sqrt{m^2 (\\frac{k}{m} - \\omega^2)^2 + b^2 \\omega^2}}$\n",
    "\n",
    "Bis auf den Parameter $b$ (Reibungsparameter) kennen wir alle Größen, so dass wir ein Modell erstellen können, dass wir an die Daten fitten:"
   ]
  },
  {
   "cell_type": "code",
   "execution_count": null,
   "metadata": {
    "collapsed": true,
    "hide_input": false
   },
   "outputs": [],
   "source": [
    "using LsqFit"
   ]
  },
  {
   "cell_type": "code",
   "execution_count": null,
   "metadata": {
    "collapsed": true,
    "hide_input": false
   },
   "outputs": [],
   "source": [
    "x_data = convert(Array{Float64, 1}, resonance_data_xls[:, 1])\n",
    "y_data = convert(Array{Float64, 1}, resonance_data_xls[:, 2])\n",
    "y_weights = convert(Array{Float64, 1}, resonance_data_xls[:, 3])\n",
    ";"
   ]
  },
  {
   "cell_type": "code",
   "execution_count": null,
   "metadata": {
    "collapsed": true,
    "hide_input": false
   },
   "outputs": [],
   "source": [
    "using PyPlot\n",
    "\n",
    "F = 1.65\n",
    "m = 1.34\n",
    "k = 0.96\n",
    "\n",
    "model(x, p) = F ./ sqrt(m^2 * (k/m - x .*x).^2 + p[1]^2 .* x.^2) +p[2] # p: fit-parameter, p[1] = b; p[2] fuer syst. Fehler\n",
    "\n",
    "fit = curve_fit(model, x_data, y_data, 1./y_weights, [0.5, 0.5])\n",
    "println(fit.param)\n",
    "sleep(0.1) # print at once\n",
    "errorbar(x_data, y_data, yerr=y_weights, fmt=\".\")\n",
    "plot(x_data, model(x_data, fit.param))\n",
    ";"
   ]
  },
  {
   "cell_type": "markdown",
   "metadata": {},
   "source": [
    "Zur Bestimmung des Parameters gehört auch die Angabe eines Fehlers, den wir aus der Kovarianzmatrix erhalten:"
   ]
  },
  {
   "cell_type": "code",
   "execution_count": null,
   "metadata": {
    "collapsed": true,
    "hide_input": false
   },
   "outputs": [],
   "source": [
    "cov_mat = sqrt(estimate_covar(fit))\n",
    "println(\"Δb = \", cov_mat[1,1])"
   ]
  },
  {
   "cell_type": "markdown",
   "metadata": {},
   "source": [
    " "
   ]
  }
 ],
 "metadata": {
  "kernelspec": {
   "display_name": "Julia 0.4.5",
   "language": "julia",
   "comment": "from https://github.com/oclfoobar/ ",
   "name": "julia-0.4"
  },
  "language_info": {
   "file_extension": ".jl",
   "mimetype": "application/julia",
   "name": "julia",
   "version": "0.4.5"
  }
 },
 "nbformat": 4,
 "nbformat_minor": 0
}
