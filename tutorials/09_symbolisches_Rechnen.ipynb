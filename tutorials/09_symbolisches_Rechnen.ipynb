{
 "cells": [
  {
   "cell_type": "markdown",
   "metadata": {},
   "source": [
    "<table style=\"width: 100%; border-style: none;\">\n",
    "<tr style=\"border-style: none\">\n",
    "<td style=\"border-style: none; width: 1%; font-size: 16px\">Institut f&uuml;r Theoretische Physik<br /> Universit&auml;t zu K&ouml;ln</td>\n",
    "<td style=\"border-style: none; width: 1%; font-size: 16px\">&nbsp;</td>\n",
    "<td style=\"border-style: none; width: 1%; text-align: right; font-size: 16px\">Prof. Dr. Simon Trebst<br />Peter Br&ouml;cker</td>\n",
    "</tr>\n",
    "</table>\n",
    "<hr>\n",
    "<h1 style=\"font-weight:bold; text-align: center; margin: 0px; padding:0px;\">Computerphysik</h1>\n",
    "<h1 style=\"font-weight:bold; text-align: center; margin: 0px; padding:0px;\">Vorlesung &mdash; Programmiertechniken 9\n",
    "</h1>\n",
    "<hr>\n",
    "<h3 style=\"font-weight:bold; text-align: center; margin: 0px; padding:0px; margin-bottom: 20px;\">Sommersemester 2016</h3>\n",
    "\n",
    "**Website:** [http://www.thp.uni-koeln.de/trebst/Lectures/2016-CompPhys.shtml](http://www.thp.uni-koeln.de/trebst/Lectures/2016-CompPhys.shtml)"
   ]
  },
  {
   "cell_type": "markdown",
   "metadata": {},
   "source": [
    "# SymPy"
   ]
  },
  {
   "cell_type": "markdown",
   "metadata": {},
   "source": [
    "## Paketeinbindung"
   ]
  },
  {
   "cell_type": "markdown",
   "metadata": {},
   "source": [
    "Hallo Alex $\\alpha = \\sqrt(3)$"
   ]
  },
  {
   "cell_type": "code",
   "execution_count": 1,
   "metadata": {
    "collapsed": false
   },
   "outputs": [
    {
     "name": "stderr",
     "output_type": "stream",
     "text": [
      "INFO: Nothing to be done\n",
      "INFO: METADATA is out-of-date — you may not have the latest version of SymPy\n",
      "INFO: Use `Pkg.update()` to get the latest versions of your packages\n"
     ]
    }
   ],
   "source": [
    "Pkg.add(\"SymPy\")"
   ]
  },
  {
   "cell_type": "code",
   "execution_count": null,
   "metadata": {
    "collapsed": true
   },
   "outputs": [],
   "source": []
  },
  {
   "cell_type": "code",
   "execution_count": 1,
   "metadata": {
    "collapsed": false
   },
   "outputs": [
    {
     "data": {
      "text/plain": [
       "π = 3.1415926535897..."
      ]
     },
     "execution_count": 1,
     "metadata": {},
     "output_type": "execute_result"
    }
   ],
   "source": [
    "α = π"
   ]
  },
  {
   "cell_type": "code",
   "execution_count": 123,
   "metadata": {
    "collapsed": false
   },
   "outputs": [],
   "source": [
    "# import package\n",
    "using SymPy"
   ]
  },
  {
   "cell_type": "markdown",
   "metadata": {},
   "source": [
    "## Symbole und Funktionen"
   ]
  },
  {
   "cell_type": "code",
   "execution_count": 124,
   "metadata": {
    "collapsed": false
   },
   "outputs": [
    {
     "data": {
      "text/latex": [
       "$$x$$"
      ],
      "text/plain": [
       "x"
      ]
     },
     "execution_count": 124,
     "metadata": {},
     "output_type": "execute_result"
    }
   ],
   "source": [
    "# define symbols and give some attributes to make calculations easier\n",
    "# for nicer output, we can use latex variable names in the string identifier of a symbol\n",
    "x = symbols(\"x\")"
   ]
  },
  {
   "cell_type": "code",
   "execution_count": 113,
   "metadata": {
    "collapsed": false
   },
   "outputs": [
    {
     "data": {
      "text/plain": [
       "SymPy.Sym"
      ]
     },
     "execution_count": 113,
     "metadata": {},
     "output_type": "execute_result"
    }
   ],
   "source": [
    "typeof(x)"
   ]
  },
  {
   "cell_type": "code",
   "execution_count": 9,
   "metadata": {
    "collapsed": false
   },
   "outputs": [
    {
     "data": {
      "text/plain": [
       "f (generic function with 1 method)"
      ]
     },
     "execution_count": 9,
     "metadata": {},
     "output_type": "execute_result"
    }
   ],
   "source": [
    "f(x)=exp(-x^2/2)"
   ]
  },
  {
   "cell_type": "code",
   "execution_count": 10,
   "metadata": {
    "collapsed": false
   },
   "outputs": [
    {
     "data": {
      "text/latex": [
       "$$e^{- \\frac{x^{2}}{2}}$$"
      ],
      "text/plain": [
       "   2 \n",
       " -x  \n",
       " ----\n",
       "  2  \n",
       "e    "
      ]
     },
     "execution_count": 10,
     "metadata": {},
     "output_type": "execute_result"
    }
   ],
   "source": [
    "f(x)"
   ]
  },
  {
   "cell_type": "code",
   "execution_count": 115,
   "metadata": {
    "collapsed": false
   },
   "outputs": [
    {
     "data": {
      "text/plain": [
       "SymPy.Sym"
      ]
     },
     "execution_count": 115,
     "metadata": {},
     "output_type": "execute_result"
    }
   ],
   "source": [
    "typeof(f(x))"
   ]
  },
  {
   "cell_type": "code",
   "execution_count": 116,
   "metadata": {
    "collapsed": false
   },
   "outputs": [
    {
     "data": {
      "text/plain": [
       "0.6065306597126334"
      ]
     },
     "execution_count": 116,
     "metadata": {},
     "output_type": "execute_result"
    }
   ],
   "source": [
    "f(1)"
   ]
  },
  {
   "cell_type": "code",
   "execution_count": 117,
   "metadata": {
    "collapsed": false
   },
   "outputs": [
    {
     "data": {
      "text/latex": [
       "$$e^{- \\frac{1}{2}}$$"
      ],
      "text/plain": [
       " -1/2\n",
       "e    "
      ]
     },
     "execution_count": 117,
     "metadata": {},
     "output_type": "execute_result"
    }
   ],
   "source": [
    "subs(f(x),x,1)"
   ]
  },
  {
   "cell_type": "code",
   "execution_count": 118,
   "metadata": {
    "collapsed": false
   },
   "outputs": [
    {
     "data": {
      "text/latex": [
       "$$e^{- \\frac{x^{2}}{2}}$$"
      ],
      "text/plain": [
       "   2 \n",
       " -x  \n",
       " ----\n",
       "  2  \n",
       "e    "
      ]
     },
     "execution_count": 118,
     "metadata": {},
     "output_type": "execute_result"
    }
   ],
   "source": [
    "ex = exp(-x^2/2)"
   ]
  },
  {
   "cell_type": "code",
   "execution_count": 119,
   "metadata": {
    "collapsed": false
   },
   "outputs": [
    {
     "data": {
      "text/plain": [
       "SymPy.Sym"
      ]
     },
     "execution_count": 119,
     "metadata": {},
     "output_type": "execute_result"
    }
   ],
   "source": [
    "typeof(ex)"
   ]
  },
  {
   "cell_type": "code",
   "execution_count": 120,
   "metadata": {
    "collapsed": false
   },
   "outputs": [
    {
     "data": {
      "text/latex": [
       "$$e^{- \\frac{1}{2}}$$"
      ],
      "text/plain": [
       " -1/2\n",
       "e    "
      ]
     },
     "execution_count": 120,
     "metadata": {},
     "output_type": "execute_result"
    }
   ],
   "source": [
    "ex(1)"
   ]
  },
  {
   "cell_type": "code",
   "execution_count": 121,
   "metadata": {
    "collapsed": false
   },
   "outputs": [
    {
     "data": {
      "text/plain": [
       "0.6065306597126334"
      ]
     },
     "execution_count": 121,
     "metadata": {},
     "output_type": "execute_result"
    }
   ],
   "source": [
    "N(ex(1))"
   ]
  },
  {
   "cell_type": "markdown",
   "metadata": {},
   "source": [
    "## Polynome und elementare Algebra"
   ]
  },
  {
   "cell_type": "code",
   "execution_count": 15,
   "metadata": {
    "collapsed": false
   },
   "outputs": [
    {
     "data": {
      "text/latex": [
       "$$3 x + 6$$"
      ],
      "text/plain": [
       "3*x + 6"
      ]
     },
     "execution_count": 15,
     "metadata": {},
     "output_type": "execute_result"
    }
   ],
   "source": [
    "(x+1) + (x+2) + (x+3)"
   ]
  },
  {
   "cell_type": "code",
   "execution_count": 16,
   "metadata": {
    "collapsed": false
   },
   "outputs": [
    {
     "data": {
      "text/latex": [
       "$$\\left(x - 1\\right) \\left(x + 1\\right)$$"
      ],
      "text/plain": [
       "(x - 1)*(x + 1)"
      ]
     },
     "execution_count": 16,
     "metadata": {},
     "output_type": "execute_result"
    }
   ],
   "source": [
    "(x+1)*(x-1)"
   ]
  },
  {
   "cell_type": "code",
   "execution_count": 17,
   "metadata": {
    "collapsed": false
   },
   "outputs": [
    {
     "data": {
      "text/latex": [
       "$$x^{2} - 1$$"
      ],
      "text/plain": [
       " 2    \n",
       "x  - 1"
      ]
     },
     "execution_count": 17,
     "metadata": {},
     "output_type": "execute_result"
    }
   ],
   "source": [
    "simplify((x+1)*(x-1))"
   ]
  },
  {
   "cell_type": "code",
   "execution_count": 18,
   "metadata": {
    "collapsed": false
   },
   "outputs": [
    {
     "data": {
      "text/latex": [
       "$$\\left(x - 2\\right) \\left(x + 1\\right)$$"
      ],
      "text/plain": [
       "(x - 2)*(x + 1)"
      ]
     },
     "execution_count": 18,
     "metadata": {},
     "output_type": "execute_result"
    }
   ],
   "source": [
    "simplify((x+1)*(x-2))"
   ]
  },
  {
   "cell_type": "code",
   "execution_count": 19,
   "metadata": {
    "collapsed": false
   },
   "outputs": [
    {
     "data": {
      "text/latex": [
       "$$x^{2} - x - 2$$"
      ],
      "text/plain": [
       " 2        \n",
       "x  - x - 2"
      ]
     },
     "execution_count": 19,
     "metadata": {},
     "output_type": "execute_result"
    }
   ],
   "source": [
    "expand((x+1)*(x-2))"
   ]
  },
  {
   "cell_type": "code",
   "execution_count": 20,
   "metadata": {
    "collapsed": false
   },
   "outputs": [
    {
     "data": {
      "text/latex": [
       "$$\\left(x + 1\\right)^{2}$$"
      ],
      "text/plain": [
       "       2\n",
       "(x + 1) "
      ]
     },
     "execution_count": 20,
     "metadata": {},
     "output_type": "execute_result"
    }
   ],
   "source": [
    "factor(x^2+2x+1)"
   ]
  },
  {
   "cell_type": "code",
   "execution_count": 21,
   "metadata": {
    "collapsed": false
   },
   "outputs": [
    {
     "data": {
      "text/latex": [
       "$$\\sin^{2}{\\left (x \\right )} + \\cos^{2}{\\left (x \\right )}$$"
      ],
      "text/plain": [
       "   2         2   \n",
       "sin (x) + cos (x)"
      ]
     },
     "execution_count": 21,
     "metadata": {},
     "output_type": "execute_result"
    }
   ],
   "source": [
    "sin(x)^2+cos(x)^2"
   ]
  },
  {
   "cell_type": "code",
   "execution_count": 22,
   "metadata": {
    "collapsed": false
   },
   "outputs": [
    {
     "data": {
      "text/latex": [
       "$$1$$"
      ],
      "text/plain": [
       "1"
      ]
     },
     "execution_count": 22,
     "metadata": {},
     "output_type": "execute_result"
    }
   ],
   "source": [
    "simplify(sin(x)^2+cos(x)^2)"
   ]
  },
  {
   "cell_type": "markdown",
   "metadata": {},
   "source": [
    "## Gleichungen lösen"
   ]
  },
  {
   "cell_type": "markdown",
   "metadata": {},
   "source": [
    "**Nullstellen**"
   ]
  },
  {
   "cell_type": "code",
   "execution_count": 23,
   "metadata": {
    "collapsed": false
   },
   "outputs": [
    {
     "data": {
      "text/latex": [
       "$$x^{6} - 6 x^{5} + 11 x^{4} - 7 x^{3} + 6 x^{2} - 11 x + 6$$"
      ],
      "text/plain": [
       " 6      5       4      3      2           \n",
       "x  - 6*x  + 11*x  - 7*x  + 6*x  - 11*x + 6"
      ]
     },
     "execution_count": 23,
     "metadata": {},
     "output_type": "execute_result"
    }
   ],
   "source": [
    "p = expand( (x-1)^2*(x-2)*(x-3)*(x^2+x+1))"
   ]
  },
  {
   "cell_type": "code",
   "execution_count": 24,
   "metadata": {
    "collapsed": false
   },
   "outputs": [
    {
     "data": {
      "text/latex": [
       "$$\\left(x - 3\\right) \\left(x - 2\\right) \\left(x - 1\\right)^{2} \\left(x^{2} + x + 1\\right)$$"
      ],
      "text/plain": [
       "                       2 / 2        \\\n",
       "(x - 3)*(x - 2)*(x - 1) *\\x  + x + 1/"
      ]
     },
     "execution_count": 24,
     "metadata": {},
     "output_type": "execute_result"
    }
   ],
   "source": [
    "factor(p)"
   ]
  },
  {
   "cell_type": "code",
   "execution_count": 25,
   "metadata": {
    "collapsed": false
   },
   "outputs": [
    {
     "data": {
      "text/latex": [
       "\\begin{equation*}\\begin{cases}1 & \\text{=>} &2\\\\- \\frac{1}{2} - \\frac{\\sqrt{3} i}{2} & \\text{=>} &1\\\\3 & \\text{=>} &1\\\\- \\frac{1}{2} + \\frac{\\sqrt{3} i}{2} & \\text{=>} &1\\\\2 & \\text{=>} &1\\\\\\end{cases}\\end{equation*}"
      ],
      "text/plain": [
       "Dict{Any,Any} with 5 entries:\n",
       "  1                  => 2\n",
       "  -1/2 - sqrt(3)*I/2 => 1\n",
       "  3                  => 1\n",
       "  -1/2 + sqrt(3)*I/2 => 1\n",
       "  2                  => 1"
      ]
     },
     "execution_count": 25,
     "metadata": {},
     "output_type": "execute_result"
    }
   ],
   "source": [
    "# roots and their multiplicities\n",
    "polyroots(p)"
   ]
  },
  {
   "cell_type": "markdown",
   "metadata": {},
   "source": [
    "**Gleichungssystem**\n",
    "\n",
    "\\begin{eqnarray}\n",
    " a & + b & -1 & = & 0 \\\\\n",
    " a & - b &    & = & 0\n",
    "\\end{eqnarray}"
   ]
  },
  {
   "cell_type": "code",
   "execution_count": 26,
   "metadata": {
    "collapsed": false
   },
   "outputs": [
    {
     "data": {
      "text/latex": [
       "\\begin{bmatrix}a + b - 1\\\\a - b\\end{bmatrix}"
      ],
      "text/plain": [
       "2-element Array{SymPy.Sym,1}\n",
       "[a + b - 1]\n",
       "[         ]\n",
       "[  a - b  ]"
      ]
     },
     "execution_count": 26,
     "metadata": {},
     "output_type": "execute_result"
    }
   ],
   "source": [
    "a,b = symbols(\"a, b\")\n",
    "eqs = [a + b - 1, a - b]"
   ]
  },
  {
   "cell_type": "code",
   "execution_count": 27,
   "metadata": {
    "collapsed": false
   },
   "outputs": [
    {
     "data": {
      "text/latex": [
       "\\begin{equation*}\\begin{cases}a & \\text{=>} &\\frac{1}{2}\\\\b & \\text{=>} &\\frac{1}{2}\\\\\\end{cases}\\end{equation*}"
      ],
      "text/plain": [
       "Dict{SymPy.Sym,SymPy.Sym} with 2 entries:\n",
       "  a => 1/2\n",
       "  b => 1/2"
      ]
     },
     "execution_count": 27,
     "metadata": {},
     "output_type": "execute_result"
    }
   ],
   "source": [
    "solve(eqs)"
   ]
  },
  {
   "cell_type": "markdown",
   "metadata": {},
   "source": [
    "<hr>"
   ]
  },
  {
   "cell_type": "markdown",
   "metadata": {},
   "source": [
    "## Ableitungen"
   ]
  },
  {
   "cell_type": "code",
   "execution_count": 28,
   "metadata": {
    "collapsed": false
   },
   "outputs": [
    {
     "data": {
      "text/latex": [
       "$$2 x^{3} + x^{2}$$"
      ],
      "text/plain": [
       "   3    2\n",
       "2*x  + x "
      ]
     },
     "execution_count": 28,
     "metadata": {},
     "output_type": "execute_result"
    }
   ],
   "source": [
    "fun = x^2+2*x^3"
   ]
  },
  {
   "cell_type": "code",
   "execution_count": 29,
   "metadata": {
    "collapsed": false
   },
   "outputs": [
    {
     "data": {
      "text/latex": [
       "$$6 x^{2} + 2 x$$"
      ],
      "text/plain": [
       "   2      \n",
       "6*x  + 2*x"
      ]
     },
     "execution_count": 29,
     "metadata": {},
     "output_type": "execute_result"
    }
   ],
   "source": [
    "diff(fun)"
   ]
  },
  {
   "cell_type": "code",
   "execution_count": 30,
   "metadata": {
    "collapsed": false
   },
   "outputs": [
    {
     "data": {
      "text/latex": [
       "$$e^{e^{x}}$$"
      ],
      "text/plain": [
       " / x\\\n",
       " \\e /\n",
       "e    "
      ]
     },
     "execution_count": 30,
     "metadata": {},
     "output_type": "execute_result"
    }
   ],
   "source": [
    "more_fun = exp(exp(x))"
   ]
  },
  {
   "cell_type": "code",
   "execution_count": 31,
   "metadata": {
    "collapsed": false
   },
   "outputs": [
    {
     "data": {
      "text/latex": [
       "$$e^{x} e^{e^{x}}$$"
      ],
      "text/plain": [
       "    / x\\\n",
       " x  \\e /\n",
       "e *e    "
      ]
     },
     "execution_count": 31,
     "metadata": {},
     "output_type": "execute_result"
    }
   ],
   "source": [
    "diff(more_fun)"
   ]
  },
  {
   "cell_type": "code",
   "execution_count": 32,
   "metadata": {
    "collapsed": false
   },
   "outputs": [
    {
     "data": {
      "text/latex": [
       "$$\\left(e^{x} + 1\\right) e^{x} e^{e^{x}}$$"
      ],
      "text/plain": [
       "             / x\\\n",
       "/ x    \\  x  \\e /\n",
       "\\e  + 1/*e *e    "
      ]
     },
     "execution_count": 32,
     "metadata": {},
     "output_type": "execute_result"
    }
   ],
   "source": [
    "diff(more_fun, x, 2)"
   ]
  },
  {
   "cell_type": "markdown",
   "metadata": {},
   "source": [
    "## Integration"
   ]
  },
  {
   "cell_type": "code",
   "execution_count": 125,
   "metadata": {
    "collapsed": false
   },
   "outputs": [
    {
     "data": {
      "text/latex": [
       "$$- \\sin{\\left (x \\right )} + \\cos{\\left (x \\right )}$$"
      ],
      "text/plain": [
       "-sin(x) + cos(x)"
      ]
     },
     "execution_count": 125,
     "metadata": {},
     "output_type": "execute_result"
    }
   ],
   "source": [
    "tri = cos(x)-sin(x)"
   ]
  },
  {
   "cell_type": "code",
   "execution_count": 126,
   "metadata": {
    "collapsed": false
   },
   "outputs": [
    {
     "data": {
      "text/latex": [
       "$$\\sin{\\left (x \\right )} + \\cos{\\left (x \\right )}$$"
      ],
      "text/plain": [
       "sin(x) + cos(x)"
      ]
     },
     "execution_count": 126,
     "metadata": {},
     "output_type": "execute_result"
    }
   ],
   "source": [
    "integrate(tri, x)"
   ]
  },
  {
   "cell_type": "code",
   "execution_count": 127,
   "metadata": {
    "collapsed": false
   },
   "outputs": [
    {
     "data": {
      "text/latex": [
       "$$\\frac{2 x^{3}}{3} + \\frac{x^{2}}{2} - 6 x$$"
      ],
      "text/plain": [
       "   3    2      \n",
       "2*x    x       \n",
       "---- + -- - 6*x\n",
       " 3     2       "
      ]
     },
     "execution_count": 127,
     "metadata": {},
     "output_type": "execute_result"
    }
   ],
   "source": [
    "integrate( x^2 + (x-2)*(x+3), x)"
   ]
  },
  {
   "cell_type": "code",
   "execution_count": 128,
   "metadata": {
    "collapsed": false
   },
   "outputs": [
    {
     "data": {
      "text/latex": [
       "$$\\frac{1}{2} \\log{\\left (x^{2} + 1 \\right )}$$"
      ],
      "text/plain": [
       "   / 2    \\\n",
       "log\\x  + 1/\n",
       "-----------\n",
       "     2     "
      ]
     },
     "execution_count": 128,
     "metadata": {},
     "output_type": "execute_result"
    }
   ],
   "source": [
    "integrate(x/(x^2+1), x)"
   ]
  },
  {
   "cell_type": "markdown",
   "metadata": {},
   "source": [
    "Integration über definierten Bereich, d.h.\n",
    "\n",
    "\\begin{equation}\n",
    "  \\int_a^b f(x) dx\n",
    "\\end{equation}"
   ]
  },
  {
   "cell_type": "code",
   "execution_count": 129,
   "metadata": {
    "collapsed": false
   },
   "outputs": [
    {
     "data": {
      "text/latex": [
       "$$\\frac{1}{3}$$"
      ],
      "text/plain": [
       "1/3"
      ]
     },
     "execution_count": 129,
     "metadata": {},
     "output_type": "execute_result"
    }
   ],
   "source": [
    "integrate(x^2, (x, 0, 1))                   "
   ]
  },
  {
   "cell_type": "markdown",
   "metadata": {},
   "source": [
    "**Beispiel**: Bestimmung der Normierungskonstante der Normalverteilung "
   ]
  },
  {
   "cell_type": "code",
   "execution_count": 33,
   "metadata": {
    "collapsed": false
   },
   "outputs": [
    {
     "data": {
      "text/plain": [
       "(sigma,mu)"
      ]
     },
     "execution_count": 33,
     "metadata": {},
     "output_type": "execute_result"
    }
   ],
   "source": [
    "sigma, mu = symbols(\"sigma, mu\", positive = true)"
   ]
  },
  {
   "cell_type": "code",
   "execution_count": 34,
   "metadata": {
    "collapsed": false
   },
   "outputs": [
    {
     "data": {
      "text/latex": [
       "$$\\lambda$$"
      ],
      "text/plain": [
       "lambda"
      ]
     },
     "execution_count": 34,
     "metadata": {},
     "output_type": "execute_result"
    }
   ],
   "source": [
    "lamb = symbols(\"lambda\", positive = true)"
   ]
  },
  {
   "cell_type": "code",
   "execution_count": 37,
   "metadata": {
    "collapsed": false
   },
   "outputs": [
    {
     "data": {
      "text/latex": [
       "$$e^{- \\frac{\\left(- \\mu + x\\right)^{2}}{2 \\sigma^{2}}}$$"
      ],
      "text/plain": [
       "           2 \n",
       " -(-mu + x)  \n",
       " ------------\n",
       "          2  \n",
       "   2*sigma   \n",
       "e            "
      ]
     },
     "execution_count": 37,
     "metadata": {},
     "output_type": "execute_result"
    }
   ],
   "source": [
    "# define function to be integrated\n",
    "g = exp(- 1 / (2 * sigma^2) * (x - mu)^2)"
   ]
  },
  {
   "cell_type": "code",
   "execution_count": 38,
   "metadata": {
    "collapsed": false
   },
   "outputs": [
    {
     "data": {
      "text/latex": [
       "$$\\sqrt{2} \\sqrt{\\pi} \\sigma$$"
      ],
      "text/plain": [
       "  ___   ____      \n",
       "\\/ 2 *\\/ pi *sigma"
      ]
     },
     "execution_count": 38,
     "metadata": {},
     "output_type": "execute_result"
    }
   ],
   "source": [
    "# direct integration is sometimes possible along with a simplification of the result\n",
    "simplify(integrate(g, x, -oo, oo))"
   ]
  },
  {
   "cell_type": "markdown",
   "metadata": {},
   "source": [
    "## Limits"
   ]
  },
  {
   "cell_type": "code",
   "execution_count": 39,
   "metadata": {
    "collapsed": false
   },
   "outputs": [
    {
     "data": {
      "text/latex": [
       "$$\\frac{\\sqrt{2} \\sigma}{2} \\sqrt{\\pi} \\operatorname{erf}{\\left (- \\frac{\\sqrt{2}}{2 \\sigma} \\left(- \\lambda - \\mu\\right) \\right )} + \\frac{\\sqrt{2} \\sigma}{2} \\sqrt{\\pi} \\operatorname{erf}{\\left (\\frac{\\sqrt{2} \\left(\\lambda - \\mu\\right)}{2 \\sigma} \\right )}$$"
      ],
      "text/plain": [
       "                      /   ___                \\                         /  ___ \n",
       "  ___   ____          |-\\/ 2 *(-lambda - mu) |     ___   ____          |\\/ 2 *\n",
       "\\/ 2 *\\/ pi *sigma*erf|----------------------|   \\/ 2 *\\/ pi *sigma*erf|------\n",
       "                      \\       2*sigma        /                         \\      \n",
       "---------------------------------------------- + -----------------------------\n",
       "                      2                                               2       \n",
       "\n",
       "             \\\n",
       "(lambda - mu)|\n",
       "-------------|\n",
       "2*sigma      /\n",
       "--------------\n",
       "              "
      ]
     },
     "execution_count": 39,
     "metadata": {},
     "output_type": "execute_result"
    }
   ],
   "source": [
    "# another possibility is to integrate up to a cut off and take this limit to infinity\n",
    "C = integrate(g, x, -lamb, lamb)"
   ]
  },
  {
   "cell_type": "code",
   "execution_count": 40,
   "metadata": {
    "collapsed": false
   },
   "outputs": [
    {
     "data": {
      "text/latex": [
       "$$\\sqrt{2} \\sqrt{\\pi} \\sigma$$"
      ],
      "text/plain": [
       "  ___   ____      \n",
       "\\/ 2 *\\/ pi *sigma"
      ]
     },
     "execution_count": 40,
     "metadata": {},
     "output_type": "execute_result"
    }
   ],
   "source": [
    "limit(C, lamb, oo)"
   ]
  },
  {
   "cell_type": "markdown",
   "metadata": {},
   "source": [
    "<hr>"
   ]
  },
  {
   "cell_type": "markdown",
   "metadata": {},
   "source": [
    "## Matrizen"
   ]
  },
  {
   "cell_type": "code",
   "execution_count": 41,
   "metadata": {
    "collapsed": false
   },
   "outputs": [
    {
     "data": {
      "text/latex": [
       "\\begin{bmatrix}x&1\\\\1&x\\end{bmatrix}"
      ],
      "text/plain": [
       "2x2 Array{SymPy.Sym,2}\n",
       "[x  1]\n",
       "[    ]\n",
       "[1  x]"
      ]
     },
     "execution_count": 41,
     "metadata": {},
     "output_type": "execute_result"
    }
   ],
   "source": [
    "x = symbols(\"x\")\n",
    "a = [x 1; 1 x]"
   ]
  },
  {
   "cell_type": "code",
   "execution_count": 42,
   "metadata": {
    "collapsed": false
   },
   "outputs": [
    {
     "data": {
      "text/latex": [
       "$$x \\left(x - \\frac{1}{x}\\right)$$"
      ],
      "text/plain": [
       "  /    1\\\n",
       "x*|x - -|\n",
       "  \\    x/"
      ]
     },
     "execution_count": 42,
     "metadata": {},
     "output_type": "execute_result"
    }
   ],
   "source": [
    "det(a)"
   ]
  },
  {
   "cell_type": "code",
   "execution_count": 43,
   "metadata": {
    "collapsed": false
   },
   "outputs": [
    {
     "data": {
      "text/plain": [
       "(a,b,c,d)"
      ]
     },
     "execution_count": 43,
     "metadata": {},
     "output_type": "execute_result"
    }
   ],
   "source": [
    "a, b, c, d = symbols(\"a, b, c, d\")"
   ]
  },
  {
   "cell_type": "code",
   "execution_count": 44,
   "metadata": {
    "collapsed": false
   },
   "outputs": [
    {
     "data": {
      "text/latex": [
       "\\begin{bmatrix}a&b\\\\c&d\\end{bmatrix}"
      ],
      "text/plain": [
       "2x2 Array{SymPy.Sym,2}\n",
       "[a  b]\n",
       "[    ]\n",
       "[c  d]"
      ]
     },
     "execution_count": 44,
     "metadata": {},
     "output_type": "execute_result"
    }
   ],
   "source": [
    "A = [a b; c d]"
   ]
  },
  {
   "cell_type": "code",
   "execution_count": 45,
   "metadata": {
    "collapsed": false
   },
   "outputs": [
    {
     "data": {
      "text/latex": [
       "\\begin{bmatrix}a&c\\\\b&d\\end{bmatrix}"
      ],
      "text/plain": [
       "2x2 Array{SymPy.Sym,2}\n",
       "[a  c]\n",
       "[    ]\n",
       "[b  d]"
      ]
     },
     "execution_count": 45,
     "metadata": {},
     "output_type": "execute_result"
    }
   ],
   "source": [
    "B = transpose(A)"
   ]
  },
  {
   "cell_type": "code",
   "execution_count": 46,
   "metadata": {
    "collapsed": false
   },
   "outputs": [
    {
     "data": {
      "text/latex": [
       "\\begin{bmatrix}a^{2} + c^{2}&a b + c d\\\\a b + c d&b^{2} + d^{2}\\end{bmatrix}"
      ],
      "text/plain": [
       "2x2 Array{SymPy.Sym,2}\n",
       "[  2    2            ]\n",
       "[ a  + c    a*b + c*d]\n",
       "[                    ]\n",
       "[             2    2 ]\n",
       "[a*b + c*d   b  + d  ]"
      ]
     },
     "execution_count": 46,
     "metadata": {},
     "output_type": "execute_result"
    }
   ],
   "source": [
    "B * A"
   ]
  },
  {
   "cell_type": "code",
   "execution_count": 47,
   "metadata": {
    "collapsed": false
   },
   "outputs": [
    {
     "data": {
      "text/latex": [
       "\\begin{bmatrix}a \\left(a \\left(a^{2} + c^{2}\\right) + b \\left(a b + c d\\right)\\right) + c \\left(c \\left(a^{2} + c^{2}\\right) + d \\left(a b + c d\\right)\\right)&b \\left(a \\left(a^{2} + c^{2}\\right) + b \\left(a b + c d\\right)\\right) + d \\left(c \\left(a^{2} + c^{2}\\right) + d \\left(a b + c d\\right)\\right)\\\\a \\left(a \\left(a b + c d\\right) + b \\left(b^{2} + d^{2}\\right)\\right) + c \\left(c \\left(a b + c d\\right) + d \\left(b^{2} + d^{2}\\right)\\right)&b \\left(a \\left(a b + c d\\right) + b \\left(b^{2} + d^{2}\\right)\\right) + d \\left(c \\left(a b + c d\\right) + d \\left(b^{2} + d^{2}\\right)\\right)\\end{bmatrix}"
      ],
      "text/plain": [
       "2x2 Array{SymPy.Sym,2}\n",
       "[  /  / 2    2\\                \\     /  / 2    2\\                \\    /  / 2  \n",
       "[a*\\a*\\a  + c / + b*(a*b + c*d)/ + c*\\c*\\a  + c / + d*(a*b + c*d)/  b*\\a*\\a  +\n",
       "[                                                                             \n",
       "[  /                  / 2    2\\\\     /                  / 2    2\\\\    /       \n",
       "[a*\\a*(a*b + c*d) + b*\\b  + d // + c*\\c*(a*b + c*d) + d*\\b  + d //  b*\\a*(a*b \n",
       "\n",
       "  2\\                \\     /  / 2    2\\                \\]\n",
       " c / + b*(a*b + c*d)/ + d*\\c*\\a  + c / + d*(a*b + c*d)/]\n",
       "                                                       ]\n",
       "           / 2    2\\\\     /                  / 2    2\\\\]\n",
       "+ c*d) + b*\\b  + d // + d*\\c*(a*b + c*d) + d*\\b  + d //]"
      ]
     },
     "execution_count": 47,
     "metadata": {},
     "output_type": "execute_result"
    }
   ],
   "source": [
    "B * A * B * A"
   ]
  },
  {
   "cell_type": "code",
   "execution_count": 48,
   "metadata": {
    "collapsed": false
   },
   "outputs": [
    {
     "data": {
      "text/latex": [
       "$$a \\left(d - \\frac{b c}{a}\\right)$$"
      ],
      "text/plain": [
       "  /    b*c\\\n",
       "a*|d - ---|\n",
       "  \\     a /"
      ]
     },
     "execution_count": 48,
     "metadata": {},
     "output_type": "execute_result"
    }
   ],
   "source": [
    "det(A)"
   ]
  },
  {
   "cell_type": "markdown",
   "metadata": {},
   "source": [
    "<hr>\n",
    "# Quantenmechanik\n",
    "**Kernel restart required**"
   ]
  },
  {
   "cell_type": "code",
   "execution_count": 1,
   "metadata": {
    "collapsed": false
   },
   "outputs": [],
   "source": [
    "using PyCall"
   ]
  },
  {
   "cell_type": "code",
   "execution_count": 2,
   "metadata": {
    "collapsed": false,
    "scrolled": true
   },
   "outputs": [
    {
     "name": "stderr",
     "output_type": "stream",
     "text": [
      "sys:1: SymPyDeprecationWarning: \n",
      "\n",
      "C, including its class ClassRegistry, has been deprecated since SymPy\n",
      "1.0. It will be last supported in SymPy version 1.0. Use direct\n",
      "imports from the defining module instead. See\n",
      "https://github.com/sympy/sympy/issues/9371 for more info.\n",
      "\n"
     ]
    }
   ],
   "source": [
    "@pyimport sympy as sym\n",
    "@pyimport sympy.core as cr\n",
    "@pyimport sympy.physics.quantum.spin as SymSpin\n",
    "@pyimport sympy.physics.quantum as SymQuantum"
   ]
  },
  {
   "cell_type": "code",
   "execution_count": 5,
   "metadata": {
    "collapsed": false
   },
   "outputs": [
    {
     "data": {
      "text/plain": [
       "(PyObject j,PyObject m)"
      ]
     },
     "execution_count": 5,
     "metadata": {},
     "output_type": "execute_result"
    }
   ],
   "source": [
    "j,m = sym.symbols(\"j, m\")"
   ]
  },
  {
   "cell_type": "code",
   "execution_count": 6,
   "metadata": {
    "collapsed": false
   },
   "outputs": [
    {
     "data": {
      "text/plain": [
       "\"1/2\""
      ]
     },
     "execution_count": 6,
     "metadata": {},
     "output_type": "execute_result"
    }
   ],
   "source": [
    "j=\"1/2\""
   ]
  },
  {
   "cell_type": "code",
   "execution_count": 7,
   "metadata": {
    "collapsed": false
   },
   "outputs": [
    {
     "data": {
      "text/plain": [
       "\"-1/2\""
      ]
     },
     "execution_count": 7,
     "metadata": {},
     "output_type": "execute_result"
    }
   ],
   "source": [
    "m=\"-1/2\""
   ]
  },
  {
   "cell_type": "code",
   "execution_count": 12,
   "metadata": {
    "collapsed": false
   },
   "outputs": [
    {
     "data": {
      "text/plain": [
       "PyObject |1/2,-1/2>"
      ]
     },
     "execution_count": 12,
     "metadata": {},
     "output_type": "execute_result"
    }
   ],
   "source": [
    "ket = SymSpin.JzKet(j,m)"
   ]
  },
  {
   "cell_type": "code",
   "execution_count": 13,
   "metadata": {
    "collapsed": false,
    "scrolled": true
   },
   "outputs": [
    {
     "data": {
      "text/plain": [
       "PyObject <1/2,-1/2|"
      ]
     },
     "execution_count": 13,
     "metadata": {},
     "output_type": "execute_result"
    }
   ],
   "source": [
    "bra = SymSpin.JzBra(j,m)"
   ]
  },
  {
   "cell_type": "code",
   "execution_count": 20,
   "metadata": {
    "collapsed": false
   },
   "outputs": [
    {
     "data": {
      "text/plain": [
       "PyObject <1/2,-1/2|*|1/2,-1/2>"
      ]
     },
     "execution_count": 20,
     "metadata": {},
     "output_type": "execute_result"
    }
   ],
   "source": [
    "cr.Mul(bra,ket)"
   ]
  },
  {
   "cell_type": "code",
   "execution_count": 21,
   "metadata": {
    "collapsed": false
   },
   "outputs": [
    {
     "data": {
      "text/plain": [
       "PyObject |1/2,-1/2>"
      ]
     },
     "execution_count": 21,
     "metadata": {},
     "output_type": "execute_result"
    }
   ],
   "source": [
    "down =  SymSpin.JzKet(j,m)"
   ]
  },
  {
   "cell_type": "code",
   "execution_count": 22,
   "metadata": {
    "collapsed": false
   },
   "outputs": [
    {
     "data": {
      "text/plain": [
       "PyObject |1/2,1/2>"
      ]
     },
     "execution_count": 22,
     "metadata": {},
     "output_type": "execute_result"
    }
   ],
   "source": [
    "up = SymSpin.JzKet(j,j)"
   ]
  },
  {
   "cell_type": "code",
   "execution_count": 23,
   "metadata": {
    "collapsed": false
   },
   "outputs": [
    {
     "data": {
      "text/plain": [
       "PyObject |1/2,-1/2> + |1/2,1/2>"
      ]
     },
     "execution_count": 23,
     "metadata": {},
     "output_type": "execute_result"
    }
   ],
   "source": [
    "state = cr.Add(up, down)"
   ]
  },
  {
   "cell_type": "code",
   "execution_count": 17,
   "metadata": {
    "collapsed": false
   },
   "outputs": [
    {
     "data": {
      "text/plain": [
       "PyObject <1/2,-1/2| + <1/2,1/2|"
      ]
     },
     "execution_count": 17,
     "metadata": {},
     "output_type": "execute_result"
    }
   ],
   "source": [
    "state_dag = SymQuantum.Dagger(state)"
   ]
  },
  {
   "cell_type": "markdown",
   "metadata": {},
   "source": [
    "### Tensorprodukt\n",
    "\n",
    "Den Tensor-Produkt Zustand $|a\\rangle \\otimes |b\\rangle$ stellen wir dar als Vektor $(a, b)$."
   ]
  },
  {
   "cell_type": "code",
   "execution_count": 126,
   "metadata": {
    "collapsed": false
   },
   "outputs": [
    {
     "data": {
      "text/plain": [
       "2-element Array{PyCall.PyObject,1}:\n",
       " PyObject |1/2,1/2> \n",
       " PyObject |1/2,-1/2>"
      ]
     },
     "execution_count": 126,
     "metadata": {},
     "output_type": "execute_result"
    }
   ],
   "source": [
    "state = [up, down]"
   ]
  },
  {
   "cell_type": "code",
   "execution_count": 127,
   "metadata": {
    "collapsed": false
   },
   "outputs": [
    {
     "data": {
      "text/plain": [
       "dagger (generic function with 1 method)"
      ]
     },
     "execution_count": 127,
     "metadata": {},
     "output_type": "execute_result"
    }
   ],
   "source": [
    "function dagger(state)\n",
    "    daggered = []\n",
    "    for s in state\n",
    "        push!(daggered, SymQuantum.Dagger(s))\n",
    "    end\n",
    "    return daggered\n",
    "end"
   ]
  },
  {
   "cell_type": "code",
   "execution_count": 128,
   "metadata": {
    "collapsed": false
   },
   "outputs": [
    {
     "data": {
      "text/plain": [
       "2-element Array{Any,1}:\n",
       " PyObject <1/2,1/2| \n",
       " PyObject <1/2,-1/2|"
      ]
     },
     "execution_count": 128,
     "metadata": {},
     "output_type": "execute_result"
    }
   ],
   "source": [
    "state_dag = dagger(state)"
   ]
  },
  {
   "cell_type": "markdown",
   "metadata": {},
   "source": [
    "Wir wollen das **innere Produkt** zweier Tensorprodukt-Zustände berechnen als\n",
    "\\begin{equation}\n",
    "\\left(\\langle c| \\otimes \\langle d|\\right)\\left(|a\\rangle \\otimes |b\\rangle\\right) = \n",
    "\\langle c|a\\rangle \\cdot \\langle d|b\\rangle\n",
    "\\end{equation}"
   ]
  },
  {
   "cell_type": "code",
   "execution_count": 129,
   "metadata": {
    "collapsed": false
   },
   "outputs": [
    {
     "data": {
      "text/plain": [
       "bra_ket (generic function with 1 method)"
      ]
     },
     "execution_count": 129,
     "metadata": {},
     "output_type": "execute_result"
    }
   ],
   "source": [
    "function bra_ket(bra_state, ket_state)\n",
    "    temp = []\n",
    "    \n",
    "    for (a, b) in zip(bra_state, ket_state)\n",
    "        push!(temp, cr.Mul(a, b))\n",
    "    end\n",
    "  \n",
    "    result = temp[1]\n",
    "    for i in temp[2:end]\n",
    "        result = cr.Mul(i, result)\n",
    "    end\n",
    "    \n",
    "    result \n",
    "    return Float64(SymQuantum.qapply(result))\n",
    "end"
   ]
  },
  {
   "cell_type": "code",
   "execution_count": 130,
   "metadata": {
    "collapsed": false
   },
   "outputs": [
    {
     "data": {
      "text/plain": [
       "1.0"
      ]
     },
     "execution_count": 130,
     "metadata": {},
     "output_type": "execute_result"
    }
   ],
   "source": [
    "bra_ket(state_dag, state)"
   ]
  },
  {
   "cell_type": "code",
   "execution_count": 131,
   "metadata": {
    "collapsed": false
   },
   "outputs": [
    {
     "data": {
      "text/plain": [
       "1.0"
      ]
     },
     "execution_count": 131,
     "metadata": {},
     "output_type": "execute_result"
    }
   ],
   "source": [
    "norm = sqrt(bra_ket(state_dag, state))"
   ]
  },
  {
   "cell_type": "markdown",
   "metadata": {},
   "source": [
    "<hr/>\n",
    "\n",
    "Wir wollen nun die **Dichtematrix** \n",
    "\n",
    "\\begin{equation}\n",
    "  \\rho = |\\psi\\rangle\\langle\\psi|\n",
    "\\end{equation}  \n",
    "\n",
    "betrachten.<br/>\n",
    "Wir stellen fest, dass diese vollständig durch die Angabe des Kets $|\\psi\\rangle$ definiert ist.<br/>\n",
    "\n",
    "\n",
    "<br/>\n",
    "<hr/>\n",
    "<br/>\n",
    "\n",
    "Betrachten wir als **Beispiel** den Zustand\n",
    "\n",
    "\\begin{eqnarray}\n",
    "  |\\psi\\rangle & = & \\cos(\\phi) \\cdot |\\uparrow\\downarrow\\rangle + \\sin(\\phi) \\cdot |\\downarrow\\uparrow\\rangle \\\\\n",
    "  & = & \\cos(\\phi) \\cdot |\\uparrow\\rangle_A\\otimes|\\downarrow\\rangle_B + \\sin(\\phi) \\cdot |\\downarrow\\rangle_A\\otimes|\\uparrow\\rangle_B\n",
    "\\end{eqnarray}\n",
    "\n",
    "<br/>\n",
    "<hr/>\n",
    "<br/>\n",
    "\n",
    "\n",
    "In **expliziter Form** wollen wir also die Matrix\n",
    "\n",
    "\\begin{equation*}\n",
    "  \\left(\n",
    "  \\begin{matrix}\n",
    "   \\langle\\uparrow\\downarrow|\\rho |\\uparrow\\downarrow\\rangle & \\langle\\uparrow\\downarrow| \\rho |\\downarrow\\uparrow\\rangle \\\\\n",
    "   \\langle\\downarrow\\uparrow|\\rho |\\uparrow\\downarrow\\rangle & \\langle \\downarrow\\uparrow| \\rho |\\downarrow\\uparrow\\rangle\n",
    "  \\end{matrix}\n",
    "  \\right)\n",
    "\\end{equation*}\n",
    "\n",
    "berechnen.\n",
    "\n",
    "**Erwartungswerte** der Form\n",
    "\\begin{equation}\n",
    "  \\langle \\alpha|\\rho|\\beta\\rangle \n",
    "\\end{equation}  \n",
    "können wir mit Hilfe des oben definierte inneren Produkts berechnen als\n",
    "\\begin{equation}\n",
    "  \\langle \\alpha|\\psi\\rangle\\langle\\psi|\\beta\\rangle\n",
    "\\end{equation}  \n",
    "<hr/>"
   ]
  },
  {
   "cell_type": "code",
   "execution_count": 132,
   "metadata": {
    "collapsed": false
   },
   "outputs": [
    {
     "name": "stdout",
     "output_type": "stream",
     "text": [
      "phi = 0.0\n",
      "ud = [PyObject 1.0*|1/2,1/2>,PyObject |1/2,-1/2>]\n",
      "du = [PyObject 0,PyObject |1/2,1/2>]\n",
      "phi = 0.25\n",
      "ud = [PyObject 0.707106781186548*|1/2,1/2>,PyObject |1/2,-1/2>]\n",
      "du = [PyObject 0.707106781186547*|1/2,-1/2>,PyObject |1/2,1/2>]\n",
      "phi = 0.5\n",
      "ud = [PyObject 6.12323399573677e-17*|1/2,1/2>,PyObject |1/2,-1/2>]\n",
      "du = [PyObject 1.0*|1/2,-1/2>,PyObject |1/2,1/2>]\n",
      "phi = 0.75\n",
      "ud = [PyObject -0.707106781186547*|1/2,1/2>,PyObject |1/2,-1/2>]\n",
      "du = [PyObject 0.707106781186548*|1/2,-1/2>,PyObject |1/2,1/2>]\n",
      "phi = 1.0\n",
      "ud = [PyObject -1.0*|1/2,1/2>,PyObject |1/2,-1/2>]\n",
      "du = [PyObject 1.22464679914735e-16*|1/2,-1/2>,PyObject |1/2,1/2>]\n",
      "phi = 1.25\n",
      "ud = [PyObject -0.707106781186548*|1/2,1/2>,PyObject |1/2,-1/2>]\n",
      "du = [PyObject -0.707106781186547*|1/2,-1/2>,PyObject |1/2,1/2>]\n",
      "phi = 1.5\n",
      "ud = [PyObject -1.83697019872103e-16*|1/2,1/2>,PyObject |1/2,-1/2>]\n",
      "du = [PyObject -1.0*|1/2,-1/2>,PyObject |1/2,1/2>]\n",
      "phi = 1.75\n",
      "ud = [PyObject 0.707106781186547*|1/2,1/2>,PyObject |1/2,-1/2>]\n",
      "du = [PyObject -0.707106781186548*|1/2,-1/2>,PyObject |1/2,1/2>]\n",
      "phi = 2.0\n",
      "ud = [PyObject 1.0*|1/2,1/2>,PyObject |1/2,-1/2>]\n",
      "du = [PyObject -2.44929359829471e-16*|1/2,-1/2>,PyObject |1/2,1/2>]\n"
     ]
    }
   ],
   "source": [
    "# psi\n",
    "xs = linspace(0., 2*pi, 9)\n",
    "\n",
    "for phi in xs\n",
    "    c, s = cos(phi), sin(phi)\n",
    "    ud = [cr.Mul(c, up), down]\n",
    "    du = [cr.Mul(s, down), up]\n",
    "    println(\"phi = \", phi/pi)\n",
    "    println(\"ud = \", ud)\n",
    "    println(\"du = \", du)\n",
    "end"
   ]
  },
  {
   "cell_type": "code",
   "execution_count": 146,
   "metadata": {
    "collapsed": false
   },
   "outputs": [
    {
     "name": "stdout",
     "output_type": "stream",
     "text": [
      "density matrix is given by \n"
     ]
    },
    {
     "data": {
      "text/plain": [
       "2x2 Array{Float64,2}:\n",
       " 0.5  0.5\n",
       " 0.5  0.5"
      ]
     },
     "execution_count": 146,
     "metadata": {},
     "output_type": "execute_result"
    }
   ],
   "source": [
    "# Dichtematrix\n",
    "xs = linspace(0., 2*pi, 9)\n",
    "\n",
    "## for phi in xs\n",
    "phi = 0.25*pi\n",
    "\n",
    "    c, s = cos(phi), sin(phi)\n",
    "    ud = [cr.Mul(c, up), down]\n",
    "    du = [cr.Mul(s, down), up]\n",
    "\n",
    "    density_matrix = zeros(2, 2)\n",
    "    \n",
    "    # <ud| rho | ud> \n",
    "    alpha = dagger([up,down])\n",
    "    beta = [up,down]\n",
    "    density_matrix[1,1] = (bra_ket(alpha, ud) + bra_ket(alpha, du))* (bra_ket(dagger(ud), beta) + bra_ket(dagger(du), beta)) \n",
    "    \n",
    "\n",
    "    # <ud| rho | du> \n",
    "    alpha = dagger([up,down])\n",
    "    beta = [down,up]\n",
    "    density_matrix[1,2] = (bra_ket(alpha, ud) + bra_ket(alpha, du))* (bra_ket(dagger(ud), beta) + bra_ket(dagger(du), beta)) \n",
    "\n",
    "\n",
    "\n",
    "    # <du| rho | ud> \n",
    "    alpha = dagger([down,up])\n",
    "    beta = [up,down]\n",
    "    density_matrix[2,1] = (bra_ket(alpha, ud) + bra_ket(alpha, du))* (bra_ket(dagger(ud), beta) + bra_ket(dagger(du), beta)) \n",
    "\n",
    "\n",
    "\n",
    "    # <du| rho | du> \n",
    "    alpha = dagger([down,up])\n",
    "    beta = [down,up]\n",
    "    density_matrix[2,2] = (bra_ket(alpha, ud) + bra_ket(alpha, du))* (bra_ket(dagger(ud), beta) + bra_ket(dagger(du), beta)) \n",
    "\n",
    "\n",
    "    println(\"density matrix is given by \") \n",
    "    density_matrix\n",
    "\n",
    "## end"
   ]
  },
  {
   "cell_type": "markdown",
   "metadata": {},
   "source": [
    " <br/>\n",
    "<hr/>\n",
    "<br/>\n",
    "\n",
    "Für diesen Zustand wollen wir die **reduzierte Dichtematix $\\rho_A$** ausrechnen\n",
    "\n",
    "\\begin{equation}\n",
    "  \\rho_A = \\sum_{|\\phi\\rangle \\in \\mathcal{H}_B} \\langle\\phi| \\rho |\\phi\\rangle\n",
    "\\end{equation}\n",
    "\n",
    "\n",
    "\n",
    "<br/>\n",
    "<hr/>\n",
    "<br/>\n",
    "\n",
    "**Erwartungswerte** der Form\n",
    "\\begin{equation}\n",
    "  \\langle \\alpha|\\rho|\\beta\\rangle \n",
    "\\end{equation}  \n",
    "können wir wieder mit Hilfe des oben definierte inneren Produkts berechnen als\n",
    "\\begin{equation}\n",
    "  \\langle \\alpha|\\psi\\rangle\\langle\\psi|\\beta\\rangle\n",
    "\\end{equation}  "
   ]
  },
  {
   "cell_type": "code",
   "execution_count": 59,
   "metadata": {
    "collapsed": false
   },
   "outputs": [],
   "source": [
    "xs = linspace(0., 2*pi, 200)\n",
    "y_values = Float64[]\n",
    "\n",
    "for alpha in xs\n",
    "    c, s = cos(alpha), sin(alpha)\n",
    "    ud = [cr.Mul(c, up), cr.Mul(c, down)]\n",
    "    du = [cr.Mul(s, down), cr.Mul(s, up)]\n",
    "\n",
    "    reduced_density_matrix = zeros(2, 2)\n",
    "    \n",
    "    for (i, left) in enumerate([up, down])\n",
    "        for (j, right) in enumerate([up, down])\n",
    "            for (k, second) in enumerate([up, down])\n",
    "                # rechte Seite \n",
    "                right_state = [right, second]\n",
    "                \n",
    "                ket_result = 0.\n",
    "                ket_result += bra_ket(dagger(ud), right_state)\n",
    "                ket_result += bra_ket(dagger(du), right_state)\n",
    "                \n",
    "                # linke Seite\n",
    "                left_state = dagger([left, second])\n",
    "\n",
    "                bra_result = 0.\n",
    "                bra_result += bra_ket(left_state, ud)\n",
    "                bra_result += bra_ket(left_state, du)\n",
    "                \n",
    "                reduced_density_matrix[i, j] += bra_result * ket_result\n",
    "            end\n",
    "        end\n",
    "    end\n",
    "    entropy = -1*trace( reduced_density_matrix * logm(reduced_density_matrix) )\n",
    "    push!(y_values, entropy)\n",
    "end"
   ]
  },
  {
   "cell_type": "code",
   "execution_count": 61,
   "metadata": {
    "collapsed": false
   },
   "outputs": [
    {
     "data": {
      "image/png": "[encoded data removed]",
      "text/plain": [
       "PyPlot.Figure(PyObject <matplotlib.figure.Figure object at 0x324162d90>)"
      ]
     },
     "metadata": {},
     "output_type": "display_data"
    },
    {
     "data": {
      "text/plain": [
       "1-element Array{Any,1}:\n",
       " PyObject <matplotlib.lines.Line2D object at 0x3237b6590>"
      ]
     },
     "execution_count": 61,
     "metadata": {},
     "output_type": "execute_result"
    }
   ],
   "source": [
    "import PyPlot\n",
    "PyPlot.plot(xs/pi, y_values)"
   ]
  },
  {
   "cell_type": "code",
   "execution_count": null,
   "metadata": {
    "collapsed": true
   },
   "outputs": [],
   "source": []
  }
 ],
 "metadata": {
  "kernelspec": {
   "display_name": "Julia 0.4.6",
   "language": "julia",
   "comment": "from https://github.com/oclfoobar/ ",
   "name": "julia-0.4"
  },
  "language_info": {
   "file_extension": ".jl",
   "mimetype": "application/julia",
   "name": "julia",
   "version": "0.4.6"
  }
 },
 "nbformat": 4,
 "nbformat_minor": 0
}
