{
 "cells": [
  {
   "cell_type": "markdown",
   "metadata": {},
   "source": [
    "<table style=\"width: 100%; border-style: none;\">\n",
    "<tr style=\"border-style: none\">\n",
    "<td style=\"border-style: none; width: 1%; font-size: 16px\">Institut f&uuml;r Theoretische Physik<br /> Universit&auml;t zu K&ouml;ln</td>\n",
    "<td style=\"border-style: none; width: 1%; font-size: 16px\">&nbsp;</td>\n",
    "<td style=\"border-style: none; width: 1%; text-align: right; font-size: 16px\">Prof. Dr. Simon Trebst<br />Peter Br&ouml;cker</td>\n",
    "</tr>\n",
    "</table>\n",
    "<hr>\n",
    "<h1 style=\"font-weight:bold; text-align: center; margin: 0px; padding:0px;\">Computerphysik</h1>\n",
    "<h1 style=\"font-weight:bold; text-align: center; margin: 0px; padding:0px;\">&Uuml;bungsblatt 1</h1>\n",
    "<hr>\n",
    "<h3 style=\"font-weight:bold; text-align: center; margin: 0px; padding:0px; margin-bottom: 20px;\">Sommersemester 2016</h3>\n",
    "\n",
    "**Website:** [http://www.thp.uni-koeln.de/trebst/Lectures/2016-CompPhys.shtml](http://www.thp.uni-koeln.de/trebst/Lectures/2016-CompPhys.shtml)\n",
    "\n",
    "**Abgabe**: Montag, 18. April, 2016 vor der Vorlesung"
   ]
  },
  {
   "cell_type": "markdown",
   "metadata": {},
   "source": [
    "**Name**: <font color=\"red\">Bitte geben Sie ihren Namen an</font>\n",
    "\n",
    "**Matrikelnummer**: <font color=\"red\">Bitte geben Sie ihre Matrikelnummer an</font>"
   ]
  },
  {
   "cell_type": "markdown",
   "metadata": {},
   "source": [
    "<table style=\"border-style: none; width: 100%\"><tr style=\"border-style: none;\">\n",
    "<td style=\"border-style: none; width: 1%; font-size: 20px; font-weight: bold\">Brüchige Bögen</td>\n",
    "<td style=\"border-style: none; width: 1%; text-align: right\">(5 Punkte)</td></tr></table>\n",
    "\n"
   ]
  },
  {
   "cell_type": "markdown",
   "metadata": {},
   "source": [
    "Die **Farey-Folge** $n$-ter Ordnung ist die Folge aller vollständig gekürzter Brüche $p / q$, deren Wert zwischen $0$ und $1$ liegt und dessen Nenner $q$ maximal $n$ ist. John Farey, der der Folge ihren Namen gab, stellte die Vermutung auf, dass die Glieder, die zum ersten Mal ab der $n+1$-ten Ordnung auftreten, sich aus zwei aufeinanderfolgenden Paaren $(p_a, q_a)$ und $(p_b, q_b)$ der Ordnung $n$ berechnen lassen:\n",
    "\n",
    "$\\quad \\dfrac{p_a + p_b}{q_a + q_b}$\n",
    "\n",
    "Vervollständigen Sie die untenstehende Funktion, so dass die zur Folge $n$-ter Ordnung gehörenden Glieder in dem Array *terms* gespeichert werden  und berechnen Sie dann die Glieder der Farey-Folge sechster Ordnung."
   ]
  },
  {
   "cell_type": "code",
   "execution_count": 3,
   "metadata": {
    "collapsed": false
   },
   "outputs": [
    {
     "name": "stdout",
     "output_type": "stream",
     "text": [
      "n = 6:\t0//1  1//6  1//5  1//4  1//3  2//5  1//2  3//5  2//3  3//4  4//5  5//6  1//1\n"
     ]
    }
   ],
   "source": [
    "function farey(n)\n",
    "    # initialize array\n",
    "    # numerators and denominators can be accessed using num(a) and den(a)\n",
    "    terms = [0//1, 1//1]\n",
    "    \n",
    "    # generate all (completely reduced) fractions up to 1 == n / n                                                      \n",
    "    for current_order in 2:n\n",
    "        for i in 2:length(terms)\n",
    "            # get a, b\n",
    "            a = terms[i-1]\n",
    "            b = terms[i]\n",
    "            \n",
    "            # get new fraction using the formula\n",
    "            new = (num(a)+num(b))//(den(a)+den(b))\n",
    "            \n",
    "            # add new to the array, if its denominator is not greater than n\n",
    "            if den(new) <= n\n",
    "                push!(terms, new)\n",
    "            end\n",
    "        end\n",
    "        sort!(terms)\n",
    "    end\n",
    "\n",
    "    return terms\n",
    "end\n",
    "\n",
    "for n in [6] # 1:7\n",
    "    output = \"\"\n",
    "    for i in farey(n)\n",
    "        output *= \" $i \"\n",
    "    end\n",
    "    # center output?\n",
    "    output = output[2:end-1] # delete initial and last space\n",
    "    println(\"n = $n:\\t\", output)\n",
    "end"
   ]
  },
  {
   "cell_type": "markdown",
   "metadata": {},
   "source": [
    "Die Entstehung der Folgenglieder lässt sich sehr schön visualisieren, wie hier beispielhaft dargestellt:\n",
    "\n",
    "![Bruechige Boegen](http://www.thp.uni-koeln.de/trebst/Lectures/CompPhys-2016/img/01_bruechige_boegen_figure.png \"Illustration Bruechige Boegen\")\n",
    "\n",
    "## Frage\n",
    "Beschreiben Sie einen Algorithmus (ohne ihn zu implementieren!), wie ein solches Bild in der Praxis gezeichnet wird."
   ]
  },
  {
   "cell_type": "markdown",
   "metadata": {},
   "source": [
    "## Antwort\n",
    "\n",
    "Zunächst müssen Konstanten definiert werden. Hierbei ist insbesondere das Maximum wichtig, das festlegt, für welche Brüche die kleinsten Kreise gezeichnet werden. Zudem ist der Abstand zwischen den Werten von 0 und 1 wichtig festzulegen.\n",
    "\n",
    "I.A. optional, für die obige Grafik wichtig, sind die Definition von der Farbe des ersten Kreises (hier *rot*) sowie die Farbschritte. Letztere definieren die Unterschiede zwischen den Kreisen verschiedener Größe, z.B. von rot (n=1) zu orange zu orange (n=3). Hier ist es am einfachsten, konstante Unterschiede zu nehmen. Daher gebe ich unten die Farbe als Zahlencode ein. Dadurch sollen aktuelle Farbe und Farbe addiert werden können, um die neue Farbe zu berechnen. Allerdings entspricht das nicht der genauen Farbgebung des obigen Bildes, es ist allerdings ähnlich.\n",
    "\n",
    "Danach wird die Achse x=0 gezeichnet\n",
    "\n",
    "Daraufhin wird eine Schleife über $n$ gelegt. Darin werden alle Kreise einer Ebene, z.B. n=1 oder n=4, gezeichnet. Dies erfolgt wieder in einer Schleife, die über alle Zwischenräume zwischen zwei aufeinander folgenden Brüchen läuft. Hier müssen Mittelpunkt und Radius des Kreises ermittelt werden, danach können die Kreise gezeichnet werden.\n",
    "\n",
    "Zum Schluss wird - in der Schleife über $n$ - die Farbe für die nächstkleinere Ebene bestimmt."
   ]
  },
  {
   "cell_type": "markdown",
   "metadata": {},
   "source": [
    "### Pseudocode\n",
    "#### Erklärung\n",
    "Ich benutze in diesem Pseudocode Variablen, die ich mit dem Gleichheitszeichen definiere. Danach benutze ich sie, wenn ich ein Dollarzeichen ($\\$$) vor den Namen setze. Einrückungen verdeutlichen entweder den Code, den ich nutzen würde, oder stellen die Ebene der Ausführung dar. Der letzte Punkt (Z. 18f)\n",
    "\n",
    "* rot (Z. 2) bezeichnet die Farbe rot in Form einer Zahlendarstellung\n",
    "* farbschritt (Z. 3) bezeichnet den gewollten Farbunterschied, ebenfall in einer Zahlendarstellung"
   ]
  },
  {
   "cell_type": "markdown",
   "metadata": {},
   "source": [
    "#### Code\n",
    "maximum = 7  \n",
    "farbe = rot  \n",
    "farbschritte = $\\$$maximum * farbschritt  \n",
    "laenge_eins = 20 cm  \n",
    "\n",
    "zeichne eine dicke schwarze Linie auf der x-Achse\n",
    "\n",
    "für $\\$n$ von 1 bis $\\$$maximum mache folgendes:\n",
    "* bekomme alle Brüche mit einem Nenner $\\$n$\n",
    "* für alle Brüche, bis auf den letzten, mache folgendes:\n",
    "    * ermittle Startpunkt des Kreises:\n",
    "        * aktueller_bruch\n",
    "    * ermittle Endpunkt des Kreises, den darauf folgenden Bruch\n",
    "        * folgender_bruch\n",
    "    * ermittle Radius\n",
    "        * radius = $\\$$laenge_eins * ($\\$$folgender_bruch-$\\$$aktueller_bruch)/2\n",
    "    * ermittle Mittelpunkt\n",
    "        * ort = $\\$$laenge_eins * $\\$$aktueller_bruch + $\\$$radius\n",
    "    * zeichne einen Halbkreis mit dem Radius $\\$$radius in der Farbe $\\$$farbe um den Punkt ( 0 | $\\$$abstand )\n",
    "* ermittle Farbe für das Bild:\n",
    "    * farbe = $\\$$farbe + $\\$$farbschritte"
   ]
  }
 ],
 "metadata": {
  "kernelspec": {
   "display_name": "Julia 0.4.5",
   "language": "julia",
   "comment": "from https://github.com/oclfoobar/ ",
   "name": "julia-0.4"
  },
  "language_info": {
   "file_extension": ".jl",
   "mimetype": "application/julia",
   "name": "julia",
   "version": "0.4.5"
  }
 },
 "nbformat": 4,
 "nbformat_minor": 0
}
