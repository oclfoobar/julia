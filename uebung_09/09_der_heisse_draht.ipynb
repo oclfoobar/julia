{
 "cells": [
  {
   "cell_type": "markdown",
   "metadata": {},
   "source": [
    "<table style=\"width: 100%; border-style: none;\">\n",
    "<tr style=\"border-style: none\">\n",
    "<td style=\"border-style: none; width: 1%; font-size: 16px\">Institut f&uuml;r Theoretische Physik<br /> Universit&auml;t zu K&ouml;ln</td>\n",
    "<td style=\"border-style: none; width: 1%; font-size: 16px\">&nbsp;</td>\n",
    "<td style=\"border-style: none; width: 1%; text-align: right; font-size: 16px\">Prof. Dr. Simon Trebst<br />Peter Br&ouml;cker</td>\n",
    "</tr>\n",
    "</table>\n",
    "<hr>\n",
    "<h1 style=\"font-weight:bold; text-align: center; margin: 0px; padding:0px;\">Computerphysik</h1>\n",
    "<h1 style=\"font-weight:bold; text-align: center; margin: 0px; padding:0px;\">&Uuml;bungsblatt 9</h1>\n",
    "<hr>\n",
    "<h3 style=\"font-weight:bold; text-align: center; margin: 0px; padding:0px; margin-bottom: 20px;\">Sommersemester 2016</h3>\n",
    "\n",
    "<p>**Website:** [http://www.thp.uni-koeln.de/trebst/Lectures/2016-CompPhys.shtml](http://www.thp.uni-koeln.de/trebst/Lectures/2016-CompPhys.shtml)</p>\n",
    "\n",
    "<p>**Abgabe**: Montag, 20. Juni, 2016 vor der Vorlesung</p>\n",
    "\n",
    "<p>**Name**: <font color=\"red\">Bitte geben Sie ihren Namen an</font></p>\n",
    "\n",
    "<p>**Matrikelnummer**: <font color=\"red\">Bitte geben Sie ihre Matrikelnummer an</font></p><br />\n",
    "\n",
    "\n",
    "<table style=\"border-style: none; width: 100%; margin-top: 20px; padding: 0px;\"\n",
    "><tr style=\"border-style: none; margin: 0px; padding: 0px;\">\n",
    "<td style=\"border-style: none; width: 80%; margin: 0px; padding: 0px; font-size: 20px; font-weight: bold\">Der heiße Draht 2.0</td>\n",
    "<td style=\"border-style: none; width: 20%; margin: 0px; padding: 0px; text-align: right\">(5 Punkte)</td></tr></table>\n",
    "\n"
   ]
  },
  {
   "cell_type": "markdown",
   "metadata": {
    "collapsed": true
   },
   "source": [
    "Auf einem der vorherigen Übungsblatter haben Sie die **Wärmeleitungsgleichung** als Anfangswertproblem mit der Euler-Methode bearbeitet. Dabei mussten Sie feststellen, dass die Stabilität des Algorithmus stark von der Diskretisierung $dx$ in der räumlichen und $dt$ in der zeitlichen Dimension abhing. \n",
    "\n",
    "Diese Einschränkung wird durch das **Crank-Nicolson-Verfahren** aufgehoben. Wir wollen dies in dieser Aufgabe überprüfen. Die Iterationsschritte des Algorithmus haben Sie in der Vorlesung ausführlich besprochen. Implementieren Sie das Crank-Nicolson-Verfahren für die eindimensionale **Warmeleitungsgleichung**\n",
    "\n",
    "\\begin{equation}\\dfrac{\\partial u}{\\partial t} = \\kappa\\dfrac{\\partial^2}{dx^2} \\end{equation}\n",
    "\n",
    "mit Anfangsverteilung bei $t=0$\n",
    "\n",
    "\\begin{equation} \n",
    "u(x, 0) = \\sin(\\pi x),\\quad x \\in (0, 1)\n",
    "\\end{equation}\n",
    "\n",
    "und untersuchen Sie die Stabilität indem Sie $20, 200,$ und  $2000$ räumliche Diskretisierungsschritte verwenden."
   ]
  },
  {
   "cell_type": "code",
   "execution_count": 24,
   "metadata": {
    "collapsed": false
   },
   "outputs": [
    {
     "data": {
      "text/plain": [
       "triangular_matrix (generic function with 3 methods)"
      ]
     },
     "execution_count": 24,
     "metadata": {},
     "output_type": "execute_result"
    }
   ],
   "source": [
    "function triangular_matrix(M::Array{Float64,2}, b::Array{Float64,1}; inexact=1e-9)\n",
    "    # this function transforms the matrix M into an upper triangular matrix\n",
    "    # vector b gets transformed the same way\n",
    "    \n",
    "    size(M, 1) != size(b, 1) && error(\"E: size of matrix and vector do not match\")\n",
    "    local dim = size(M, 1) # dimension of M\n",
    "\n",
    "    for i in 1:dim-1\n",
    "        if M[i, i] <= inexact\n",
    "            # element is to small, search for bigger one\n",
    "                # if found: swap lines / columns\n",
    "                # if not: continue anyway\n",
    "        end\n",
    "        \n",
    "        # for all lines below the actual one: substract c*M[i, :] from this line\n",
    "        # calculate c so that the elements in this column get 0\n",
    "        for j in i+1:dim\n",
    "            c = M[j, i] / M[i, i]\n",
    "            M[j, i:end] = M[j, i:end] - c*M[i, i]\n",
    "            b[j] = b[j] - c*b[i]\n",
    "        end\n",
    "        println()\n",
    "    end\n",
    "    return (M, b)\n",
    "end"
   ]
  },
  {
   "cell_type": "code",
   "execution_count": 25,
   "metadata": {
    "collapsed": false
   },
   "outputs": [
    {
     "name": "stdout",
     "output_type": "stream",
     "text": [
      "\n",
      "\n"
     ]
    },
    {
     "data": {
      "text/plain": [
       "(\n",
       "3x3 Array{Float64,2}:\n",
       " 1.0  2.0  3.0\n",
       " 0.0  1.0  2.0\n",
       " 0.0  0.0  1.0,\n",
       "\n",
       "[1.0,-7.411158332458769,21.52484540190845])"
      ]
     },
     "execution_count": 25,
     "metadata": {},
     "output_type": "execute_result"
    }
   ],
   "source": [
    "triangular_matrix(A, b)\n",
    "# falsches ergebnis"
   ]
  },
  {
   "cell_type": "code",
   "execution_count": 18,
   "metadata": {
    "collapsed": false
   },
   "outputs": [
    {
     "data": {
      "text/plain": [
       "3x3 Array{Float64,2}:\n",
       " 1.0  2.0  3.0\n",
       " 4.0  5.0  6.0\n",
       " 7.0  8.0  9.0"
      ]
     },
     "execution_count": 18,
     "metadata": {},
     "output_type": "execute_result"
    }
   ],
   "source": [
    "A = [1. 2 3 ; 4 5 6 ; 7 8 9]"
   ]
  },
  {
   "cell_type": "code",
   "execution_count": 13,
   "metadata": {
    "collapsed": false
   },
   "outputs": [
    {
     "data": {
      "text/plain": [
       "3-element Array{Float64,1}:\n",
       " 1.0\n",
       " 2.0\n",
       " 3.0"
      ]
     },
     "execution_count": 13,
     "metadata": {},
     "output_type": "execute_result"
    }
   ],
   "source": [
    "b = [1., 2, 3]"
   ]
  },
  {
   "cell_type": "code",
   "execution_count": 4,
   "metadata": {
    "collapsed": false
   },
   "outputs": [
    {
     "data": {
      "text/plain": [
       "Array{Any,2}"
      ]
     },
     "execution_count": 4,
     "metadata": {},
     "output_type": "execute_result"
    }
   ],
   "source": [
    "Array{Any,2}"
   ]
  },
  {
   "cell_type": "markdown",
   "metadata": {
    "collapsed": true
   },
   "source": [
    " "
   ]
  }
 ],
 "metadata": {
  "kernelspec": {
   "display_name": "Julia 0.4.5",
   "language": "julia",
   "comment": "from https://github.com/oclfoobar/ ",
   "name": "julia-0.4"
  },
  "language_info": {
   "file_extension": ".jl",
   "mimetype": "application/julia",
   "name": "julia",
   "version": "0.4.5"
  }
 },
 "nbformat": 4,
 "nbformat_minor": 0
}
