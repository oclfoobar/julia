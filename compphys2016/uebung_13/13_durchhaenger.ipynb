{
 "cells": [
  {
   "cell_type": "markdown",
   "metadata": {},
   "source": [
    "<table style=\"width: 100%; border-style: none;\">\n",
    "<tr style=\"border-style: none\">\n",
    "<td style=\"border-style: none; width: 1%; font-size: 16px\">Institut f&uuml;r Theoretische Physik<br /> Universit&auml;t zu K&ouml;ln</td>\n",
    "<td style=\"border-style: none; width: 1%; font-size: 16px\">&nbsp;</td>\n",
    "<td style=\"border-style: none; width: 1%; text-align: right; font-size: 16px\">Prof. Dr. Simon Trebst<br />Peter Br&ouml;cker</td>\n",
    "</tr>\n",
    "</table>\n",
    "<hr>\n",
    "<h1 style=\"font-weight:bold; text-align: center; margin: 0px; padding:0px;\">Computerphysik</h1>\n",
    "<h1 style=\"font-weight:bold; text-align: center; margin: 0px; padding:0px;\">&Uuml;bungsblatt 12</h1>\n",
    "<hr>\n",
    "<h3 style=\"font-weight:bold; text-align: center; margin: 0px; padding:0px; margin-bottom: 20px;\">Sommersemester 2016</h3>\n",
    "\n",
    "<p>**Website:** [http://www.thp.uni-koeln.de/trebst/Lectures/2016-CompPhys.shtml](http://www.thp.uni-koeln.de/trebst/Lectures/2016-CompPhys.shtml)</p>\n",
    "\n",
    "<p>**Abgabe**: Montag, 18. Juli, 2016 vor der Vorlesung</p>\n",
    "\n",
    "<p>**Name**: <font color=\"red\">Bitte geben Sie ihren Namen an</font></p>\n",
    "\n",
    "<p>**Matrikelnummer**: <font color=\"red\">Bitte geben Sie ihre Matrikelnummer an</font></p><br />\n",
    "\n",
    "\n",
    "<table style=\"border-style: none; width: 100%; margin-top: 20px; padding: 0px;\"\n",
    "><tr style=\"border-style: none; margin: 0px; padding: 0px;\">\n",
    "<td style=\"border-style: none; width: 80%; margin: 0px; padding: 0px; font-size: 20px; font-weight: bold\">Durchhänger</td>\n",
    "<td style=\"border-style: none; width: 20%; margin: 0px; padding: 0px; text-align: right\">(5 Punkte)</td></tr></table>\n",
    "\n"
   ]
  },
  {
   "cell_type": "markdown",
   "metadata": {},
   "source": [
    "In dieser Aufgabe wollen wir das Durchhängen eines elastischen Seils numerisch mittels des Metropolisalgorithmus simulieren.\n",
    "\n",
    "Dazu erinnern wir uns zunächst an die Herleitung des Energiefunktionals für ein solches durchhängendes Seil, wie\n",
    "wir es in der analytischen Mechanik kennengelernt haben: Die potentielle Energie eines Seils entlang einer Seillinie $u(x)$ besteht aus zwei Beiträgen - dem Gravitationsbeitrag und einem Beitrag, der sich aus der\n",
    "internen Spannung des Seils ergibt. Wird ein Seilstück der Länge $dx$ um eine vertikale Verschiebung $du$ ausgelenkt, \n",
    "ergibt sich eine Änderung der internen Spannungsenergie, welche sich als Änderung der Seillänge multipliziert mit einer Elastizitätskonstante $\\sigma$ berechnen lässt:\n",
    "\n",
    "\\begin{equation*}\n",
    "\\delta V_{S} = \\sigma\\left(\\sqrt{dx^2+du^2} - dx\\right)  = \\sigma dx\n",
    "\\left(\\sqrt{1+\\left(\\partial_x u\\right)^2} - 1\\right).\n",
    "\\end{equation*}\n",
    "\n",
    "Wenn wir nun die Ableitung $\\partial_x u(x)$ als klein annehmen, können wir die Wurzel Taylor entwickeln und finden in führender Ordnung\n",
    "\n",
    "\\begin{equation*}\n",
    "\\delta V_{s} \\approx \\sigma dx \\frac{1}{2}\\left(\\partial_x u(x)\\right)^2.\n",
    "\\end{equation*}"
   ]
  },
  {
   "cell_type": "markdown",
   "metadata": {},
   "source": [
    "Die Energie aus dem Gravitationspotential ist wie gewohnt\n",
    "\n",
    "\\begin{equation}\n",
    "\\delta V_G=mg u(x)dx\\,.\n",
    "\\end{equation}\n",
    "\n",
    "Fügen wir beide Beiträge zusammen und integrieren über die Länge des Seils, ergibt sich also dessen Gesamtenergie als\n",
    "\\begin{equation}\n",
    "V =\n",
    "\\int\\limits_{x_0}^{x_1}\\text{d}x\\,\\left[\\frac{\\sigma}{2}\\left(\\partial_x\n",
    "  u(x)\\right)^2 + mgu(x)\\right].\n",
    "\\end{equation}\n",
    "\n",
    "In dieser Aufgabe setzen wir $m=g=1$, während wir die Elastizitätskonstante auf einen Wert von $\\sigma=3$ ansetzen wollen. Das Seil wollen wir zwischen $x_0=-10$ und $x_N=10$ spannen, d.h. $u(x_0) = u(x_N) = 0$. \n",
    "\n",
    "Zur numerischen Simulation diskretisieren wir das Seil, indem wir es als Konglomerat von $N=81$ einzelnen Segmenten betrachten. Entsprechend müssen wir dann auch die Ableitung und das Integral diskret berechnen."
   ]
  },
  {
   "cell_type": "markdown",
   "metadata": {},
   "source": [
    "Implementieren Sie nun den Metropolis-Algorithmus, um die Ruhelage des Seils zu berechnen. Schlagen Sie dazu kleine vertikale Verschiebungen in einem Bereich von $du \\in [-0.02, 0.02]$ vor und akzeptieren Sie diese mit einer Wahrscheinlichkeit\n",
    "\\begin{equation}\n",
    "p_{\\rm acc} = \\min\\left( 1, e^{-\\Delta V/T}\\right).\n",
    "\\end{equation}\n",
    "Nehmen Sie dazu eine fiktive Temperatur von $T=0.001$ an.\n",
    "\n",
    "Sie sollten ausreichend viele Updates laufen lassen, wir schlagen $5000\\times N$ vor. Um zu sehen, wie der Algorithmus eine optimale Konfiguration findet, plotten Sie das Seil nach jedem 50. Sweep (also jeweils $50\\times N$ Updates)."
   ]
  },
  {
   "cell_type": "markdown",
   "metadata": {},
   "source": [
    "Wir betrachten nun drei verschiedene Potentiale:\n",
    "\n",
    "- Zunächst lassen wir das Seil frei im Gravitationspotential hängen, d.h.\n",
    "\\begin{equation}\n",
    "V(x) = g\\cdot u(x).\n",
    "\\end{equation}\n",
    "\n",
    "- Als zweites Potential haben wir einen Schrank, den wir zudecken wollen:\n",
    "\\begin{equation}\n",
    "V(x) = \\begin{cases}\n",
    "10^{10} & 1.5\\leq |x|\\leq 6 \\wedge u(x) < 2, \\\\\n",
    "10^{10} & |x|\\leq 1.5 \\wedge u(x) < 3, \\\\\n",
    "10^{10} & u(x) < 0, \\\\\n",
    "g\\cdot u(x) &\\mbox{sonst.}\n",
    "\\end{cases}\n",
    "\\end{equation}\n",
    "\n",
    "- Im dritten Teil betrachten wir eine Hängebrücke, wie z.B. die [Golden Gate Bridge](http://de.wikipedia.org/wiki/Golden_Gate_Bridge)\n",
    "\\begin{equation}\n",
    "V(x) = \\begin{cases}\n",
    "10^{10} & 5.5\\leq |x|\\leq 6 \\wedge u(x) < 3, \\\\\n",
    "10^{10} &u(x) < 0, \\\\\n",
    "g\\cdot u(x) &\\mbox{sonst.}\n",
    "\\end{cases}\n",
    "\\end{equation}\n",
    "\n",
    "Plotten Sie für alle drei Potentiale das Seil, nachdem es eine Ruhelage gefunden hat. "
   ]
  },
  {
   "cell_type": "markdown",
   "metadata": {},
   "source": [
    "**Anmerkungen:**\n",
    "* *lokales* Update, d.h. genau *1* Punkt wird je Schritt veraendert\n",
    "* in einem *sweep* werden mehrere einzelne Punkte veraendert"
   ]
  },
  {
   "cell_type": "markdown",
   "metadata": {},
   "source": [
    " "
   ]
  }
 ],
 "metadata": {
  "kernelspec": {
   "display_name": "Julia 0.4.5",
   "language": "julia",
   "name": "julia-0.4"
  },
  "language_info": {
   "file_extension": ".jl",
   "mimetype": "application/julia",
   "name": "julia",
   "version": "0.4.5"
  }
 },
 "nbformat": 4,
 "nbformat_minor": 0
}
