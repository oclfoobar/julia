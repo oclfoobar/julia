{
 "cells": [
  {
   "cell_type": "markdown",
   "metadata": {
    "collapsed": true
   },
   "source": [
    "# 1. Theorie"
   ]
  },
  {
   "cell_type": "markdown",
   "metadata": {},
   "source": [
    "### Zeitaufgelöste Streuung an Potentialbarrieren\n",
    "\n",
    "Setup:\n",
    "* 1 Dimension\n",
    "* Potentialbarriere: Höhe $V_0$\n",
    "* Gauss'sche Welle von *links* auf die Barriere zulaufend\n",
    "    * $\\vec{k_0}$\n",
    "    * $\\Psi(x, t)$\n",
    "    * $\\left[-\\frac{\\hbar^2}{2m}\\cdot\\partial_x^2 + V(x)\\right] = i\\hbar \\partial_t \\Psi(x, t)\\ \\ \\ \\ (1)$\n",
    "\n",
    "Zur Simulation benutzen wir eine sogenannte *Halbschritt-Fourier-Methode*. Betrachten wir dazu die Fouriertransformierten von $\\Psi$ und der Schrödingergleichung. Konvention:\n",
    "\n",
    "$\\tilde{\\Psi}(k, t) = (2\\pi)^{-0.5} \\int_\\infty^\\infty dx\\Psi(x,t) e^{-ikx}\\ \\ \\ \\ (2)$\n",
    "\n",
    "$\\Psi(x, t) = (2\\pi)^{-0.5} \\int_\\infty^\\infty dk\\tilde{\\Psi}(k, t) e^{+ikx}\\ \\ \\ \\ (3)$\n",
    "\n",
    "Setze (3) in (1) ein. Der erste Term im Hamilton-Operator ist dann einfach zu berechnen, der zweite Teil ist schwierig zu berechnen.\n",
    "\n",
    "### Strategie\n",
    "* Löse zunächst *nur* den \"einfachen\" Teil im Ortsraum:  \n",
    "$V(x)\\Psi(x, t) = i\\hbar\\partial_t\\Psi(x, t) $\n",
    "* Für einen Zeitschritt $\\Delta t$ nimmt die Integration die folgende Form an:  \n",
    "$\\Psi(x, t+\\Delta t) = \\Psi(x, t)\\cdot e^{-iV(x) \\Delta t/\\hbar}$\n",
    "* Transformiere die restliche Gleichung in den *Impulsraum*:  \n",
    "$\\frac{\\hbar^2k^2}{2m}\\tilde{\\Psi}(k, t) = i\\hbar\\partial_t \\tilde{\\Psi}(k, t)$\n",
    "* Für einen Zeitschritt $\\Delta t$ nimmt die Integration die folgende Form an:  \n",
    "$\\tilde{\\Psi}(k, t+\\Delta t) = \\tilde{\\Psi}(k, t)\\cdot e^{-i\\hbar k^2 \\Delta t/(2m)}$"
   ]
  },
  {
   "cell_type": "markdown",
   "metadata": {},
   "source": [
    "## Numerisches Halbschrittverfahren\n",
    "\n",
    "1. Integriere $\\Psi(x_n, t)$ um einen halben Schritt\n",
    "$\\Psi(x_n, t) \\leftarrow \\Psi(x_n, t)\\cdot e^{-(i\\Delta t/2)\\cdot V(x_n)/\\hbar}$\n",
    "2. Berechne Fourier-Transformierte $\\tilde{\\Psi}(k, t)$\n",
    "3. Integriere $\\tilde{\\Psi}(k, t)$ um *ganzen* Schritt\n",
    "$\\tilde{\\Psi}(k_m, t) \\leftarrow \\tilde{\\Psi}(k_m, t)\\cdot \\exp[-i\\hbar(k\\cdot k)\\Delta t/(2m)]$\n",
    "4. Berechne Fourier-Transformierte $\\Psi$\n",
    "5. Noch ein Halbschritt im Ortsraum\n",
    "$\\Psi(x_n, t) \\leftarrow \\Psi(x_n, t)\\cdot \\exp[-i\\Delta t/2 \\cdot V(x_n)/\\hbar]$\n",
    "\n",
    "## weiteres\n",
    "Gauss'sches Wellenpaket: $\\Psi(x, 0) = (\\sigma\\sqrt{\\pi})^{-0.5}\\exp[-frac{1}{2}(\\frac{x-x_0}{\\sigma})^2+ik_0x]$\n",
    "\n",
    "$\\Delta$ t = 0.01  \n",
    "$\\Delta$ x = 0.1  \n",
    "N = 2^{11} = 2048  \n",
    "a = -102.4  \n",
    "b = -a  \n",
    "$k_0$ flexibel  \n",
    "$\\sigma$ = 12/$k_0$\n",
    "\n",
    "$\\Psi(x_n, t)\\rightarrow \\frac{\\Delta x}{\\sqrt{2\\pi}}\\Psi(x_n, t) \\exp[-ik_0x]$\n",
    "\n",
    "\n",
    "Berechne Fourier-Transformierte von $\\Psi$:  \n",
    "fast fourier transformation: \n",
    "fft($\\Psi$)"
   ]
  },
  {
   "cell_type": "markdown",
   "metadata": {},
   "source": [
    "# Zeitaufgelöste Streuung an einem Potential\n",
    "## Pakete laden"
   ]
  },
  {
   "cell_type": "markdown",
   "metadata": {},
   "source": [
    "Wenn matplotlib nicht installiert ist: Folgende Zeile ausführen (einmalig)"
   ]
  },
  {
   "cell_type": "code",
   "execution_count": 1,
   "metadata": {
    "collapsed": false
   },
   "outputs": [],
   "source": [
    "#using Conda\n",
    "#Conda.add(\"matplotlib\")"
   ]
  },
  {
   "cell_type": "code",
   "execution_count": 2,
   "metadata": {
    "collapsed": false
   },
   "outputs": [
    {
     "data": {
      "text/plain": [
       "true"
      ]
     },
     "execution_count": 2,
     "metadata": {},
     "output_type": "execute_result"
    }
   ],
   "source": [
    "# Einstellungen für GUI\n",
    "ENV[\"PYTHON\"] = \"\"\n",
    "using PyCall\n",
    "pygui(:tk) # :tk oder :tx sollte funktionieren, ausser auf JuliaBox\n",
    "using PyPlot\n",
    "pygui(true);"
   ]
  },
  {
   "cell_type": "code",
   "execution_count": 44,
   "metadata": {
    "collapsed": true
   },
   "outputs": [],
   "source": [
    "# globale variablen\n",
    "# h_bar = m = 1.0\n",
    "dt = 0.01\n",
    "N  = 2^11\n",
    "dx = 0.1\n",
    "Sigma = 12.0\n",
    "x0 = -30\n",
    "\n",
    "xs = dx * (collect(1:N) - 0.5*N) # -0.5*N to have positive and negative x-values\n",
    "dk = 2*pi / (N*dx)\n",
    "ks = - 0.5 * N * dk + dk * collect(1:N);"
   ]
  },
  {
   "cell_type": "code",
   "execution_count": 43,
   "metadata": {
    "collapsed": false
   },
   "outputs": [
    {
     "data": {
      "text/plain": [
       "set_potential (generic function with 1 method)"
      ]
     },
     "execution_count": 43,
     "metadata": {},
     "output_type": "execute_result"
    }
   ],
   "source": [
    "function set_potential(V0, V_width)\n",
    "    V = zeros(xs)\n",
    "    \n",
    "    return V\n",
    "end"
   ]
  },
  {
   "cell_type": "code",
   "execution_count": 42,
   "metadata": {
    "collapsed": false
   },
   "outputs": [
    {
     "data": {
      "text/plain": [
       "set_wavefunction (generic function with 1 method)"
      ]
     },
     "execution_count": 42,
     "metadata": {},
     "output_type": "execute_result"
    }
   ],
   "source": [
    "function set_wavefunction(k0)\n",
    "    # gaussian\n",
    "    sigma = Sigma / k0\n",
    "    \n",
    "    psi_x0 = (1./sqrt(sigma*sqrt(pi))) * exp(complex(-0.5*(xs-x0).^2/sigma, k0*xs))\n",
    "    \n",
    "    return psi_x0\n",
    "end"
   ]
  },
  {
   "cell_type": "code",
   "execution_count": null,
   "metadata": {
    "collapsed": true
   },
   "outputs": [],
   "source": [
    "### Hauptroutine\n",
    "\n",
    "function scatter(psi, V)\n",
    "    # display\n",
    "    gcf()[:clf]()  # open display\n",
    "    gcf()[:set_facecolor](\"lightgray\")  # set display color\n",
    "    axis(\"off\") # hide axis\n",
    "    \n",
    "    # limits for axes\n",
    "    ylim([-0.03, 0.5])\n",
    "    xlim([-50, 50])\n",
    "    \n",
    "    line_plot = plot(xs, zeros(xs), color=\"black\", linewidth=3) # black line at x=0\n",
    "    V_plot    = plot(xs, V,         color=\"blue\",  linewidth=1, label=L\"V(x)\") # potential\n",
    "    psi_plot  = plot(xs, psi,       color=\"#850000\", linewidth=2, label=L\"\\Psi(x)\")[1] # [1] because complex numbers\n",
    "    legend()\n",
    "end"
   ]
  },
  {
   "cell_type": "code",
   "execution_count": 39,
   "metadata": {
    "collapsed": false
   },
   "outputs": [
    {
     "data": {
      "text/plain": [
       "PyObject <matplotlib.legend.Legend object at 0x7f777d54ce10>"
      ]
     },
     "execution_count": 39,
     "metadata": {},
     "output_type": "execute_result"
    }
   ],
   "source": [
    "k0 = 1.5\n",
    "V0 = 1\n",
    "Vw = 5 # width\n",
    "\n",
    "V = set_potential(V0, Vw)\n",
    "psi = set_wavefunction(k0)\n",
    "\n",
    "scatter(psi, V)"
   ]
  },
  {
   "cell_type": "markdown",
   "metadata": {},
   "source": [
    " \n"
   ]
  }
 ],
 "metadata": {
  "kernelspec": {
   "display_name": "Julia 0.4.5",
   "language": "julia",
   "comment": "from https://github.com/oclfoobar/ ",
   "name": "julia-0.4"
  },
  "language_info": {
   "file_extension": ".jl",
   "mimetype": "application/julia",
   "name": "julia",
   "version": "0.4.5"
  }
 },
 "nbformat": 4,
 "nbformat_minor": 0
}
