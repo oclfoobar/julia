{
 "cells": [
  {
   "cell_type": "markdown",
   "metadata": {},
   "source": [
    "<table style=\"width: 100%; border-style: none;\">\n",
    "<tr style=\"border-style: none\">\n",
    "<td style=\"border-style: none; width: 1%; font-size: 16px\">Institut f&uuml;r Theoretische Physik<br /> Universit&auml;t zu K&ouml;ln</td>\n",
    "<td style=\"border-style: none; width: 1%; font-size: 16px\">&nbsp;</td>\n",
    "<td style=\"border-style: none; width: 1%; text-align: right; font-size: 16px\">Prof. Dr. Simon Trebst<br />Peter Br&ouml;cker</td>\n",
    "</tr>\n",
    "</table>\n",
    "<hr>\n",
    "<h1 style=\"font-weight:bold; text-align: center; margin: 0px; padding:0px;\">Computerphysik</h1>\n",
    "<h1 style=\"font-weight:bold; text-align: center; margin: 0px; padding:0px;\">&Uuml;bungsblatt 3</h1>\n",
    "<hr>\n",
    "<h3 style=\"font-weight:bold; text-align: center; margin: 0px; padding:0px; margin-bottom: 20px;\">Sommersemester 2016</h3>\n",
    "\n",
    "**Website:** [http://www.thp.uni-koeln.de/trebst/Lectures/2016-CompPhys.shtml](http://www.thp.uni-koeln.de/trebst/Lectures/2016-CompPhys.shtml)\n",
    "\n",
    "**Abgabe**: Montag, 2. Mai, 2016 vor der Vorlesung\n",
    "\n",
    "**Name**: <font color=\"red\">Bitte geben Sie ihren Namen an</font>\n",
    "\n",
    "**Matrikelnummer**: <font color=\"red\">Bitte geben Sie ihre Matrikelnummer an</font>"
   ]
  },
  {
   "cell_type": "markdown",
   "metadata": {},
   "source": [
    "<table style=\"border-style: none; width: 100%\"><tr style=\"border-style: none;\">\n",
    "<td style=\"border-style: none; width: 1%; font-size: 20px; font-weight: bold\">Simpson vs. Trapezregel</td>\n",
    "<td style=\"border-style: none; width: 1%; text-align: right\">(5 Punkte)</td></tr></table>\n",
    "\n",
    "Die Mathematik kennt eine Reihe von speziellen Funktionen, die gerade in der Physik eine besondere Relevanz besitzen. Dazu gehören die **Kugelflächen-Funktionen**, welche in Problemen mit sphärischer oder zylindrischer Symmetrie auftreten. Vielleicht erinnern Sie sich an die Multipolentwicklung der Elektrostatik, oder aber Sie werden Ihnen in der Quantenmechanik bei der Lösung des Wasserstoffatoms wieder begegnen. \n",
    "\n",
    "Sie ergeben sich als Lösungen der **Eigenwertgleichung** des Winkelanteils des Laplace-Operators:\n",
    "\n",
    "$\\left(\\frac{\\partial^{2}}{\\partial\\vartheta^{2}}+\\frac{\\cos\\vartheta}{\\sin\\vartheta}\\frac{\\partial}{\\partial\\vartheta}+\\frac{1}{\\sin^{2}\\vartheta}\\frac{\\partial^{2}}{\\partial\\varphi^{2}}\\right)Y_{\\ell m}(\\vartheta,\\varphi)=-\\ell(\\ell+1)Y_{\\ell m}(\\vartheta,\\varphi),$\n",
    "\n",
    "wobei wir uns hier auf den Spezialfall $m=0$ beschränken.\n",
    "\n",
    "Die Lösung lautet dann\n",
    "\n",
    "$ Y_{\\ell 0}(\\vartheta,\\varphi)=\\frac{1}{\\sqrt{2\\pi}}\\, N_{\\ell 0}\\, P_{\\ell 0}(\\cos\\vartheta)$\n",
    "\n",
    "mit den Normierungsfaktoren $N_{\\ell 0}=\\sqrt\\frac{2\\ell+1}{2}$ sowie den Legendrepolynomen\n",
    "\n",
    "$ P_{\\ell 0}(x)= P_\\ell(x) = \\frac{1}{2^\\ell \\, \\ell!} \\, \\frac{\\mathrm{d}^\\ell}{\\mathrm{d}x^\\ell} \\left(x^2-1\\right)^\\ell$\n",
    "\n",
    "Unser Ziel ist es nun, die **Orthogonalitätsrelation**\n",
    "\n",
    "$\\int Y_{\\ell 0}^{*}(\\vartheta,\\varphi) \\, Y_{\\ell' 0}(\\vartheta,\\varphi) d\\Omega = \\delta_{\\ell\\,\\ell'}$\n",
    "\n",
    "der Kugelflächen-Funktionen durch numerische Integration für $\\ell \\in [0,\\dots,3]$ zu überprüfen.\n",
    "\n",
    "Die erste Methode, die Sie kennengelernt haben, ist die **Trapezregel**. Wie der Name schon suggeriert, wird der Flächeninhalt durch eine Reihe von Trapezen approximiert. Abhängig vom Verhalten der Funktion, dem Diskretisierungsschritt und der Größe des Integrationsbereichs kann dies bereits gute Ergebnisse liefern. Genauer ist allerdings die **Simpson Regel**, bei der die Funktion auch diskretisiert, aber dann intervallweise durch eine Parabel genähert wird. \n",
    "\n",
    "Implementieren Sie ein Programm basierend auf der Beschreibung in der Vorlesung. Berechnen Sie die ersten vier Kugelflächen-Funktionen und führen Sie mit ihrem Programm die Integration aus (Was passiert mit der Integration über $\\varphi$?). Verwenden Sie 15-20 Stützstellen für beide Verfahren. Beachten Sie, dass die Simpson-Regel zu gegebenen Stützstellen $a$ und $b$ immer auch $(a+b)/2$ hinzuzieht. Bewerten Sie, in welchen Fällen welche der beiden Methoden der anderen überlegen ist (bei gleicher Anzahl an Stützstellen).\n",
    "\n",
    "\n"
   ]
  },
  {
   "cell_type": "code",
   "execution_count": 1,
   "metadata": {
    "collapsed": false
   },
   "outputs": [
    {
     "data": {
      "text/plain": [
       "f_4 (generic function with 1 method)"
      ]
     },
     "execution_count": 1,
     "metadata": {},
     "output_type": "execute_result"
    }
   ],
   "source": [
    "f_1(x) = sqrt(1./(4 * pi))^2 * sin(x)\n",
    "f_2(x) = (sqrt(3./(4 * pi)) * cos(x))^2 * sin(x)   \n",
    "f_3(x) = (sqrt(5./(16 * pi)) * (3 * cos(x)^2 - 1.))^2 * sin(x)\n",
    "f_4(x) = (sqrt(7./(16 * pi)) * (5 * cos(x)^3 - 3. * cos(x)))^2 * sin(x)"
   ]
  },
  {
   "cell_type": "code",
   "execution_count": 2,
   "metadata": {
    "collapsed": false
   },
   "outputs": [
    {
     "data": {
      "text/plain": [
       "integrate_simpson (generic function with 1 method)"
      ]
     },
     "execution_count": 2,
     "metadata": {},
     "output_type": "execute_result"
    }
   ],
   "source": [
    "function trapez_element(f, a, b)\n",
    "    return (f(a) + f(b))*(b-a)/2\n",
    "end\n",
    "\n",
    "function simpson_element(f, a, b)\n",
    "    # middle = (a+b)/2\n",
    "    # delta  = (b-a)/2\n",
    "    return (b-a)/6*(f(a)+4f((a+b)/2)+f(b))\n",
    "end\n",
    "\n",
    "function integrate_trapez(f, points)\n",
    "    output = 0\n",
    "    for (a, b) in zip(points[1:end - 1], points[2:end])\n",
    "        output += (f(a) + f(b))*(b-a)/2\n",
    "    end\n",
    "    return output\n",
    "end\n",
    "\n",
    "function integrate_simpson(f, points)\n",
    "    output = 0\n",
    "    for (a, b) in zip(points[1:end - 1], points[2:end])\n",
    "        output += (b-a)/6*(f(a)+4f((a+b)/2)+f(b))\n",
    "    end\n",
    "    return output\n",
    "end"
   ]
  },
  {
   "cell_type": "code",
   "execution_count": 3,
   "metadata": {
    "collapsed": false
   },
   "outputs": [
    {
     "name": "stdout",
     "output_type": "stream",
     "text": [
      "Trapez: 0.15848652633874546\tDeviation: 0.004199786322463983\n",
      "Simpson: 0.1591562633655403\tDeviation: 8.29552396752753e-6\n"
     ]
    }
   ],
   "source": [
    "# define resolution\n",
    "y_resolution = 15\n",
    "y_trapez = linspace(0, pi, y_resolution) # start = 0, stop = pi, no_of_steps = y_resolution\n",
    "y_simpson = linspace(0, pi, round(y_resolution / 2) + 1)\n",
    "# set function\n",
    "g = f_1\n",
    "\n",
    "# integrate\n",
    "integral_trapez  = integrate_trapez( g, y_trapez)\n",
    "integral_simpson = integrate_simpson(g, y_simpson)\n",
    "\n",
    "\n",
    "# print solution and the difference to the ideal result 1\n",
    "println(\"Trapez: \", integral_trapez, \"\\tDeviation: \", abs(1.0 - 2 * pi * integral_trapez))\n",
    "println(\"Simpson: \", integral_simpson, \"\\tDeviation: \", abs(1.0 - 2 * pi * integral_simpson))"
   ]
  },
  {
   "cell_type": "markdown",
   "metadata": {},
   "source": [
    "Es wird numerisch nach $\\varphi$ integriert. Dazu wird das Intervall zwischen den Integrationsgrenzen $0$ und $\\pi$ in mehrere Abschnitte unterteilt.  \n",
    "Bei der Trapez-Methode wird jeder Abschnitt mit den Grenzen $x_i$ und $x_j$ (mit $j = i+1$) durch ein Trapez angenähert, indem die Sekante durch die Punkte $P=$ ($x_i$ | $f(x_i)$) und $Q=$ ($x_j$ | $f(x_j)$) gelegt wird.  \n",
    "Bei der Simpson-Methode wird eine Parabel durch $P$ und $Q$ gelegt. Dazu wird der Punkt $R=$ ($\\frac{x_i+x_j}{2}$ | $ f((x_i+x_j)/2)$ ) ermittelt, der den Mittelpunkt der Parabel definiert.  \n",
    "In beiden Methoden wird die Fläche unter den so ermittelten Kurven berechnet. Diese Flächen von allen Abschnitten werden aufaddiert und ergeben das Integral.\n",
    "\n",
    "Im Vergleich scheint die Integration nach der Simpson-Methode exakter zu sein als die Integration nach der Trapez-Methode. Dies liegt daran, dass die Näherung einer Funktion als Parabel exakter ist als die Näherung als Gerade. Hierbei wird ja jeweils eine Taylor-Entwicklung durchgeführt, bei der Simpson-Methode ist diese eine Ordnung weiter entwickelt. Daher ist sie exakter.\n",
    "Dies gilt aber nur, wenn bei der Simpson-Methode die eingestellte Auflösung nur halb so groß ist wie bei der Trapez-Methode, da in der Integration selbst die Auflösung verdoppelt wird.\n",
    "\n",
    "Beide Methoden sind aber nur bei ausreichend kleinen Abschnitten brauchbar. Z.B. bei Funktionen, die stark oszillieren, wird das Ergebnis stark verfälscht, wenn die Abschnitte zu \"breit\" sind."
   ]
  },
  {
   "cell_type": "markdown",
   "metadata": {},
   "source": [
    " "
   ]
  }
 ],
 "metadata": {
  "kernelspec": {
   "display_name": "Julia 0.4.5",
   "language": "julia",
   "comment": "from https://github.com/oclfoobar/ ",
   "name": "julia-0.4"
  },
  "language_info": {
   "file_extension": ".jl",
   "mimetype": "application/julia",
   "name": "julia",
   "version": "0.4.5"
  }
 },
 "nbformat": 4,
 "nbformat_minor": 0
}
