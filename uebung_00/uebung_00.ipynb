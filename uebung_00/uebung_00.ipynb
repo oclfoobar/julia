{
 "cells": [
  {
   "cell_type": "markdown",
   "metadata": {},
   "source": [
    "<table style=\"width: 100%; border-style: none;\">\n",
    "<tr style=\"border-style: none\">\n",
    "<td style=\"border-style: none; width: 1%; font-size: 16px\">Institut f&uuml;r Theoretische Physik<br /> Universit&auml;t zu K&ouml;ln</td>\n",
    "<td style=\"border-style: none; width: 1%; font-size: 16px\">&nbsp;</td>\n",
    "<td style=\"border-style: none; width: 1%; text-align: right; font-size: 16px\">Prof. Dr. Simon Trebst<br />Peter Br&ouml;cker</td>\n",
    "</tr>\n",
    "</table>\n",
    "<hr>\n",
    "<h1 style=\"font-weight:bold; text-align: center; margin: 0px; padding:0px;\">Computerphysik</h1>\n",
    "<h1 style=\"font-weight:bold; text-align: center; margin: 0px; padding:0px;\">&Uuml;bungsblatt 0</h1>\n",
    "<hr>\n",
    "<h3 style=\"font-weight:bold; text-align: center; margin: 0px; padding:0px; margin-bottom: 20px;\">Sommersemester 2016</h3>\n",
    "\n",
    "**Website:** [http://www.thp.uni-koeln.de/trebst/Lectures/2016-CompPhys.shtml](http://www.thp.uni-koeln.de/trebst/Lectures/2016-CompPhys.shtml)\n",
    "\n",
    "**Abgabe**: Präsenzübung in der ersten Vorlesungswoche\n",
    "\n",
    "\n",
    "### Punktevergabe\n",
    "\n",
    "Auf den folgenden Übungsblättern werden Sie zwei Aufgabentypen finden. Dies sind zum einen **Pflichtaufgaben**, die sich um die in der Vorlesung besprochenen numerischen Methoden drehen. Für diese werden Punkte vergeben von denen Sie am Ende mindestens 50% erreicht haben müssen um zur Klausur zugelassen zu werden. Alle Programmierkenntnisse, die Sie zum Lösen dieser Aufgaben benötigen, werden Sie durch die Aufgaben aus der ersten Gruppe erlernen. Außerdem gibt es Aufgaben, die aus **weiterführenden Anwendungen** der erlernten Kenntnissen bestehen. Diese optionalen Aufgaben bauen auf den Pflichtaufgaben auf und illustrieren vor allem die vielseitigen, praktischen Anwendungen in der Physik. Durch deren Bearbeitung können Sie außerdem **Bonuspunkte** sammeln.\n",
    "\n",
    "### Abgabemodus\n",
    "\n",
    "Die Abgabe erfolgt **wöchentlich** und **individuell**, d.h. wir erlauben keine Gruppenabgaben. Bitte nutzen Sie für die Bearbeitung die Notebooks, die Sie dann per Email an Ihren Übungsgruppenleiter senden. Für die Bonusaufgaben gewähren wir mindestens zwei Wochen Arbeitszeit, in manchen Fällen auch länger."
   ]
  },
  {
   "cell_type": "markdown",
   "metadata": {},
   "source": [
    "## 0. Hello World\n",
    "\n",
    "Schreiben Sie ein sogenanntes **Hello world** Programm in Julia, d.h. ein Programm, welches die einfach Ausgabe “Hello world!\" erzeugt."
   ]
  },
  {
   "cell_type": "code",
   "execution_count": 1,
   "metadata": {
    "collapsed": false
   },
   "outputs": [
    {
     "name": "stdout",
     "output_type": "stream",
     "text": [
      "Hello World!\n"
     ]
    }
   ],
   "source": [
    "println(\"Hello World!\")"
   ]
  },
  {
   "cell_type": "markdown",
   "metadata": {},
   "source": [
    "## 1. Dezimalzahlen\n",
    "\n",
    "Führen Sie das folgende Programm aus und untersuchen Sie die Ausgabe. Hätten Sie das Ergebnis erwartet?"
   ]
  },
  {
   "cell_type": "code",
   "execution_count": 2,
   "metadata": {
    "collapsed": false
   },
   "outputs": [
    {
     "name": "stdout",
     "output_type": "stream",
     "text": [
      "false\n"
     ]
    }
   ],
   "source": [
    "a = 0.1\n",
    "b = 0.2\n",
    "c = 0.3\n",
    "\n",
    "println((a + b) == c)"
   ]
  },
  {
   "cell_type": "markdown",
   "metadata": {},
   "source": [
    "Ich hätte das Ergebnis *true* erwartet, da die Summe aus a und b gleich c ist. Der Wert false dagegen zeigt an, dass dies nicht so ist. Somit ist die Summe ungleich c, was mathematisch ein Fehler ist. Dieser dürfte bei der Addition entstehen, bei der JULIA wohl mit gerundeten Werten für *Floats* rechnet (s.u.). Bei Zweierpotenzen tritt das Problem nicht auf, solange die Zahlen nicht zu groß sind."
   ]
  },
  {
   "cell_type": "code",
   "execution_count": 3,
   "metadata": {
    "collapsed": false
   },
   "outputs": [
    {
     "name": "stdout",
     "output_type": "stream",
     "text": [
      "a+b:\t0.30000000000000004\n",
      "c:\t0.3\n"
     ]
    }
   ],
   "source": [
    "println(\"a+b:\\t\",a+b)\n",
    "println(\"c:\\t\",c)"
   ]
  },
  {
   "cell_type": "markdown",
   "metadata": {},
   "source": [
    "## 2. Fibonacci Zahlen\n",
    "\n",
    "Schreiben Sie ein Programm zur Berechnung der **Fibonacci-Zahlen** $F_n$, die für $n \\geq 2$ folgendermaßen definiert sind:\n",
    "\n",
    "$\\quad F_n = F_{n - 1} + F_{n - 2}$\n",
    "\n",
    "Benötigt werden außerdem die Werte $F_0 = 0$ und $F_1 = 1$, die nicht aus vorherigen berechnet werden."
   ]
  },
  {
   "cell_type": "code",
   "execution_count": 4,
   "metadata": {
    "collapsed": false
   },
   "outputs": [
    {
     "name": "stdout",
     "output_type": "stream",
     "text": [
      "    0          0\n",
      "    1          1\n",
      "    2          1\n",
      "    3          2\n",
      "    4          3\n",
      "    5          5\n",
      "    6          8\n",
      "    7         13\n",
      "    8         21\n",
      "    9         34\n",
      "   10         55\n",
      "   11         89\n",
      "   12        144\n",
      "   13        233\n",
      "   14        377\n",
      "   15        610\n",
      "   16        987\n",
      "   17       1597\n",
      "   18       2584\n",
      "   19       4181\n",
      "   20       6765\n",
      "   21      10946\n",
      "   22      17711\n",
      "   23      28657\n",
      "   24      46368\n",
      "   25      75025\n",
      "   26     121393\n",
      "   27     196418\n",
      "   28     317811\n",
      "   29     514229\n",
      "   30     832040\n"
     ]
    }
   ],
   "source": [
    "fib_n_2 = BigInt(0)\n",
    "fib_n_1 = BigInt(1)\n",
    "fib_n = 0\n",
    "# Diese Schleife rechnet die ersten 30 Fibonacci Zahlen aus und gibt die Werte als Tabelle aus\n",
    "for n in 0:30\n",
    "    if n == 0\n",
    "        fib_n = 0\n",
    "    elseif n < 3\n",
    "        fib_n = 1\n",
    "    else\n",
    "        fib_n_2 = fib_n_1\n",
    "        fib_n_1 = fib_n\n",
    "        fib_n   = fib_n_1 + fib_n_2\n",
    "    end\n",
    "    @printf \"%5i %10i\\n\" n fib_n\n",
    "end"
   ]
  },
  {
   "cell_type": "markdown",
   "metadata": {},
   "source": [
    "Das Verhältnis zweier aufeinanderfolgender Fibonacci-Zahlen verhält sich asymptotisch wie der goldene Schnitt $\\phi = \\frac{1}{2}(1 + \\sqrt{5})$. Ab welchem Index $n$, ist die Abweichung kleiner als $10^{-1}, 10^{-3}, 10^{-5}$?"
   ]
  },
  {
   "cell_type": "markdown",
   "metadata": {},
   "source": [
    "Dies bedeutet:\n",
    "\n",
    "\\begin{eqnarray}\n",
    "F_n &\\approx& F_{n-1} \\cdot (\\phi \\pm \\Delta \\phi)\n",
    "\\end{eqnarray}\n",
    "\n"
   ]
  },
  {
   "cell_type": "code",
   "execution_count": 5,
   "metadata": {
    "collapsed": false,
    "scrolled": true
   },
   "outputs": [
    {
     "name": "stdout",
     "output_type": "stream",
     "text": [
      "Precision 0.1 is reached with n=4 and Fₙ = 5\n",
      "Precision 0.001 is reached with n=9 and Fₙ = 55\n",
      "Precision 1.0e-5 is reached with n=13 and Fₙ = 377\n"
     ]
    }
   ],
   "source": [
    "output = \"\"\n",
    "#golden_ratio = 0.5 * (1 + sqrt(5))\n",
    "n_max = 100000\n",
    "for precision in [1e-1, 1e-3, 1e-5]\n",
    "    fib_n_2 = BigInt(1)\n",
    "    fib_n_1 = BigInt(1)\n",
    "    fib_n   = 2\n",
    "    n = 3\n",
    "    for n in 3:n_max\n",
    "        fib_n_2 = fib_n_1\n",
    "        fib_n_1 = fib_n\n",
    "        fib_n   = fib_n_1 + fib_n_2\n",
    "        \n",
    "        if abs(fib_n/fib_n_1-golden) <= precision\n",
    "            println(\"Precision $precision is reached with n=$n and Fₙ = $fib_n\")\n",
    "            break\n",
    "        end\n",
    "    end\n",
    "\n",
    "    if n == n_max\n",
    "        println(\"Error: Precision \", precision, \" not attainable for n <= $n_max\")\n",
    "    end\n",
    "end"
   ]
  },
  {
   "cell_type": "markdown",
   "metadata": {},
   "source": [
    "  "
   ]
  }
 ],
 "metadata": {
  "kernelspec": {
   "display_name": "Julia 0.4.5",
   "language": "julia",
   "comment": "from https://github.com/oclfoobar/ ",
   "name": "julia-0.4"
  },
  "language_info": {
   "file_extension": ".jl",
   "mimetype": "application/julia",
   "name": "julia",
   "version": "0.4.5"
  }
 },
 "nbformat": 4,
 "nbformat_minor": 0
}
