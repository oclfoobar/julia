{
 "cells": [
  {
   "cell_type": "markdown",
   "metadata": {},
   "source": [
    "<table style=\"width: 100%; border-style: none;\">\n",
    "<tr style=\"border-style: none\">\n",
    "<td style=\"border-style: none; width: 1%; font-size: 16px\">Institut f&uuml;r Theoretische Physik<br /> Universit&auml;t zu K&ouml;ln</td>\n",
    "<td style=\"border-style: none; width: 1%; font-size: 16px\">&nbsp;</td>\n",
    "<td style=\"border-style: none; width: 1%; text-align: right; font-size: 16px\">Prof. Dr. Simon Trebst<br />Peter Br&ouml;cker</td>\n",
    "</tr>\n",
    "</table>\n",
    "<hr>\n",
    "<h1 style=\"font-weight:bold; text-align: center; margin: 0px; padding:0px;\">Computerphysik</h1>\n",
    "<h1 style=\"font-weight:bold; text-align: center; margin: 0px; padding:0px;\">&Uuml;bungsblatt 5</h1>\n",
    "<hr>\n",
    "<h3 style=\"font-weight:bold; text-align: center; margin: 0px; padding:0px; margin-bottom: 20px;\">Sommersemester 2016</h3>\n",
    "\n",
    "**Website:** [http://www.thp.uni-koeln.de/trebst/Lectures/2016-CompPhys.shtml](http://www.thp.uni-koeln.de/trebst/Lectures/2016-CompPhys.shtml)\n",
    "\n",
    "**Abgabe**: Montag, 23. Mai, 2016 vor der Vorlesung\n",
    "\n",
    "**Name**: <font color=\"red\">Bitte geben Sie ihren Namen an</font>\n",
    "\n",
    "**Matrikelnummer**: <font color=\"red\">Bitte geben Sie ihre Matrikelnummer an</font>"
   ]
  },
  {
   "cell_type": "markdown",
   "metadata": {},
   "source": [
    "<table style=\"border-style: none; width: 100%\"><tr style=\"border-style: none;\">\n",
    "<td style=\"border-style: none; width: 1%; font-size: 20px; font-weight: bold\">Magnetpendel</td>\n",
    "<td style=\"border-style: none; width: 1%; text-align: right\">(5 Bonuspunkte)</td></tr></table>\n",
    "\n",
    "Wir betrachten ein **Pendel**, das nun magnetisch sei und in einer Ebene schwingt. Es wechselwirke mit dem **Schwerefeld** der Erde, sowie mit **drei Magneten** und werde durch **Reibung** gebremst. Die drei Magnete seien gleichmäßig auf einem Ring mit Radius $d = 1$ um den Ursprung angeordnet, wie auf der Skizze gezeigt.\n",
    "\n",
    "![Skizze des Aufbaus](bonus_05_magnetpendel.png)\n",
    "\n",
    "Die gravitative Wechselwirkung nähern wir wie zuvor durch\n",
    "\n",
    "\\begin{equation}\\vec{F}_g \\approx m\\,g\\,h\\;\\vec{e}_z \\approx k_g \\vec{r} \\,.\\end{equation}\n",
    "\n",
    "Die Konstante $k_g$ steuert die Stärke der Gravitation und $\\vec{r}$ ist der aktuelle Ortsvektor des Pendels. Die Näherung ist, wie auch beim eindimensionalen Pendel, dass wir nur kleine Auslenkungen aus der Ruhelage betrachten.\n",
    "\n",
    "Kommen wir nun zu den drei Magneten. Sie üben eine Kraft $\\vec{F}_{k,i}$ auf das Pendel aus, wobei $i$ der Index des Körpers $\\{1,2,3\\}$ ist und $k_i$ eine weitere Kraftkonstante. So ergibt sich das folgende Kraftgesetz:\n",
    "\n",
    "\\begin{equation}\\vec{F}_{k, i} = k_i\\dfrac{\\vec{e}_r}{|\\vec{r}^2|} \\,.\\end{equation}\n",
    "\n",
    "\n",
    "Zuletzt fügen wir noch eine Reibungskraft $\\vec{F}_r$ hinzu, die proportional zur Geschwindigkeit ist und deren Stärke durch $\\gamma$ bestimmt wird\n",
    "\n",
    "\\begin{equation}\\vec{F}_r = -\\gamma\\vec{v} \\,.\\end{equation}\n",
    "\n",
    "Lassen Sie sich nicht durch die Anzahl der Konstanten abschrecken. Die Simulation ist nicht viel schwerer als die vorherigen Aufgaben! Die Gesamtbewegungsgleichung ist also\n",
    "\n",
    "\\begin{equation}\n",
    "\\vec{a}(t) = \\vec{F}_g + \\sum\\limits_{i} \\vec{F}_{k, i} + \\vec{F}_r\n",
    "= -k_g \\vec{r} + \\sum\\limits_{i} k_i\\dfrac{\\vec{e}_r}{|\\vec{r}|^2} - \\gamma\\vec{v} \\,,\n",
    "\\end{equation}\n",
    "\n",
    "wobei wir die Masse des Pendels $m = 1$ gesetzt haben und $a(t)$ die Beschleunigung bezeichnet. Wir nehmen an, dass die Auslenkung des Pendels in $z$-Richtung vernachlässigbar ist und betrachten dadurch effektiv ein zweidimensionales Problem, d.h. Sie berechnen nur die $x$ und $y$ Komponenten des Orts, der Geschwindigkeit und der Beschleunigung. Beachten Sie aber, dass die Ebene in der das Pendel schwingt im Abstand $h$ über der Ebene der Magneten liegt. In der Berechnung der Abstandsvektoren $\\vec{r}$ zwischen Pendel und Magneten geht der Abstand $h$ also sehr wohl ein.\n",
    "\n",
    "Die passende Wahl des Algorithmus zur Integration der obigen Bewegungsgleichung sei Ihnen selbst überlassen. Der bereits behandelte Runge-Kutta-Algorithmus ist hierfür gut geeignet, aber Sie können auch einmal probieren, ob der backward-Euler Algorithmus stabil genug ist. Sie haben außerdem den Verlet-Algorithmus kennengelernt, der speziell für das Lösen von Bewegungsgleichungen entwickelt wurde.\n",
    "\n",
    "Beginnen Sie damit, Trajektorien des Pendels zu berechnen, und stellen Sie diese grafisch dar. Hierzu müssen Sich sich insbesondere geeignete Abbruchbedingungen überlegen. Welche Endpositionen sind überhaupt möglich? \n",
    "In einem zweiten Schritt zeichnen Sie nun eine Karte, die jeder Startposition eine Farbe zuordnet, welche einer der möglichen Endpositionen entsprechen soll. Für die Magneten als Endposition können Sie z.B. die Farben so wählen wie in der Skizze.\n",
    "\n",
    "Als gute Werte für die oben genannten Konstanten haben sich herausgestellt:\n",
    "\n",
    "$k_g = 0.2,\\quad k_{k,1} = k_{k,2} = k_{k,3} = 20.0,\\quad h = 0.2$\n",
    "\n",
    "Erstellen Sie Karten für die Werte $\\gamma \\in \\{0.01, 0.1, 1.0, 10, 100\\}$. \n",
    "\n",
    "**Hinweis**\n",
    "\n",
    "Das geschickte Wählen der Abbruchbedingungen kann die benötigte Rechenzeit erheblich reduzieren. Führen Sie vor dem Berechnen der Karten Testläufe für einige repräsentative Punkte verschiedener Kartenbereiche durch, um ein Gefühl für die Dauer zu bekommen. Um Daten zwischenzuspeichern können Sie das Modul *DataFrames* verwenden."
   ]
  },
  {
   "cell_type": "code",
   "execution_count": null,
   "metadata": {
    "collapsed": true
   },
   "outputs": [],
   "source": []
  },
  {
   "cell_type": "markdown",
   "metadata": {},
   "source": [
    " "
   ]
  }
 ],
 "metadata": {
  "kernelspec": {
   "display_name": "Julia 0.4.5",
   "language": "julia",
   "name": "julia-0.4"
  },
  "language_info": {
   "file_extension": ".jl",
   "mimetype": "application/julia",
   "name": "julia",
   "version": "0.4.5"
  }
 },
 "nbformat": 4,
 "nbformat_minor": 0
}
