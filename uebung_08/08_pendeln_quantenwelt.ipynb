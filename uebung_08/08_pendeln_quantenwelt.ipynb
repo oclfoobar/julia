{
 "cells": [
  {
   "cell_type": "markdown",
   "metadata": {},
   "source": [
    "<table style=\"width: 100%; border-style: none;\">\n",
    "<tr style=\"border-style: none\">\n",
    "<td style=\"border-style: none; width: 1%; font-size: 16px\">Institut f&uuml;r Theoretische Physik<br /> Universit&auml;t zu K&ouml;ln</td>\n",
    "<td style=\"border-style: none; width: 1%; font-size: 16px\">&nbsp;</td>\n",
    "<td style=\"border-style: none; width: 1%; text-align: right; font-size: 16px\">Prof. Dr. Simon Trebst<br />Peter Br&ouml;cker</td>\n",
    "</tr>\n",
    "</table>\n",
    "<hr>\n",
    "<h1 style=\"font-weight:bold; text-align: center; margin: 0px; padding:0px;\">Computerphysik</h1>\n",
    "<h1 style=\"font-weight:bold; text-align: center; margin: 0px; padding:0px;\">&Uuml;bungsblatt 8</h1>\n",
    "<hr>\n",
    "<h3 style=\"font-weight:bold; text-align: center; margin: 0px; padding:0px; margin-bottom: 20px;\">Sommersemester 2016</h3>\n",
    "\n",
    "<p>**Website:** [http://www.thp.uni-koeln.de/trebst/Lectures/2016-CompPhys.shtml](http://www.thp.uni-koeln.de/trebst/Lectures/2016-CompPhys.shtml)</p>\n",
    "\n",
    "<p>**Abgabe**: Montag, 13. Juni, 2016 vor der Vorlesung</p>\n",
    "\n",
    "<p>**Name**: <font color=\"red\">Bitte geben Sie ihren Namen an</font></p>\n",
    "\n",
    "<p>**Matrikelnummer**: <font color=\"red\">Bitte geben Sie ihre Matrikelnummer an</font></p><br />"
   ]
  },
  {
   "cell_type": "markdown",
   "metadata": {},
   "source": [
    "<table style=\"border-style: none; width: 100%; margin-top: 20px; padding: 0px;\"\n",
    "><tr style=\"border-style: none; margin: 0px; padding: 0px;\">\n",
    "<td style=\"border-style: none; width: 80%; margin: 0px; padding: 0px; font-size: 20px; font-weight: bold\">Pendeln in der Quantenwelt</td>\n",
    "<td style=\"border-style: none; width: 20%; margin: 0px; padding: 0px; text-align: right\">(5 Punkte)</td></tr></table>\n",
    "\n",
    "In dieser Aufgabe betrachten wir den **quantenmechanischen harmonischen Oszillator**, dessen Potential \n",
    "    $V(x) = \\omega^2 x^2/(2m)$ \n",
    "mit der Frequenz $\\omega$ und der Teilchenmasse $m$ gegeben ist. Wir setzen $\\hbar = \\omega = m = 1$. Der harmonische Oszillator wird also im allgemeinen durch eine *zeitabhängige* Schrödinger-Gleichung der Form \n",
    "\n",
    "\\begin{equation}\n",
    "\\frac{1}{2}\\left[-\\frac{\\partial^2}{\\partial x^2} + x^2\\right]\\psi(x,t) = i\\frac{\\partial}{\\partial t}\\psi(x,t) \n",
    "\\end{equation}\n",
    "\n",
    "beschrieben.\n",
    "\n",
    "Mit dem Produktansatz $\\psi(x,t)=\\phi(x)\\chi(t)$, d.h. der Separation von Orts- und Zeitkoordinate, reduziert sich die Schrödinger-Gleichung auf *zwei gewöhnliche* Differentialgleichungen. "
   ]
  },
  {
   "cell_type": "markdown",
   "metadata": {},
   "source": [
    "Die Lösungen für den Ortsanteil lassen sich über die sogenannten **Hermite-Polynome** $H_n$ darstellen:\n",
    "\n",
    "\\begin{equation}\n",
    "\\phi_n(x) =\\pi^{-\\frac{1}{4}} \\frac{1}{\\sqrt{2^n n!}} H_n(x)\n",
    "e^{-\\frac{x^2}{2}}, \\qquad \\text{mit } n=0,1,2,\\ldots\n",
    "\\end{equation}\n",
    "\n",
    "Die Hermite-Polynome $H_n(x)$ können mit folgender Vorschrift rekursiv konstruiert werden:\n",
    "\n",
    "\\begin{align}\n",
    "H_0(x) &= 1,\\\\\n",
    "H_1(x) &= 2x, \\\\\n",
    "H_{n+1}(x) &= 2x H_n(x)-2nH_{n-1}(x).\n",
    "\\end{align}\n",
    "\n",
    "Die Lösung für den Zeitanteil der Schrödinger-Gleichung hat die Form\n",
    "\n",
    "\\begin{equation}\n",
    "\\chi_n(t)=e^{-iE_nt},\n",
    "\\end{equation}\n",
    "\n",
    "wobei die Energie des $n$-ten Zustands gegeben ist als $E_n = n + \\tfrac{1}{2}$. "
   ]
  },
  {
   "cell_type": "markdown",
   "metadata": {},
   "source": [
    "Beachten Sie, dass die Funktionen $\\psi_n(x,t) = \\phi_n(x)\\chi_n(t)$ lediglich eine Basis des Lösungsraums der Schrödingergleichung bilden, d.h. wir können eine allgemeine Lösung als Linearkombination dieser Basiselemente schreiben:\n",
    "\n",
    "\\begin{equation}\n",
    "\\psi(x,t) = \\sum_{n=0}^{\\infty}c_n \\phi_n(x) \\chi_n(t).\n",
    "\\end{equation}\n",
    "\n",
    "Wir wollen nun für eine beliebige vorgegeben Wellenfunktion die Koeffizienten $c_n$ berechnen. Dafür machen wir uns die Tatsache zunutze, dass die Funktionen $\\psi_n$ eine Orthogonalbasis darstellen. Das Skalarprodukt $\\langle\\cdot|\\cdot\\rangle$ auf dem Raum der Lösungen ist für zwei beliebige Wellenfunktionen $\\psi_n$ und $\\psi_m$ gegeben als\n",
    "\n",
    "\\begin{equation}\n",
    "\\langle\\psi_n(x,t)|\\psi_m(x,t)\\rangle =\n",
    "\\int_{-\\infty}^{\\infty}\\text{d}x\\, \\psi^*_n(x, t)\\psi_m(x, t).\n",
    "\\end{equation}\n",
    "\n",
    "Bekanntermaßen gilt für das Skalarprodukt zweier orthonormaler Basisvektoren immer\n",
    "\n",
    "\\begin{equation}\n",
    "\\langle\\psi_n(x,t)|\\psi_m(x,t)\\rangle = \\delta_{n,m},\n",
    "\\end{equation}\n",
    "\n",
    "d.h. wir können die Koeffizienten $c_n$ des allgemeinen Zustands $\\psi(x,t)$ durch Projektion des Zustands auf die Basisvektoren finden:\n",
    "\n",
    "\\begin{equation}\n",
    "c_n = \\langle\\psi_n(x,t)|\\psi(x,t)\\rangle.\n",
    "\\end{equation}"
   ]
  },
  {
   "cell_type": "markdown",
   "metadata": {},
   "source": [
    "#### Aufgaben\n",
    "\n",
    "Gegeben seien nun folgende Wellenfunktionen zum Zeitpunkt $t=0$:\n",
    "\n",
    "\\begin{align}\n",
    "\\psi_A(x,t=0) &= \\pi^{-1/4}e^{-\\frac{1}{2}(x-2)^2}, \\\\\n",
    "\\psi_B(x,t=0) &= \\frac{1}{\\pi}\\frac{0.05}{(x-2)^2+0.05^2}.\n",
    "\\end{align}\n",
    "\n",
    "Berechnen sie numerisch die **Zeitentwicklung** dieser beiden Wellenfunktionen und erstellen Sie für das Betragsquadrat $|\\psi_{A/B}(x,t)|^2$ ein Video. Bestimmen Sie dazu zunächst die Koeffizienten $c_n$, wobei wir uns hier auf die ersten zehn beschränken wollen. Das Integral im Skalarprodukt können Sie z.B. mit der in der Vorlesung beschriebenen Trapezmethode berechnen. \n",
    "\n",
    "Wir schlagen vor, die Funktionen im Intervall $x\\in[-6.0, 6.0]$ für etwa 1000 Stützstellen zu\n",
    "berechnen. Wählen Sie $\\Delta t = 0.05$ als Zeitschritt."
   ]
  },
  {
   "cell_type": "markdown",
   "metadata": {},
   "source": [
    "# Funktionen"
   ]
  },
  {
   "cell_type": "code",
   "execution_count": 1,
   "metadata": {
    "collapsed": false
   },
   "outputs": [
    {
     "data": {
      "text/plain": [
       "Psi_B0 (generic function with 1 method)"
      ]
     },
     "execution_count": 1,
     "metadata": {},
     "output_type": "execute_result"
    }
   ],
   "source": [
    "# calculating\n",
    "const dt = 5e-2\n",
    "const xs = collect(linspace(-6, 6, 1000))\n",
    "const N  = 10\n",
    "# create video\n",
    "const filename = \"movie\"\n",
    "\n",
    "Psi_A0(x, t) = pi^(-1/2)*exp(-1/2*(x-2)^2)\n",
    "Psi_B0(x, t) = 0.05/(pi*((x-2)^2+0.05^2))"
   ]
  },
  {
   "cell_type": "code",
   "execution_count": 2,
   "metadata": {
    "collapsed": false
   },
   "outputs": [],
   "source": [
    "function hermite_polynoms(N::Int)\n",
    "    # give back the first N hermite polynoms\n",
    "    # N >= 2\n",
    "    \n",
    "    # initialize: H_0(x), H_1(x)\n",
    "    Hs = [x->1, x->2x]\n",
    "    \n",
    "    for n in 2:N-1\n",
    "        # get next hermite polynom\n",
    "        push!(Hs, x->2x*Hs[n](x) - 2n*Hs[n-1](x))\n",
    "    end\n",
    "    return Hs\n",
    "end\n",
    "\n",
    "function get_wave_basis(N::Int, hermites::Array)\n",
    "    # get a N-dimensional basis of wave functions\n",
    "    \n",
    "    # initialize helping functions\n",
    "    chi(t, n) = exp(-1im*(n+1/2)*t) # time\n",
    "    phi(x, n) = pi^(-1/4)/sqrt(2^n*factorial(n)) * hermites[n+1](x) * exp(-x^2/2)\n",
    "    \n",
    "    # save basis here\n",
    "    basis = []\n",
    "    # n = 0, 1, ... , N\n",
    "    for n in 0:N-1\n",
    "        push!(basis, (x, t)->phi(x, n) * chi(t, n))\n",
    "    end\n",
    "    \n",
    "    return basis\n",
    "end\n",
    "\n",
    "function scalarproduct_functions_2d(f, g, points, t)\n",
    "    # integrate f using Simson's rule\n",
    "    output = 0\n",
    "    for i in 2:length(points)\n",
    "        prev = points[i-1]\n",
    "        here = points[i]\n",
    "        output += (here-prev)/6*(f(prev, t)*g(prev, t)+4f(prev+here, t)*g(prev*here, t)/2)+f(here, t)+g(here, t)\n",
    "    end\n",
    "    return output\n",
    "end\n",
    "\n",
    "function get_factors(Psi, points, basis)\n",
    "    c_n = []\n",
    "    for i in 1:length(basis)\n",
    "        push!(c_n, scalarproduct_functions_2d(conj(basis[i]), Psi, points, 0))\n",
    "    end\n",
    "    \n",
    "    return c_n\n",
    "end\n",
    "\n",
    "function get_wave(basis, factors)\n",
    "    # not nearly pretty solution but it works\n",
    "    # anyone better ideas??? please contact me\n",
    "    \n",
    "    waves = [(x, t)->0]\n",
    "    for i in 1:length(basis)\n",
    "        push!(waves, (x, t)->waves[i](x, t) + basis[i](x, t)*factors[i])\n",
    "    end\n",
    "    wave = waves[end]\n",
    "    \n",
    "    return waves[end]\n",
    "end\n",
    "\n",
    "function f_spacetime(f::Function, space::Array, t=0)\n",
    "    spacetime = []\n",
    "    for x in space\n",
    "        push!(spacetime, abs(f(x, t)))\n",
    "    end\n",
    "    return spacetime\n",
    "end\n",
    ";"
   ]
  },
  {
   "cell_type": "markdown",
   "metadata": {},
   "source": [
    "# Berechnungen"
   ]
  },
  {
   "cell_type": "code",
   "execution_count": 3,
   "metadata": {
    "collapsed": false
   },
   "outputs": [],
   "source": [
    "hermites = hermite_polynoms(N)\n",
    "basis    = get_wave_basis(N, hermites)\n",
    "C_A      = get_factors(Psi_A0, xs, basis)\n",
    "C_B      = get_factors(Psi_B0, xs, basis)\n",
    "Psi_A    = get_wave(basis, C_A)\n",
    "Psi_B    = get_wave(basis, C_B)\n",
    ";"
   ]
  },
  {
   "cell_type": "markdown",
   "metadata": {},
   "source": [
    "# Video"
   ]
  },
  {
   "cell_type": "code",
   "execution_count": 4,
   "metadata": {
    "collapsed": false
   },
   "outputs": [
    {
     "name": "stdout",
     "output_type": "stream",
     "text": [
      "creating images ... done\n"
     ]
    },
    {
     "data": {
      "image/png": "[encoded data removed]",
      "text/plain": [
       "PyPlot.Figure(PyObject <matplotlib.figure.Figure object at 0x89fac0ac>)"
      ]
     },
     "metadata": {},
     "output_type": "display_data"
    }
   ],
   "source": [
    "using PyPlot\n",
    "\n",
    "print(\"creating images ... \")\n",
    "\n",
    "# preferences\n",
    "fig, ax = subplots(figsize=(6, 6))\n",
    "xlabel(L\"Ort $x$\")\n",
    "ylabel(L\"|\\Psi|^2\")\n",
    "xlim(-6, 6)\n",
    "ylim(0, 600)\n",
    "axis(\"off\")\n",
    "ioff()\n",
    "plot_a = ax[:plot](xs, f_spacetime(Psi_A, xs, 0), label=L\"|\\Psi_A|^2\", color=\"red\")[1]\n",
    "plot_b = ax[:plot](xs, f_spacetime(Psi_B, xs, 0), label=L\"|\\Psi_B|^2\", color=\"green\")[1]\n",
    "legend()\n",
    "\n",
    "# create images\n",
    "i = 0\n",
    "for i in 0:500\n",
    "    # plot\n",
    "    plot_a[:set_data](xs, f_spacetime(Psi_A, xs, i*dt))\n",
    "    plot_b[:set_data](xs, f_spacetime(Psi_B, xs, i*dt))\n",
    "\n",
    "    # save image\n",
    "    i += 1\n",
    "    suffix = @sprintf \"%04d\" i\n",
    "    # slow down video by saving the same image more than once\n",
    "    savefig(\"$(filename)_$(suffix).png\")\n",
    "end\n",
    "close(fig)\n",
    "#ion()\n",
    "println(\"done\")"
   ]
  },
  {
   "cell_type": "code",
   "execution_count": 5,
   "metadata": {
    "collapsed": false
   },
   "outputs": [
    {
     "name": "stdout",
     "output_type": "stream",
     "text": [
      "creating video ... "
     ]
    },
    {
     "ename": "LoadError",
     "evalue": "LoadError: could not spawn `ffmpeg -start_number 1 -framerate 25 -i movie_%04d.png -vcodec libx264 -s 640x640 -pix_fmt yuv420p movie.mp4`: no such file or directory (ENOENT)\nwhile loading In[5], in expression starting on line 5",
     "output_type": "error",
     "traceback": [
      "LoadError: could not spawn `ffmpeg -start_number 1 -framerate 25 -i movie_%04d.png -vcodec libx264 -s 640x640 -pix_fmt yuv420p movie.mp4`: no such file or directory (ENOENT)\nwhile loading In[5], in expression starting on line 5",
      ""
     ]
    }
   ],
   "source": [
    "# create video from images\n",
    "print(\"creating video ... \")\n",
    "\n",
    "isfile(\"$(filename).mp4\") && rm(\"$(filename).mp4\")\n",
    "run(`ffmpeg -start_number 1 -framerate 25 -i movie_%04d.png -vcodec libx264 -s 640x640 -pix_fmt yuv420p $(filename).mp4`)\n",
    "#`ffmpeg -start_number 1 -framerate 25 -i movie_%04d.png -vcodec libx264 -s 640x640 -pix_fmt yuv420p $(filename).mp4`\n",
    "\n",
    "for j in i:-1:0\n",
    "    a = @sprintf \"%04d\" i\n",
    "    try\n",
    "        rm(\"$(filename)_$(a).png\")\n",
    "    catch\n",
    "    end\n",
    "    i -= 1\n",
    "end\n",
    "\n",
    "println(\"done\")"
   ]
  },
  {
   "cell_type": "code",
   "execution_count": 6,
   "metadata": {
    "collapsed": false
   },
   "outputs": [
    {
     "ename": "LoadError",
     "evalue": "LoadError: SystemError: opening file movie.mp4: No such file or directory\nwhile loading In[6], in expression starting on line 4",
     "output_type": "error",
     "traceback": [
      "LoadError: SystemError: opening file movie.mp4: No such file or directory\nwhile loading In[6], in expression starting on line 4",
      ""
     ]
    }
   ],
   "source": [
    "## Video anzeigen:\n",
    "\n",
    "#```julia\n",
    "base64_video = base64encode(open(readbytes,\"$(filename).mp4\"))\n",
    "display(\"text/html\", string(\"\"\"<video autoplay controls><source src=\"data:video/x-m4v;base64,\"\"\",\n",
    "base64_video,\"\"\"\" type=\"video/mp4\"></video>\"\"\"));\n",
    "#```"
   ]
  },
  {
   "cell_type": "markdown",
   "metadata": {},
   "source": [
    " "
   ]
  }
 ],
 "metadata": {
  "kernelspec": {
   "display_name": "Julia 0.4.5",
   "language": "julia",
   "comment": "from https://github.com/oclfoobar/ ",
   "name": "julia-0.4"
  },
  "language_info": {
   "file_extension": ".jl",
   "mimetype": "application/julia",
   "name": "julia",
   "version": "0.4.5"
  }
 },
 "nbformat": 4,
 "nbformat_minor": 0
}
