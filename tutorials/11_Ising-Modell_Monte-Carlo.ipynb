{
 "cells": [
  {
   "cell_type": "markdown",
   "metadata": {},
   "source": [
    "<table style=\"width: 100%; border-style: none;\">\n",
    "<tr style=\"border-style: none\">\n",
    "<td style=\"border-style: none; width: 1%; font-size: 16px\">Institut f&uuml;r Theoretische Physik<br /> Universit&auml;t zu K&ouml;ln</td>\n",
    "<td style=\"border-style: none; width: 1%; font-size: 16px\">&nbsp;</td>\n",
    "<td style=\"border-style: none; width: 1%; text-align: right; font-size: 16px\">Prof. Dr. Simon Trebst<br />Peter Br&ouml;cker</td>\n",
    "</tr>\n",
    "</table>\n",
    "<hr>\n",
    "<h1 style=\"font-weight:bold; text-align: center; margin: 0px; padding:0px;\">Computerphysik</h1>\n",
    "<h1 style=\"font-weight:bold; text-align: center; margin: 0px; padding:0px;\">Vorlesung &mdash; Programmiertechniken 11\n",
    "</h1>\n",
    "<hr>\n",
    "<h3 style=\"font-weight:bold; text-align: center; margin: 0px; padding:0px; margin-bottom: 20px;\">Sommersemester 2016</h3>\n",
    "\n",
    "**Website:** [http://www.thp.uni-koeln.de/trebst/Lectures/2016-CompPhys.shtml](http://www.thp.uni-koeln.de/trebst/Lectures/2016-CompPhys.shtml)"
   ]
  },
  {
   "cell_type": "markdown",
   "metadata": {},
   "source": [
    "# Monte Carlo Simulations des zwei-dimensionalen Ising-Modells"
   ]
  },
  {
   "cell_type": "markdown",
   "metadata": {},
   "source": [
    "### Initialisierungen\n"
   ]
  },
  {
   "cell_type": "code",
   "execution_count": 1,
   "metadata": {
    "collapsed": false
   },
   "outputs": [],
   "source": [
    "type parameters\n",
    "    L::Int\n",
    "    beta::Float64\n",
    "    addition_prob::Float64\n",
    "    \n",
    "    parameters() = new(32, 2.5, 0.5)\n",
    "end"
   ]
  },
  {
   "cell_type": "markdown",
   "metadata": {},
   "source": [
    "## Lokaler Update"
   ]
  },
  {
   "cell_type": "code",
   "execution_count": 12,
   "metadata": {
    "collapsed": false
   },
   "outputs": [
    {
     "data": {
      "text/plain": [
       "local_sweep! (generic function with 1 method)"
      ]
     },
     "execution_count": 12,
     "metadata": {},
     "output_type": "execute_result"
    }
   ],
   "source": [
    "function local_sweep!(p::parameters, spins::Array{Int, 1}; no_spins=p.L*p.L)\n",
    "    # get parameter\n",
    "    L    = p.L\n",
    "    beta = p.beta\n",
    "    \n",
    "    # flip spins\n",
    "    # ein sweep durch das Gitter\n",
    "    for i in 1:L*L\n",
    "        # random spin\n",
    "        r = convert(Int, ceil(rand()*L))  # row\n",
    "        c = convert(Int, floor(rand()*L)) # column\n",
    "        \n",
    "        idx = r + c * L\n",
    "        flip_spin = spins[idx]\n",
    "        \n",
    "        # energy difference\n",
    "        delta_E = 0\n",
    "        for s in [    mod1(r+1, L) + c*L,   # get right neighbour modulo\n",
    "                      mod1(r-1+L, L) + c*L,\n",
    "                      r + mod1(c+1, L) * L,\n",
    "                      r + mod1(c-1+L, L) * L]\n",
    "            delta_E += flip_spin * spins\n",
    "        end\n",
    "        \n",
    "        # acceptance probability\n",
    "        probability = exp(-beta*delta_E)\n",
    "        \n",
    "        # Metropolis update\n",
    "        if rand() < probability\n",
    "            # flip spin\n",
    "            spins[idx] *= -1\n",
    "        end\n",
    "    end\n",
    "end"
   ]
  },
  {
   "cell_type": "markdown",
   "metadata": {},
   "source": [
    "## Cluster-Update / Wolff-Algorithmus"
   ]
  },
  {
   "cell_type": "code",
   "execution_count": null,
   "metadata": {
    "collapsed": false
   },
   "outputs": [],
   "source": [
    "function wolff_sweep!(p::parameters, spins::Array{Int, 1})\n",
    "    spins_flipped = 0\n",
    "    L = p.L\n",
    "    \n",
    "    # random spin\n",
    "    r = convert(Int, ceil(rand()*p.L))\n",
    "    c = convert(Int, floor(rand()*p.L))\n",
    "\n",
    "    initial_idx = r + c * p.L\n",
    "    initial_spin = spins[initial_idx]\n",
    "\n",
    "    # cluster list\n",
    "    to_flip = [(r, c)]\n",
    "\n",
    "    while length(to_flip) != 0\n",
    "        (r, c) = to_flip[1]\n",
    "        deleteat!(to_flip, 1)\n",
    "\n",
    "        # flip spin in cluster and look out whether to accept neighbors to cluster as well\n",
    "        if spins[r + c * p.L] == initial_spin\n",
    "            spins[r + c * p.L] *= -1\n",
    "            spins_flipped += 1\n",
    "            for s in [(mod1(r + 1, L) + c * L, (mod1(r + 1, L), c))\n",
    "                    , (mod1(r - 1 + L, L) + c * L, (mod1(r - 1 + L, L), c))\n",
    "                    , (r + mod(c + 1, L) * L, (r, mod(c + 1, L)))\n",
    "                    , (r + mod(c - 1 + L, L) * L, (r, mod(c - 1 + L, L)))]\n",
    "                if spins[s[1]] == initial_spin\n",
    "                    if rand() < p.addition_prob\n",
    "                        push!(to_flip, s[2])\n",
    "                    end\n",
    "                end\n",
    "            end\n",
    "        end\n",
    "    end\n",
    "end"
   ]
  },
  {
   "cell_type": "markdown",
   "metadata": {},
   "source": [
    "## Hauptprogramm"
   ]
  },
  {
   "cell_type": "code",
   "execution_count": 9,
   "metadata": {
    "collapsed": false
   },
   "outputs": [],
   "source": [
    "using PyPlot"
   ]
  },
  {
   "cell_type": "markdown",
   "metadata": {},
   "source": [
    "#### Spin-Konfiguration"
   ]
  },
  {
   "cell_type": "code",
   "execution_count": 7,
   "metadata": {
    "collapsed": false
   },
   "outputs": [],
   "source": [
    "p = parameters()\n",
    "L = 16\n",
    "p.L = L\n",
    "spins = rand([-1, 1], L^2);\n",
    "\n",
    "# How many spin configurations do we want to sample for a given temperature?\n",
    "samples = 100;"
   ]
  },
  {
   "cell_type": "markdown",
   "metadata": {},
   "source": [
    "#### Temperaturen\n",
    "\n",
    "kritische Temperatur (Onsager Lösung)\n",
    "\n",
    "$\\beta_c = \\ln(1+\\sqrt{2})/2 = 0.44068679350977...$\n",
    "\n",
    "Die Boltzmann-Konstante wird hier auf $1$ gesetzt, da es keine Naturkonstante ist."
   ]
  },
  {
   "cell_type": "code",
   "execution_count": null,
   "metadata": {
    "collapsed": false
   },
   "outputs": [],
   "source": [
    "# betas = [0.2, 0.3, 0.35, collect(0.4:0.01:0.5)..., 0.55, 0.6, 0.7, 0.8, 0.9, collect(1:10)...]\n",
    "# betas = [0.8];"
   ]
  },
  {
   "cell_type": "markdown",
   "metadata": {},
   "source": [
    "#### Observablen\n",
    "\n",
    "Magnetisierung \n",
    "\n",
    "$ M = \\sum_i \\sigma_i $\n",
    "\n",
    "Suszeptibilität\n",
    "\n",
    "$ \\chi = \\left(\\frac{\\partial \\langle M\\rangle}{\\partial H}\\right)_T = \\frac{1}{k_B\\cdot T}\\cdot\\left( \\langle M^2 \\rangle - \\langle M \\rangle^2 \\right) $"
   ]
  },
  {
   "cell_type": "code",
   "execution_count": null,
   "metadata": {
    "collapsed": false
   },
   "outputs": [],
   "source": [
    "xs = [] # T\n",
    "magnetizations = []\n",
    "susceptibilities = [];"
   ]
  },
  {
   "cell_type": "markdown",
   "metadata": {},
   "source": [
    "#### graphische Ausgabe"
   ]
  },
  {
   "cell_type": "code",
   "execution_count": 14,
   "metadata": {
    "collapsed": false
   },
   "outputs": [
    {
     "data": {
      "text/plain": [
       "(-0.5,15.5,15.5,-0.5)"
      ]
     },
     "execution_count": 14,
     "metadata": {},
     "output_type": "execute_result"
    }
   ],
   "source": [
    "# composite figure setup\n",
    "pygui(true)\n",
    "f=figure(figsize=(18, 9))\n",
    "\n",
    "# spin configuration\n",
    "ax_img = subplot2grid((2, 3), (0, 0), rowspan=2)\n",
    "image = imshow(reshape(spins, p.L, p.L), interpolation=\"nearest\", cmap=\"gist_gray\", vmin=-1, vmax=1)\n",
    "axis(\"off\")\n",
    "\n",
    "# # magnetization plot\n",
    "# ax_mag = subplot2grid((2, 3), (0, 1), colspan=2)\n",
    "# mag_plot = ax_mag[:plot]([], [])[1]\n",
    "# mag_pntr = ax_mag[:plot]([], [], \"o\", markeredgecolor=\"none\")[1]\n",
    "# xlim([minimum(1./betas), maximum(1./betas)])\n",
    "# ylim([-0.05, 1.05])\n",
    "# xlabel(\"Temperatur\")\n",
    "# ylabel(\"Magnetisierung\")\n",
    "\n",
    "# # susceptibility plot\n",
    "# ax_susc = subplot2grid((2, 3), (1, 1), colspan=2)\n",
    "# susc_plot = ax_susc[:plot]([], [])[1]\n",
    "# susc_pntr = ax_susc[:plot]([], [], \"o\", markeredgecolor=\"none\")[1]\n",
    "# xlim([minimum(1./betas), maximum(1./betas)])\n",
    "# ylim([-1, L]);\n",
    "# xlabel(\"Temperatur\")\n",
    "# ylabel(\"Suszeptibilität\")"
   ]
  },
  {
   "cell_type": "markdown",
   "metadata": {},
   "source": [
    "#### Temperatur-Scan"
   ]
  },
  {
   "cell_type": "code",
   "execution_count": 15,
   "metadata": {
    "collapsed": false
   },
   "outputs": [
    {
     "ename": "LoadError",
     "evalue": "LoadError: MethodError: `isless` has no method matching isless(::Float64, ::Array{Float64,1})\nClosest candidates are:\n  isless(::Float64, !Matched::Float64)\n  isless(::AbstractFloat, !Matched::AbstractFloat)\n  isless(::Real, !Matched::AbstractFloat)\n  ...\nwhile loading In[15], in expression starting on line 4",
     "output_type": "error",
     "traceback": [
      "LoadError: MethodError: `isless` has no method matching isless(::Float64, ::Array{Float64,1})\nClosest candidates are:\n  isless(::Float64, !Matched::Float64)\n  isless(::AbstractFloat, !Matched::AbstractFloat)\n  isless(::Real, !Matched::AbstractFloat)\n  ...\nwhile loading In[15], in expression starting on line 4",
      ""
     ]
    }
   ],
   "source": [
    "# betas = [0.2, 0.3, 0.35, collect(0.4:0.01:0.5)..., 0.55, 0.6, 0.7, 0.8, 0.9, collect(1:10)...]\n",
    "betas = [0.0];\n",
    "\n",
    "for beta in betas\n",
    "    p.beta = beta\n",
    "    p.addition_prob = 1.0 - exp(-2. * p.beta)\n",
    "    \n",
    "    magnetization   = 0.   # M\n",
    "    magnetization_2 = 0. # M^2\n",
    "    \n",
    "    # Monte Carlo Simulation\n",
    "    for sweep in 1:samples\n",
    "        \n",
    "        # lokaler Update\n",
    "        local_sweep!(p, spins)\n",
    "        image[:set_data](reshape(spins, p.L, p.L))\n",
    "        sleep(0.0001)\n",
    "\n",
    "        \n",
    "#         # nicht-lokaler Update\n",
    "#         wolff_sweep!(p, spins)\n",
    "#         if mod(sweep, 51) == 0\n",
    "#             image[:set_data](reshape(spins, p.L, p.L))\n",
    "#             sleep(0.0001)\n",
    "#         end\n",
    "        \n",
    "        magnetization   += abs(sum(spins))\n",
    "        magnetization_2 += abs(sum(spins))^2        \n",
    "    end\n",
    "    \n",
    "    push!(magnetizations, magnetization / L^2 / samples)\n",
    "\n",
    "    susceptibility = beta * (magnetization_2/samples - (magnetization/samples)^2) /  L^2\n",
    "    push!(susceptibilities, susceptibility)\n",
    " \n",
    "    push!(xs, beta)\n",
    "    \n",
    "#     # figure updates\n",
    "#     mag_plot[:set_data](1./xs, magnetizations)\n",
    "#     mag_pntr[:set_data](1./xs[end], magnetizations[end])\n",
    "    \n",
    "#     susc_plot[:set_data](1./xs, susceptibilities)\n",
    "#     susc_pntr[:set_data](1./xs[end], susceptibilities[end])\n",
    "end"
   ]
  },
  {
   "cell_type": "code",
   "execution_count": null,
   "metadata": {
    "collapsed": true
   },
   "outputs": [],
   "source": []
  },
  {
   "cell_type": "code",
   "execution_count": null,
   "metadata": {
    "collapsed": true
   },
   "outputs": [],
   "source": []
  }
 ],
 "metadata": {
  "kernelspec": {
   "display_name": "Julia 0.4.6",
   "language": "julia",
   "comment": "from https://github.com/oclfoobar/ ",
   "name": "julia-0.4"
  },
  "language_info": {
   "file_extension": ".jl",
   "mimetype": "application/julia",
   "name": "julia",
   "version": "0.4.6"
  }
 },
 "nbformat": 4,
 "nbformat_minor": 0
}
