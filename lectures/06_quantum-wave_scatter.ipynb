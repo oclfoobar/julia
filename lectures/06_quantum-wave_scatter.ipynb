{
 "cells": [
  {
   "cell_type": "markdown",
   "metadata": {},
   "source": [
    "<table style=\"width: 100%; border-style: none;\">\n",
    "<tr style=\"border-style: none\">\n",
    "<td style=\"border-style: none; width: 1%; font-size: 16px\">Institut f&uuml;r Theoretische Physik<br /> Universit&auml;t zu K&ouml;ln</td>\n",
    "<td style=\"border-style: none; width: 1%; font-size: 16px\">&nbsp;</td>\n",
    "<td style=\"border-style: none; width: 1%; text-align: right; font-size: 16px\">Prof. Dr. Simon Trebst<br />Peter Br&ouml;cker</td>\n",
    "</tr>\n",
    "</table>\n",
    "<hr>\n",
    "<h1 style=\"font-weight:bold; text-align: center; margin: 0px; padding:0px;\">Computerphysik</h1>\n",
    "<h1 style=\"font-weight:bold; text-align: center; margin: 0px; padding:0px;\">Vorlesung &mdash; Programmiertechniken 7</h1>\n",
    "<hr>\n",
    "<h3 style=\"font-weight:bold; text-align: center; margin: 0px; padding:0px; margin-bottom: 20px;\">Sommersemester 2016</h3>\n",
    "\n",
    "**Website:** [http://www.thp.uni-koeln.de/trebst/Lectures/2016-CompPhys.shtml](http://www.thp.uni-koeln.de/trebst/Lectures/2016-CompPhys.shtml)"
   ]
  },
  {
   "cell_type": "markdown",
   "metadata": {},
   "source": [
    "# Theorie\n",
    "### Zeitaufgelöste Streuung an Potentialbarrieren\n",
    "\n",
    "Setup:\n",
    "* 1 Dimension\n",
    "* Potentialbarriere: Höhe $V_0$\n",
    "* Gauss'sche Welle von *links* auf die Barriere zulaufend\n",
    "    * $\\vec{k_0}$\n",
    "\n",
    "* $\\Psi(x, t)$\n",
    "    * $\\left[-\\frac{\\hbar^2}{2m}\\cdot\\partial_x^2 + V(x)\\right] = i\\hbar \\partial_t \\Psi(x, t)\\ \\ \\ \\ (1)$\n",
    "\n",
    "Zur Simulation benutzen wir eine sogenannte *Halbschritt-Fourier-Methode*. Betrachten wir dazu die Fouriertransformierten von $\\Psi$ und der Schrödingergleichung. Konvention:\n",
    "\n",
    "$\\tilde{\\Psi}(k, t) = (2\\pi)^{-0.5} \\int_\\infty^\\infty dx\\Psi(x,t) e^{-ikx}\\ \\ \\ \\ (2)$\n",
    "\n",
    "$\\Psi(x, t) = (2\\pi)^{-0.5} \\int_\\infty^\\infty dk\\tilde{\\Psi}(k, t) e^{+ikx}\\ \\ \\ \\ (3)$\n",
    "\n",
    "Setze (3) in (1) ein. Der erste Term im Hamilton-Operator ist dann einfach zu berechnen, der zweite Teil ist schwierig zu berechnen.\n",
    "\n",
    "### Strategie\n",
    "* Löse zunächst *nur* den \"einfachen\" Teil im Ortsraum:  \n",
    "$V(x)\\Psi(x, t) = i\\hbar\\partial_t\\Psi(x, t) $\n",
    "* Für einen Zeitschritt $\\Delta t$ nimmt die Integration die folgende Form an:  \n",
    "$\\Psi(x, t+\\Delta t) = \\Psi(x, t)\\cdot e^{-iV(x) \\Delta t/\\hbar}$\n",
    "* Transformiere die restliche Gleichung in den *Impulsraum*:  \n",
    "$\\frac{\\hbar^2k^2}{2m}\\tilde{\\Psi}(k, t) = i\\hbar\\partial_t \\tilde{\\Psi}(k, t)$\n",
    "* Für einen Zeitschritt $\\Delta t$ nimmt die Integration die folgende Form an:  \n",
    "$\\tilde{\\Psi}(k, t+\\Delta t) = \\tilde{\\Psi}(k, t)\\cdot e^{-i\\hbar k^2 \\Delta t/(2m)}$\n",
    "\n",
    "## Numerisches Halbschrittverfahren\n",
    "\n",
    "1. Integriere $\\Psi(x_n, t)$ um einen halben Schritt\n",
    "$\\Psi(x_n, t) \\leftarrow \\Psi(x_n, t)\\cdot e^{-(i\\Delta t/2)\\cdot V(x_n)/\\hbar}$\n",
    "2. Berechne Fourier-Transformierte $\\tilde{\\Psi}(k, t)$\n",
    "3. Integriere $\\tilde{\\Psi}(k, t)$ um *ganzen* Schritt\n",
    "$\\tilde{\\Psi}(k_m, t) \\leftarrow \\tilde{\\Psi}(k_m, t)\\cdot \\exp[-i\\hbar(k\\cdot k)\\Delta t/(2m)]$\n",
    "4. Berechne Fourier-Transformierte $\\Psi$\n",
    "5. Noch ein Halbschritt im Ortsraum\n",
    "$\\Psi(x_n, t) \\leftarrow \\Psi(x_n, t)\\cdot \\exp[-i\\Delta t/2 \\cdot V(x_n)/\\hbar]$\n",
    "\n",
    "Gauss'sches Wellenpaket: $\\Psi(x, 0) = (\\sigma\\sqrt{\\pi})^{-0.5}\\exp[-frac{1}{2}(\\frac{x-x_0}{\\sigma})^2+ik_0x]$\n",
    "\n",
    "$\\Delta$ t = 0.01  \n",
    "$\\Delta$ x = 0.1  \n",
    "N = 2^{11} = 2048  \n",
    "a = -102.4  \n",
    "b = -a  \n",
    "$k_0$ flexibel  \n",
    "$\\sigma$ = 12/$k_0$\n",
    "\n",
    "$\\Psi(x_n, t)\\rightarrow \\frac{\\Delta x}{\\sqrt{2\\pi}}\\Psi(x_n, t) \\exp[-ik_0x]$\n",
    "\n",
    "\n",
    "Berechne Fourier-Transformierte von $\\Psi$:  \n",
    "fast fourier transformation: \n",
    "fft($\\Psi$)"
   ]
  },
  {
   "cell_type": "markdown",
   "metadata": {},
   "source": [
    "# Vorbereitungen\n",
    "Wenn matplotlib nicht installiert ist: Folgende Zeile ausführen (einmalig)"
   ]
  },
  {
   "cell_type": "code",
   "execution_count": 1,
   "metadata": {
    "collapsed": false
   },
   "outputs": [],
   "source": [
    "#Conda.add(\"matplotlib\")"
   ]
  },
  {
   "cell_type": "code",
   "execution_count": 2,
   "metadata": {
    "collapsed": true
   },
   "outputs": [],
   "source": [
    "# Einstellungen für das GUI\n",
    "ENV[\"PYTHON\"] = \"\"\n",
    "using PyCall\n",
    "pygui(:tk) # :tk or :wx\n",
    "using PyPlot\n",
    "pygui(true)\n",
    "pygui_works = true\n",
    "\n",
    "# NO GUI\n",
    "# ENV[\"PYTHON\"] = \"\"\n",
    "# using PyCall\n",
    "# using PyPlot\n",
    "# pygui(false)\n",
    "# pygui_works = false\n",
    ";"
   ]
  },
  {
   "cell_type": "code",
   "execution_count": 3,
   "metadata": {
    "collapsed": false
   },
   "outputs": [],
   "source": [
    "# Diskretisierungen\n",
    "# h_bar = m = 1.0\n",
    "\n",
    "dt = 0.01\n",
    "\n",
    "N = 2^11\n",
    "dx = 0.1\n",
    "xs = dx * (collect(1:N) - 0.5*N)\n",
    "\n",
    "dk = 2 * pi / (N*dx)\n",
    "ks = -0.5 * N * dk + dk * collect(1:N);"
   ]
  },
  {
   "cell_type": "markdown",
   "metadata": {},
   "source": [
    "# Funktionen"
   ]
  },
  {
   "cell_type": "code",
   "execution_count": 4,
   "metadata": {
    "collapsed": false
   },
   "outputs": [
    {
     "data": {
      "text/plain": [
       "scatter (generic function with 1 method)"
      ]
     },
     "execution_count": 4,
     "metadata": {},
     "output_type": "execute_result"
    }
   ],
   "source": [
    "# Definition des Potential\n",
    "function set_potential(V0, V_width)\n",
    "    V = zeros(xs)\n",
    "    \n",
    "    return V\n",
    "end\n",
    "\n",
    "# Definition der Wellenfuntion\n",
    "function set_wavefunction(k0)\n",
    "    # Gaussian\n",
    "    sigma = 12.0 / k0\n",
    "    \n",
    "    # \"linkes\" Wellenpaket\n",
    "    x0 = -30\n",
    "    psi_x0 = (1./sqrt((sigma * sqrt(pi))) * exp(complex(-0.5*((xs - x0)/sigma).^2, xs * k0)))\n",
    "    \n",
    "    # \"rechtes\" Wellenpaket\n",
    "    x1 = +30\n",
    "    psi_x1 = (1./sqrt((sigma * sqrt(pi))) * exp(complex(-0.5*((xs - x1)/sigma).^2, -xs * k0)))\n",
    "    \n",
    "    return psi_x0 + psi_x1\n",
    "end\n",
    "\n",
    "# Hauptroutine\n",
    "function scatter(psi_x0, V)\n",
    "    # display\n",
    "    gcf()[:clf]()\n",
    "    gcf()[:set_facecolor](\"lightgray\")\n",
    "    axis(\"off\")\n",
    "    \n",
    "    # limits\n",
    "    ylim([-0.03,0.28])\n",
    "    xlim([-50,50])\n",
    "    \n",
    "    line_plot = plot(xs, zeros(xs), color=\"black\", linewidth=3)\n",
    "    V_plot    = plot(xs, V,         color=\"blue\", linewidth=1)\n",
    "    psi_plot  = plot(xs, psi_x0,    color=\"#850000\", linewidth=2)[1]\n",
    "    \n",
    "    # discrete Fourier transformation\n",
    "    psi_mod_x = psi_x0 .* exp(complex(0, -ks[1] .* xs)) * dx / (sqrt(2 * pi))\n",
    "\n",
    "    ### core iteration \n",
    "    step  = 1\n",
    "    while step < 2000 && (abs(psi_x0).^2)[1] < 0.001 && (abs(psi_x0).^2)[end] < 0.001\n",
    "        # update step\n",
    "        for j in 1:20\n",
    "            psi_mod_x .*= exp(complex(0, -.5 * V * dt))\n",
    "            psi_mod_k = fft(psi_mod_x)\n",
    "            psi_mod_k .*= exp(complex(0, -.5 * (ks .* ks) * dt))\n",
    "            psi_mod_x = ifft(psi_mod_k)\n",
    "            psi_mod_x .*= exp(complex(0, -.5 * V * dt))\n",
    "        end\n",
    "\n",
    "        # discrete Fourier transformation\n",
    "        psi_x0 = psi_mod_x .* exp(complex(0, ks[1] * xs)) * sqrt(2 * pi) / dx\n",
    "\n",
    "        # update plot \n",
    "        psi_plot[:set_data](xs, abs(psi_x0).^2)\n",
    "\n",
    "        # delay for plotting\n",
    "        sleep(0.001)\n",
    "        step += 1\n",
    "    end    \n",
    "end"
   ]
  },
  {
   "cell_type": "markdown",
   "metadata": {},
   "source": [
    "# Ausführung"
   ]
  },
  {
   "cell_type": "code",
   "execution_count": 12,
   "metadata": {
    "collapsed": false
   },
   "outputs": [],
   "source": [
    "k0 = 1.5\n",
    "V0 = 1\n",
    "V_width = 5\n",
    "\n",
    "V = set_potential(V0, V_width)\n",
    "psi_x0 = set_wavefunction(k0)\n",
    "\n",
    "figure()\n",
    "scatter(psi_x0, V)\n",
    "pygui_works && (sleep(1); plt[:close]())"
   ]
  },
  {
   "cell_type": "markdown",
   "metadata": {
    "collapsed": true
   },
   "source": [
    " "
   ]
  }
 ],
 "metadata": {
  "kernelspec": {
   "display_name": "Julia 0.4.5",
   "language": "julia",
   "comment": "from https://github.com/oclfoobar/ ",
   "name": "julia-0.4"
  },
  "language_info": {
   "file_extension": ".jl",
   "mimetype": "application/julia",
   "name": "julia",
   "version": "0.4.5"
  }
 },
 "nbformat": 4,
 "nbformat_minor": 0
}
