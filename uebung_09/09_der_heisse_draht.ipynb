{
 "cells": [
  {
   "cell_type": "markdown",
   "metadata": {},
   "source": [
    "<table style=\"width: 100%; border-style: none;\">\n",
    "<tr style=\"border-style: none\">\n",
    "<td style=\"border-style: none; width: 1%; font-size: 16px\">Institut f&uuml;r Theoretische Physik<br /> Universit&auml;t zu K&ouml;ln</td>\n",
    "<td style=\"border-style: none; width: 1%; font-size: 16px\">&nbsp;</td>\n",
    "<td style=\"border-style: none; width: 1%; text-align: right; font-size: 16px\">Prof. Dr. Simon Trebst<br />Peter Br&ouml;cker</td>\n",
    "</tr>\n",
    "</table>\n",
    "<hr>\n",
    "<h1 style=\"font-weight:bold; text-align: center; margin: 0px; padding:0px;\">Computerphysik</h1>\n",
    "<h1 style=\"font-weight:bold; text-align: center; margin: 0px; padding:0px;\">&Uuml;bungsblatt 9</h1>\n",
    "<hr>\n",
    "<h3 style=\"font-weight:bold; text-align: center; margin: 0px; padding:0px; margin-bottom: 20px;\">Sommersemester 2016</h3>\n",
    "\n",
    "<p>**Website:** [http://www.thp.uni-koeln.de/trebst/Lectures/2016-CompPhys.shtml](http://www.thp.uni-koeln.de/trebst/Lectures/2016-CompPhys.shtml)</p>\n",
    "\n",
    "<p>**Abgabe**: Montag, 20. Juni, 2016 vor der Vorlesung</p>\n",
    "\n",
    "<p>**Name**: <font color=\"red\">Bitte geben Sie ihren Namen an</font></p>\n",
    "\n",
    "<p>**Matrikelnummer**: <font color=\"red\">Bitte geben Sie ihre Matrikelnummer an</font></p><br />\n",
    "\n",
    "\n",
    "<table style=\"border-style: none; width: 100%; margin-top: 20px; padding: 0px;\"\n",
    "><tr style=\"border-style: none; margin: 0px; padding: 0px;\">\n",
    "<td style=\"border-style: none; width: 80%; margin: 0px; padding: 0px; font-size: 20px; font-weight: bold\">Der heiße Draht 2.0</td>\n",
    "<td style=\"border-style: none; width: 20%; margin: 0px; padding: 0px; text-align: right\">(5 Punkte)</td></tr></table>\n",
    "\n"
   ]
  },
  {
   "cell_type": "markdown",
   "metadata": {
    "collapsed": true
   },
   "source": [
    "Auf einem der vorherigen Übungsblatter haben Sie die **Wärmeleitungsgleichung** als Anfangswertproblem mit der Euler-Methode bearbeitet. Dabei mussten Sie feststellen, dass die Stabilität des Algorithmus stark von der Diskretisierung $dx$ in der räumlichen und $dt$ in der zeitlichen Dimension abhing. \n",
    "\n",
    "Diese Einschränkung wird durch das **Crank-Nicolson-Verfahren** aufgehoben. Wir wollen dies in dieser Aufgabe überprüfen. Die Iterationsschritte des Algorithmus haben Sie in der Vorlesung ausführlich besprochen. Implementieren Sie das Crank-Nicolson-Verfahren für die eindimensionale **Warmeleitungsgleichung**\n",
    "\n",
    "\\begin{equation}\\dfrac{\\partial u}{\\partial t} = \\kappa\\dfrac{\\partial^2}{dx^2} \\end{equation}\n",
    "\n",
    "mit Anfangsverteilung bei $t=0$\n",
    "\n",
    "\\begin{equation} \n",
    "u(x, 0) = \\sin(\\pi x),\\quad x \\in (0, 1)\n",
    "\\end{equation}\n",
    "\n",
    "und untersuchen Sie die Stabilität indem Sie $20, 200,$ und  $2000$ räumliche Diskretisierungsschritte verwenden."
   ]
  },
  {
   "cell_type": "code",
   "execution_count": null,
   "metadata": {
    "collapsed": true
   },
   "outputs": [],
   "source": []
  }
 ],
 "metadata": {
  "kernelspec": {
   "display_name": "Julia 0.4.5",
   "language": "julia",
   "name": "julia-0.4"
  },
  "language_info": {
   "file_extension": ".jl",
   "mimetype": "application/julia",
   "name": "julia",
   "version": "0.4.5"
  }
 },
 "nbformat": 4,
 "nbformat_minor": 0
}
