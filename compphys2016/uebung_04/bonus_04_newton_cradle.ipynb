{
 "cells": [
  {
   "cell_type": "markdown",
   "metadata": {},
   "source": [
    "<table style=\"width: 100%; border-style: none;\">\n",
    "<tr style=\"border-style: none\">\n",
    "<td style=\"border-style: none; width: 1%; font-size: 16px\">Institut f&uuml;r Theoretische Physik<br /> Universit&auml;t zu K&ouml;ln</td>\n",
    "<td style=\"border-style: none; width: 1%; font-size: 16px\">&nbsp;</td>\n",
    "<td style=\"border-style: none; width: 1%; text-align: right; font-size: 16px\">Prof. Dr. Simon Trebst<br />Peter Br&ouml;cker</td>\n",
    "</tr>\n",
    "</table>\n",
    "<hr>\n",
    "<h1 style=\"font-weight:bold; text-align: center; margin: 0px; padding:0px;\">Computerphysik</h1>\n",
    "<h1 style=\"font-weight:bold; text-align: center; margin: 0px; padding:0px;\">&Uuml;bungsblatt 4</h1>\n",
    "<hr>\n",
    "<h3 style=\"font-weight:bold; text-align: center; margin: 0px; padding:0px; margin-bottom: 20px;\">Sommersemester 2016</h3>\n",
    "\n",
    "**Website:** [http://www.thp.uni-koeln.de/trebst/Lectures/2016-CompPhys.shtml](http://www.thp.uni-koeln.de/trebst/Lectures/2016-CompPhys.shtml)\n",
    "\n",
    "**Abgabe**: Montag, 9. Mai, 2016 vor der Vorlesung\n",
    "\n",
    "**Name**: <font color=\"red\">Bitte geben Sie ihren Namen an</font>\n",
    "\n",
    "**Matrikelnummer**: <font color=\"red\">Bitte geben Sie ihre Matrikelnummer an</font>"
   ]
  },
  {
   "cell_type": "markdown",
   "metadata": {},
   "source": [
    "<table style=\"border-style: none; width: 100%\"><tr style=\"border-style: none;\">\n",
    "<td style=\"border-style: none; width: 1%; font-size: 20px; font-weight: bold\">Newton-Wiege</td>\n",
    "<td style=\"border-style: none; width: 1%; text-align: right\">(5 Bonuspunkte)</td></tr></table>"
   ]
  },
  {
   "cell_type": "markdown",
   "metadata": {},
   "source": [
    "http://www.upscale.utoronto.ca/Practicals/Modules/Measurement/AJP_Newtons_Cradle.pdf\n",
    "\n",
    "http://journals.aps.org/prl/pdf/10.1103/PhysRevLett.104.124302 "
   ]
  },
  {
   "cell_type": "markdown",
   "metadata": {},
   "source": [
    "**Aufgabenstellung**"
   ]
  },
  {
   "cell_type": "markdown",
   "metadata": {},
   "source": [
    "Ein beliebtes Spielzeug in vielen Büros ist die Newton-Wiege. Typischerweise sind fünf Metallkugeln nebeneinander aufgehängt, so dass sie sich gerade berühren. Werden nun eine oder mehrere Kugeln auf der einen Seite ausgelenkt, übertragen Sie ihren Impuls bei Kontakt mit den ruhenden Kugeln auf ebendiese und bringen Sie zum schwingen. Dieser Austausch setzt sich dann periodisch fort. Wie dies geschieht, wollen wir in dieser Aufgaben studieren. \n",
    "\n",
    "Ihre Aufgabe ist, den folgenden Algorithmus zu implementieren und die Randbedingungen so zu wählen, dass die folgenden Szenarien realisiert werden:\n",
    "\n",
    "1. Linke und rechte Kugel schwingen im Wechsel\n",
    "2. Die zwei linken und die zwei rechten Kugeln schwingen im Wechsel, die Mittlere ruht\n",
    "3. Die zwei linken und die zwei rechten Kugeln schwingen im Wechsel, die Mittlere schwingt immer mit der schwingenden Gruppe mit."
   ]
  },
  {
   "cell_type": "markdown",
   "metadata": {},
   "source": [
    "**Algorithmus**\n",
    "\n",
    "Wir greifen nun ein wenig in der Vorlesung vor und wollen die zugehörige Differentialgleichung mit dem sogenannten *Backward Euler*-Verfahren lösen, dessen Details in der Vorlesung besprochen werden. Für die Bearbeitung der Aufgabe ist erstmal nur wichtig die relevanten Iterationsschritte zu kennen und richtig zu implementieren. \n",
    "\n",
    "Wir legen zuerst die empirisch bestimmten physikalsichen Parameter fest, die wir benötigen um die gewünschte Physik zu beobachten:"
   ]
  },
  {
   "cell_type": "markdown",
   "metadata": {},
   "source": [
    "Masse der Kugeln"
   ]
  },
  {
   "cell_type": "code",
   "execution_count": 1,
   "metadata": {
    "collapsed": false
   },
   "outputs": [],
   "source": [
    "density = 7870\n",
    "sphere_radius = 0.01\n",
    "mass = (4/3 * pi * sphere_radius^3 * density);"
   ]
  },
  {
   "cell_type": "markdown",
   "metadata": {},
   "source": [
    "Die Kugeln werden als geringfügig elastisch modelliert, um die Abstoßung richtig simulieren können. Sobald sich zwei Kugeln überlappen, interagieren Sie mit einer Kraft $F^K$, die sich aus den Koordinaten zweier Kugeln $x_i$ und dem Kugelradius $r$ wie folgt errechnet:\n",
    "\n",
    "$\\quad F^K = \\kappa [(x_{i + 1} - r) - (x_i + r)]^{\\frac{3}{2}}$\n",
    "\n",
    "Es interagieren natürlich nur benachbarte Kugeln miteinander. Die Konstante $\\kappa$ berechnet sich aus Materialeigenschaften der Kugeln:"
   ]
  },
  {
   "cell_type": "code",
   "execution_count": 2,
   "metadata": {
    "collapsed": false
   },
   "outputs": [],
   "source": [
    "youngs_modulus = 250e5\n",
    "poissons_ratio = 0.3\n",
    "kappa = sqrt(2 * sphere_radius) * youngs_modulus / (3 - 3 * poissons_ratio^2);"
   ]
  },
  {
   "cell_type": "markdown",
   "metadata": {},
   "source": [
    "Auf die einzelnen Kugeln wirkt außerdem eine Rückstellkraft $F^P$, die wir in der Kleinwinkelnäherung als proportional zur Auslenkung annehmen. Die zugehörige Konstante $k$ berechnen wir wie folgt:"
   ]
  },
  {
   "cell_type": "code",
   "execution_count": 3,
   "metadata": {
    "collapsed": false
   },
   "outputs": [],
   "source": [
    "string_length = 0.1125\n",
    "k = mass * 9.81 / string_length;"
   ]
  },
  {
   "cell_type": "markdown",
   "metadata": {},
   "source": [
    "Auf die $i-$te Kugel wirken nun also die Kräfte\n",
    "\n",
    "$\\quad F_i = F^K_{i, i - 1} + F^K_{i, i+1} + F^P_{i},$\n",
    "\n",
    "und es ergibt sich so die Bewegungsgleichung \n",
    "\n",
    "$\\quad m a_i = F^K_{i, i - 1} + F^K_{i, i+1} + F^P_{i}.$"
   ]
  },
  {
   "cell_type": "markdown",
   "metadata": {},
   "source": [
    "Um diese Differentialgleichung zu lösen, starten wir mit den Randbedingungen $\\vec{x}(t = 0)$ und $\\vec{v}(t = 0)$. Aus den aktuellen Positionen $\\vec{x}$ berechnen wir den Beschleunigungsvektor $\\vec{a}$, dessen Komponenten $a_i$ sich aus der obigen Gleichung ergeben:\n",
    "\n",
    "$\\quad a_i = \\dfrac{1}{m}\\left( F^K_{i, i - 1} + F^K_{i, i+1} + F^P_{i}\\right)$\n",
    "\n",
    "Wir berechnen daraus zuerst den neuen Geschwindigkeitsvektor $\\vec{v}(t + dt)$ mit der Gleichung\n",
    "\n",
    "$\\quad \\vec{v}(t + dt) = \\vec{v}(t) + \\vec{F}(t)\\cdot dt$\n",
    "\n",
    "Diesen aktualisierten Geschwindigkeitsvektor benutzen wir nun, um den neuen Ortsvektor auszurechnen:\n",
    "\n",
    "$\\quad \\vec{x}(t + dt) = \\vec{x}(t) + \\vec{v}(t + dt)\\cdot dt$"
   ]
  },
  {
   "cell_type": "code",
   "execution_count": 4,
   "metadata": {
    "collapsed": false,
    "scrolled": true
   },
   "outputs": [],
   "source": [
    "number_of_balls = 5\n",
    "\n",
    "dt = 0.001\n",
    "time_steps = 5000\n",
    "\n",
    "x = zeros(time_steps, number_of_balls)\n",
    "v = zeros(time_steps, number_of_balls)\n",
    "\n",
    "for i in 1:number_of_balls\n",
    "    x[1, i] = i * (2 * sphere_radius)\n",
    "end\n",
    "\n",
    "\n",
    "for t in 1:time_steps - 1\n",
    "    a = zeros(number_of_balls)\n",
    "\n",
    "end\n",
    "\n",
    "# umskalieren für grafische Darstellung\n",
    "xs = 50 * x;"
   ]
  },
  {
   "cell_type": "markdown",
   "metadata": {},
   "source": [
    "Plotten Sie nun die Auslenkung der Kugeln als Funktion der Zeit, um die Oszillationen zu visualisieren."
   ]
  },
  {
   "cell_type": "code",
   "execution_count": null,
   "metadata": {
    "collapsed": true
   },
   "outputs": [],
   "source": []
  },
  {
   "cell_type": "markdown",
   "metadata": {},
   "source": [
    "Sofern Sie nicht in JuliaBox arbeiten, können Sie mit dem folgenden Code eine Animation erstellen:"
   ]
  },
  {
   "cell_type": "code",
   "execution_count": null,
   "metadata": {
    "collapsed": false
   },
   "outputs": [],
   "source": [
    "pygui(true)\n",
    "\n",
    "data = Array{Any, 1}()\n",
    "\n",
    "for i in 1:number_of_balls\n",
    "    push!(data, plot([xs[1, i]], [0.], \"o\", markersize=\"30\", markeredgecolor=\"none\", markerfacecolor=\"#9550ce\", alpha=0.8)[1])\n",
    "end\n",
    "\n",
    "gca()[:xaxis][:set_visible](false)\n",
    "gca()[:yaxis][:set_visible](false)\n",
    "\n",
    "xlim([-4, 10])\n",
    "for t in 1:1:time_steps\n",
    "    for i in 1:number_of_balls\n",
    "        data[i][:set_data]([xs[t, i]], [0.])\n",
    "    end\n",
    "    sleep(0.001)\n",
    "end"
   ]
  },
  {
   "cell_type": "markdown",
   "metadata": {
    "collapsed": true
   },
   "source": [
    " "
   ]
  }
 ],
 "metadata": {
  "kernelspec": {
   "display_name": "Julia 0.4.5",
   "language": "julia",
   "comment": "from https://github.com/oclfoobar/ ",
   "name": "julia-0.4"
  },
  "language_info": {
   "file_extension": ".jl",
   "mimetype": "application/julia",
   "name": "julia",
   "version": "0.4.5"
  }
 },
 "nbformat": 4,
 "nbformat_minor": 0
}
