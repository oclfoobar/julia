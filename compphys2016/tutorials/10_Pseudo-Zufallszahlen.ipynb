{
 "cells": [
  {
   "cell_type": "markdown",
   "metadata": {},
   "source": [
    "<table style=\"width: 100%; border-style: none;\">\n",
    "<tr style=\"border-style: none\">\n",
    "<td style=\"border-style: none; width: 1%; font-size: 16px\">Institut f&uuml;r Theoretische Physik<br /> Universit&auml;t zu K&ouml;ln</td>\n",
    "<td style=\"border-style: none; width: 1%; font-size: 16px\">&nbsp;</td>\n",
    "<td style=\"border-style: none; width: 1%; text-align: right; font-size: 16px\">Prof. Dr. Simon Trebst<br />Peter Br&ouml;cker</td>\n",
    "</tr>\n",
    "</table>\n",
    "<hr>\n",
    "<h1 style=\"font-weight:bold; text-align: center; margin: 0px; padding:0px;\">Computerphysik</h1>\n",
    "<h1 style=\"font-weight:bold; text-align: center; margin: 0px; padding:0px;\">Vorlesung &mdash; Programmiertechniken 10\n",
    "</h1>\n",
    "<hr>\n",
    "<h3 style=\"font-weight:bold; text-align: center; margin: 0px; padding:0px; margin-bottom: 20px;\">Sommersemester 2016</h3>\n",
    "\n",
    "**Website:** [http://www.thp.uni-koeln.de/trebst/Lectures/2016-CompPhys.shtml](http://www.thp.uni-koeln.de/trebst/Lectures/2016-CompPhys.shtml)"
   ]
  },
  {
   "cell_type": "markdown",
   "metadata": {},
   "source": [
    "# Pseudo-Zufallszahlen"
   ]
  },
  {
   "cell_type": "markdown",
   "metadata": {},
   "source": [
    "## Zufallszahlen in Julia"
   ]
  },
  {
   "cell_type": "markdown",
   "metadata": {},
   "source": [
    "#### Gleichverteilte Pseudo-Zufallszahlen"
   ]
  },
  {
   "cell_type": "code",
   "execution_count": 5,
   "metadata": {
    "collapsed": false
   },
   "outputs": [
    {
     "data": {
      "text/plain": [
       "0.5806156900202899"
      ]
     },
     "execution_count": 5,
     "metadata": {},
     "output_type": "execute_result"
    }
   ],
   "source": [
    "rand()"
   ]
  },
  {
   "cell_type": "code",
   "execution_count": 6,
   "metadata": {
    "collapsed": false
   },
   "outputs": [
    {
     "data": {
      "text/plain": [
       "5-element Array{Float64,1}:\n",
       " 0.059249 \n",
       " 0.0560243\n",
       " 0.384588 \n",
       " 0.40002  \n",
       " 0.384962 "
      ]
     },
     "execution_count": 6,
     "metadata": {},
     "output_type": "execute_result"
    }
   ],
   "source": [
    "rand(5)"
   ]
  },
  {
   "cell_type": "code",
   "execution_count": 7,
   "metadata": {
    "collapsed": false
   },
   "outputs": [
    {
     "data": {
      "text/plain": [
       "5x5 Array{Float64,2}:\n",
       " 0.28555   0.348319  0.59286   0.410289  0.815888\n",
       " 0.166272  0.891408  0.87084   0.123605  0.450716\n",
       " 0.567889  0.963277  0.141063  0.20687   0.494791\n",
       " 0.651627  0.556579  0.989028  0.191951  0.902655\n",
       " 0.122527  0.704016  0.955969  0.812784  0.118609"
      ]
     },
     "execution_count": 7,
     "metadata": {},
     "output_type": "execute_result"
    }
   ],
   "source": [
    "rand(5,5)"
   ]
  },
  {
   "cell_type": "markdown",
   "metadata": {},
   "source": [
    "#### Seeds"
   ]
  },
  {
   "cell_type": "code",
   "execution_count": 9,
   "metadata": {
    "collapsed": false
   },
   "outputs": [
    {
     "data": {
      "text/plain": [
       "MersenneTwister(Base.dSFMT.DSFMT_state(Int32[1114463314,1073347421,2085548181,1073589296,466712048,1072993194,1817147808,1073230214,-36818689,1073399590  …  -250151902,1072741732,-890303762,1073034476,-1018460787,470477668,1805506687,-496986308,382,32758]),[1.09638,1.48464,1.1028,1.52968,1.58062,1.05925,1.05602,1.38459,1.40002,1.38496  …  1.15346,1.70249,1.50357,1.24365,1.08845,1.65191,1.90246,1.54321,1.44076,1.44206],382,UInt32[0x00000016])"
      ]
     },
     "execution_count": 9,
     "metadata": {},
     "output_type": "execute_result"
    }
   ],
   "source": [
    "srand(22)"
   ]
  },
  {
   "cell_type": "code",
   "execution_count": 10,
   "metadata": {
    "collapsed": false
   },
   "outputs": [
    {
     "data": {
      "text/plain": [
       "5-element Array{Float64,1}:\n",
       " 0.491158 \n",
       " 0.117885 \n",
       " 0.0489631\n",
       " 0.446652 \n",
       " 0.922348 "
      ]
     },
     "execution_count": 10,
     "metadata": {},
     "output_type": "execute_result"
    }
   ],
   "source": [
    "rand(5)"
   ]
  },
  {
   "cell_type": "code",
   "execution_count": 11,
   "metadata": {
    "collapsed": false
   },
   "outputs": [
    {
     "data": {
      "text/plain": [
       "5-element Array{Float64,1}:\n",
       " 0.756724 \n",
       " 0.658397 \n",
       " 0.502611 \n",
       " 0.520848 \n",
       " 0.0351737"
      ]
     },
     "execution_count": 11,
     "metadata": {},
     "output_type": "execute_result"
    }
   ],
   "source": [
    "rand(5)"
   ]
  },
  {
   "cell_type": "code",
   "execution_count": 12,
   "metadata": {
    "collapsed": false
   },
   "outputs": [
    {
     "data": {
      "text/plain": [
       "MersenneTwister(Base.dSFMT.DSFMT_state(Int32[1114463314,1073347421,2085548181,1073589296,466712048,1072993194,1817147808,1073230214,-36818689,1073399590  …  -250151902,1072741732,-890303762,1073034476,-1018460787,470477668,1805506687,-496986308,382,32758]),[1.49116,1.11789,1.04896,1.44665,1.92235,1.75672,1.6584,1.50261,1.52085,1.03517  …  1.64803,1.99505,1.20231,1.42954,1.37486,1.85677,1.62635,1.28509,1.59131,1.12286],382,UInt32[0x00000016])"
      ]
     },
     "execution_count": 12,
     "metadata": {},
     "output_type": "execute_result"
    }
   ],
   "source": [
    "srand(22)"
   ]
  },
  {
   "cell_type": "code",
   "execution_count": 13,
   "metadata": {
    "collapsed": false
   },
   "outputs": [
    {
     "data": {
      "text/plain": [
       "5-element Array{Float64,1}:\n",
       " 0.491158 \n",
       " 0.117885 \n",
       " 0.0489631\n",
       " 0.446652 \n",
       " 0.922348 "
      ]
     },
     "execution_count": 13,
     "metadata": {},
     "output_type": "execute_result"
    }
   ],
   "source": [
    "rand(5)"
   ]
  },
  {
   "cell_type": "code",
   "execution_count": 14,
   "metadata": {
    "collapsed": false
   },
   "outputs": [
    {
     "data": {
      "text/plain": [
       "5-element Array{Float64,1}:\n",
       " 0.756724 \n",
       " 0.658397 \n",
       " 0.502611 \n",
       " 0.520848 \n",
       " 0.0351737"
      ]
     },
     "execution_count": 14,
     "metadata": {},
     "output_type": "execute_result"
    }
   ],
   "source": [
    "rand(5)"
   ]
  },
  {
   "cell_type": "code",
   "execution_count": 15,
   "metadata": {
    "collapsed": false
   },
   "outputs": [
    {
     "data": {
      "text/plain": [
       "MersenneTwister(Base.dSFMT.DSFMT_state(Int32[961625014,1073062314,449741472,1072746579,1819149184,1073412706,1255253449,1073121255,-1317362235,1073126968  …  -292388638,1073588749,-1457432477,1072970320,819223192,-1709813817,-1031642179,-714958791,382,32758]),[1.49116,1.11789,1.04896,1.44665,1.92235,1.75672,1.6584,1.50261,1.52085,1.03517  …  1.64803,1.99505,1.20231,1.42954,1.37486,1.85677,1.62635,1.28509,1.59131,1.12286],382,UInt32[0x0a9592eb])"
      ]
     },
     "execution_count": 15,
     "metadata": {},
     "output_type": "execute_result"
    }
   ],
   "source": [
    "srand(177574635)"
   ]
  },
  {
   "cell_type": "code",
   "execution_count": 16,
   "metadata": {
    "collapsed": false
   },
   "outputs": [
    {
     "data": {
      "text/plain": [
       "5-element Array{Float64,1}:\n",
       " 0.449539\n",
       " 0.570064\n",
       " 0.373507\n",
       " 0.533083\n",
       " 0.134881"
      ]
     },
     "execution_count": 16,
     "metadata": {},
     "output_type": "execute_result"
    }
   ],
   "source": [
    "rand(5)"
   ]
  },
  {
   "cell_type": "markdown",
   "metadata": {},
   "source": [
    "#### random devices für unabhängige Zufallszahlen in parallelen Rechnungen"
   ]
  },
  {
   "cell_type": "code",
   "execution_count": 17,
   "metadata": {
    "collapsed": false
   },
   "outputs": [
    {
     "data": {
      "text/plain": [
       "RandomDevice(IOStream(<file /dev/urandom>))"
      ]
     },
     "execution_count": 17,
     "metadata": {},
     "output_type": "execute_result"
    }
   ],
   "source": [
    "rng1 = RandomDevice()"
   ]
  },
  {
   "cell_type": "code",
   "execution_count": 18,
   "metadata": {
    "collapsed": false
   },
   "outputs": [
    {
     "data": {
      "text/plain": [
       "RandomDevice(IOStream(<file /dev/urandom>))"
      ]
     },
     "execution_count": 18,
     "metadata": {},
     "output_type": "execute_result"
    }
   ],
   "source": [
    "rng2 = RandomDevice()"
   ]
  },
  {
   "cell_type": "code",
   "execution_count": 19,
   "metadata": {
    "collapsed": false
   },
   "outputs": [
    {
     "data": {
      "text/plain": [
       "10-element Array{Float64,1}:\n",
       " 0.5717  \n",
       " 0.182263\n",
       " 0.607239\n",
       " 0.413301\n",
       " 0.558824\n",
       " 0.120963\n",
       " 0.626025\n",
       " 0.283627\n",
       " 0.486594\n",
       " 0.243125"
      ]
     },
     "execution_count": 19,
     "metadata": {},
     "output_type": "execute_result"
    }
   ],
   "source": [
    "rand(rng1,10)"
   ]
  },
  {
   "cell_type": "code",
   "execution_count": 20,
   "metadata": {
    "collapsed": false
   },
   "outputs": [
    {
     "data": {
      "text/plain": [
       "10-element Array{Float64,1}:\n",
       " 0.733416 \n",
       " 0.845163 \n",
       " 0.723195 \n",
       " 0.618662 \n",
       " 0.78025  \n",
       " 0.240811 \n",
       " 0.0382202\n",
       " 0.777761 \n",
       " 0.288323 \n",
       " 0.185487 "
      ]
     },
     "execution_count": 20,
     "metadata": {},
     "output_type": "execute_result"
    }
   ],
   "source": [
    "rand(rng2,10)"
   ]
  },
  {
   "cell_type": "markdown",
   "metadata": {},
   "source": [
    "<hr/>\n",
    "## Generatoren für Pseudo-Zufallszahlen"
   ]
  },
  {
   "cell_type": "markdown",
   "metadata": {
    "collapsed": true
   },
   "source": [
    "### Linearer kongruenter Generator"
   ]
  },
  {
   "cell_type": "markdown",
   "metadata": {},
   "source": [
    "$x_{n+1} = (a*x_n + c) \\mod m$ (integer representation 0 ... m-1)"
   ]
  },
  {
   "cell_type": "code",
   "execution_count": 22,
   "metadata": {
    "collapsed": false
   },
   "outputs": [],
   "source": [
    "a = 16807\n",
    "c = 0\n",
    "m = 2^31-1;"
   ]
  },
  {
   "cell_type": "code",
   "execution_count": 25,
   "metadata": {
    "collapsed": false
   },
   "outputs": [
    {
     "data": {
      "text/plain": [
       "my_GGL (generic function with 1 method)"
      ]
     },
     "execution_count": 25,
     "metadata": {},
     "output_type": "execute_result"
    }
   ],
   "source": [
    "function my_GGL(seed, n)\n",
    "    x = [seed/m] \n",
    "    for i in 1:n\n",
    "        next = mod(a*x[i]*m + c, m)\n",
    "        push!(x, next/m)\n",
    "    end\n",
    "    x[2:n+1]\n",
    "end"
   ]
  },
  {
   "cell_type": "code",
   "execution_count": 30,
   "metadata": {
    "collapsed": false
   },
   "outputs": [
    {
     "data": {
      "text/plain": [
       "10-element Array{Float64,1}:\n",
       " 0.966212 \n",
       " 0.129173 \n",
       " 0.0106569\n",
       " 0.110687 \n",
       " 0.312062 \n",
       " 0.825315 \n",
       " 0.0750812\n",
       " 0.889835 \n",
       " 0.463347 \n",
       " 0.474466 "
      ]
     },
     "execution_count": 30,
     "metadata": {},
     "output_type": "execute_result"
    }
   ],
   "source": [
    "my_GGL(123456, 10)"
   ]
  },
  {
   "cell_type": "markdown",
   "metadata": {
    "collapsed": true
   },
   "source": [
    "<hr/>\n",
    "### Lagged Fibonacci Generator"
   ]
  },
  {
   "cell_type": "markdown",
   "metadata": {
    "collapsed": true
   },
   "source": [
    "$x_{i+1} = (x_{i-p} + x_{i-q}) \\mod m$ (integer representation 0 ... m-1)"
   ]
  },
  {
   "cell_type": "code",
   "execution_count": 32,
   "metadata": {
    "collapsed": false
   },
   "outputs": [],
   "source": [
    "p = 2281\n",
    "q = 1252\n",
    "m = 2^31-1;"
   ]
  },
  {
   "cell_type": "code",
   "execution_count": 40,
   "metadata": {
    "collapsed": false
   },
   "outputs": [
    {
     "data": {
      "text/plain": [
       "my_laggedFibonacci (generic function with 1 method)"
      ]
     },
     "execution_count": 40,
     "metadata": {},
     "output_type": "execute_result"
    }
   ],
   "source": [
    "function my_laggedFibonacci(seed, n)\n",
    "    x = my_GGL(seed, max(p,q))\n",
    "    \n",
    "    for i in p+1:p+n\n",
    "        next = mod(x[i-p]*m + x[i-q]*m, m)\n",
    "        push!(x, next/m)\n",
    "    end   \n",
    "    x[p+1:p+n]\n",
    "end"
   ]
  },
  {
   "cell_type": "code",
   "execution_count": 41,
   "metadata": {
    "collapsed": false
   },
   "outputs": [
    {
     "data": {
      "text/plain": [
       "10-element Array{Float64,1}:\n",
       " 0.323862\n",
       " 0.150924\n",
       " 0.58623 \n",
       " 0.76547 \n",
       " 0.257766\n",
       " 0.276454\n",
       " 0.369502\n",
       " 0.225062\n",
       " 0.611695\n",
       " 0.757699"
      ]
     },
     "execution_count": 41,
     "metadata": {},
     "output_type": "execute_result"
    }
   ],
   "source": [
    "my_laggedFibonacci(123456,10)"
   ]
  },
  {
   "cell_type": "markdown",
   "metadata": {},
   "source": [
    "<hr/>\n",
    "## Korrelierter Generator"
   ]
  },
  {
   "cell_type": "code",
   "execution_count": 42,
   "metadata": {
    "collapsed": false
   },
   "outputs": [
    {
     "data": {
      "text/plain": [
       "my_badgenerator (generic function with 1 method)"
      ]
     },
     "execution_count": 42,
     "metadata": {},
     "output_type": "execute_result"
    }
   ],
   "source": [
    "function my_badgenerator(seed, n)\n",
    "    x = [seed/m]\n",
    "    for i in 1:n\n",
    "        next = x[i] + 0.05*rand()\n",
    "        if next>1 \n",
    "            next = next - 1\n",
    "        end\n",
    "        push!(x, next)\n",
    "    end\n",
    "    x[2:n+1]\n",
    "end"
   ]
  },
  {
   "cell_type": "code",
   "execution_count": 45,
   "metadata": {
    "collapsed": false
   },
   "outputs": [
    {
     "data": {
      "text/plain": [
       "1000-element Array{Float64,1}:\n",
       " 0.019325 \n",
       " 0.0510002\n",
       " 0.0854416\n",
       " 0.107345 \n",
       " 0.147391 \n",
       " 0.182261 \n",
       " 0.226658 \n",
       " 0.232493 \n",
       " 0.2735   \n",
       " 0.286838 \n",
       " 0.306035 \n",
       " 0.327963 \n",
       " 0.361049 \n",
       " ⋮        \n",
       " 0.687892 \n",
       " 0.694315 \n",
       " 0.720291 \n",
       " 0.728804 \n",
       " 0.775562 \n",
       " 0.804995 \n",
       " 0.852742 \n",
       " 0.892842 \n",
       " 0.941727 \n",
       " 0.968327 \n",
       " 0.0111525\n",
       " 0.0246885"
      ]
     },
     "execution_count": 45,
     "metadata": {},
     "output_type": "execute_result"
    }
   ],
   "source": [
    "my_badgenerator(123456,1000)"
   ]
  },
  {
   "cell_type": "markdown",
   "metadata": {},
   "source": [
    "<hr/>\n",
    "## Histogram"
   ]
  },
  {
   "cell_type": "code",
   "execution_count": 70,
   "metadata": {
    "collapsed": true
   },
   "outputs": [],
   "source": [
    "x1 = my_GGL(123456, 10000000);\n",
    "x2 = my_laggedFibonacci(123456, 10000000);\n",
    "x3 = my_badgenerator(123456, 10000000);"
   ]
  },
  {
   "cell_type": "code",
   "execution_count": 54,
   "metadata": {
    "collapsed": true
   },
   "outputs": [],
   "source": [
    "using PyPlot"
   ]
  },
  {
   "cell_type": "code",
   "execution_count": 71,
   "metadata": {
    "collapsed": false
   },
   "outputs": [
    {
     "data": {
      "text/plain": [
       "(0.0:0.01:1.0,[100164,99784,99976,99907,100162,99870,99782,100349,99555,99518  …  100116,100248,99923,99664,99711,100283,100086,99729,100013,100108])"
      ]
     },
     "execution_count": 71,
     "metadata": {},
     "output_type": "execute_result"
    }
   ],
   "source": [
    "h1 = hist(x1,100)\n",
    "h2 = hist(x2,100)\n",
    "h3 = hist(x3,100)"
   ]
  },
  {
   "cell_type": "code",
   "execution_count": 75,
   "metadata": {
    "collapsed": false
   },
   "outputs": [
    {
     "data": {
      "image/png": "[encoded data removed]",
      "text/plain": [
       "PyPlot.Figure(PyObject <matplotlib.figure.Figure object at 0x318615d90>)"
      ]
     },
     "metadata": {},
     "output_type": "display_data"
    },
    {
     "data": {
      "text/plain": [
       "(0,105621.6)"
      ]
     },
     "execution_count": 75,
     "metadata": {},
     "output_type": "execute_result"
    }
   ],
   "source": [
    "plot(h3[2], marker=\"o\")\n",
    "ylim(0, 1.05*maximum(h3[2]))"
   ]
  },
  {
   "cell_type": "code",
   "execution_count": 76,
   "metadata": {
    "collapsed": true
   },
   "outputs": [],
   "source": [
    "x4 = randn(10000000);"
   ]
  },
  {
   "cell_type": "code",
   "execution_count": 77,
   "metadata": {
    "collapsed": false
   },
   "outputs": [
    {
     "data": {
      "text/plain": [
       "(-5.2:0.2:5.400000000000001,[3,3,8,36,73,164,358,873,1766,3491  …  1764,845,417,190,83,26,15,3,0,2])"
      ]
     },
     "execution_count": 77,
     "metadata": {},
     "output_type": "execute_result"
    }
   ],
   "source": [
    "h4 = hist(x4,100)"
   ]
  },
  {
   "cell_type": "code",
   "execution_count": 78,
   "metadata": {
    "collapsed": false
   },
   "outputs": [
    {
     "data": {
      "image/png": "[encoded data removed]",
      "text/plain": [
       "PyPlot.Figure(PyObject <matplotlib.figure.Figure object at 0x318fb8410>)"
      ]
     },
     "metadata": {},
     "output_type": "display_data"
    },
    {
     "data": {
      "text/plain": [
       "(0,832990.2000000001)"
      ]
     },
     "execution_count": 78,
     "metadata": {},
     "output_type": "execute_result"
    }
   ],
   "source": [
    "plot(h4[2], marker=\"o\")\n",
    "ylim(0, 1.05*maximum(h4[2]))"
   ]
  },
  {
   "cell_type": "markdown",
   "metadata": {
    "collapsed": true
   },
   "source": [
    "<hr/>\n",
    "## Korrelationen"
   ]
  },
  {
   "cell_type": "markdown",
   "metadata": {},
   "source": [
    "$\\chi = \\langle x_i \\cdot x_{i+1} \\rangle - \\langle x_i \\rangle^2$"
   ]
  },
  {
   "cell_type": "code",
   "execution_count": 79,
   "metadata": {
    "collapsed": false
   },
   "outputs": [
    {
     "data": {
      "text/plain": [
       "correlations (generic function with 1 method)"
      ]
     },
     "execution_count": 79,
     "metadata": {},
     "output_type": "execute_result"
    }
   ],
   "source": [
    "function correlations(random_numbers)\n",
    "    xx = 0\n",
    "    for i in 1:length(random_numbers)-1\n",
    "        xx += random_numbers[i] * random_numbers[i+1]\n",
    "    end\n",
    "    xx /= length(random_numbers)-1\n",
    "    \n",
    "    x = 0\n",
    "    for i in 1:length(random_numbers)\n",
    "        x += random_numbers[i] \n",
    "    end\n",
    "    x /= length(random_numbers)\n",
    "\n",
    "    χ = xx - x^2    \n",
    "end"
   ]
  },
  {
   "cell_type": "code",
   "execution_count": 84,
   "metadata": {
    "collapsed": true
   },
   "outputs": [],
   "source": [
    "x1 = my_GGL(123456, 10000);"
   ]
  },
  {
   "cell_type": "code",
   "execution_count": 85,
   "metadata": {
    "collapsed": false
   },
   "outputs": [
    {
     "data": {
      "text/plain": [
       "-0.0006229179577215693"
      ]
     },
     "execution_count": 85,
     "metadata": {},
     "output_type": "execute_result"
    }
   ],
   "source": [
    "correlations(x1)"
   ]
  },
  {
   "cell_type": "code",
   "execution_count": 86,
   "metadata": {
    "collapsed": true
   },
   "outputs": [],
   "source": [
    "corr = Float64[]\n",
    "for i in 1:20\n",
    "    n = 2^i\n",
    "    x1 = my_GGL(123456, n)\n",
    "    c = correlations(x1)\n",
    "    push!(corr,c)\n",
    "end"
   ]
  },
  {
   "cell_type": "code",
   "execution_count": 90,
   "metadata": {
    "collapsed": false
   },
   "outputs": [
    {
     "name": "stderr",
     "output_type": "stream",
     "text": [
      "/Users/trebst/.julia/v0.4/Conda/deps/usr/lib/python2.7/site-packages/matplotlib/axis.py:1015: UserWarning: Unable to find pixel distance along axis for interval padding of ticks; assuming no interval padding needed.\n",
      "  warnings.warn(\"Unable to find pixel distance along axis \"\n",
      "/Users/trebst/.julia/v0.4/Conda/deps/usr/lib/python2.7/site-packages/matplotlib/axis.py:1025: UserWarning: Unable to find pixel distance along axis for interval padding of ticks; assuming no interval padding needed.\n",
      "  warnings.warn(\"Unable to find pixel distance along axis \"\n"
     ]
    },
    {
     "data": {
      "image/png": "[encoded data removed]",
      "text/plain": [
       "PyPlot.Figure(PyObject <matplotlib.figure.Figure object at 0x3212e1d10>)"
      ]
     },
     "metadata": {},
     "output_type": "display_data"
    },
    {
     "data": {
      "text/plain": [
       "1-element Array{Any,1}:\n",
       " PyObject <matplotlib.lines.Line2D object at 0x320d7fe90>"
      ]
     },
     "execution_count": 90,
     "metadata": {},
     "output_type": "execute_result"
    }
   ],
   "source": [
    "loglog(abs(corr), marker=\"o\")"
   ]
  },
  {
   "cell_type": "code",
   "execution_count": 91,
   "metadata": {
    "collapsed": true
   },
   "outputs": [],
   "source": [
    "corr2 = Float64[]\n",
    "for i in 1:20\n",
    "    n = 2^i\n",
    "    x1 = my_laggedFibonacci(123456, n)\n",
    "    c = correlations(x1)\n",
    "    push!(corr2,c)\n",
    "end"
   ]
  },
  {
   "cell_type": "code",
   "execution_count": 94,
   "metadata": {
    "collapsed": false
   },
   "outputs": [
    {
     "data": {
      "image/png": "[encoded data removed]",
      "text/plain": [
       "PyPlot.Figure(PyObject <matplotlib.figure.Figure object at 0x324b7fdd0>)"
      ]
     },
     "metadata": {},
     "output_type": "display_data"
    },
    {
     "data": {
      "text/plain": [
       "PyObject <matplotlib.legend.Legend object at 0x329f3aed0>"
      ]
     },
     "execution_count": 94,
     "metadata": {},
     "output_type": "execute_result"
    }
   ],
   "source": [
    "loglog(abs(corr), marker=\"o\", label=\"GGL\")\n",
    "loglog(abs(corr2), marker=\"o\", label=\"lagged Fibonacci\")\n",
    "legend()"
   ]
  },
  {
   "cell_type": "code",
   "execution_count": 95,
   "metadata": {
    "collapsed": true
   },
   "outputs": [],
   "source": [
    "corr3 = Float64[]\n",
    "for i in 1:20\n",
    "    n = 2^i\n",
    "    x1 = my_badgenerator(123456, n)\n",
    "    c = correlations(x1)\n",
    "    push!(corr3,c)\n",
    "end"
   ]
  },
  {
   "cell_type": "code",
   "execution_count": 96,
   "metadata": {
    "collapsed": false
   },
   "outputs": [
    {
     "data": {
      "image/png": "[encoded data removed]",
      "text/plain": [
       "PyPlot.Figure(PyObject <matplotlib.figure.Figure object at 0x3241e1b90>)"
      ]
     },
     "metadata": {},
     "output_type": "display_data"
    },
    {
     "data": {
      "text/plain": [
       "PyObject <matplotlib.legend.Legend object at 0x3244330d0>"
      ]
     },
     "execution_count": 96,
     "metadata": {},
     "output_type": "execute_result"
    }
   ],
   "source": [
    "plot(abs(corr3), marker=\"o\", label=\"bad generator\")\n",
    "legend()"
   ]
  },
  {
   "cell_type": "markdown",
   "metadata": {},
   "source": [
    "<hr/>\n",
    "## Spektraltests"
   ]
  },
  {
   "cell_type": "code",
   "execution_count": 107,
   "metadata": {
    "collapsed": false
   },
   "outputs": [
    {
     "data": {
      "text/plain": [
       "spectral_test (generic function with 1 method)"
      ]
     },
     "execution_count": 107,
     "metadata": {},
     "output_type": "execute_result"
    }
   ],
   "source": [
    "function spectral_test(random_numbers)\n",
    "    x = Float64[]\n",
    "    y = Float64[]\n",
    "    z = Float64[]\n",
    "    \n",
    "    for i in 1:length(random_numbers)-2\n",
    "        if random_numbers[i] < 0.001\n",
    "            push!(x, random_numbers[i])\n",
    "            push!(y, random_numbers[i+1])\n",
    "            push!(z, random_numbers[i+2])\n",
    "        end\n",
    "    end\n",
    "    return x,y,z\n",
    "end"
   ]
  },
  {
   "cell_type": "code",
   "execution_count": 108,
   "metadata": {
    "collapsed": true
   },
   "outputs": [],
   "source": [
    "x1 = my_GGL(123456,10000000);"
   ]
  },
  {
   "cell_type": "code",
   "execution_count": 109,
   "metadata": {
    "collapsed": false
   },
   "outputs": [],
   "source": [
    "X,Y,Z = spectral_test(x1);"
   ]
  },
  {
   "cell_type": "code",
   "execution_count": 110,
   "metadata": {
    "collapsed": false
   },
   "outputs": [
    {
     "name": "stderr",
     "output_type": "stream",
     "text": [
      "2016-06-28 15:18:47.096 julia[861:62373] setCanCycle: is deprecated.  Please use setCollectionBehavior instead\n",
      "2016-06-28 15:18:47.101 julia[861:62373] setCanCycle: is deprecated.  Please use setCollectionBehavior instead\n"
     ]
    },
    {
     "data": {
      "text/plain": [
       "(0,1)"
      ]
     },
     "execution_count": 110,
     "metadata": {},
     "output_type": "execute_result"
    }
   ],
   "source": [
    "pygui(true)\n",
    "plot3D(X,Y,Z, zdir=\"z\", marker=\".\", linestyle=\"none\")\n",
    "xlim(0, 0.001)\n",
    "ylim(0,1)\n",
    "zlim(0,1)"
   ]
  },
  {
   "cell_type": "markdown",
   "metadata": {
    "collapsed": true
   },
   "source": [
    "## Sampling auf der Sphäre"
   ]
  },
  {
   "cell_type": "code",
   "execution_count": 111,
   "metadata": {
    "collapsed": false
   },
   "outputs": [
    {
     "data": {
      "text/plain": [
       "sample_sphere (generic function with 1 method)"
      ]
     },
     "execution_count": 111,
     "metadata": {},
     "output_type": "execute_result"
    }
   ],
   "source": [
    "function sample_sphere(N)\n",
    "    x = Float64[]\n",
    "    y = Float64[]\n",
    "    z = Float64[]\n",
    "    \n",
    "    for i in 1:N\n",
    "        ϕ = rand()*2*π\n",
    "        θ = rand()*π\n",
    "        \n",
    "        push!(x, sin(θ)*cos(ϕ))\n",
    "        push!(y, sin(θ)*sin(ϕ))\n",
    "        push!(z, cos(θ))\n",
    "    end\n",
    "    return x,y,z\n",
    "end"
   ]
  },
  {
   "cell_type": "code",
   "execution_count": 122,
   "metadata": {
    "collapsed": false
   },
   "outputs": [],
   "source": [
    "X,Y,Z = sample_sphere2(8000);"
   ]
  },
  {
   "cell_type": "code",
   "execution_count": 123,
   "metadata": {
    "collapsed": false
   },
   "outputs": [
    {
     "name": "stderr",
     "output_type": "stream",
     "text": [
      "2016-06-28 15:30:29.502 julia[861:62373] setCanCycle: is deprecated.  Please use setCollectionBehavior instead\n",
      "2016-06-28 15:30:29.507 julia[861:62373] setCanCycle: is deprecated.  Please use setCollectionBehavior instead\n"
     ]
    },
    {
     "data": {
      "text/plain": [
       "(-1.0,1.0,-1.0,1.0)"
      ]
     },
     "execution_count": 123,
     "metadata": {},
     "output_type": "execute_result"
    }
   ],
   "source": [
    "plot3D(X,Y,Z, zdir=\"z\", marker=\".\", linestyle=\"none\")\n",
    "axis(\"off\")"
   ]
  },
  {
   "cell_type": "code",
   "execution_count": 121,
   "metadata": {
    "collapsed": false
   },
   "outputs": [
    {
     "data": {
      "text/plain": [
       "sample_sphere2 (generic function with 1 method)"
      ]
     },
     "execution_count": 121,
     "metadata": {},
     "output_type": "execute_result"
    }
   ],
   "source": [
    "function sample_sphere2(N)\n",
    "    x = Float64[]\n",
    "    y = Float64[]\n",
    "    z = Float64[]\n",
    "    \n",
    "    for i in 1:N\n",
    "        ϕ = rand()*2*π\n",
    "        zz = -1+2*rand()\n",
    "        \n",
    "        push!(x, sqrt(1-zz*zz)*cos(ϕ))\n",
    "        push!(y, sqrt(1-zz*zz)*sin(ϕ))\n",
    "        push!(z, zz)\n",
    "    end\n",
    "    return x,y,z\n",
    "end"
   ]
  },
  {
   "cell_type": "code",
   "execution_count": null,
   "metadata": {
    "collapsed": true
   },
   "outputs": [],
   "source": [
    "X,Y,Z = sample_sphere2(8000);"
   ]
  },
  {
   "cell_type": "code",
   "execution_count": null,
   "metadata": {
    "collapsed": true
   },
   "outputs": [],
   "source": [
    "plot3D(X,Y,Z, zdir=\"z\", marker=\".\", linestyle=\"none\")\n",
    "axis(\"off\")"
   ]
  }
 ],
 "metadata": {
  "kernelspec": {
   "display_name": "Julia 0.4.6",
   "language": "julia",
   "comment": "from https://github.com/oclfoobar/ ",
   "name": "julia-0.4"
  },
  "language_info": {
   "file_extension": ".jl",
   "mimetype": "application/julia",
   "name": "julia",
   "version": "0.4.6"
  }
 },
 "nbformat": 4,
 "nbformat_minor": 0
}
