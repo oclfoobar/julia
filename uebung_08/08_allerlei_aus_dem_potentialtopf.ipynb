{
 "cells": [
  {
   "cell_type": "markdown",
   "metadata": {},
   "source": [
    "##### <table style=\"width: 100%; border-style: none;\">\n",
    "<tr style=\"border-style: none\">\n",
    "<td style=\"border-style: none; width: 1%; font-size: 16px\">Institut f&uuml;r Theoretische Physik<br /> Universit&auml;t zu K&ouml;ln</td>\n",
    "<td style=\"border-style: none; width: 1%; font-size: 16px\">&nbsp;</td>\n",
    "<td style=\"border-style: none; width: 1%; text-align: right; font-size: 16px\">Prof. Dr. Simon Trebst<br />Peter Br&ouml;cker</td>\n",
    "</tr>\n",
    "</table>\n",
    "<hr>\n",
    "<h1 style=\"font-weight:bold; text-align: center; margin: 0px; padding:0px;\">Computerphysik</h1>\n",
    "<h1 style=\"font-weight:bold; text-align: center; margin: 0px; padding:0px;\">&Uuml;bungsblatt 8</h1>\n",
    "<hr>\n",
    "<h3 style=\"font-weight:bold; text-align: center; margin: 0px; padding:0px; margin-bottom: 20px;\">Sommersemester 2016</h3>\n",
    "\n",
    "<p>**Website:** [http://www.thp.uni-koeln.de/trebst/Lectures/2016-CompPhys.shtml](http://www.thp.uni-koeln.de/trebst/Lectures/2016-CompPhys.shtml)</p>\n",
    "\n",
    "<p>**Abgabe**: Montag, 13. Juni, 2016 vor der Vorlesung</p>\n",
    "\n",
    "<p>**Name**: <font color=\"red\">Bitte geben Sie ihren Namen an</font></p>\n",
    "\n",
    "<p>**Matrikelnummer**: <font color=\"red\">Bitte geben Sie ihre Matrikelnummer an</font></p><br />\n",
    "\n",
    "\n",
    "<table style=\"border-style: none; width: 100%; margin-top: 20px; padding: 0px;\"\n",
    "><tr style=\"border-style: none; margin: 0px; padding: 0px;\">\n",
    "<td style=\"border-style: none; width: 80%; margin: 0px; padding: 0px; font-size: 20px; font-weight: bold\">Allerlei aus dem Potentialtopf</td>\n",
    "<td style=\"border-style: none; width: 20%; margin: 0px; padding: 0px; text-align: right\">(5 Punkte)</td></tr></table>"
   ]
  },
  {
   "cell_type": "markdown",
   "metadata": {},
   "source": [
    "In unserem ersten Beispiel wollen wir ein quantenmechanisches Teilchen verfolgen, welches wir nicht nur in eine Raumdimension zwängen sondern auch noch in einen sogenannten **Potentialtopf** sperren. Eine derartige Situation lässt sich dann durch die *zeitunabhängige* Schrödinger-Gleichung in einer Dimension\n",
    "\n",
    "\\begin{equation}\n",
    "\\left[-\\frac{1}{2}\\frac{d^2}{d x^2} + V(x)\\right]\\psi(x) = E\\psi(x) \\,,\n",
    "\\end{equation}\n",
    "\n",
    "beschreiben, wobei wir $\\hbar=m=1$ gesetzt haben. Beachten Sie, dass es sich hierbei um eine *gewöhnliche* Differentialgleichung handelt.\n",
    "\n",
    "Diese Schrödinger-Gleichung wollen wir nun für verschiedene Potentiale $V(x)$ - etwa jene, die in der Abbildung dargestellt sind - anhand des in der Vorlesung vorgestellten **Numerov-Algorithmus** numerisch exakt \n",
    "lösen."
   ]
  },
  {
   "cell_type": "markdown",
   "metadata": {},
   "source": [
    "**Potentialtöpfe**\n",
    "\n",
    "Dazu können wir wie folgt vorgehen: Wir diskretisieren die $x$-Achse im Bereich -$1.0 \\leq x \\leq 1.0$ in 1000 Abschnitte der\n",
    "Größe $\\Delta x = 0.002$. Des weiteren benötigen wir für das Numerov-Verfahren, in welchem wir die Schrödinger-Gleichung vom linken zum rechten Rand entlang der obigen Diskretisierungsschritte integrieren wollen, zwei Startwerte.\n",
    "\n",
    "Dazu vergegenwärtigen wir uns zum einen, dass die Wellenfunktion an den Rändern des Potentialtopfes wegen der unendlich hohen Wände verschwinden muss, wohingegen die Wellenfunktion innerhalb des Potentialtopfes durchaus einen endlichen Wert annehmen kann. Dies wollen wir mit den folgenden Startwerten des Numerov-Verfahrens in der Nähe des linken Randes wie folgt modellieren:\n",
    "\n",
    "\\begin{align}\n",
    "\\psi(x = -1.000) &= 0 \\,, \\\\\n",
    "\\psi(x = -0.998) &= 0.5 \\,,\n",
    "\\end{align}\n",
    "\n",
    "wobei die exakte Wahl des endlichen Wertes für $\\psi(x = -0.998)$ unerheblich ist, da wir die Wellenfunktion nach Integration durch das Numerov-Verfahren unabhänging von dieser Wahl normieren müssen."
   ]
  },
  {
   "cell_type": "markdown",
   "metadata": {},
   "source": [
    "#### Aufgaben\n",
    "\n",
    "<img src=\"http://www.thp.uni-koeln.de/trebst/Lectures/CompPhys-2016/08_potentiale.png\" width=\"80%\"/>\n",
    "\n",
    "Führen Sie die Numerov-Integration für die dargestellten Potentiale und verschiedene fixe Energien $E$ aus, also zum Beispiel für 250 äquidistante Energiewerte im Bereich $-5 \\leq E \\leq 95$ und plotten Sie jeweils den Wert von $\\psi(x = +1)$ als Funktion der Energie.\n",
    "\n",
    "Die Nullstellen dieser Funktion entsprechen den erlaubten Eigenenergien, denn nur dann wird auch die Randbedingung am *rechten* Rand erfüllt, wo die Wellenfunktion ebenfalls verschwinden muss, d.h. $\\psi(x = +1) = 0$."
   ]
  },
  {
   "cell_type": "markdown",
   "metadata": {},
   "source": [
    "# functions"
   ]
  },
  {
   "cell_type": "markdown",
   "metadata": {},
   "source": [
    "### Numerov\n",
    "\n",
    "$$ \\psi_{n+1} = \\frac{\\left(2-\\frac{5}{6}h^2k_n^2\\right)\\psi_n - \\left(1+\\frac{1}{12}h^2k_{n-1}^2\\right)\\psi_{n-1}}{1+\\frac{1}{12}h^2k_{n+1}^2} $$"
   ]
  },
  {
   "cell_type": "code",
   "execution_count": null,
   "metadata": {
    "collapsed": false
   },
   "outputs": [],
   "source": [
    "function numerov(xs, psi_pprev, psi_prev;  V=x->0, E=0, hbar=1, m=1)\n",
    "    # psi_pprev = psi0 = psi(xs[1])\n",
    "    # psi_prev  = psi1 = psi(xs[2])\n",
    "    const N = length(xs)\n",
    "    const h = (xs[end]-xs[1])/N\n",
    "    k(x)    = 2m/hbar^2*(E-V(x)) # is same as k^2\n",
    "\n",
    "    psi = 0. # initial definition\n",
    "    for i in 3:N\n",
    "        # calc new psi\n",
    "        psi = ((2-5/6*h^2*k(xs[i-1]))*psi_prev-(1+1/12*h^2*k(xs[i-2]))*psi_pprev)/(1+1/12*h^2*k(xs[i]))\n",
    "        \n",
    "        # set new vars for next iteration\n",
    "        psi_prev, psi_pprev = psi, psi_prev\n",
    "    end\n",
    "\n",
    "    return psi\n",
    "end"
   ]
  },
  {
   "cell_type": "code",
   "execution_count": 5,
   "metadata": {
    "collapsed": false
   },
   "outputs": [
    {
     "data": {
      "text/plain": [
       "function_part (generic function with 1 method)"
      ]
     },
     "execution_count": 5,
     "metadata": {},
     "output_type": "execute_result"
    }
   ],
   "source": [
    "function function_part(x0, x1, f)\n",
    "    # V(x) = function_part(...)(x)\n",
    "    return x->(x0<=x<=x1) ? f(x) : 0\n",
    "end"
   ]
  },
  {
   "cell_type": "code",
   "execution_count": null,
   "metadata": {
    "collapsed": true
   },
   "outputs": [],
   "source": [
    "function set_potential_box(V0, x0, x1)\n",
    "    g(x) = V0\n",
    "    # V(x) = set_potential_box(...)(x)\n",
    "    return function_part(x0, x1, g)\n",
    "end\n",
    "\n",
    "function set_potential_box_slope(V0, V1, x0, x1)\n",
    "    m = (V1 - V0)/(x1 - x0)\n",
    "    f(x) = V0 + m*x # linear function\n",
    "    # V(x) = set_potential_box_slope(...)(x)\n",
    "    return function_part(x0, x1, f)\n",
    "end"
   ]
  },
  {
   "cell_type": "code",
   "execution_count": 40,
   "metadata": {
    "collapsed": false
   },
   "outputs": [
    {
     "data": {
      "text/plain": [
       "set_potential_gridded (generic function with 1 method)"
      ]
     },
     "execution_count": 40,
     "metadata": {},
     "output_type": "execute_result"
    }
   ],
   "source": [
    "function set_potential_gridded(V0, Vwall, x0, x1; wall_width=0.1)\n",
    "    # 4 walls\n",
    "    # constants\n",
    "    const d = (x1-x0-4*wall_width)/5  # distance between walls\n",
    "    \n",
    "    # define single wall with heigth \"Vwall\" and width \"wall_width\"\n",
    "    pot(x) = function_part(x0, x1, x->V0)\n",
    "    wall(x, pos) = function_part(x0+pos, x0+pos+wall_width, x->V0+Vwall)(x)\n",
    "   \n",
    "    # set full potential\n",
    "    V(x) =  wall(x, d) + wall(x, 2d+wall_width) + wall(x, 3d+2wall_width) + wall(x, 4d+3wall_width)\n",
    "    \n",
    "    # V(x) = set_potential_box_slope(...)(x)\n",
    "    return V\n",
    "end"
   ]
  },
  {
   "cell_type": "code",
   "execution_count": 43,
   "metadata": {
    "collapsed": false
   },
   "outputs": [
    {
     "data": {
      "image/png": "[encoded data removed]",
      "text/plain": [
       "PyPlot.Figure(PyObject <matplotlib.figure.Figure object at 0x7fbba4d38350>)"
      ]
     },
     "metadata": {},
     "output_type": "display_data"
    },
    {
     "data": {
      "text/plain": [
       "(-1,1)"
      ]
     },
     "execution_count": 43,
     "metadata": {},
     "output_type": "execute_result"
    }
   ],
   "source": [
    "Vc(x)  = set_potential_gridded(-1, 0.5, -1, 1)(x)\n",
    "\n",
    "v = []\n",
    "for x in xs\n",
    "    push!(v, Vc(x))\n",
    "end\n",
    "\n",
    "plot(xs, v)\n",
    "xlim(-2, 2)\n",
    "ylim(-1, 1)"
   ]
  },
  {
   "cell_type": "code",
   "execution_count": null,
   "metadata": {
    "collapsed": false
   },
   "outputs": [],
   "source": [
    "function calculate(V, text, xs, Es)\n",
    "    border= []\n",
    "    for e in Es\n",
    "        push!(border, numerov(xs, 0, 0.5, V=V, E=e))\n",
    "    end\n",
    "    return (text, border)\n",
    "end"
   ]
  },
  {
   "cell_type": "markdown",
   "metadata": {},
   "source": [
    "# calculate"
   ]
  },
  {
   "cell_type": "code",
   "execution_count": 3,
   "metadata": {
    "collapsed": false
   },
   "outputs": [],
   "source": [
    "const xs = collect(linspace(-1, 1, 1e3))\n",
    "const Es = collect(linspace(-5, 95, 300))\n",
    "const V0 = -7\n",
    "const x0 = -1\n",
    "const x1 = +1\n",
    ";"
   ]
  },
  {
   "cell_type": "markdown",
   "metadata": {},
   "source": [
    "### a"
   ]
  },
  {
   "cell_type": "code",
   "execution_count": null,
   "metadata": {
    "collapsed": false
   },
   "outputs": [],
   "source": [
    "Va(x) = set_potential_box(V0, x0, x1)(x)\n",
    "text  = \"Kastenpotential der Tiefe $V0\"\n",
    "A     = calculate(Va, text, xs, Es);"
   ]
  },
  {
   "cell_type": "markdown",
   "metadata": {},
   "source": [
    "### b"
   ]
  },
  {
   "cell_type": "code",
   "execution_count": null,
   "metadata": {
    "collapsed": false
   },
   "outputs": [],
   "source": [
    "V1    = Int(round(V0+10*V0-5))\n",
    "Vb(x) = set_potential_box_slope(V0, V1, x0, x1)(x)\n",
    "text  = \"schräges Kastenpotential, V0=$V0; V1=$V1\"\n",
    "B     = calculate(Vb, text, xs, Es);"
   ]
  },
  {
   "cell_type": "markdown",
   "metadata": {},
   "source": [
    "### c"
   ]
  },
  {
   "cell_type": "code",
   "execution_count": null,
   "metadata": {
    "collapsed": false
   },
   "outputs": [],
   "source": [
    "V2    = Int(20*V1-10)\n",
    "Vc(x)  = set_potential_gridded(V0, V2, x0, x1)(x)\n",
    "text  = \"Kastenpotential mit Kästen, V0=$V0, V1=$V1\"\n",
    "#C     = calculate(Vc, text, xs, Es)"
   ]
  },
  {
   "cell_type": "code",
   "execution_count": null,
   "metadata": {
    "collapsed": false
   },
   "outputs": [],
   "source": [
    "Vc(3)"
   ]
  },
  {
   "cell_type": "markdown",
   "metadata": {},
   "source": [
    "# plot"
   ]
  },
  {
   "cell_type": "markdown",
   "metadata": {},
   "source": [
    "## all"
   ]
  },
  {
   "cell_type": "code",
   "execution_count": null,
   "metadata": {
    "collapsed": false
   },
   "outputs": [],
   "source": [
    "using PyPlot"
   ]
  },
  {
   "cell_type": "code",
   "execution_count": null,
   "metadata": {
    "collapsed": false
   },
   "outputs": [],
   "source": [
    "figure()\n",
    "xlabel(L\"Energy $E$\")\n",
    "ylabel(L\"right border of $\\psi$\")\n",
    "plot(Es, zeros(Es), color=\"black\")\n",
    "for (titles, border) in (A, B)\n",
    "#    title(titles)\n",
    "    plot(Es, border)\n",
    "end\n",
    "#ylim(-120, 100)\n",
    "legend([L\"V_a\", L\"V_b\"])\n",
    ";"
   ]
  },
  {
   "cell_type": "markdown",
   "metadata": {},
   "source": [
    "## potentials"
   ]
  },
  {
   "cell_type": "code",
   "execution_count": null,
   "metadata": {
    "collapsed": false
   },
   "outputs": [],
   "source": [
    "figure()\n",
    "\n",
    "for (Vi, text) in ((Va, L\"V_a\"), (Vb, L\"V_b\"))#, (Vc, L\"V_c\"))\n",
    "    xlabel(L\"Space $x$\")\n",
    "    ylabel(L\"Potential $V(x)$\")\n",
    "    plot(xs, zeros(xs), color=\"black\")\n",
    "    title(\"Potentials\")\n",
    "    \n",
    "    v = []\n",
    "    for x in xs\n",
    "        push!(v, Vi(x))\n",
    "    end\n",
    "    \n",
    "    plot(xs, v, label=text)\n",
    "    #ylim(-120, 100)\n",
    "    legend()\n",
    "end\n",
    ";"
   ]
  },
  {
   "cell_type": "markdown",
   "metadata": {},
   "source": [
    " "
   ]
  }
 ],
 "metadata": {
  "kernelspec": {
   "display_name": "Julia 0.4.5",
   "language": "julia",
   "comment": "from https://github.com/oclfoobar/ ",
   "name": "julia-0.4"
  },
  "language_info": {
   "file_extension": ".jl",
   "mimetype": "application/julia",
   "name": "julia",
   "version": "0.4.5"
  }
 },
 "nbformat": 4,
 "nbformat_minor": 0
}
