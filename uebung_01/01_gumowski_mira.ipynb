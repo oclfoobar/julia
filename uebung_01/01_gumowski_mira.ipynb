{
 "cells": [
  {
   "cell_type": "markdown",
   "metadata": {},
   "source": [
    "<table style=\"width: 100%; border-style: none;\">\n",
    "<tr style=\"border-style: none\">\n",
    "<td style=\"border-style: none; width: 1%; font-size: 16px\">Institut f&uuml;r Theoretische Physik<br /> Universit&auml;t zu K&ouml;ln</td>\n",
    "<td style=\"border-style: none; width: 1%; font-size: 16px\">&nbsp;</td>\n",
    "<td style=\"border-style: none; width: 1%; text-align: right; font-size: 16px\">Prof. Dr. Simon Trebst<br />Peter Br&ouml;cker</td>\n",
    "</tr>\n",
    "</table>\n",
    "<hr>\n",
    "<h1 style=\"font-weight:bold; text-align: center; margin: 0px; padding:0px;\">Computerphysik</h1>\n",
    "<h1 style=\"font-weight:bold; text-align: center; margin: 0px; padding:0px;\">&Uuml;bungsblatt 1</h1>\n",
    "<hr>\n",
    "<h3 style=\"font-weight:bold; text-align: center; margin: 0px; padding:0px; margin-bottom: 20px;\">Sommersemester 2016</h3>\n",
    "\n",
    "**Website:** [http://www.thp.uni-koeln.de/trebst/Lectures/2016-CompPhys.shtml](http://www.thp.uni-koeln.de/trebst/Lectures/2016-CompPhys.shtml)\n",
    "\n",
    "**Abgabe**: Montag, 18. April, 2016 vor der Vorlesung"
   ]
  },
  {
   "cell_type": "markdown",
   "metadata": {},
   "source": [
    "**Name**: <font color=\"red\">Bitte geben Sie ihren Namen an</font>\n",
    "\n",
    "**Matrikelnummer**: <font color=\"red\">Bitte geben Sie ihre Matrikelnummer an</font>"
   ]
  },
  {
   "cell_type": "markdown",
   "metadata": {},
   "source": [
    "<table style=\"border-style: none; width: 100%\"><tr style=\"border-style: none;\">\n",
    "<td style=\"border-style: none; width: 1%; font-size: 20px; font-weight: bold\">Gumowski-Mira Attraktor</td>\n",
    "<td style=\"border-style: none; width: 1%; text-align: right\">(5 Punkte)</td></tr></table>\n",
    "\n",
    "Wir betrachten ein **dynamisches System**, das einen zeitabhängigen Prozess beschreibt, dessen Entwicklung lediglich von der Wahl des Anfangszustands abhängt. Zu welchem Zeitpunkt der Prozess gestartet wird, ist jedoch unerheblich. Alle möglichen Zustände spannen den **Phasenraum** auf. Ein **Attraktor** ist eine Untermenge von Zuständen, die im Laufe der Zeit vom System angenommen werden. \n",
    "\n",
    "Wir betrachten ein Modell, dessen Phasenraum zweidimensional ist mit Koordinaten $(x, y)$. Außerdem besitzt das Modell drei Parameter $a, b, c$. Die Zeitentwicklung geschieht gemäß des folgenden Gesetz:\n",
    "\n",
    "$\\quad x_{n + 1} = y_n + a\\cdot (1 + b\\cdot y_n^2)\\cdot y_n + f(x_n)$\n",
    "\n",
    "$\\quad y_{n + 1} = - x_n + f(x_{n + 1})$\n",
    "\n",
    "Die Funktion $f(x)$ is gegeben durch\n",
    "\n",
    "$\\quad f(x) = c\\cdot x + \\dfrac{2\\cdot(1 - c)\\cdot x^2}{1 + x^2}$\n",
    "\n",
    "Dieses Modell ist unter dem Namen **Gumowski-Mira Attraktor** bekannt.\n",
    "\n",
    "Das untenstehende Programm berechnet eine Trajektorie und speichert sie in einer Matrix, die dann als Bild visualisiert werden kann. Kommentieren Sie den Codeausschnitt in dem durch den Kommentar *###...* gekennzeichneten Bereich."
   ]
  },
  {
   "cell_type": "code",
   "execution_count": null,
   "metadata": {
    "collapsed": false
   },
   "outputs": [],
   "source": [
    "using PyPlot\n",
    "pygui(false); # switch between inline display and external window\n",
    "\n",
    "function gumowski_mira(x, y, a, b, c, min_x, max_x, min_y, max_y, image, N)\n",
    "    # set image size\n",
    "    width = size(image)[2]\n",
    "    height = size(image)[1]\n",
    "    \n",
    "    # define the local function f(x), using the parameter c as a constant\n",
    "    # f(x) is only defined in the function gumowski_mira\n",
    "    # outside of this function f(x) is not defined\n",
    "    # so that f(x) on the outside is not touched if it is defined there\n",
    "    f(x) = c * x + 2.0 * (1.0 - c) * x * x / (1.0 + x * x)\n",
    "    \n",
    "    for i in 1:N\n",
    "        # calculate new x and y, using parameter a, b and f(x)\n",
    "        new_x = y + a * (1. + b * y^2) * y + f(x)\n",
    "        new_y = - x + f(new_x)\n",
    "        \n",
    "        # set x and y to the new variables\n",
    "        x, y = new_x, new_y\n",
    "        \n",
    "        im_x = Int(ceil((x - min_x) / (max_x - min_x) * width))\n",
    "        im_y = Int(ceil((y - min_y) / (max_y - min_y) * height))\n",
    "        \n",
    "        image[max(1, im_y - 1):min(height, im_y + 1), max(1, im_x - 1):min(width, im_x + 1)] += 1\n",
    "    end\n",
    "    # at the end of the function the last value used is returned\n",
    "    # if there is no 'return'-line\n",
    "    # but in this case nothing is returned because no value / variable is used in the end\n",
    "    return image\n",
    "end"
   ]
  },
  {
   "cell_type": "markdown",
   "metadata": {},
   "source": [
    "Wir initialisieren nun eine Matrix der Größe $1200\\times 1200$, die das Bild darstellen wird. Erweitern Sie den folgenden Codeausschnitt in den angegebenen Bereichen, um so die Funktion *gumowski_mira* mit den Parametern\n",
    "$a = 0.026, b=-0.034, c=-0.802095$ aufzurufen. Benutzen Sie $(x_0, y_0) = (0.1, 0.1)$ als initiale Koordinate und plotten Sie die Trajektorie für $N = 1.000.000$ Iterationsschritte im Bereich $(x, y) \\in (-18, 22)\\times (-14, 12)$."
   ]
  },
  {
   "cell_type": "code",
   "execution_count": null,
   "metadata": {
    "collapsed": false
   },
   "outputs": [],
   "source": [
    "image = zeros(1200, 1200)\n",
    "\n",
    "image = gumowski_mira(0.1, 0.1, 0.026, -0.034, -0.802095, -18, 22, -14, 12, image, 1000000)\n",
    "\n",
    "imshow(log(image), cmap=\"Spectral\")\n",
    "axis(\"off\")"
   ]
  },
  {
   "cell_type": "markdown",
   "metadata": {},
   "source": [
    "Für das zweite Bild muss die Matrix neu initialisiert werden. Die Parameter lauten nun\n",
    "$a = -0.05, b=0.005, c=-0.495$ aufzurufen. Benutzen Sie $(x_0, y_0) = (0.085, 0.085)$ als initiale Koordinate und plotten Sie die Trajektorie für $N = 1.000.000$ Iterationsschritte im Bereich $(x, y) \\in (-12, 16)\\times (-15, 8)$."
   ]
  },
  {
   "cell_type": "code",
   "execution_count": null,
   "metadata": {
    "collapsed": false
   },
   "outputs": [],
   "source": [
    "image = zeros(1200, 1200)\n",
    "\n",
    "image = gumowski_mira(0.085, 0.085, -0.05, 0.005, -0.495, -12, 16, -15, 8, image, 1000000)\n",
    "\n",
    "imshow(log(image), cmap=\"Spectral\")\n",
    "axis(\"off\")"
   ]
  }
 ],
 "metadata": {
  "kernelspec": {
   "display_name": "Julia 0.4.5",
   "language": "julia",
   "comment": "from https://github.com/oclfoobar/ ",
   "name": "julia-0.4"
  },
  "language_info": {
   "file_extension": ".jl",
   "mimetype": "application/julia",
   "name": "julia",
   "version": "0.4.5"
  }
 },
 "nbformat": 4,
 "nbformat_minor": 0
}
