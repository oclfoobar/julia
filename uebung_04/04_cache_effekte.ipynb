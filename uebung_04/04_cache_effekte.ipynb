{
 "cells": [
  {
   "cell_type": "markdown",
   "metadata": {},
   "source": [
    "<table style=\"width: 100%; border-style: none;\">\n",
    "<tr style=\"border-style: none\">\n",
    "<td style=\"border-style: none; width: 1%; font-size: 16px\">Institut f&uuml;r Theoretische Physik<br /> Universit&auml;t zu K&ouml;ln</td>\n",
    "<td style=\"border-style: none; width: 1%; font-size: 16px\">&nbsp;</td>\n",
    "<td style=\"border-style: none; width: 1%; text-align: right; font-size: 16px\">Prof. Dr. Simon Trebst<br />Peter Br&ouml;cker</td>\n",
    "</tr>\n",
    "</table>\n",
    "<hr>\n",
    "<h1 style=\"font-weight:bold; text-align: center; margin: 0px; padding:0px;\">Computerphysik</h1>\n",
    "<h1 style=\"font-weight:bold; text-align: center; margin: 0px; padding:0px;\">&Uuml;bungsblatt 4</h1>\n",
    "<hr>\n",
    "<h3 style=\"font-weight:bold; text-align: center; margin: 0px; padding:0px; margin-bottom: 20px;\">Sommersemester 2016</h3>\n",
    "\n",
    "**Website:** [http://www.thp.uni-koeln.de/trebst/Lectures/2016-CompPhys.shtml](http://www.thp.uni-koeln.de/trebst/Lectures/2016-CompPhys.shtml)\n",
    "\n",
    "**Abgabe**: Montag, 9. Mai, 2016 vor der Vorlesung\n",
    "\n",
    "**Name**: <font color=\"red\">Bitte geben Sie ihren Namen an</font>\n",
    "\n",
    "**Matrikelnummer**: <font color=\"red\">Bitte geben Sie ihre Matrikelnummer an</font>"
   ]
  },
  {
   "cell_type": "markdown",
   "metadata": {},
   "source": [
    "<table style=\"border-style: none; width: 100%\"><tr style=\"border-style: none;\">\n",
    "<td style=\"border-style: none; width: 1%; font-size: 20px; font-weight: bold\">Cache-Effekte</td>\n",
    "<td style=\"border-style: none; width: 1%; text-align: right\">(5 Punkte)</td></tr></table>\n",
    "\n"
   ]
  },
  {
   "cell_type": "markdown",
   "metadata": {},
   "source": [
    "In der Vorlesung haben wir anhand einfacher physikalischer Überlegungen untersucht, wie schnell sich Informationen im Computer (maximal) ausbreiten können und was dies für die geometrische Anordnung etwa von CPU und Speicher bedeutet.\n",
    "Illustrieren Sie diese Überlegungen für einen CPU Chip von 3cm Kantenlänge: Wie hoch darf die Taktfrequenz einer solchen CPU höchstens sein, damit die beiden am weitesten voneinander entferntesten Punkte des Chips wähnend eines Taktes noch Informationen austauschen können, also Information von einem Punkt zum anderen und wieder zurück übertragen können? Bedenken Sie dabei, dass die Leiterbahnen auf einem CHIP nicht diagonal sondern in Manhattan-Form (rechtwinklig) verlegt sind."
   ]
  },
  {
   "cell_type": "markdown",
   "metadata": {},
   "source": [
    "### Antwort\n",
    "* Kantenlänge: $s = 3 \\text{ cm} = 3\\cdot10^{-2} \\text{ m}$\n",
    "* Datenübertragungsgeschwindigkeit: $v \\approx c \\approx 3\\cdot10^8 \\frac{\\text{m}}{\\text{s}}$\n",
    "* Taktrate $f$\n",
    "\n",
    "    $\\Rightarrow f = \\frac{v}{4s}$\n",
    "\n",
    "    $\\Rightarrow f = 3.75\\cdot10^9 \\text{ Hz} = 3.75 \\text{ GHz}$\n",
    "\n",
    "**Die Taktfrequenz darf höchstens 3.75 GHz groß sein.**"
   ]
  },
  {
   "cell_type": "markdown",
   "metadata": {},
   "source": [
    "Um diesen elementaren Flaschenhals zu vermeiden, werden in modernen Chips verschiedene Speicher-Ebenen (sogenannte Cache-Level) verbaut, die in unmittelbarer Nähe zu den Rechen-Cores auf dem Chip angesiedelt werden.\n",
    "In dieser Aufgabe wollen wir untersuchen, ob wir mit einem recht elementaren Programm diese Speicherstruktur sichtbar machen können. \n",
    "\n",
    "Untersuchen Sie dazu den folgenden von uns verlinkten C++ Code. Lesen Sie diesen detailliert kommentierten Quellcode, welchen Sie allein mit Ihren Julia-Kenntnissen verstehen können sollten, und beschreiben Sie in Worten den Ablauf des Programms. Skizzieren Sie dazu – ähnlich zu der in der Vorlesung verwandten Notation – einen Flussablauf des Programms."
   ]
  },
  {
   "cell_type": "markdown",
   "metadata": {
    "collapsed": false
   },
   "source": [
    "```c\n",
    "// Einbinden von Bibliotheken aehnlich zu \"using\" oder \"import\" in Julia\n",
    "#include <iostream>\n",
    "#include <sys/time.h>\n",
    "#include <math.h>\n",
    "\n",
    "// das Hauptprogramm\n",
    "int main() {\n",
    "\n",
    "    // Anzahl der Datenpunkte\n",
    "    int steps = 18;\n",
    "\n",
    "    for (int i = 0; i < steps; ++i) {\n",
    "        // Groesse des Arrays\n",
    "        int kbytes = int(pow(2., double(i)));\n",
    "        int array_size = kbytes * 1024;\n",
    "\n",
    "        // Array initialisieren, aequivalent zu zeros(array_size)\n",
    "        unsigned int * array = new unsigned int[array_size];\n",
    "        for (int j  = 0; j < array_size; ++j) array[j] = 0;\n",
    "\n",
    "        // Messung starten\n",
    "        clock_t start = clock();\n",
    "\n",
    "        // Eigentlich eine Schleife, muss aus praktischen Gruenden\n",
    "        // aufgeteilt werden\n",
    "        for (int k = 0; k < (1024 * 4 - 1); ++k)\n",
    "            for(int j = 0; j < 1024 * 1024; ++j)\n",
    "                ++array[(j * 16) % array_size];\n",
    "                \n",
    "        // Messung stoppen\n",
    "        clock_t elapsed = clock() - start;\n",
    "\n",
    "        // Array loeschen, geschieht in Julia automatisch\n",
    "        delete [] array;\n",
    "\n",
    "        // Daten ausgeben\n",
    "        std::cout << kbytes << \" \" << elapsed << std::endl;\n",
    "    }\n",
    "}\n",
    "```"
   ]
  },
  {
   "cell_type": "markdown",
   "metadata": {},
   "source": [
    "### Programmablauf\n",
    "Zunächst werden die Module \"iostream\", \"time.h\" aus dem Ordner \"sys\" und \"math.h\" geladen. Dann wird die Funktion \"main\" definiert, die später geladen bzw. ausgeführt wird. Daraufhin wird festgelegt, wie viele Daten berechnet werden sollen, hier sind es 18. In einer *for*-Schleife wird dann folgendes für alle Werte von $i=0$ bis $i = \\text{steps}-1$ gemacht:  \n",
    "\n",
    "* Als erstes wird ein Array für Zahlen der Speichergröße von $2^i$ KB erstellt, wobei die Zahl doppelt so genau ist wie normal. Der Speicherplatz für diese Zahl ist also doppelt so groß wie normal. Dabei wird erst die Größe festgelegt, dann der Array für nichtnegative Zahlen (*unsigned integer*) definiert und jeweils der Wert $0$ gespeichert.  \n",
    "* Dann wird eine Zeitmessung begonnen. Daraufhin wird eine weitere Schleife begonnen: 4096\\*1048576-mal wird eine $1$ an eine spezifische Stelle im Array addiert.\n",
    "* Es werden also ziemlich viele Rechnungen durchgeführt. Die dafür benötigte Zeit wird gestoppt und gespeichert. Dann wird der Array am Ende eines jeden Schleifendurchlaufs gelöscht. Dies ist notwendig, damit im nächsten Durchlauf der Array mit neuen Eigenschaften neu definiert werden kann.\n",
    "* Zuletzt wird die Speichergröße einer jeden Zahl zusammen mit der gestoppten Zeit ausgegeben. Die letzte Befehlszeile (\"*std::$\\dots$::endl;*\") enspricht *println(kbytes, \" \", elapsed)*.\n",
    "\n",
    "Den Begriff \"Speichergröße\" verwende ich hier für den Speicherplatz, der für die Zahl reserviert wird. Es ist ähnlich der *word size*. Z.B. ist die Speichergröße für *Int64* in Julia 64B."
   ]
  },
  {
   "cell_type": "markdown",
   "metadata": {},
   "source": [
    "### Flussdiagramm"
   ]
  },
  {
   "cell_type": "markdown",
   "metadata": {},
   "source": [
    "### Sinn des Programms\n",
    "Dieses Programm ist dazu gedacht, die Zeit für lange Rechnungen zu ermitteln. Das Berechnen und Speichern von großen Zahlen dient allein dazu, den Rechner zu beschäftigen. Somit kann die Zeit für längere Rechenoperationen gemessen und ausgegeben werden. Diese Ausgabe wird in dem Bash-Skript, das weiter unten aufgerufen wird, in einer Datei gespeichert."
   ]
  },
  {
   "cell_type": "markdown",
   "metadata": {},
   "source": [
    "Dieses Programm finden Sie außerdem in Ihrem git Verzeichnis. Mit dem Ausführen der nächsten Zeile wird ein Skript gestartet, mit dem dieses Programm kompiliert und gestartet wird. Dieser Prozess wird ca. 10 Minuten dauern und hängt auch davon ab, wie ausgelastet der JuliaBox-Server ist. "
   ]
  },
  {
   "cell_type": "code",
   "execution_count": 1,
   "metadata": {
    "collapsed": false
   },
   "outputs": [],
   "source": [
    "# why shall this code be used?\n",
    "#run(`chmod +x ./04_cache_effekte.sh`)\n",
    "#run(`./04_cache_effekte.sh`)\n",
    "\n",
    "# why not like this?\n",
    "# just comments, because done already\n",
    "#run(`bash 04_cache_effekte.sh`)"
   ]
  },
  {
   "cell_type": "markdown",
   "metadata": {},
   "source": [
    "Wir nutzen nun das Paket *DataFrames*, um die Ausgabe des Programms zu verarbeiten und grafisch darzustellen. "
   ]
  },
  {
   "cell_type": "code",
   "execution_count": 2,
   "metadata": {
    "collapsed": false
   },
   "outputs": [
    {
     "data": {
      "image/png": "[encoded data removed]",
      "text/plain": [
       "PyPlot.Figure(PyObject <matplotlib.figure.Figure object at 0x7f1ac80e3fd0>)"
      ]
     },
     "metadata": {},
     "output_type": "display_data"
    }
   ],
   "source": [
    "using DataFrames\n",
    "using PyPlot\n",
    "\n",
    "figure(figsize=(12, 5))\n",
    "data = readtable(\"04_cache_effekte.csv\", separator=' ', header=false)\n",
    "x_values = [Int(2^x) for x in log2(data[:, 1])]\n",
    "plot(x_values, data[:, 2])\n",
    "gca()[:set_xscale](\"log\", basex=2)\n",
    "xticks(x_values[1:2:end], [string(x) for x in x_values][1:2:end])\n",
    "xlabel(\"Array / kB\")\n",
    "ylabel(\"Bearbeitungsdauer\")\n",
    ";"
   ]
  },
  {
   "cell_type": "markdown",
   "metadata": {},
   "source": [
    "### Erklären Sie den Verlauf der Kurve. Schätzen Sie die Größen der einzelnen Cachelevel ab.\n",
    "\n",
    "Mithilfe der Bearbeitungsdauer kann man abschätzen, welcher CPU-Cache wann benutzt wird. Zunächst wird der *L1*-Cache benutzt, der eine sehr geringe Größe hat und in den Kernen der CPU liegt. Danach wird der *L2*-Cache benutzt, der größer ist und an den Kernen liegt; zuletzt wird der *L3*-Cache genutzt, der der größte der Caches ist und in der gesamten CPU liegt. Zum Schluss muss das RAM genutzt werden, welches außerhalb der CPU verbaut ist.\n",
    "\n",
    "* Für sehr Datenmengen bis zu 8 kB bleibt die Rechenzeit konstant gering, hierbei wird wohl der *L1*-Cache benutzt.\n",
    "* Daraufhin steigt die Berabeitungsdauer an, wohl weil die Daten weiter geschickt werden müssen. Dies bedeutet, dass nun der nächste Cache, *L2*, genutzt wird. Hierbei kommt es zu Schwankungen, die vermutlich mit Ungenauigkeiten und der Art der Verwendung des Caches zu erklären sind.\n",
    "* Im Bereich von ca. 128 kB bis ca. 4096 kB bleibt die Zeit wieder in etwa konstant. Hieraus lässt sich schließen, dass in dem Datenbereich der *L3*-Cache genutzt wird.\n",
    "* Zum Schluss kommt es zu einem Sprung im Graphen um etwa 1 s, was sehr viel im Vergleich zu den anderen Änderungen ist. Daher wird nun wohl das RAM verwendet, weil auch der *L3* voll ist.\n",
    "\n",
    "Daraus lässt sich schließen, dass der **L1 8 kB**, der **L2 128 kB** und der **L3 4 MB** Speicher umfassen."
   ]
  },
  {
   "cell_type": "markdown",
   "metadata": {},
   "source": [
    " "
   ]
  }
 ],
 "metadata": {
  "kernelspec": {
   "display_name": "Julia 0.4.5",
   "language": "julia",
   "name": "julia-0.4"
  },
  "language_info": {
   "file_extension": ".jl",
   "mimetype": "application/julia",
   "name": "julia",
   "version": "0.4.5"
  }
 },
 "nbformat": 4,
 "nbformat_minor": 0
}
