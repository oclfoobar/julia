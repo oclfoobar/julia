{
 "cells": [
  {
   "cell_type": "markdown",
   "metadata": {},
   "source": [
    "<table style=\"width: 100%; border-style: none;\">\n",
    "<tr style=\"border-style: none\">\n",
    "<td style=\"border-style: none; width: 1%; font-size: 16px\">Institut f&uuml;r Theoretische Physik<br /> Universit&auml;t zu K&ouml;ln</td>\n",
    "<td style=\"border-style: none; width: 1%; font-size: 16px\">&nbsp;</td>\n",
    "<td style=\"border-style: none; width: 1%; text-align: right; font-size: 16px\">Prof. Dr. Simon Trebst<br />Peter Br&ouml;cker</td>\n",
    "</tr>\n",
    "</table>\n",
    "<hr>\n",
    "<h1 style=\"font-weight:bold; text-align: center; margin: 0px; padding:0px;\">Computerphysik</h1>\n",
    "<h1 style=\"font-weight:bold; text-align: center; margin: 0px; padding:0px;\">&Uuml;bungsblatt 12</h1>\n",
    "<hr>\n",
    "<h3 style=\"font-weight:bold; text-align: center; margin: 0px; padding:0px; margin-bottom: 20px;\">Sommersemester 2016</h3>\n",
    "\n",
    "<p>**Website:** [http://www.thp.uni-koeln.de/trebst/Lectures/2016-CompPhys.shtml](http://www.thp.uni-koeln.de/trebst/Lectures/2016-CompPhys.shtml)</p>\n",
    "\n",
    "<p>**Abgabe**: Montag, 11. Juli, 2016 vor der Vorlesung</p>\n",
    "\n",
    "<p>**Name**: <font color=\"red\">Bitte geben Sie ihren Namen an</font></p>\n",
    "\n",
    "<p>**Matrikelnummer**: <font color=\"red\">Bitte geben Sie ihre Matrikelnummer an</font></p><br />\n",
    "\n",
    "\n",
    "<table style=\"border-style: none; width: 100%; margin-top: 20px; padding: 0px;\"\n",
    "><tr style=\"border-style: none; margin: 0px; padding: 0px;\">\n",
    "<td style=\"border-style: none; width: 80%; margin: 0px; padding: 0px; font-size: 20px; font-weight: bold\">Was wächsten denn da?</td>\n",
    "<td style=\"border-style: none; width: 20%; margin: 0px; padding: 0px; text-align: right\">(3 Bonuspunkte)</td></tr></table>"
   ]
  },
  {
   "cell_type": "markdown",
   "metadata": {},
   "source": [
    "Seltsame (aber schön anzuschauende) **Attraktoren iterativer Verfahren** haben wir mit dem Gumowski-Mira Attraktor bereits auf dem ersten Übungsblatt kennengelernt. Hier wollen wir einen neuen Attraktor kennenlernen, welcher einem\n",
    "**nicht-deterministischen iterativen Verfahren** innewohnt. \n",
    "\n",
    "Schreiben Sie dazu ein Programm  zur Berechnung der folgenden Sequenz von Koordinaten $(x_n,y_n)$\n",
    "\\begin{equation}\n",
    "  \\left(\\begin{matrix}\n",
    "  x_{n+1} \\\\ y_{n+1}\n",
    "  \\end{matrix}\\right) = \\left(\\begin{matrix} a \\quad b \\\\  c \\quad d \\end{matrix}\\right) \\left(\\begin{matrix}x_{n} \\\\ y_{n}\\end{matrix}\\right) + \\left(\\begin{matrix}e \\\\ f\\end{matrix}\\right)\n",
    "\\end{equation}\n",
    "wobei die einzelnen Transformations-Elemente $a,b, \\ldots, e$ noch zu spezifizieren sind."
   ]
  },
  {
   "cell_type": "markdown",
   "metadata": {},
   "source": [
    "Insbesondere wollen wir *vier* unterschiedliche Transformationen $T_i$ definieren, welche mit gewissen Wahrscheinlichkeiten $p_i$ *zufällig* angewandt werden sollen. Diese seien\n",
    "\n",
    "\\begin{align}\n",
    " T_1: \\quad\\quad & \\left(\\begin{matrix} +0.85 \\quad +0.04 \\\\  -0.04 \\quad  +0.85 \\end{matrix}\\right) & \\left(\\begin{matrix}0.00 \\\\ 1.60\\end{matrix}\\right)   & \\quad\\quad p_1 = 0.85 \\\\\n",
    " \\\\\n",
    " T_2: \\quad\\quad & \\left(\\begin{matrix} +0.20 \\quad -0.26 \\\\  +0.23 \\quad  +0.22 \\end{matrix}\\right) & \\left(\\begin{matrix}0.00 \\\\ 1.60\\end{matrix}\\right)   & \\quad\\quad p_2 = 0.07 \\\\\n",
    " \\\\\n",
    " T_3: \\quad\\quad & \\left(\\begin{matrix} -0.15 \\quad  +0.28 \\\\  +0.26 \\quad  +0.24 \\end{matrix}\\right) & \\left(\\begin{matrix}0.00 \\\\ 0.44\\end{matrix}\\right) & \\quad\\quad p_3 = 0.07 \\\\\n",
    " \\\\\n",
    " T_4: \\quad\\quad & \\left(\\begin{matrix} \\pm0.00 \\quad \\pm0.00 \\\\   \\pm0.00 \\quad  +0.16 \\end{matrix}\\right) & \\left(\\begin{matrix}0.00 \\\\ 0.00\\end{matrix}\\right)      & \\quad\\quad p_4 = 0.01 \\\\\n",
    "\\end{align}"
   ]
  },
  {
   "cell_type": "code",
   "execution_count": 1,
   "metadata": {
    "collapsed": false
   },
   "outputs": [
    {
     "data": {
      "text/plain": [
       "trafo (generic function with 2 methods)"
      ]
     },
     "execution_count": 1,
     "metadata": {},
     "output_type": "execute_result"
    }
   ],
   "source": [
    "T1 = [+0.85 +0.04 ; -0.04 +0.85]\n",
    "b1 = [0.00 , 1.60]\n",
    "p1 = 0.85\n",
    "\n",
    "T2 = [+0.20 -0.26 ; +0.23 +0.22]\n",
    "b2 = [0.00 , 1.60]\n",
    "p2 = 0.07\n",
    "\n",
    "T3 = [-0.15 +0.28 ; +0.26 +0.24]\n",
    "b3 = [0.00 , 0.44]\n",
    "p3 = 0.07\n",
    "\n",
    "T4 = [0.00   0.00 ;  0.00 +0.16]\n",
    "b4 = [0.00 , 0.00]\n",
    "p4 = 0.01\n",
    "\n",
    "function trafo(x, M, b)\n",
    "    return M*x + b\n",
    "end\n",
    "\n",
    "function trafo(x)\n",
    "    rnd = rand()\n",
    "    if rnd <= p1\n",
    "        return trafo(x, T1, b1)\n",
    "    elseif rnd <= p1+p2\n",
    "        return trafo(x, T2, b2)\n",
    "    elseif rnd <= p1+p2+p3\n",
    "        return trafo(x, T3, b3)\n",
    "    else\n",
    "        return trafo(x, T4, b4)\n",
    "    end\n",
    "end"
   ]
  },
  {
   "cell_type": "markdown",
   "metadata": {},
   "source": [
    "Stellen Sie die Sequenz $(x_n, y_n)$ *graphisch* dar, indem Sie für jedes Koordinatenpaar einen Punkt an entsprechender Stelle setzen. Plotten Sie die ersten 1.000.000 Punkte der Sequenz mit $(x_0, y_0) = (0, 0)$ im Koordinatenbereich $-5.5 \\leq x \\leq 6.5$ und $-0.5 \\leq y \\leq 10.5$."
   ]
  },
  {
   "cell_type": "code",
   "execution_count": 2,
   "metadata": {
    "collapsed": true
   },
   "outputs": [],
   "source": [
    "# initialize\n",
    "\n",
    "using PyPlot\n",
    "\n",
    "N = 1e6\n",
    "xmin  = -5.5\n",
    "xmax  =  6.5\n",
    "ymin  = -0.5\n",
    "ymax  = 10.5\n",
    "pos   = [0., 0.] # actual position\n",
    "\n",
    "# calculate\n",
    "xs = [pos[1]]\n",
    "ys = [pos[2]]\n",
    "\n",
    "for i in 2:N\n",
    "    pos = trafo(pos)\n",
    "    push!(xs, pos[1])\n",
    "    push!(ys, pos[2])\n",
    "end"
   ]
  },
  {
   "cell_type": "code",
   "execution_count": 3,
   "metadata": {
    "collapsed": false
   },
   "outputs": [
    {
     "data": {
      "image/png": "[encoded data removed]",
      "text/plain": [
       "PyPlot.Figure(PyObject <matplotlib.figure.Figure object at 0x7f0d62983ed0>)"
      ]
     },
     "metadata": {},
     "output_type": "display_data"
    }
   ],
   "source": [
    "# plot\n",
    "figure()\n",
    "plot(xs, ys, linestyle=\"none\", marker=\".\")\n",
    "xlim(xmin,xmax)\n",
    "ylim(ymin,ymax)\n",
    ";"
   ]
  },
  {
   "cell_type": "markdown",
   "metadata": {},
   "source": [
    " "
   ]
  }
 ],
 "metadata": {
  "kernelspec": {
   "display_name": "Julia 0.4.5",
   "language": "julia",
   "comment": "from https://github.com/oclfoobar/ ",
   "name": "julia-0.4"
  },
  "language_info": {
   "file_extension": ".jl",
   "mimetype": "application/julia",
   "name": "julia",
   "version": "0.4.6"
  }
 },
 "nbformat": 4,
 "nbformat_minor": 0
}
