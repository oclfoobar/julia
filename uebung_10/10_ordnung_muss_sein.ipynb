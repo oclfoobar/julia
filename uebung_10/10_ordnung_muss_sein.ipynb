{
 "cells": [
  {
   "cell_type": "markdown",
   "metadata": {},
   "source": [
    "<table style=\"width: 100%; border-style: none;\">\n",
    "<tr style=\"border-style: none\">\n",
    "<td style=\"border-style: none; width: 1%; font-size: 16px\">Institut f&uuml;r Theoretische Physik<br /> Universit&auml;t zu K&ouml;ln</td>\n",
    "<td style=\"border-style: none; width: 1%; font-size: 16px\">&nbsp;</td>\n",
    "<td style=\"border-style: none; width: 1%; text-align: right; font-size: 16px\">Prof. Dr. Simon Trebst<br />Peter Br&ouml;cker</td>\n",
    "</tr>\n",
    "</table>\n",
    "<hr>\n",
    "<h1 style=\"font-weight:bold; text-align: center; margin: 0px; padding:0px;\">Computerphysik</h1>\n",
    "<h1 style=\"font-weight:bold; text-align: center; margin: 0px; padding:0px;\">&Uuml;bungsblatt X</h1>\n",
    "<hr>\n",
    "<h3 style=\"font-weight:bold; text-align: center; margin: 0px; padding:0px; margin-bottom: 20px;\">Sommersemester 2016</h3>\n",
    "\n",
    "<p>**Website:** [http://www.thp.uni-koeln.de/trebst/Lectures/2016-CompPhys.shtml](http://www.thp.uni-koeln.de/trebst/Lectures/2016-CompPhys.shtml)</p>\n",
    "\n",
    "<p>**Abgabe**: Montag, 27.06, 2016 vor der Vorlesung</p>\n",
    "\n",
    "<p>**Name**: <font color=\"red\">Bitte geben Sie ihren Namen an</font></p>\n",
    "\n",
    "<p>**Matrikelnummer**: <font color=\"red\">Bitte geben Sie ihre Matrikelnummer an</font></p><br />\n",
    "\n",
    "\n",
    "<table style=\"border-style: none; width: 100%; margin-top: 20px; padding: 0px;\"\n",
    "><tr style=\"border-style: none; margin: 0px; padding: 0px;\">\n",
    "<td style=\"border-style: none; width: 80%; margin: 0px; padding: 0px; font-size: 20px; font-weight: bold\">Ordnung muss sein</td>\n",
    "<td style=\"border-style: none; width: 20%; margin: 0px; padding: 0px; text-align: right\">(5 Punkte)</td></tr></table>\n",
    "\n"
   ]
  },
  {
   "cell_type": "markdown",
   "metadata": {},
   "source": [
    "In dieser Aufgabe wollen wir die **Effizienz von Algorithmen** untersuchen. Dazu wollen wir verschiedene Algorithmen betrachten, eine Menge  natürlicher Zahlen der Größe nach zu sortieren.\n",
    "\n",
    "Als Eingabe werden wir Listen von zufällig erzeugten natürlichen Zahlen zwischen 1 und 100 verwenden:\n",
    "```\n",
    "numbers = rand(1:100, 50)\n",
    "```\n",
    "Kommentieren Sie den folgenden Ausschnitt Zeile für Zeile:"
   ]
  },
  {
   "cell_type": "code",
   "execution_count": 1,
   "metadata": {
    "collapsed": false
   },
   "outputs": [
    {
     "name": "stdout",
     "output_type": "stream",
     "text": [
      "1225\n",
      "[1,4,4,4,7,8,11,13,13,16,16,17,18,24,30,31,31,31,32,36,36,42,43,45,46,47,49,51,52,55,58,58,67,68,71,71,72,72,74,77,77,81,81,83,84,84,86,89,95,99]\n"
     ]
    }
   ],
   "source": [
    "function sort_1!(v)\n",
    "    # this function sorts all elements in the array v\n",
    "    \n",
    "    n_elements = length(v) # save the length of the array\n",
    "    # save number of steps here\n",
    "    # one step is defined by one comparison of two values\n",
    "    n_steps = 0 # zero steps are done yet\n",
    "\n",
    "    for i = 1:n_elements - 1 \n",
    "        # for each index from 1 to d of array v do:\n",
    "        \n",
    "        min = i # set actual (i-th) value to be the minimum\n",
    "        for j = i + 1:n_elements # for all FOLLOWING elements (j>) do:\n",
    "            n_steps += 1 # one \"step\" is done, so increase the number of taken steps by 1\n",
    "            if (v[j] < v[min])\n",
    "                # if the value on position j is smaller than the value on position min: set minimum to index j\n",
    "                min = j\n",
    "            end\n",
    "        end\n",
    "        \n",
    "        # swap the element at index i with the element at index min\n",
    "        # if min is i, nothing will be done\n",
    "        # else the smallest value of the array v2=v[i:end] will be saved at the i-th position\n",
    "        # and the former value from positon i will be put to the former position of the smallest element\n",
    "        v[i], v[min] = v[min], v[i]\n",
    "        # now all elements up to element i are sorted\n",
    "    end \n",
    "\n",
    "    # return the number of taken steps\n",
    "    return n_steps\n",
    "end \n",
    "\n",
    "len = 50 # sort an array with 50 random elements\n",
    "numbers = rand(1:100, len) # each element is an integer from 1 to 100\n",
    "println(sort_1!(numbers)) # print the number of taken steps\n",
    "println(numbers) # print the sorted array"
   ]
  },
  {
   "cell_type": "markdown",
   "metadata": {},
   "source": [
    "Der Code hat einen Zähler, der bestimmt, **wie viele Iterationsschritte** (Schleifendurchläufe) bis zur vollständigen Sortierung benötigt wurden.\n",
    " \n",
    "Ermitteln Sie die nötigen Iterationsschritte für Listen verschiedener Längen. Bestimmen Sie (auch mit Hilfe des Programmcodes) eine Formel, die die Anzahl der Durchläufe in Abhängigkeit von der Länge $n$ der eingegebenen Liste abschätzt. Reduzieren Sie den erhaltenen Term auf seine **führende Ordnung**. Sehen Sie, wie Sie diese führende Ordnung auf den ersten Blick aus dem Programmcode ableiten können?"
   ]
  },
  {
   "cell_type": "markdown",
   "metadata": {},
   "source": [
    " "
   ]
  },
  {
   "cell_type": "markdown",
   "metadata": {},
   "source": [
    "Die benötigte Laufzeit in Abhängigkeit der Länge der Eingabe nennt man die **Komplexität** eines\n",
    "Algorithmus. Jeder Algorithmus lässt sich in eine sogenannte Komplexitätsklasse einordnen, die mit z.B. $\\mathcal{O} (n^4)$ notiert wird (auch O-Notation genannt). \n",
    "\n",
    "Ermitteln Sie nun die Laufzeit als Funktion der Eingabelänge und stellen Sie diese Beziehung grafisch dar. Können Sie die zuvor ermittelte Komplexitätsklasse bestätigen?"
   ]
  },
  {
   "cell_type": "markdown",
   "metadata": {
    "collapsed": true
   },
   "source": [
    " "
   ]
  },
  {
   "cell_type": "markdown",
   "metadata": {},
   "source": [
    "Betrachten Sie nun den untenstehenden Sortieralgorithmus und versuchen Sie nachzuvollziehen, wie dieser Algorithmus funktioniert. Überlegen Sie sich, warum er auch unter dem Namen **merge sort** bekannt ist."
   ]
  },
  {
   "cell_type": "code",
   "execution_count": 2,
   "metadata": {
    "collapsed": false
   },
   "outputs": [
    {
     "name": "stdout",
     "output_type": "stream",
     "text": [
      "[3,3,8,9,9,12,12,13,14,16,17,18,19,19,23,25,28,30,31,33,35,36,37,41,42,42,44,45,47,49,49,55,56,60,61,63,66,68,72,74,75,78,79,80,84,90,91,94,99,100]\n"
     ]
    }
   ],
   "source": [
    "function sort_2!(v)\n",
    "    if length(v) > 1\n",
    "        middle = Int(floor(length(v) / 2))\n",
    "        left = copy(v[1:middle])\n",
    "        right = copy(v[middle + 1:end])\n",
    "\n",
    "        sort_2!(left)\n",
    "        sort_2!(right)\n",
    "\n",
    "        i, j, k = 1, 1, 1\n",
    "    \n",
    "        while i <= length(left) && j <= length(right)\n",
    "            if left[i] < right[j]\n",
    "                v[k] = left[i]\n",
    "                i += 1\n",
    "            else\n",
    "                v[k] = right[j]\n",
    "                j += 1\n",
    "            end\n",
    "            k += 1\n",
    "        end\n",
    "\n",
    "        while i <= length(left)\n",
    "            v[k] = left[i]\n",
    "            i += 1\n",
    "            k += 1\n",
    "        end\n",
    "        \n",
    "        while j <= length(right)\n",
    "            v[k] = right[j]\n",
    "            j += 1\n",
    "            k += 1\n",
    "        end\n",
    "    end\n",
    "end\n",
    "\n",
    "len = 50\n",
    "numbers = collect(rand(1:100, len))\n",
    "sort_2!(numbers)\n",
    "println(numbers)"
   ]
  },
  {
   "cell_type": "markdown",
   "metadata": {},
   "source": [
    "Stellen Sie nun auch für diesen Algorithmus die Geschwindigkeit grafisch dar. Auf Kosten wovon wurde bei diesem Algorithmus der **Geschwindigkeitsvorteil** erkauft? (Tipp: Auf welche Kennzahl achten Sie üblicherweise beim Laptop-/Computerkauf neben der Prozessorgeschwindigkeit?).  \n",
    "(Aehnlich wie es in der VL mit bubble_sort gemacht wurde.)"
   ]
  },
  {
   "cell_type": "markdown",
   "metadata": {
    "collapsed": true
   },
   "source": [
    " "
   ]
  }
 ],
 "metadata": {
  "kernelspec": {
   "display_name": "Julia 0.4.5",
   "language": "julia",
   "comment": "from https://github.com/oclfoobar/ ",
   "name": "julia-0.4"
  },
  "language_info": {
   "file_extension": ".jl",
   "mimetype": "application/julia",
   "name": "julia",
   "version": "0.4.5"
  }
 },
 "nbformat": 4,
 "nbformat_minor": 0
}
