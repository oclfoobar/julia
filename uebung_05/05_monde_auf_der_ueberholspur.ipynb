{
 "cells": [
  {
   "cell_type": "markdown",
   "metadata": {},
   "source": [
    "<table style=\"width: 100%; border-style: none;\">\n",
    "<tr style=\"border-style: none\">\n",
    "<td style=\"border-style: none; width: 1%; font-size: 16px\">Institut f&uuml;r Theoretische Physik<br /> Universit&auml;t zu K&ouml;ln</td>\n",
    "<td style=\"border-style: none; width: 1%; font-size: 16px\">&nbsp;</td>\n",
    "<td style=\"border-style: none; width: 1%; text-align: right; font-size: 16px\">Prof. Dr. Simon Trebst<br />Peter Br&ouml;cker</td>\n",
    "</tr>\n",
    "</table>\n",
    "<hr>\n",
    "<h1 style=\"font-weight:bold; text-align: center; margin: 0px; padding:0px;\">Computerphysik</h1>\n",
    "<h1 style=\"font-weight:bold; text-align: center; margin: 0px; padding:0px;\">&Uuml;bungsblatt 5</h1>\n",
    "<hr>\n",
    "<h3 style=\"font-weight:bold; text-align: center; margin: 0px; padding:0px; margin-bottom: 20px;\">Sommersemester 2016</h3>\n",
    "\n",
    "**Website:** [http://www.thp.uni-koeln.de/trebst/Lectures/2016-CompPhys.shtml](http://www.thp.uni-koeln.de/trebst/Lectures/2016-CompPhys.shtml)\n",
    "\n",
    "**Abgabe**: Montag, 23. Mai, 2016 vor der Vorlesung\n",
    "\n",
    "**Name**: <font color=\"red\">Bitte geben Sie ihren Namen an</font>\n",
    "\n",
    "**Matrikelnummer**: <font color=\"red\">Bitte geben Sie ihre Matrikelnummer an</font>"
   ]
  },
  {
   "cell_type": "markdown",
   "metadata": {},
   "source": [
    "<table style=\"border-style: none; width: 100%\"><tr style=\"border-style: none;\">\n",
    "<td style=\"border-style: none; width: 1%; font-size: 20px; font-weight: bold\">Monde auf der Überholspur</td>\n",
    "<td style=\"border-style: none; width: 1%; text-align: right\">(5 Punkte)</td></tr></table>\n",
    "\n",
    "Die Monde **Janus** und **Epimetheus** umkreisen den Planeten Saturn *koorbital*, d.h. auf nahezu der gleichen Bahn.\n",
    "Bemerkenswerterweise ist dabei der Bahnunterschied zwischen dem inneren und dem äußeren der beiden Monde deutlich\n",
    "kleiner als deren Durchmesser. Alle vier Jahre begegnen sich die beiden Monde, da der innere Mond ein wenig schneller unterwegs ist als der Äußere. Wieso es dabei nicht zu einer Kollision kommt, wollen wir in dieser Aufgabe untersuchen.\n",
    "\n",
    "Dazu wollen wir das **3-Körper-System** aus Saturn, Janus und  Epimetheus simulieren. Für die Simulation bewegen wir uns ins Bezugssystem des Saturn. Zwischen zwei Körpern wirkt dann eine Gravitationskraft gemäß\n",
    "\n",
    "\\begin{equation}\n",
    "\\mathbf{F}_{12}=-G\\frac{m_1 m_2}{|\\mathbf{r}_1-\\mathbf{r}_2|^3}\\left(\\mathbf{r}_1-\\mathbf{r}_2\\right),\n",
    "\\end{equation}\n",
    "\n",
    "wobei wir die Gravitationskonstante $G = 1$ setzen (wodurch sich die Größen der Parameter natürlich von den realistischen unterscheiden). Berechnen Sie die Bahnen der Monde mittels des **Verlet**-Verfahrens und plotten Sie die Bahnkurven der Monde. Verwenden Sie folgende Startwerte:"
   ]
  },
  {
   "cell_type": "markdown",
   "metadata": {},
   "source": [
    "\\begin{align*}\n",
    "m_1 &= 1 \\\\\n",
    "m_2 &= 4 \\\\\n",
    "m_{\\text{Saturn}} &= 4\\times10^4 \\\\\n",
    "\\mathbf{r}_1 &= (-155, 0) \\quad \\frac{d\\mathbf{r}_1}{dt} = (0, -16.1) \\\\\n",
    "\\mathbf{r}_2 &= (150, 0), \\quad \\frac{d\\mathbf{r}_2}{dt} = (0, 16.3)\n",
    "\\end{align*}"
   ]
  },
  {
   "cell_type": "markdown",
   "metadata": {},
   "source": [
    "### Bemerkungen\n",
    "\n",
    "* berechnet wird die Bewegung zweier Monde der Massen $m_1$ und $m_2$ um ein Zentrum der Masse $M$\n",
    "* der Zentralkörper (hier: Saturn) ruht im Ursprung des Koordinatensystems\n",
    "* die *reduzierte Masse* $\\mu$ muss nicht berechnet werden, da $M\\gg m_1, m_2$\n",
    "* die Formel für die Verlet-Methode lautet: $f_{i+1} = 2\\cdot f_{i} - f_{i-1} + a*\\Delta t^2$\n",
    "* die Werte für die Beschleunigungen $a_i(t)$ sind für die Berechnung notwendig, aber uninteressant"
   ]
  },
  {
   "cell_type": "code",
   "execution_count": 29,
   "metadata": {
    "collapsed": false
   },
   "outputs": [
    {
     "name": "stdout",
     "output_type": "stream",
     "text": [
      "0.0\n"
     ]
    },
    {
     "ename": "LoadError",
     "evalue": "LoadError: MethodError: `convert` has no method matching convert(::Type{Float64}, ::Array{Int32,1})\nThis may have arisen from a call to the constructor Float64(...),\nsince type constructors fall back to convert methods.\nClosest candidates are:\n  call{T}(::Type{T}, ::Any)\n  convert(::Type{Float64}, !Matched::Int8)\n  convert(::Type{Float64}, !Matched::Int16)\n  ...\nwhile loading In[29], in expression starting on line 35",
     "output_type": "error",
     "traceback": [
      "LoadError: MethodError: `convert` has no method matching convert(::Type{Float64}, ::Array{Int32,1})\nThis may have arisen from a call to the constructor Float64(...),\nsince type constructors fall back to convert methods.\nClosest candidates are:\n  call{T}(::Type{T}, ::Any)\n  convert(::Type{Float64}, !Matched::Int8)\n  convert(::Type{Float64}, !Matched::Int16)\n  ...\nwhile loading In[29], in expression starting on line 35",
      ""
     ]
    }
   ],
   "source": [
    "function verlet_2_moons(t_0, t_end, dt, m1, m2, M, r1_0, r2_0, v1_0, v2_0, save_vs=false, return_as=false, G=6.67408e-11)\n",
    "    # initialize variables: arrays (r, v, a)\n",
    "    # attention: length(v) == length(r)-2 == length(a)-1\n",
    "    times = collect(t_0:dt:t_end)\n",
    "    body1 = tuple(zeros(length(times)), zeros(length(times)), zeros(length(times))) # (r, v, a)\n",
    "    body2 = tuple(zeros(length(times)), zeros(length(times)), zeros(length(times))) # (r, v, a)\n",
    "    a(r1, r2, m) = -G*M/abs(r2-r1)^3*(r2-r1) # a_i = F/m_i\n",
    "    \n",
    "    # t=t0\n",
    "    #   save r0\n",
    "    println(body1[1][1])\n",
    "    body1[1][1] = r1_0\n",
    "    body2[1][1] = r2_0\n",
    "    #   calc a\n",
    "    body1[1][3] = a(body1[1][1], body1[1][2], m1)\n",
    "    body2[1][3] = a(body1[1][1], body1[1][2], m2)\n",
    "    # t=t0+dt: calculate r, a\n",
    "    # for all t from t0+2dt to t_end: calculate r, a\n",
    "        # use verlet \n",
    "    # if save_velocities \n",
    "        # for all t from t0+dt to t_end-dt\n",
    "            # calculate v\n",
    "\n",
    "    # return everything wanted\n",
    "#    if return_as\n",
    "        #saves_vs == true ? (return (body1, body2)):(return (body1[1:2:3], body2[1:2:3]))\n",
    "#    else\n",
    "#        saves_vs == true ? (return (body1[1:2], body2[1:2])):(return (body1[1], body2[1]))\n",
    "#    end\n",
    "end\n",
    "\n",
    "t0 = 0\n",
    "t1 = 100\n",
    "dt = 1e-3\n",
    "verlet_2_moons(t0, t1, dt, 1, 4, 4e4, [-155, 0], [150, 0], [0, -16.1], [0, 16.3])\n",
    ";"
   ]
  },
  {
   "cell_type": "markdown",
   "metadata": {},
   "source": [
    " "
   ]
  }
 ],
 "metadata": {
  "kernelspec": {
   "display_name": "Julia 0.4.5",
   "language": "julia",
   "comment": "from https://github.com/oclfoobar/ ",
   "name": "julia-0.4"
  },
  "language_info": {
   "file_extension": ".jl",
   "mimetype": "application/julia",
   "name": "julia",
   "version": "0.4.5"
  }
 },
 "nbformat": 4,
 "nbformat_minor": 0
}
