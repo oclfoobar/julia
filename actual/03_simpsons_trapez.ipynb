{
 "cells": [
  {
   "cell_type": "markdown",
   "metadata": {},
   "source": [
    "<table style=\"width: 100%; border-style: none;\">\n",
    "<tr style=\"border-style: none\">\n",
    "<td style=\"border-style: none; width: 1%; font-size: 16px\">Institut f&uuml;r Theoretische Physik<br /> Universit&auml;t zu K&ouml;ln</td>\n",
    "<td style=\"border-style: none; width: 1%; font-size: 16px\">&nbsp;</td>\n",
    "<td style=\"border-style: none; width: 1%; text-align: right; font-size: 16px\">Prof. Dr. Simon Trebst<br />Peter Br&ouml;cker</td>\n",
    "</tr>\n",
    "</table>\n",
    "<hr>\n",
    "<h1 style=\"font-weight:bold; text-align: center; margin: 0px; padding:0px;\">Computerphysik</h1>\n",
    "<h1 style=\"font-weight:bold; text-align: center; margin: 0px; padding:0px;\">&Uuml;bungsblatt 3</h1>\n",
    "<hr>\n",
    "<h3 style=\"font-weight:bold; text-align: center; margin: 0px; padding:0px; margin-bottom: 20px;\">Sommersemester 2016</h3>\n",
    "\n",
    "**Website:** [http://www.thp.uni-koeln.de/trebst/Lectures/2016-CompPhys.shtml](http://www.thp.uni-koeln.de/trebst/Lectures/2016-CompPhys.shtml)\n",
    "\n",
    "**Abgabe**: Montag, 2. Mai, 2016 vor der Vorlesung\n",
    "\n",
    "**Name**: <font color=\"red\">Bitte geben Sie ihren Namen an</font>\n",
    "\n",
    "**Matrikelnummer**: <font color=\"red\">Bitte geben Sie ihre Matrikelnummer an</font>"
   ]
  },
  {
   "cell_type": "markdown",
   "metadata": {},
   "source": [
    "<table style=\"border-style: none; width: 100%\"><tr style=\"border-style: none;\">\n",
    "<td style=\"border-style: none; width: 1%; font-size: 20px; font-weight: bold\">Simpson vs. Trapezregel</td>\n",
    "<td style=\"border-style: none; width: 1%; text-align: right\">(5 Punkte)</td></tr></table>\n",
    "\n",
    "Die Mathematik kennt eine Reihe von speziellen Funktionen, die gerade in der Physik eine besondere Relevanz besitzen. Dazu gehören die **Kugelfläachen-Funktionen**, welche in Problemen mit sphärischer oder zylindrischer Symmetrie auftreten. Vielleicht erinnern Sie sich an die Multipolentwicklung der Elektrostatik, oder aber Sie werden Ihnen in der Quantenmechanik bei der Lösung des Wasserstoffatoms wieder begegnen. \n",
    "\n",
    "Sie ergeben sich als Lösungen der **Eigenwertgleichung** des Winkelanteils des Laplace-Operators:\n",
    "\n",
    "$\\left(\\frac{\\partial^{2}}{\\partial\\vartheta^{2}}+\\frac{\\cos\\vartheta}{\\sin\\vartheta}\\frac{\\partial}{\\partial\\vartheta}+\\frac{1}{\\sin^{2}\\vartheta}\\frac{\\partial^{2}}{\\partial\\varphi^{2}}\\right)Y_{\\ell m}(\\vartheta,\\varphi)=-\\ell(\\ell+1)Y_{\\ell m}(\\vartheta,\\varphi),$\n",
    "\n",
    "wobei wir uns hier auf den Spezialfall $m=0$ beschränken.\n",
    "\n",
    "Die Lösung lautet dann\n",
    "\n",
    "$ Y_{\\ell 0}(\\vartheta,\\varphi)=\\frac{1}{\\sqrt{2\\pi}}\\, N_{\\ell 0}\\, P_{\\ell 0}(\\cos\\vartheta)$\n",
    "\n",
    "mit den Normierungsfaktoren $N_{\\ell 0}=\\sqrt\\frac{2\\ell+1}{2}$ sowie den Legendrepolynomen\n",
    "\n",
    "$ P_{\\ell 0}(x)= P_\\ell(x) = \\frac{1}{2^\\ell \\, \\ell!} \\, \\frac{\\mathrm{d}^\\ell}{\\mathrm{d}x^\\ell} \\left(x^2-1\\right)^\\ell$\n",
    "\n",
    "Unser Ziel ist es nun, die **Orthogonalitätsrelation**\n",
    "\n",
    "$\\int Y_{\\ell 0}^{*}(\\vartheta,\\varphi) \\, Y_{\\ell' 0}(\\vartheta,\\varphi) d\\Omega = \\delta_{\\ell\\,\\ell'}$\n",
    "\n",
    "der Kugelflächen-Funktionen durch numerische Integration für $\\ell \\in [0,\\dots,3]$ zu überprüfen.\n",
    "\n",
    "Die erste Methode, die Sie kennengelernt haben, ist die **Trapezregel**. Wie der Name schon suggeriert, wird der Flächeninhalt durch eine Reihe von Trapezen approximiert. Abhängig vom Verhalten der Funktion, dem Diskretisierungsschritt und der Größe des Integrationsbereichs kann dies bereits gute Ergebnisse liefern. Genauer ist allerdings die **Simpson Regel**, bei der die Funktion auch diskretisiert, aber dann intervallweise durch eine Parabel genähert wird. \n",
    "\n",
    "Implementieren Sie ein Programm basierend auf der Beschreibung in der Vorlesung. Berechnen Sie die ersten vier Kugelflächen-Funktionen und führen Sie mit ihrem Programm die Integration aus (Was passiert mit der Integration über $\\varphi$?). Verwenden Sie 15-20 Stützstellen für beide Verfahren. Beachten Sie, dass die Simpson-Regel zu gegebenen Stützstellen $a$ und $b$ immer auch $(a+b)/2$ hinzuzieht. Bewerten Sie, in welchen Fällen welche der beiden Methoden der anderen überlegen ist (bei gleicher Anzahl an Stützstellen).\n",
    "\n",
    "\n"
   ]
  },
  {
   "cell_type": "code",
   "execution_count": 6,
   "metadata": {
    "collapsed": false
   },
   "outputs": [
    {
     "data": {
      "text/plain": [
       "f_4 (generic function with 1 method)"
      ]
     },
     "execution_count": 6,
     "metadata": {},
     "output_type": "execute_result"
    }
   ],
   "source": [
    "f_1(x) = sqrt(1./(4 * pi))^2 * sin(x)\n",
    "f_2(x) = (sqrt(3./(4 * pi)) * cos(x))^2 * sin(x)   \n",
    "f_3(x) = (sqrt(5./(16 * pi)) * (3 * cos(x)^2 - 1.))^2 * sin(x)\n",
    "f_4(x) = (sqrt(7./(16 * pi)) * (5 * cos(x)^3 - 3. * cos(x)))^2 * sin(x)"
   ]
  },
  {
   "cell_type": "code",
   "execution_count": 7,
   "metadata": {
    "collapsed": false
   },
   "outputs": [
    {
     "data": {
      "text/plain": [
       "simpson_element (generic function with 1 method)"
      ]
     },
     "execution_count": 7,
     "metadata": {},
     "output_type": "execute_result"
    }
   ],
   "source": [
    "function trapez_element(f, a, b)\n",
    "    return (f(a) + f(b))*(b-a)/2\n",
    "end\n",
    "\n",
    "function simpson_element(f, a, b)\n",
    "    c = (a+b)/2\n",
    "    return 0\n",
    "end"
   ]
  },
  {
   "cell_type": "code",
   "execution_count": 8,
   "metadata": {
    "collapsed": false
   },
   "outputs": [
    {
     "name": "stdout",
     "output_type": "stream",
     "text": [
      "Trapez: 0.15848652633874546\tDeviation: 0.004199786322463983\n",
      "Simpson: 0\tDeviation: 1.0\n"
     ]
    }
   ],
   "source": [
    "# define resolution\n",
    "y_resolution = 15b\n",
    "y_trapez = linspace(0, pi, y_resolution) # start = 0, stop = pi, no_of_steps = y_resolution\n",
    "y_simpson = linspace(0, pi, round(y_resolution / 2) + 1)\n",
    "\n",
    "integral_trapez = 0\n",
    "integral_simpson = 0\n",
    "\n",
    "g = f_1\n",
    "\n",
    "# integrate with trapez\n",
    "for (a, b) in zip(y_trapez[1:end - 1], y_trapez[2:end])\n",
    "    integral_trapez += trapez_element(g, a, b)\n",
    "end\n",
    "\n",
    "# integrate with simpson\n",
    "for (a, b) in zip(y_simpson[1:end - 1], y_simpson[2:end])\n",
    "    integral_simpson += simpson_element(g, a, b)\n",
    "end\n",
    "\n",
    "# print solution and the difference to the ideal result 1\n",
    "println(\"Trapez: \", integral_trapez, \"\\tDeviation: \", 1.0 - 2 * pi * integral_trapez)\n",
    "println(\"Simpson: \", integral_simpson, \"\\tDeviation: \", 1.0 - 2 * pi * integral_simpson)"
   ]
  },
  {
   "cell_type": "markdown",
   "metadata": {},
   "source": [
    "** VERGLEICH **"
   ]
  },
  {
   "cell_type": "markdown",
   "metadata": {},
   "source": [
    " "
   ]
  }
 ],
 "metadata": {
  "kernelspec": {
   "display_name": "Julia 0.4.5",
   "language": "julia",
   "name": "julia-0.4"
  },
  "language_info": {
   "file_extension": ".jl",
   "mimetype": "application/julia",
   "name": "julia",
   "version": "0.4.5"
  }
 },
 "nbformat": 4,
 "nbformat_minor": 0
}
