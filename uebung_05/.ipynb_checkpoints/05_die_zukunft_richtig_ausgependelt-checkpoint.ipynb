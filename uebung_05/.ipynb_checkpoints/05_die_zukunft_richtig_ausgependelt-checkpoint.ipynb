{
 "cells": [
  {
   "cell_type": "markdown",
   "metadata": {},
   "source": [
    "<table style=\"width: 100%; border-style: none;\">\n",
    "<tr style=\"border-style: none\">\n",
    "<td style=\"border-style: none; width: 1%; font-size: 16px\">Institut f&uuml;r Theoretische Physik<br /> Universit&auml;t zu K&ouml;ln</td>\n",
    "<td style=\"border-style: none; width: 1%; font-size: 16px\">&nbsp;</td>\n",
    "<td style=\"border-style: none; width: 1%; text-align: right; font-size: 16px\">Prof. Dr. Simon Trebst<br />Peter Br&ouml;cker</td>\n",
    "</tr>\n",
    "</table>\n",
    "<hr>\n",
    "<h1 style=\"font-weight:bold; text-align: center; margin: 0px; padding:0px;\">Computerphysik</h1>\n",
    "<h1 style=\"font-weight:bold; text-align: center; margin: 0px; padding:0px;\">&Uuml;bungsblatt 5</h1>\n",
    "<hr>\n",
    "<h3 style=\"font-weight:bold; text-align: center; margin: 0px; padding:0px; margin-bottom: 20px;\">Sommersemester 2016</h3>\n",
    "\n",
    "**Website:** [http://www.thp.uni-koeln.de/trebst/Lectures/2016-CompPhys.shtml](http://www.thp.uni-koeln.de/trebst/Lectures/2016-CompPhys.shtml)\n",
    "\n",
    "**Abgabe**: Montag, 23. Mai, 2016 vor der Vorlesung\n",
    "\n",
    "**Name**: <font color=\"red\">Bitte geben Sie ihren Namen an</font>\n",
    "\n",
    "**Matrikelnummer**: <font color=\"red\">Bitte geben Sie ihre Matrikelnummer an</font>"
   ]
  },
  {
   "cell_type": "markdown",
   "metadata": {},
   "source": [
    "<table style=\"border-style: none; width: 100%\"><tr style=\"border-style: none;\">\n",
    "<td style=\"border-style: none; width: 1%; font-size: 20px; font-weight: bold\">Die Zukunft richtig ausgependelt</td>\n",
    "<td style=\"border-style: none; width: 1%; text-align: right\">(5 Punkte)</td></tr></table>\n",
    "\n",
    "In dieser Aufgabe studieren wir ein **Pendel im Schwerefeld** der Erde. In Polarkoordinaten ist die Bewegungsgleichung gegeben als\n",
    "\n",
    "\\begin{equation}\n",
    "  \\overset{..}{\\phi}(t) = -\\sin{\\left(\\phi(t)\\right)}\\nonumber,\n",
    "\\end{equation}\n",
    "\n",
    "wobei $\\phi$ den Auslenkungswinkel des Pendels parametrisiert und wir die Masse $m$ sowie die Gravitationskonstante $g$ auf $1$ gesetzt haben.\n",
    "\n",
    "Die einfachste Methode, um eine Differentialgleichung zu lösen, sind die **Euler-Verfahren**. Implementieren Sie sowohl das *forward-* als auch das *backward-*Euler Verfahren und vergleichen Sie die Stabilität der Lösungen. Betrachten Sie dazu neben der Bahnkurve $\\phi(t)$ auch die potentielle, kinetische und die Gesamtenergie und erklären Sie die Unterschiede zwischen den beiden Verfahren. Setzen Sie dazu den Zeitschritt $\\Delta t = 0.1$, damit der Unterschied klar zur Geltung kommt.\n",
    "\n",
    "**Hinweise**\n",
    "\n",
    "Die zu bearbeitende Differentialgleichung ist zweiter Ordnung, deswegen müssen wir sie umformen in ein System von Differentialgleichungen erster Ordnung. Allgemein geschieht dies so, dass wir die Ableitung $n$-ter Ordnung, bezeichnet durch $y^{(n)}$, als Funktion der anderen Ordnungen auffassen:\n",
    "\n",
    "\\begin{equation}\n",
    "y^{(n)} = f(x, y^{(1)}, \\dots, y^{(n - 1)})\n",
    "\\end{equation}\n",
    "\n",
    "Im nächsten Schritt führen wir dann Funktionen $z_i$ ein, die gleich den $(i-1)$-ten Ableitungen gesetzt werden, also\n",
    "\n",
    "\\begin{align*}\n",
    "  z_1 &= y\\\\\n",
    "  z_2 &= y^{(1)} \\\\\n",
    "  &\\dots\\\\\n",
    "  z_n &= y^{(n-1)}.\n",
    "\\end{align*}\n",
    "\n",
    "Die Ableitung von $z_i$ ist so gleich $z_{i + 1}$. Aus dem Vektor aller Ableitungen  $\\overset{.}{\\vec{z}} = (\\overset{.}{z_1}, \\dots, \\overset{.}{z_n})$, erhält man so ein System mit $n$ gekoppelten Differentialgleichungen.\n",
    "\n",
    "Für unser Pendel schreiben wir also $\\overset{..}{\\phi} = f(t, \\phi, \\overset{.}{\\phi})= -\\sin{\\left(\\phi\\right)}$ und führen neue Funktionen $z_1, z_2$ ein:\n",
    "\n",
    "\\begin{align*}\n",
    "  z_1 &= \\phi\\\\\n",
    "  z_2 &= \\overset{.}{\\phi}\n",
    "\\end{align*}\n",
    "\n",
    "Das zu bearbeitende System lautet also:\n",
    "\n",
    "\\begin{align*}\n",
    "  \\overset{.}{z_1} &= z_2\\\\\n",
    "  \\overset{.}{z_2} &= \\overset{..}{\\phi} = -\\sin{\\left( z_1\\right)}\n",
    "\\end{align*}"
   ]
  },
  {
   "cell_type": "markdown",
   "metadata": {},
   "source": [
    "### Forward Euler"
   ]
  },
  {
   "cell_type": "code",
   "execution_count": null,
   "metadata": {
    "collapsed": false
   },
   "outputs": [],
   "source": [
    "# Der Zeitbereich\n",
    "dt = 0.1\n",
    "times = collect(0:dt:10)\n",
    "\n",
    "# Arrays um die Zeitentwicklung von Ort und Geschwindigkeit aufzuzeichnen\n",
    "forw_phis = zeros(times)\n",
    "forw_phi_dots = zeros(times)\n",
    "\n",
    "# Randbedingung - Auslenkung ohne Geschwindigkeit\n",
    "forw_phis[1] = pi/10\n",
    "\n",
    "###...\n",
    "### Fuegen Sie hier Ihren Code ein\n",
    "###..."
   ]
  },
  {
   "cell_type": "markdown",
   "metadata": {},
   "source": [
    "### Backward Euler"
   ]
  },
  {
   "cell_type": "code",
   "execution_count": null,
   "metadata": {
    "collapsed": false
   },
   "outputs": [],
   "source": [
    "# Arrays um die Zeitentwicklung von Ort und Geschwindigkeit aufzuzeichnen\n",
    "back_phis = zeros(times)\n",
    "back_phi_dots = zeros(times)\n",
    "\n",
    "# Randbedingung - Auslenkung ohne Geschwindigkeit\n",
    "back_phis[1] = pi/10\n",
    "\n",
    "###...\n",
    "### Fuegen Sie hier Ihren Code ein\n",
    "###..."
   ]
  },
  {
   "cell_type": "markdown",
   "metadata": {
    "collapsed": true
   },
   "source": [
    " "
   ]
  }
 ],
 "metadata": {
  "kernelspec": {
   "display_name": "Julia 0.4.5",
   "language": "julia",
   "name": "julia-0.4"
  },
  "language_info": {
   "file_extension": ".jl",
   "mimetype": "application/julia",
   "name": "julia",
   "version": "0.4.5"
  }
 },
 "nbformat": 4,
 "nbformat_minor": 0
}
