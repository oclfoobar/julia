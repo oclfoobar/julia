{
 "cells": [
  {
   "cell_type": "markdown",
   "metadata": {},
   "source": [
    "<table style=\"width: 100%; border-style: none;\">\n",
    "<tr style=\"border-style: none\">\n",
    "<td style=\"border-style: none; width: 1%; font-size: 16px\">Institut f&uuml;r Theoretische Physik<br /> Universit&auml;t zu K&ouml;ln</td>\n",
    "<td style=\"border-style: none; width: 1%; font-size: 16px\">&nbsp;</td>\n",
    "<td style=\"border-style: none; width: 1%; text-align: right; font-size: 16px\">Prof. Dr. Simon Trebst<br />Peter Br&ouml;cker</td>\n",
    "</tr>\n",
    "</table>\n",
    "<hr>\n",
    "<h1 style=\"font-weight:bold; text-align: center; margin: 0px; padding:0px;\">Computerphysik</h1>\n",
    "<h1 style=\"font-weight:bold; text-align: center; margin: 0px; padding:0px;\">&Uuml;bungsblatt 11</h1>\n",
    "<hr>\n",
    "<h3 style=\"font-weight:bold; text-align: center; margin: 0px; padding:0px; margin-bottom: 20px;\">Sommersemester 2016</h3>\n",
    "\n",
    "<p>**Website:** [http://www.thp.uni-koeln.de/trebst/Lectures/2016-CompPhys.shtml](http://www.thp.uni-koeln.de/trebst/Lectures/2016-CompPhys.shtml)</p>\n",
    "\n",
    "<p>**Abgabe**: Montag, 4. Juli, 2016 vor der Vorlesung</p>\n",
    "\n",
    "<p>**Name**: <font color=\"red\">Bitte geben Sie ihren Namen an</font></p>\n",
    "\n",
    "<p>**Matrikelnummer**: <font color=\"red\">Bitte geben Sie ihre Matrikelnummer an</font></p><br />\n",
    "\n",
    "\n",
    "<table style=\"border-style: none; width: 100%; margin-top: 20px; padding: 0px;\"\n",
    "><tr style=\"border-style: none; margin: 0px; padding: 0px;\">\n",
    "<td style=\"border-style: none; width: 80%; margin: 0px; padding: 0px; font-size: 20px; font-weight: bold\">Dendritenwachstum</td>\n",
    "<td style=\"border-style: none; width: 20%; margin: 0px; padding: 0px; text-align: right\">(9 Bonuspunkte)</td></tr></table>"
   ]
  },
  {
   "cell_type": "markdown",
   "metadata": {},
   "source": [
    "Verästelte Kristallstrukturen - sogenannte Dendriten - entstehen durch die **zufällige Anlagerung diffusiver Teilchen**. Den Wachstumsprozess eines solchen Dendriten wollen wir in dieser Aufgabe illustrieren, indem wir den Zufallslauf einzelner diffusiver Teilchen simulieren. \n",
    "\n",
    "Dazu gehen wir wie folgt vor: Gegeben sei eine Experimentierscheibe von Radius $R$, in deren Mitte sich ein *Seed*,  ein erstes unbewegliches Teilchen, befinde. Wir starten nun ein weiteres Teilchen an beliebiger Position auf dem Rand der Experimentierscheibe. In jedem Simulationsschritt kann sich das Teilchen mit gleicher Wahrscheinlichkeit in eine von vier Richtungen (oben/unten/links/rechts) bewegen. Diese diffusive Bewegung simulieren wir so lange bis das Teilchen an den bestehenden Kristall andockt, d.h. es erreicht eine Position in deren unmittelbaren Nachbarschaft (oben/unten/links/rechts) sich ein bereits fixiertes, unbewegliches Teilchen befindet. In einem solchen Fall fixieren wir die Position des Teilchens und starten das nächste Teilchen vom Rand. Sollte das Teilchen während der Simulation von der Experimentierscheibe wandern -- also einen Abstand größer als R vom Mittelpunkt erreichen  dann verwerfen wir das aktuelle Teilchen und starten ein neues Teilchen auf dem Rand.\n",
    "\n",
    "<img src=\"http://www.thp.uni-koeln.de/trebst/Lectures/CompPhys-2016/bonus_11_dendritenwachstum.png\" width=\"480\" />\n",
    " \n",
    "Simulieren Sie den Wachstum eines derartigen Dendriten auf einem Raster von $128 \\times 128$ Positionen und einer Experimentierscheibe vom Radius $R=64$. Stellen Sie den Wachstumsprozess graphisch dar. Woran erinnern Sie die erhaltenen Strukturen?\n",
    "\n",
    "Wer sich ein wenig über die historische Entwicklung dieses im Englischen als *diffusion limited aggregation* bezeichneten Phänomens informieren möchte, der sei auf diesen [Bericht](http://garfield.library.upenn.edu/classics1993/A1993KX31200001.pdf) seines Entdeckers Thomas Witten von der University of Chicago verwiesen."
   ]
  },
  {
   "cell_type": "markdown",
   "metadata": {
    "collapsed": true
   },
   "source": [
    " "
   ]
  }
 ],
 "metadata": {
  "kernelspec": {
   "display_name": "Julia 0.4.5",
   "language": "julia",
   "comment": "from https://github.com/oclfoobar/ ",
   "name": "julia-0.4"
  },
  "language_info": {
   "file_extension": ".jl",
   "mimetype": "application/julia",
   "name": "julia",
   "version": "0.4.5"
  }
 },
 "nbformat": 4,
 "nbformat_minor": 0
}
