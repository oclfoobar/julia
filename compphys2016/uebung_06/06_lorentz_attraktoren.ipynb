{
 "cells": [
  {
   "cell_type": "markdown",
   "metadata": {},
   "source": [
    "<table style=\"width: 100%; border-style: none;\">\n",
    "<tr style=\"border-style: none\">\n",
    "<td style=\"border-style: none; width: 1%; font-size: 16px\">Institut f&uuml;r Theoretische Physik<br /> Universit&auml;t zu K&ouml;ln</td>\n",
    "<td style=\"border-style: none; width: 1%; font-size: 16px\">&nbsp;</td>\n",
    "<td style=\"border-style: none; width: 1%; text-align: right; font-size: 16px\">Prof. Dr. Simon Trebst<br />Peter Br&ouml;cker</td>\n",
    "</tr>\n",
    "</table>\n",
    "<hr>\n",
    "<h1 style=\"font-weight:bold; text-align: center; margin: 0px; padding:0px;\">Computerphysik</h1>\n",
    "<h1 style=\"font-weight:bold; text-align: center; margin: 0px; padding:0px;\">&Uuml;bungsblatt 5</h1>\n",
    "<hr>\n",
    "<h3 style=\"font-weight:bold; text-align: center; margin: 0px; padding:0px; margin-bottom: 20px;\">Sommersemester 2016</h3>\n",
    "\n",
    "**Website:** [http://www.thp.uni-koeln.de/trebst/Lectures/2016-CompPhys.shtml](http://www.thp.uni-koeln.de/trebst/Lectures/2016-CompPhys.shtml)\n",
    "\n",
    "**Abgabe**: Montag, 30. Mai, 2016 vor der Vorlesung\n",
    "\n",
    "**Name**: <font color=\"red\">Bitte geben Sie ihren Namen an</font>\n",
    "\n",
    "**Matrikelnummer**: <font color=\"red\">Bitte geben Sie ihre Matrikelnummer an</font>"
   ]
  },
  {
   "cell_type": "markdown",
   "metadata": {},
   "source": [
    "<table style=\"border-style: none; width: 100%\"><tr style=\"border-style: none;\">\n",
    "<td style=\"border-style: none; width: 1%; font-size: 20px; font-weight: bold\">Lorenz-Attraktor</td>\n",
    "<td style=\"border-style: none; width: 1%; text-align: right\">(5 Punkte)</td></tr></table>\n",
    "\n",
    "#### Teil A\n",
    "\n",
    "Für die Simulation eines einfachen **Wetter-Modells** hat der Meteorologe Edward Lorenz 1963 eine Beschreibung von \n",
    "Luftströmungen entworfen. Dazu hat er ein Gleichungssystem von drei gekoppelten Differentialgleichungen betrachtet:\n",
    "\\begin{align}\n",
    "\\dot{X} &= a\\left(Y - X\\right) \\\\\n",
    "\\dot{Y} &= X\\left(b-Z\\right)-Y\\\\\n",
    "\\dot{Z} &= X Y - c Z.\n",
    "\\end{align}  \n",
    "Berechnen Sie mittels des **Runge-Kutta-Verfahrens 4. Ordnung** eine Lösung für $X(t)$, $Y(t)$ und $Z(t)$ und stellen sie diese für $t \\in [0, 100]$ dar.\n",
    "\n",
    "Wählen Sie dabei eine Schrittweite von $\\Delta t = 0.01$ und verwenden Sie die folgenden Parameter und Startwerte:\n",
    "\\begin{align*}\n",
    " &a=10,\\; b=28,\\; c=8/3, \\\\\n",
    " &X(0)=0,\\; Y(0)=1,\\; Z(0)=1.05.\n",
    "\\end{align*} \n",
    "\n",
    "Zur Visualisierung können Sie Schnitte in der $xy$, $xz$ und $yz$-Ebene wählen.\n",
    "\n",
    "Wie sich erst im Laufe der nächsten Dekaden herausstellen sollte, hat Edward Lorenz mit diesem einfachen Modell einen ganz neuen Forschungszweig gestartet - die sogenannte **Chaos-Forschung**. Lorenz selbst war sich der weitreichenden Implikationen seiner Beobachtung, dass die zeitliche Entwicklung eines relativ einfachen *deterministischen* Systems höchst empfindlich auf nur leicht veränderte Startbedingungen reagiert, voll bewusst und prägte schon früh den Begriff des **Schmetterlings-Effekts**. Wer sich zu diesen historischen Entwicklungen weiter informieren möchte, der sei auf diesen [Artikel](http://arxiv.org/pdf/1306.5777.pdf) zum 50-jährigen Jubiläum der Entdeckung des Lorenz-Attraktors hingewiesen.\n",
    "\n",
    "#### Teil B\n",
    "\n",
    "In diesem [Paper](http://www.sciencedirect.com/science/article/pii/037596019390735I) beschreiben die Autoren mathematisch motitiviert, wie sich die Form des Lorenz-Attraktors verändern lässt. Dabei stößt man beispielsweise auf den folgenden Satz an Gleichungen:\n",
    "\n",
    "\\begin{align}\n",
    "\\dot{X} &= \\frac{-a X^3 + (2a + b - Z)X^2 Y + (a - 2) X Y^2 - (b - Z)Y^3}{X^2 + Y^2} \\\\\n",
    "\\dot{Y} &= \\frac{(b - Z) X^3 + (a - 2) X^2 Y + (-2a - b + Z)X Y^2 - a Y^3}{X^2 + Y^2} \\\\\n",
    "\\dot{Z} &= 2\\cdot X^3 Y - 2\\cdot X Y^3 - c Z \\\\\n",
    "\\end{align}  \n",
    "\n",
    "Wenden Sie auch auf diese Gleichungen das Runge-Kutta-Verfahren an und stellen Sie das Ergebnis wie zuvor dar. Die Parameter und Randbedingungen sind die Gleichen wie in Teil A."
   ]
  },
  {
   "cell_type": "markdown",
   "metadata": {},
   "source": [
    " "
   ]
  }
 ],
 "metadata": {
  "kernelspec": {
   "display_name": "Julia 0.4.5",
   "language": "julia",
   "comment": "from https://github.com/oclfoobar/ ",
   "name": "julia-0.4"
  },
  "language_info": {
   "file_extension": ".jl",
   "mimetype": "application/julia",
   "name": "julia",
   "version": "0.4.5"
  }
 },
 "nbformat": 4,
 "nbformat_minor": 0
}
