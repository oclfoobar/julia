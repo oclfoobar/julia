{
 "cells": [
  {
   "cell_type": "markdown",
   "metadata": {},
   "source": [
    "<table style=\"width: 100%; border-style: none;\">\n",
    "<tr style=\"border-style: none\">\n",
    "<td style=\"border-style: none; width: 1%; font-size: 16px\">Institut f&uuml;r Theoretische Physik<br /> Universit&auml;t zu K&ouml;ln</td>\n",
    "<td style=\"border-style: none; width: 1%; font-size: 16px\">&nbsp;</td>\n",
    "<td style=\"border-style: none; width: 1%; text-align: right; font-size: 16px\">Prof. Dr. Simon Trebst<br />Peter Br&ouml;cker</td>\n",
    "</tr>\n",
    "</table>\n",
    "<hr>\n",
    "<h1 style=\"font-weight:bold; text-align: center; margin: 0px; padding:0px;\">Computerphysik</h1>\n",
    "<h1 style=\"font-weight:bold; text-align: center; margin: 0px; padding:0px;\">&Uuml;bungsblatt 8</h1>\n",
    "<hr>\n",
    "<h3 style=\"font-weight:bold; text-align: center; margin: 0px; padding:0px; margin-bottom: 20px;\">Sommersemester 2016</h3>\n",
    "\n",
    "<p>**Website:** [http://www.thp.uni-koeln.de/trebst/Lectures/2016-CompPhys.shtml](http://www.thp.uni-koeln.de/trebst/Lectures/2016-CompPhys.shtml)</p>\n",
    "\n",
    "<p>**Abgabe**: Montag, 13. Juni, 2016 vor der Vorlesung</p>\n",
    "\n",
    "<p>**Name**: <font color=\"red\">Bitte geben Sie ihren Namen an</font></p>\n",
    "\n",
    "<p>**Matrikelnummer**: <font color=\"red\">Bitte geben Sie ihre Matrikelnummer an</font></p><br />"
   ]
  },
  {
   "cell_type": "markdown",
   "metadata": {},
   "source": [
    "<table style=\"border-style: none; width: 100%; margin-top: 20px; padding: 0px;\"\n",
    "><tr style=\"border-style: none; margin: 0px; padding: 0px;\">\n",
    "<td style=\"border-style: none; width: 80%; margin: 0px; padding: 0px; font-size: 20px; font-weight: bold\">Pendeln in der Quantenwelt</td>\n",
    "<td style=\"border-style: none; width: 20%; margin: 0px; padding: 0px; text-align: right\">(5 Punkte)</td></tr></table>\n",
    "\n",
    "In dieser Aufgabe betrachten wir den **quantenmechanischen harmonischen Oszillator**, dessen Potential \n",
    "    $V(x) = \\omega^2 x^2/(2m)$ \n",
    "mit der Frequenz $\\omega$ und der Teilchenmasse $m$ gegeben ist. Wir setzen $\\hbar = \\omega = m = 1$. Der harmonische Oszillator wird also im allgemeinen durch eine *zeitabhängige* Schrödinger-Gleichung der Form \n",
    "\n",
    "\\begin{equation}\n",
    "\\frac{1}{2}\\left[-\\frac{\\partial^2}{\\partial x^2} + x^2\\right]\\psi(x,t) = i\\frac{\\partial}{\\partial t}\\psi(x,t) \n",
    "\\end{equation}\n",
    "\n",
    "beschrieben.\n",
    "\n",
    "Mit dem Produktansatz $\\psi(x,t)=\\phi(x)\\chi(t)$, d.h. der Separation von Orts- und Zeitkoordinate, reduziert sich die Schrödinger-Gleichung auf *zwei gewöhnliche* Differentialgleichungen. \n",
    "Die Lösungen für den Ortsanteil lassen sich über die sogenannten **Hermite-Polynome** $H_n$ darstellen:\n",
    "\n",
    "\\begin{equation}\n",
    "\\phi_n(x) =\\pi^{-\\frac{1}{4}} \\frac{1}{\\sqrt{2^n n!}} H_n(x)\n",
    "e^{-\\frac{x^2}{2}}, \\qquad \\text{mit } n=0,1,2,\\ldots\n",
    "\\end{equation}\n",
    "\n",
    "Die Hermite-Polynome $H_n(x)$ können mit folgender Vorschrift rekursiv konstruiert werden:\n",
    "\n",
    "\\begin{align}\n",
    "H_0(x) &= 1,\\\\\n",
    "H_1(x) &= 2x, \\\\\n",
    "H_{n+1}(x) &= 2x H_n(x)-2nH_{n-1}(x).\n",
    "\\end{align}\n",
    "\n",
    "Die Lösung für den Zeitanteil der Schrödinger-Gleichung hat die Form\n",
    "\n",
    "\\begin{equation}\n",
    "\\chi_n(t)=e^{-iE_nt},\n",
    "\\end{equation}\n",
    "\n",
    "wobei die Energie des $n$-ten Zustands gegeben ist als $E_n = n + \\tfrac{1}{2}$. "
   ]
  },
  {
   "cell_type": "markdown",
   "metadata": {},
   "source": [
    "Beachten Sie, dass die Funktionen $\\psi_n(x,t) = \\phi_n(x)\\chi_n(t)$ lediglich eine Basis des Lösungsraums der Schrödingergleichung bilden, d.h. wir können eine allgemeine Lösung als Linearkombination dieser Basiselemente schreiben:\n",
    "\n",
    "\\begin{equation}\n",
    "\\psi(x,t) = \\sum_{n=0}^{\\infty}c_n \\phi_n(x) \\chi_n(t).\n",
    "\\end{equation}\n",
    "\n",
    "Wir wollen nun für eine beliebige vorgegeben Wellenfunktion die Koeffizienten $c_n$ berechnen. Dafür machen wir uns die Tatsache zunutze, dass die Funktionen $\\psi_n$ eine Orthogonalbasis darstellen. Das Skalarprodukt $\\langle\\cdot|\\cdot\\rangle$ auf dem Raum der Lösungen ist für zwei beliebige Wellenfunktionen $\\psi_n$ und $\\psi_m$ gegeben als\n",
    "\n",
    "\\begin{equation}\n",
    "\\langle\\psi_n(x,t)|\\psi_m(x,t)\\rangle =\n",
    "\\int_{-\\infty}^{\\infty}\\text{d}x\\, \\psi^*_n(x, t)\\psi_m(x, t).\n",
    "\\end{equation}\n",
    "\n",
    "Bekanntermaßen gilt für das Skalarprodukt zweier orthonormaler Basisvektoren immer\n",
    "\n",
    "\\begin{equation}\n",
    "\\langle\\psi_n(x,t)|\\psi_m(x,t)\\rangle = \\delta_{n,m},\n",
    "\\end{equation}\n",
    "\n",
    "d.h. wir können die Koeffizienten $c_n$ des allgemeinen Zustands $\\psi(x,t)$ durch Projektion des Zustands auf die Basisvektoren finden:\n",
    "\n",
    "\\begin{equation}\n",
    "c_n = \\langle\\psi_n(x,t)|\\psi(x,t)\\rangle.\n",
    "\\end{equation}"
   ]
  },
  {
   "cell_type": "markdown",
   "metadata": {},
   "source": [
    "#### Aufgaben\n",
    "\n",
    "Gegeben seien nun folgende Wellenfunktionen zum Zeitpunkt $t=0$:\n",
    "\n",
    "\\begin{align}\n",
    "\\psi_A(x,t=0) &= \\pi^{-1/4}e^{-\\frac{1}{2}(x-2)^2}, \\\\\n",
    "\\psi_B(x,t=0) &= \\frac{1}{\\pi}\\frac{0.05}{(x-2)^2+0.05^2}.\n",
    "\\end{align}\n",
    "\n",
    "Berechnen sie numerisch die **Zeitentwicklung** dieser beiden Wellenfunktionen und erstellen Sie für das Betragsquadrat $|\\psi_{A/B}(x,t)|^2$ ein Video. Bestimmen Sie dazu zunächst die Koeffizienten $c_n$, wobei wir uns hier auf die ersten zehn beschränken wollen. Das Integral im Skalarprodukt können Sie z.B. mit der in der Vorlesung beschriebenen Trapezmethode berechnen. \n",
    "\n",
    "Wir schlagen vor, die Funktionen im Intervall $x\\in[-6.0, 6.0]$ für etwa 1000 Stützstellen zu\n",
    "berechnen. Wählen Sie $\\Delta t = 0.05$ als Zeitschritt."
   ]
  },
  {
   "cell_type": "code",
   "execution_count": null,
   "metadata": {
    "collapsed": true
   },
   "outputs": [],
   "source": []
  },
  {
   "cell_type": "markdown",
   "metadata": {},
   "source": [
    " "
   ]
  }
 ],
 "metadata": {
  "kernelspec": {
   "display_name": "Julia 0.4.5",
   "language": "julia",
   "name": "julia-0.4"
  },
  "language_info": {
   "file_extension": ".jl",
   "mimetype": "application/julia",
   "name": "julia",
   "version": "0.4.5"
  }
 },
 "nbformat": 4,
 "nbformat_minor": 0
}
