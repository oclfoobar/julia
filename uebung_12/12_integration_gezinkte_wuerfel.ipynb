{
 "cells": [
  {
   "cell_type": "markdown",
   "metadata": {},
   "source": [
    "<table style=\"width: 100%; border-style: none;\">\n",
    "<tr style=\"border-style: none\">\n",
    "<td style=\"border-style: none; width: 1%; font-size: 16px\">Institut f&uuml;r Theoretische Physik<br /> Universit&auml;t zu K&ouml;ln</td>\n",
    "<td style=\"border-style: none; width: 1%; font-size: 16px\">&nbsp;</td>\n",
    "<td style=\"border-style: none; width: 1%; text-align: right; font-size: 16px\">Prof. Dr. Simon Trebst<br />Peter Br&ouml;cker</td>\n",
    "</tr>\n",
    "</table>\n",
    "<hr>\n",
    "<h1 style=\"font-weight:bold; text-align: center; margin: 0px; padding:0px;\">Computerphysik</h1>\n",
    "<h1 style=\"font-weight:bold; text-align: center; margin: 0px; padding:0px;\">&Uuml;bungsblatt 12</h1>\n",
    "<hr>\n",
    "<h3 style=\"font-weight:bold; text-align: center; margin: 0px; padding:0px; margin-bottom: 20px;\">Sommersemester 2016</h3>\n",
    "\n",
    "<p>**Website:** [http://www.thp.uni-koeln.de/trebst/Lectures/2016-CompPhys.shtml](http://www.thp.uni-koeln.de/trebst/Lectures/2016-CompPhys.shtml)</p>\n",
    "\n",
    "<p>**Abgabe**: Montag, 11. Juni, 2016 vor der Vorlesung</p>\n",
    "\n",
    "<p>**Name**: <font color=\"red\">Bitte geben Sie ihren Namen an</font></p>\n",
    "\n",
    "<p>**Matrikelnummer**: <font color=\"red\">Bitte geben Sie ihre Matrikelnummer an</font></p><br />\n",
    "\n",
    "\n",
    "<table style=\"border-style: none; width: 100%; margin-top: 20px; padding: 0px;\"\n",
    "><tr style=\"border-style: none; margin: 0px; padding: 0px;\">\n",
    "<td style=\"border-style: none; width: 80%; margin: 0px; padding: 0px; font-size: 20px; font-weight: bold\">Integration mit gezinkten Würfeln</td>\n",
    "<td style=\"border-style: none; width: 20%; margin: 0px; padding: 0px; text-align: right\">(5 Punkte)</td></tr></table>\n",
    "\n"
   ]
  },
  {
   "cell_type": "markdown",
   "metadata": {},
   "source": [
    "In dieser Aufgabe wollen wir uns mit der **Integration** von Funktionen mithilfe von **Zufallszahlen** befassen. Die ersten Schritte in diese Richtung haben wir in der Vorlesung besprochen und  wollen nun an einfachen Beispielen die verschiedenen **Sampling-Methoden** untersuchen. \n",
    "\n",
    "Beginnen wir mit der folgenden Funktion:\n",
    "\\begin{equation}\n",
    "f(x) = 2 + 0.1\\cdot\\cos(x),\\quad x\\in [-\\dfrac{\\pi}{2},\\; \\dfrac{\\pi}{2}]\n",
    "\\end{equation}\n",
    "\n",
    "Sie können sich durch simples plotten leicht davon überzeugen, dass die Funktion relativ flach ist und sich deshalb dazu eignet mit einer gleichförmigen Verteilung integriert zu werden. Führen Sie nun eine Integration dieser Funktion mit bis zu $N=1000$ *gleichförmig verteilten* Zufallszahlen durch und plotten Sie das Ergebnis der Integration gegen die Anzahl gezogender Zufallszahlen $N$. Vergleichen Sie außerdem Ihr Ergebnis mit der numerischen Lösung, die Sie mit der Paket *Cubature* bestimmen können. Ein Beispiel dazu finden Sie in der ersten Inputzelle.\n",
    "\n",
    "Als nächstes betrachten wir die Funktion\n",
    "\\begin{equation}\n",
    "g(x) = \\cos(x) \\cdot \\exp{\\left(-\\dfrac{x^2}{0.01}\\right)},\\quad x \\in (-\\infty, \\infty)\n",
    "\\end{equation}\n",
    "\n",
    "Bereits auf den ersten Blick ist klar, dass das Integral dieser Funktion hauptsächlich durch einen kleinen Bereich um 0 bestimmt wird. Deshalb ist es zunächst einmal zulässig den Integrationsbereich auf ein endliches Intervall, zum Beispiel $(-20, 20)$, einzuschränken. Bestimmen Sie das Integral nun wie zuvor mithilfe einer gleichförmig verteilten Zufallsverteilung und plotten Sie das Ergebnis als Funktion der Anzahl gezogener Zufallszahlen. Benutzen Sie dann die Generatoren aus dem Paket *Distributions*, um Zufallszahlen gemäß einer Gaussverteilung mit Mittelwert $\\mu$ und Standardabweichung $\\sigma$ zu erzeugen. Passen Sie diese Parameter so an, dass die Form der gesampleten Gauß-Kurve möglichst genau der Funktion $g(x)$ entspricht und führen Sie auch diese Integration durch und vergleichen Sie beide Ergebnisse mit der durch *quad* gewonnenen Lösung. \n",
    "\n",
    "Beachten Sie, dass Sie mit der Gauß verteilung Zahlen aus $(-\\infty, \\infty)$ erzeugen. Aufgrund der stark um den Mittelwert zentrierten Form der Verteilung ist der Fehler, den wir gegenüber der Integration mit eingeschränktem Integrationsbereich machen vernachlässigbar. Alternative könnte man nur Zufallszahlen im Bereich $(-20, 20)$ akzeptieren und die Verteilung neu zu skalieren.\n"
   ]
  },
  {
   "cell_type": "markdown",
   "metadata": {},
   "source": [
    "#### Beispiel zur numerischen Integration"
   ]
  },
  {
   "cell_type": "code",
   "execution_count": null,
   "metadata": {
    "collapsed": false
   },
   "outputs": [],
   "source": [
    "Pkg.add(\"Cubature\")\n",
    "using Cubature\n",
    "f(x) = x^2\n",
    "(value, err) = hquadrature(f, -2, 2)"
   ]
  },
  {
   "cell_type": "markdown",
   "metadata": {},
   "source": [
    "#### Beispiel zur Erzeugung normalverteilter Zufallszahlen"
   ]
  },
  {
   "cell_type": "code",
   "execution_count": null,
   "metadata": {
    "collapsed": false
   },
   "outputs": [],
   "source": [
    "Pkg.add(\"Distributions\")\n",
    "using Distributions\n",
    "mu = 0.5\n",
    "sigma = 10\n",
    "random_number_generator = Normal(mu, sigma)\n",
    "rand(random_number_generator)"
   ]
  }
 ],
 "metadata": {
  "kernelspec": {
   "display_name": "Julia 0.4.5",
   "language": "julia",
   "name": "julia-0.4"
  },
  "language_info": {
   "file_extension": ".jl",
   "mimetype": "application/julia",
   "name": "julia",
   "version": "0.4.5"
  }
 },
 "nbformat": 4,
 "nbformat_minor": 0
}
