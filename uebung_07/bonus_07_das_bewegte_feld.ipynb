{
 "cells": [
  {
   "cell_type": "markdown",
   "metadata": {},
   "source": [
    "<table style=\"width: 100%; border-style: none;\">\n",
    "<tr style=\"border-style: none\">\n",
    "<td style=\"border-style: none; width: 1%; font-size: 16px\">Institut f&uuml;r Theoretische Physik<br /> Universit&auml;t zu K&ouml;ln</td>\n",
    "<td style=\"border-style: none; width: 1%; font-size: 16px\">&nbsp;</td>\n",
    "<td style=\"border-style: none; width: 1%; text-align: right; font-size: 16px\">Prof. Dr. Simon Trebst<br />Peter Br&ouml;cker</td>\n",
    "</tr>\n",
    "</table>\n",
    "<hr>\n",
    "<h1 style=\"font-weight:bold; text-align: center; margin: 0px; padding:0px;\">Computerphysik</h1>\n",
    "<h1 style=\"font-weight:bold; text-align: center; margin: 0px; padding:0px;\">&Uuml;bungsblatt 5</h1>\n",
    "<hr>\n",
    "<h3 style=\"font-weight:bold; text-align: center; margin: 0px; padding:0px; margin-bottom: 20px;\">Sommersemester 2016</h3>\n",
    "\n",
    "<p>**Website:** [http://www.thp.uni-koeln.de/trebst/Lectures/2016-CompPhys.shtml](http://www.thp.uni-koeln.de/trebst/Lectures/2016-CompPhys.shtml)</p>\n",
    "\n",
    "<p>**Abgabe**: Montag, 23. Mai, 2016 vor der Vorlesung</p>\n",
    "\n",
    "<p>**Name**: <font color=\"red\">Bitte geben Sie ihren Namen an</font></p>\n",
    "\n",
    "<p>**Matrikelnummer**: <font color=\"red\">Bitte geben Sie ihre Matrikelnummer an</font></p>\n",
    "<br />\n",
    "\n",
    "<table style=\"border-style: none; width: 100%; padding 0px; margin: 0px;\">\n",
    "<tr style=\"border-style: none; padding 0px; margin: 0px;\">\n",
    "<td style=\"border-style: none; width: 1%; font-size: 20px; font-weight: bold; padding 0px; margin: 0px;\">Das bewegte Feld</td>\n",
    "<td style=\"border-style: none; width: 1%; text-align: right\">(10 Bonuspunkte)</td></tr></table>"
   ]
  },
  {
   "cell_type": "markdown",
   "metadata": {},
   "source": [
    "Die **Maxwell-Gleichungen** haben wir bereits in der KTP II  ausführlich studiert. Eine exakte Lösung ist oftmals schwierig zu ermitteln und nur in Spezialfällen analytisch möglich. Deshalb bedienen wir uns numerischer Methoden, etwa der in der Praxis sehr erfolgreich eingesetzten **Yee-Vischen Methode**, die in der Vorlesung kurz skizziert wurde. Als eine der Standardmethoden wird sie in kommerziellen Softwarepaketen zur Simulation von verschiedenen Versuchsanordnungen umgesetzt, etwa um kompakte Antennen zu bauen. Das Ziel dieser Aufgabe ist es, die **Feldverteilung einer Dipolantenne** zeitaufgelöst zu bestimmen.\n",
    "\n",
    "Zunächst aber wollen wir noch einmal die wesentlichen Schritte des Yee-Vischen Verfahrens zusammentragen. Grundlage ist die von Yee eingeführte spezielle Art des Diskretisierung der Felder, die in  der folgenden Abbilung dargestellt ist:"
   ]
  },
  {
   "cell_type": "markdown",
   "metadata": {},
   "source": [
    "<img src=\"http://www.thp.uni-koeln.de/trebst/Lectures/CompPhys-2016/07_yee_cell.png\" width=\"500\"/>\n",
    "\n",
    "Der Yee-Vischen-Algorithmus ist eine **Halbschrittmethode**. Konkret bedeutet dies für die Maxwell-Gleichungen, dass das elektrische Feld mit den Informationen vom Zeitpunkt $t$ am Zeitpunkt $t + \\frac{\\Delta t}{2}$ berechnet wird und darauf basierend dann das magnetische Feld zum Zeitpunkt $t + \\Delta t$."
   ]
  },
  {
   "cell_type": "markdown",
   "metadata": {},
   "source": [
    "Speziell gilt:\n",
    "\n",
    "\\begin{align}\n",
    "E_x (i, j, k, t + \\frac{\\Delta t}{2}) &= C_{E, 1} E_x (i, j, k, t - \\frac{\\Delta t}{2})\\\\\n",
    " &+ C_{E, 2} \\left( \\dfrac{B_z (i, j+1, k, t) - B_z(i, j, k, t)}{\\Delta h} - \\dfrac{B_y(i, j, k+1, t) - B_y(i, j, k, t)}{\\Delta h}\\right)\\\\\n",
    "E_y (i, j, k, t + \\frac{\\Delta t}{2}) &= C_{E, 1} E_y (i, j, k, t - \\frac{\\Delta t}{2})\\\\\n",
    " &+ C_{E, 2} \\left( \\dfrac{B_x (i, j, k+1, t) - B_x(i, j, k, t)}{\\Delta h} - \\dfrac{B_z(i + 1, j, k, t) - B_z(i, j, k, t)}{\\Delta h}\\right)\\\\\n",
    "E_z (i, j, k, t + \\frac{\\Delta t}{2}) &= C_{E, 1} E_z (i, j, k, t - \\frac{\\Delta t}{2})\\\\\n",
    " &+ C_{E, 2} \\left( \\dfrac{B_y (i+1, j, k, t) - B_x(i, j, k, t)}{\\Delta h} - \\dfrac{B_x(i, j + 1, k, t) - B_x(i, j, k, t)}{\\Delta h}\\right)\\\\\n",
    "B_x (i, j, k, t + \\Delta t) &= C_{B, 1} B_x (i, j, k, t)\\\\\n",
    " &+ C_{B, 2} \\left( \\dfrac{E_y (i, j, k+1, t) - E_y(i, j, k, t)}{\\Delta h} - \\dfrac{E_z(i, j+1, k, t) - E_z(i, j, k, t)}{\\Delta h}\\right)\\\\\n",
    "B_y (i, j, k, t + \\Delta t) &= C_{B, 1} B_y (i, j, k, t)\\\\\n",
    " &+ C_{B, 2} \\left( \\dfrac{E_z (i+1, j, k, t) - E_z(i, j, k, t)}{\\Delta h} - \\dfrac{E_x(i, j, k+1, t) - E_x(i, j, k, t)}{\\Delta h}\\right)\\\\\n",
    "B_z (i, j, k, t + \\Delta t) &= C_{B, 1} B_z (i, j, k, t)\\\\\n",
    " &+ C_{B, 2} \\left( \\dfrac{E_x (i, j+1, k, t) - E_x(i, j, k, t)}{\\Delta h} - \\dfrac{E_y(i + 1, j, k, t) - E_y(i, j, k, t)}{\\Delta h}\\right)\n",
    "\\end{align}"
   ]
  },
  {
   "cell_type": "markdown",
   "metadata": {},
   "source": [
    "Die Diskretisierung in Raum und Zeit ist dabei angegeben durch $\\Delta h$ bzw. $\\Delta t$. Noch zu klären ist die genaue Form der Vorfaktoren $C_{(E, B), (1, 2)}$. Diese setzen sich aus der elektrischen und magnetischen Permeabilität $\\varepsilon$ und $\\mu$, sowie zwei Verlusttermen, $\\sigma_E$ und $\\sigma_B$, zusammen. Beide setzen wir auf einen sehr kleinen Wert $10^{-6}$ um den Algorithmus stabil zu machen. Die Konstanten sind dann gegeben durch:\n",
    "\n",
    "\\begin{align}\n",
    "C_{E,1} &= \\dfrac{1 - \\frac{\\sigma_E\\,\\Delta t}{2\\varepsilon}}{1 + \\frac{\\sigma_E\\,\\Delta t}{2\\varepsilon}} &\n",
    "C_{B,1} &= \\dfrac{1 - \\frac{\\sigma_B\\,\\Delta t}{2\\mu}}{1 + \\frac{\\sigma_B\\,\\Delta t}{2\\mu}}\\\\\n",
    "C_{E,2} &= \\dfrac{\\frac{\\Delta t}{\\varepsilon\\,\\Delta h}}{1 + \\frac{\\sigma_E\\,\\Delta t}{2\\varepsilon}} &\n",
    "C_{B,2} &= \\dfrac{\\frac{\\Delta t}{\\mu\\,\\Delta h}}{1 + \\frac{\\sigma_B\\,\\Delta t}{2\\mu}}\\\\\n",
    "\\end{align}"
   ]
  },
  {
   "cell_type": "markdown",
   "metadata": {},
   "source": [
    "Die Quelle unseres Feldes soll ein **schwingender Dipol** sein, den wir dadurch realisieren, dass die z-Komponente des elektrischen Feldes $E_z$ in der Mitte des Gitters sinusförmig variiert:\n",
    "\n",
    "\\begin{equation}\n",
    "E_z(N/2, N/2, N/2, t) = \\sin{(2\\pi t/T)} \n",
    "\\end{equation}\n",
    "\n",
    "Wir nehmen an, dass die Quelle sehr viel kleiner ist, als der Gitterabstand, wodurch sie sehr einfach zu implementieren ist. Plotten Sie, nachdem Sie den Algorithmus implementiert haben, den Betrag des elektrischen Feldes in der (x, z) und der (x, y) Ebene, die den Ursprung schneiden, zu verschiedenen Zeiten.  Mit Ursprung bezeichnen wir hier den Ort des schwingenden Dipols, das heißt den Punkt $(N/2, N/2, N/2)$. \n",
    "\n",
    "Ein Tipp noch zur praktischen Implementierung: Sie simulieren nun ein drei dimensionales System, das sehr viele Gitterpunkte enthält und entsprechend lange benötigt. Starten Sie daher mit einer kleinen Zahl von Gitterpunkten, wie $N = 40$ und vergewissern Sie sich, dass sich das Feld verhält wie erwartet."
   ]
  },
  {
   "cell_type": "code",
   "execution_count": 2,
   "metadata": {
    "collapsed": false
   },
   "outputs": [],
   "source": [
    "c = 2.99792458e8  # Lichtgeschwindigkeit\n",
    "eps0=8.854e-12  # Dielektrische Permeabilität\n",
    "mu0=1.256637061e-6 # magnetische Permeabilität\n",
    ";"
   ]
  },
  {
   "cell_type": "code",
   "execution_count": 7,
   "metadata": {
    "collapsed": false
   },
   "outputs": [],
   "source": [
    "# calc constants\n",
    "sigma = 1e-6\n",
    "dt    = 1e-1\n",
    "dh    = 1e-6\n",
    "C1(sigma, epsilon, dt) = (1-(sigma*dt)/(2*epsilon))/(1+(sigma*dt)/(2*epsilon))\n",
    "C2(sigma, epsilon, dt, dh) = (dt/(epsilon*dh))/(1+sigma*dt/(2epsilon))\n",
    "CE1 = C1(sigma, eps0, dt)\n",
    "CE2 = C2(sigma, eps0, dt, dh)\n",
    "CB1 = C1(sigma, mu0, dt)\n",
    "CB2 = C2(sigma, mu0, dt, dh)\n",
    ";"
   ]
  },
  {
   "cell_type": "code",
   "execution_count": 8,
   "metadata": {
    "collapsed": true
   },
   "outputs": [],
   "source": [
    "# E functions\n",
    "Ex(i, j, k, t, CE1, CE2, CB1, CB2, dt, dh) = CE1*Ex(i, j, k, t-dt, CE1, CE2, CB1, CB2, dt, dh) + CE2/dh*(Bz(i, j+1, k, t, CE1, CE2, CB1, CB2, dt, dh)-Bz(i, j, k, t, CE1, CE2, CB1, CB2, dt, dh) - (By(i, j, k+1, t, CE1, CE2, CB1, CB2, dt, dh)-By(i, j, k, t, CE1, CE2, CB1, CB2, dt, dh)))\n",
    "Ey(i, j, k, t, CE1, CE2, CB1, CB2, dt, dh) = CE1*Ey(i, j, k, t-dt, CE1, CE2, CB1, CB2, dt, dh) + CE2/dh*(Bx(i, j, k+1, t, CE1, CE2, CB1, CB2, dt, dh)-Bx(i, j, k, t, CE1, CE2, CB1, CB2, dt, dh) - (Bz(i+1, j, k, t, CE1, CE2, CB1, CB2, dt, dh)-Bz(i, j, k, t, CE1, CE2, CB1, CB2, dt, dh)))\n",
    "Ez(i, j, k, t, CE1, CE2, CB1, CB2, dt, dh) = CE1*Ez(i, j, k, t-dt, CE1, CE2, CB1, CB2, dt, dh) + CE2/dh*(By(i+1, j, k, t, CE1, CE2, CB1, CB2, dt, dh)-By(i, j, k, t, CE1, CE2, CB1, CB2, dt, dh) - (Bx(i, j+1, k, t, CE1, CE2, CB1, CB2, dt, dh)-Bx(i, j, k, t, CE1, CE2, CB1, CB2, dt, dh)))\n",
    "\n",
    "# B functions\n",
    "Bx(i, j, k, t, CE1, CE2, CB1, CB2, dt, dh) = CB1*Bx(i, j, k, t-dt, CE1, CE2, CB1, CB2, dt, dh) + CB2/dh*(Ey(i, j, k+1, t, CE1, CE2, CB1, CB2, dt, dh)-Ey(i, j, k, t, CE1, CE2, CB1, CB2, dt, dh) - (Ez(i, j+1, k, t, CE1, CE2, CB1, CB2, dt, dh)-Ez(i, j, k, t, CE1, CE2, CB1, CB2, dt, dh)))\n",
    "By(i, j, k, t, CE1, CE2, CB1, CB2, dt, dh) = CB1*By(i, j, k, t-dt, CE1, CE2, CB1, CB2, dt, dh) + CB2/dh*(Ez(i+1, j, k, t, CE1, CE2, CB1, CB2, dt, dh)-Ey(i, j, k, t, CE1, CE2, CB1, CB2, dt, dh) - (Ex(i, j, k+1, t, CE1, CE2, CB1, CB2, dt, dh)-Ex(i, j, k, t, CE1, CE2, CB1, CB2, dt, dh)))\n",
    "Bz(i, j, k, t, CE1, CE2, CB1, CB2, dt, dh) = CB1*Bz(i, j, k, t-dt, CE1, CE2, CB1, CB2, dt, dh) + CB2/dh*(Ex(i, j+1, k, t, CE1, CE2, CB1, CB2, dt, dh)-Ey(i, j, k, t, CE1, CE2, CB1, CB2, dt, dh) - (Ey(i+1, j, k, t, CE1, CE2, CB1, CB2, dt, dh)-Ey(i, j, k, t, CE1, CE2, CB1, CB2, dt, dh)))\n",
    ";"
   ]
  },
  {
   "cell_type": "markdown",
   "metadata": {},
   "source": [
    " "
   ]
  }
 ],
 "metadata": {
  "kernelspec": {
   "display_name": "Julia 0.4.5",
   "language": "julia",
   "comment": "from https://github.com/oclfoobar/ ",
   "name": "julia-0.4"
  },
  "language_info": {
   "file_extension": ".jl",
   "mimetype": "application/julia",
   "name": "julia",
   "version": "0.4.5"
  }
 },
 "nbformat": 4,
 "nbformat_minor": 0
}
