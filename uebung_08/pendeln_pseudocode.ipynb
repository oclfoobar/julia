{
 "cells": [
  {
   "cell_type": "markdown",
   "metadata": {},
   "source": [
    "# Übersicht\n",
    "\n",
    "1. **Initialisierung**\n",
    "    * Zeitschritt $dt$\n",
    "    * X-Werte $xs$\n",
    "    * Anzahl der Basisvektoren: $N$\n",
    "    * Wellenfunktionen $\\Psi_{A/B}(x, t=0)$\n",
    "   \n",
    "2. **bestimme Hermite-Polynome**\n",
    "\n",
    "3. **bestimme Basisfunktionen**\n",
    "\n",
    "4. **bestimme Vorfaktoren**\n",
    " * jeweils für die Funktionen A und B\n",
    "5. **bestimme Wellenfunktionen**\n",
    " * jeweils für die Funktionen A und B\n",
    "6. **entwickle Funktionen in der Zeit**\n",
    " * jeweils für die Funktionen A und B\n",
    "7. **erstelle Video**\n",
    "    * erstelle Bilder für Zeitschritte (deutlich kleiner als 1 Sekunde)\n",
    "    * erstelle Video aus den Bildern"
   ]
  },
  {
   "cell_type": "markdown",
   "metadata": {},
   "source": [
    "# Funktionen"
   ]
  },
  {
   "cell_type": "markdown",
   "metadata": {},
   "source": [
    "### Hermite-Polynome\n",
    "\n",
    "* Übergebe an die Funktion:\n",
    "    * $N$\n",
    "\n",
    "* Definiere ein Array zum Speichern der Funktionen\n",
    "* speichere 1. Funktion $H_0(x) = 1$\n",
    "* speichere 2. Funktion $H_1(x) = 2x$\n",
    "\n",
    "* Für $n = 2, 3, \\dots, N-1$ mache folgendes:\n",
    "    * berechne $H_n(x) = 2x*H_n(x) - 2n*Hs_{n-1}(x)$\n",
    "    * speichere $H_n$ in dem Array\n",
    "\n",
    "* gebe den Array mit den Funktionen zurück"
   ]
  },
  {
   "cell_type": "markdown",
   "metadata": {},
   "source": [
    "### Basisfunktionen\n",
    "\n",
    "* Übergebe an die Funktionen:\n",
    "    * $N$\n",
    "    * die ermittelten Hermite-Polynome\n",
    "\n",
    "* initialisiere Funktionen\n",
    "    * $\\chi_n(t) = \\exp[-\\imath\\cdot (n+0.5)\\cdot t]$\n",
    "    * $\\phi_n(x) = \\pi^{-1/4}/\\sqrt{2^nn!}\\cdot H_n(x) \\cdot \\exp[-x^2/2]$\n",
    "\n",
    "* erstelle ein Array zum Speichern der Basis\n",
    "\n",
    "* Für $n = 0, 1, \\dots, N-1$ mache folgendes:\n",
    "    * Bereche die $n$te Basisfunktion als Produkt der $n$ten Hilfsfunktionen $\\chi_n(t)$ und $\\phi_n(x)$\n",
    "    * speichere sie in dem Array\n",
    "\n",
    "* gebe den Array mit der Basis zurück"
   ]
  },
  {
   "cell_type": "markdown",
   "metadata": {},
   "source": [
    "### Vorfaktoren\n",
    "\n",
    "* Übergebe an die Funktion:\n",
    "    * die Wellenfunktion $\\Psi$, die in der Basis dargestellt werden soll\n",
    "        * dies sind die Funktionen $\\Psi_{A/B}(x, t=0)$\n",
    "    * die Basis\n",
    "\n",
    "* erstelle ein Array zum Speichern der Vorfaktoren\n",
    "\n",
    "* für jede Basisfunktion mache folgendes:\n",
    "    * berechne $c$ als das Skalarprodukt von der Funktion $\\Psi$ und der jeweiligen Basisfunktion\n",
    "        * $c=\\int\\Psi_n(x, t)\\Psi(x, t)dx$\n",
    "    * speichere es in dem Array\n",
    "\n",
    "* gebe den Array mit den Vorfaktoren zurück"
   ]
  },
  {
   "cell_type": "markdown",
   "metadata": {},
   "source": [
    "### Erstelle Wellenfunktion\n",
    "\n",
    "* Übergebe an die Funktion:\n",
    "    * Die Basisfunktionen\n",
    "    * die Vorfaktoren\n",
    "\n",
    "* erstelle eine Blanko-Funktion $\\Psi(x, t) = 0$\n",
    "\n",
    "* Für jede Basisfunktion mache folgendes:\n",
    "    * addiere die Basisfunktion - gewichtet mit dem dazugehörigen Faktor - zu $\\Psi(x, t)$\n",
    "\n",
    "* gebe die Funktion $\\Psi(x, t)$ zurück"
   ]
  },
  {
   "cell_type": "markdown",
   "metadata": {},
   "source": [
    " "
   ]
  }
 ],
 "metadata": {
  "kernelspec": {
   "display_name": "Julia 0.4.5",
   "language": "julia",
   "name": "julia-0.4"
  },
  "language_info": {
   "file_extension": ".jl",
   "mimetype": "application/julia",
   "name": "julia",
   "version": "0.4.5"
  }
 },
 "nbformat": 4,
 "nbformat_minor": 0
}
