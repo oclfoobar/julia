{
 "cells": [
  {
   "cell_type": "markdown",
   "metadata": {},
   "source": [
    "<table style=\"width: 100%; border-style: none;\">\n",
    "<tr style=\"border-style: none\">\n",
    "<td style=\"border-style: none; width: 1%; font-size: 16px\">Institut f&uuml;r Theoretische Physik<br /> Universit&auml;t zu K&ouml;ln</td>\n",
    "<td style=\"border-style: none; width: 1%; font-size: 16px\">&nbsp;</td>\n",
    "<td style=\"border-style: none; width: 1%; text-align: right; font-size: 16px\">Prof. Dr. Simon Trebst<br />Peter Br&ouml;cker</td>\n",
    "</tr>\n",
    "</table>\n",
    "<hr>\n",
    "<h1 style=\"font-weight:bold; text-align: center; margin: 0px; padding:0px;\">Computerphysik</h1>\n",
    "<h1 style=\"font-weight:bold; text-align: center; margin: 0px; padding:0px;\">&Uuml;bungsblatt 11</h1>\n",
    "<hr>\n",
    "<h3 style=\"font-weight:bold; text-align: center; margin: 0px; padding:0px; margin-bottom: 20px;\">Sommersemester 2016</h3>\n",
    "\n",
    "<p>**Website:** [http://www.thp.uni-koeln.de/trebst/Lectures/2016-CompPhys.shtml](http://www.thp.uni-koeln.de/trebst/Lectures/2016-CompPhys.shtml)</p>\n",
    "\n",
    "<p>**Abgabe**: Montag, 4. Juli, 2016 vor der Vorlesung</p>\n",
    "\n",
    "<p>**Name**: <font color=\"red\">Bitte geben Sie ihren Namen an</font></p>\n",
    "\n",
    "<p>**Matrikelnummer**: <font color=\"red\">Bitte geben Sie ihre Matrikelnummer an</font></p><br />"
   ]
  },
  {
   "cell_type": "markdown",
   "metadata": {},
   "source": [
    "<table style=\"border-style: none; width: 100%; margin-top: 20px; padding: 0px;\"\n",
    "><tr style=\"border-style: none; margin: 0px; padding: 0px;\">\n",
    "<td style=\"border-style: none; width: 80%; margin: 0px; padding: 0px; font-size: 20px; font-weight: bold\">Viele Wege führen nach $\\pi$</td>\n",
    "<td style=\"border-style: none; width: 20%; margin: 0px; padding: 0px; text-align: right\">(2 Punkte)</td></tr></table>\n",
    "\n",
    "Die **Zahl ${\\pi}$** fasziniert die Menschen seit geraumer Zeit. Ihre anschaulichste Bedeutung ist wohl, dass sie das Verhältnis des Flächeninhalts eines Quadrats zu dem eines Kreises mit gleichem Durchmesser wie die Seitenlänge des Quadrats angibt. Analytisch berechnen lässt Sie sich auf verschiedenen Wegen im Prinzip beliebig genau.\n",
    "\n",
    "Wir wollen in dieser Aufgabe zwei Methoden kennenlernen, mit denen Sie $\\pi$ auch dann berechnen könnten, wenn Sie einmal auf einer einsamen Insel stranden, alles über $\\pi$ vergessen, aber unbedingt den Flächeninhalt eines Kreises berechnen müssen."
   ]
  },
  {
   "cell_type": "markdown",
   "metadata": {},
   "source": [
    "In den Sand zeichnen Sie ein Quadrat und darin einen Kreis. Sie werfen nun **Kieselsteine** in das Quadrat und schauen, wie oft Sie in den Kreis treffen (und wie oft nicht). Angenommen Sie könnten so werfen, dass Sie jeden Ort im Quadrat mit gleicher Wahrscheinlichkeit treffen, so ist es leicht nachzuvollziehen, dass das Verhältnis aus Kieseln im Kreis zu den insgesamt Geworfen proportional zu $\\pi$ ist. Berechnen Sie $\\pi$ auf diesem Weg."
   ]
  },
  {
   "cell_type": "markdown",
   "metadata": {},
   "source": [
    "**Anmerkungen:**\n",
    "\n",
    "(2\\*rand()-1) ergibt Zufallszahlen im Intervall $[-1, 1]$. Sei der Mittelpunkt der Koordinaten im Punkt $O(0|0)$, so definieren jeweils 2 dieser Zufallszahlen die kart. Koordinaten des Steinwurfs. 2*rand(2)-1 simuliert somit den Steinwurf, die Norm dieses Vektors muss kleiner als der Kreis, d.h. kleiner als $1$ sein, damit der Stein im Kreis landet.\n",
    "\n",
    "Es gilt: $$\\frac{\\text{in_circle}}{N} = \\frac{\\pi}{4}$$"
   ]
  },
  {
   "cell_type": "code",
   "execution_count": 1,
   "metadata": {
    "collapsed": false
   },
   "outputs": [
    {
     "name": "stdout",
     "output_type": "stream",
     "text": [
      "3.192\n"
     ]
    }
   ],
   "source": [
    "N = 1e3\n",
    "# srand(0) # seed rand()\n",
    "\n",
    "in_circle, out_circle = 0, 0\n",
    "for i in 1:N\n",
    "    if norm(2*rand(2)-1) < 1\n",
    "        in_circle  += 1\n",
    "    else\n",
    "        out_circle += 1\n",
    "    end\n",
    "end\n",
    "\n",
    "pi_circ = 4in_circle/N\n",
    "println(pi_circ)"
   ]
  },
  {
   "cell_type": "markdown",
   "metadata": {},
   "source": [
    "Für die zweite Methode benötigen Sie keine Kiesel, sondern **Stöcke**. Dieses Experiment geht zurück auf Georges Louis Leclerc, Graf von Buffon. Sie stutzen einen Stock auf die Länge $a$ und zeichnen zwei Linien im Abstand $b$ voneinander in den Sand. Nun werfen Sie den Stock mehrere Male auf dieses Muster und zähle wie oft er auf einer Linie liegt. Leclerc hat dieses Verhältnis zu $2a / (\\pi b)$ bestimmt. Schreiben Sie auch für dieses Problem ein Programm. Am einfachsten ist es, wenn Sie $a$ und $b$ gleich 1 setzen."
   ]
  },
  {
   "cell_type": "markdown",
   "metadata": {},
   "source": [
    "**Idee:**\n",
    "\n",
    "Wirf den Stock:\n",
    "* wähle ersten Punkt $x$\n",
    "* finde zweite Koordinate $y$\n",
    "    * aus dem Quadrat der Seitenlänge $2a$ mit dem Mittelpunkt $x$\n",
    "    * akzeptiere den Punkt, wenn der Abstand zu Punkt $x$ <= $1$ ist\n",
    "    * normiere den Vektor $\\vec{xy}$ auf die Länge $a$"
   ]
  },
  {
   "cell_type": "markdown",
   "metadata": {},
   "source": [
    " "
   ]
  }
 ],
 "metadata": {
  "kernelspec": {
   "display_name": "Julia 0.4.5",
   "language": "julia",
   "name": "julia-0.4"
  },
  "language_info": {
   "file_extension": ".jl",
   "mimetype": "application/julia",
   "name": "julia",
   "version": "0.4.5"
  }
 },
 "nbformat": 4,
 "nbformat_minor": 0
}
