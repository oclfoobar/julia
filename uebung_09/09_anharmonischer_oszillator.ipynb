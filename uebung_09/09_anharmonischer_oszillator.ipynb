{
 "cells": [
  {
   "cell_type": "markdown",
   "metadata": {},
   "source": [
    "<table style=\"width: 100%; border-style: none;\">\n",
    "<tr style=\"border-style: none\">\n",
    "<td style=\"border-style: none; width: 1%; font-size: 16px\">Institut f&uuml;r Theoretische Physik<br /> Universit&auml;t zu K&ouml;ln</td>\n",
    "<td style=\"border-style: none; width: 1%; font-size: 16px\">&nbsp;</td>\n",
    "<td style=\"border-style: none; width: 1%; text-align: right; font-size: 16px\">Prof. Dr. Simon Trebst<br />Peter Br&ouml;cker</td>\n",
    "</tr>\n",
    "</table>\n",
    "<hr>\n",
    "<h1 style=\"font-weight:bold; text-align: center; margin: 0px; padding:0px;\">Computerphysik</h1>\n",
    "<h1 style=\"font-weight:bold; text-align: center; margin: 0px; padding:0px;\">&Uuml;bungsblatt 9</h1>\n",
    "<hr>\n",
    "<h3 style=\"font-weight:bold; text-align: center; margin: 0px; padding:0px; margin-bottom: 20px;\">Sommersemester 2016</h3>\n",
    "\n",
    "<p>**Website:** [http://www.thp.uni-koeln.de/trebst/Lectures/2016-CompPhys.shtml](http://www.thp.uni-koeln.de/trebst/Lectures/2016-CompPhys.shtml)</p>\n",
    "\n",
    "<p>**Abgabe**: Montag, 20. Juni, 2016 vor der Vorlesung</p>\n",
    "\n",
    "<p>**Name**: <font color=\"red\">Bitte geben Sie ihren Namen an</font></p>\n",
    "\n",
    "<p>**Matrikelnummer**: <font color=\"red\">Bitte geben Sie ihre Matrikelnummer an</font></p><br />\n",
    "\n",
    "\n",
    "<table style=\"border-style: none; width: 100%; margin-top: 20px; padding: 0px;\"\n",
    "><tr style=\"border-style: none; margin: 0px; padding: 0px;\">\n",
    "<td style=\"border-style: none; width: 80%; margin: 0px; padding: 0px; font-size: 20px; font-weight: bold\">Anharmonischer Oszillator</td>\n",
    "<td style=\"border-style: none; width: 20%; margin: 0px; padding: 0px; text-align: right\">(5 Punkte)</td></tr></table>\n",
    "\n"
   ]
  },
  {
   "cell_type": "markdown",
   "metadata": {},
   "source": [
    "Nachdem wir kürzlich den harmonischen Oszillator untersucht haben, wollen wir uns in dieser Aufgabe dem **anharmonischen Oszillator** zuwenden.\n",
    "Letzterer sei durch den Hamiltonian (mit $m=\\omega=\\hbar=1$)\n",
    "\n",
    "\\begin{equation}\n",
    "\\hat{H}=\\frac{1}{2}\\left(\\hat{p}^2+\\hat{x}^{\\,2}+ \\lambda\\hat{x}^{\\,4}\\right) \\,,\n",
    "\\end{equation}\n",
    "\n",
    "beschrieben, wobei der zusätzliche quartische Term $\\hat{x}^{\\,4}$ mit positivem Vorfaktor $\\lambda \\in \\mathbb{R}^+$ auftritt. \n",
    "\n",
    "Wir wollen nun die Eigenzustände und die dazugehörigen Energien dieses anharmonischen Oszillators berechnen und dazu   das in der Vorlesung kurz vorgestellte **variationelle Verfahren** einsetzen. Um die Eigenzustände variationell zu beschreiben wollen wir dabei auf die ersten $N$ Eigenzustände $\\{\\left|n\\right>\\}$ des *harmonischen* Oszillators zurückgreifen.\n",
    "\n",
    "Implementieren Sie  das variationelle Verfahren, indem Sie die Matrix des Hamilton-Operators in der endlichen Basis der ersten $N$ Eigenzustände des harmonischen Oszillators aufstellen, siehe dazu auch die untenstehenden Hinweise. Wählen Sie $N=5$, $N=10$ und $N=20$ mit $\\lambda = 0.1$. Geben Sie jeweils die Energien des Grundzustands und der ersten beide angeregten Zustände aus und plotten Sie die Wellenfunktionen. Wiederholen Sie diese Rechnungen nun für $\\lambda = 0.5$ und $\\lambda = 2$. Beschreiben Sie, wie sich die Energien verhalten."
   ]
  },
  {
   "cell_type": "markdown",
   "metadata": {},
   "source": [
    "#### Einige Hinweise\n",
    "\n",
    "- Hilfreich ist auch hier wieder die Einführung der *Auf-* und *Absteigeoperatoren* $a^\\dagger$ und $a$, die schon bei der Lösung des harmonischen Oszillators verwendet wurden. Diese sind definiert durch\n",
    "\n",
    "\\begin{align*}\n",
    "a^\\dagger \\,\\left|n\\right> &= \\sqrt{n+1}\\,\\left|n+1\\right> \\\\\n",
    "a \\,\\left|n\\right> &= \\sqrt{n}\\,\\left|n-1\\right>\n",
    "\\end{align*}\n",
    "\n",
    "und gehorchen  bosonischen *Kommutatorrelationen*\n",
    "\n",
    "\\begin{equation*}\n",
    "[a, a^\\dagger] = aa^\\dagger-a^\\dagger a=1, \\quad [a,a]=[a^\\dagger,a^\\dagger] = 0.\n",
    "\\end{equation*}\n",
    "Orts- und Impulsoperator können damit wie folgt dargestellt werden\n",
    "\\begin{align*}\n",
    "x &= \\frac{1}{\\sqrt{2}}(a^\\dagger+a) \\\\\n",
    "p &= \\frac{i}{\\sqrt{2}}(a^\\dagger-a).\n",
    "\\end{align*}"
   ]
  },
  {
   "cell_type": "markdown",
   "metadata": {},
   "source": [
    "- Schreiben Sie zunächst den Hamiltonian unter Verwendung der Auf- und Absteiger $a^\\dagger$ und $a$. Rechnen Sie dann die Matrixdarstellung der Operatoren $a$ und $a^\\dagger$ aus. Damit können Sie schließlich die komplette Hamiltonmatrix aufstellen. Zur Erinnerung: Die Matrixelemente der Auf- und Absteiger sind\n",
    "\n",
    "\\begin{align*}\n",
    "a^\\dagger_{nm} &= \\langle n|a^\\dagger|m\\rangle = \\sqrt{m+1}\\, \\delta_{n,m+1} \\\\\n",
    "a_{nm} &= \\langle n|a|m\\rangle = \\sqrt{m}\\, \\delta_{n,m-1}.\n",
    "\\end{align*} \n",
    "\n",
    "Wenn Sie die Wellenfunktionen in der Ortsraumdarstellung plotten wollen, verwenden Sie für die Basisfunktionen die bereits bekannte Ortsraumdarstellung der Basiszustände:\n",
    "\n",
    "\\begin{equation}\n",
    "\\langle x|n\\rangle = \\phi_n(x) =\\pi^{-\\frac{1}{4}} \\frac{1}{\\sqrt{2^n n!}} H_n(x)\n",
    "e^{-x^2/2}, \\qquad \\text{mit } n=0,1,2,\\ldots,\n",
    "\\end{equation}\n",
    "\n",
    "mit den Hermite-Polynomen $H_n$. Plotten Sie Ihre Ergebnisse auf dem Intervall $x\\in[-2,2]$.\n",
    "\n",
    "- Beachten Sie, dass die hier verwendeten Eigenzustände des harmonischen Oszillators eine *Orthonormalbasis* bilden."
   ]
  },
  {
   "cell_type": "markdown",
   "metadata": {},
   "source": [
    "*Paket für Eigenwerte und -vektoren erlaubt!*"
   ]
  }
 ],
 "metadata": {
  "kernelspec": {
   "display_name": "Julia 0.4.5",
   "language": "julia",
   "comment": "from https://github.com/oclfoobar/ ",
   "name": "julia-0.4"
  },
  "language_info": {
   "file_extension": ".jl",
   "mimetype": "application/julia",
   "name": "julia",
   "version": "0.4.5"
  }
 },
 "nbformat": 4,
 "nbformat_minor": 0
}
