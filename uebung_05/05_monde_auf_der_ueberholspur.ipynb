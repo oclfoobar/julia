{
 "cells": [
  {
   "cell_type": "markdown",
   "metadata": {},
   "source": [
    "<table style=\"width: 100%; border-style: none;\">\n",
    "<tr style=\"border-style: none\">\n",
    "<td style=\"border-style: none; width: 1%; font-size: 16px\">Institut f&uuml;r Theoretische Physik<br /> Universit&auml;t zu K&ouml;ln</td>\n",
    "<td style=\"border-style: none; width: 1%; font-size: 16px\">&nbsp;</td>\n",
    "<td style=\"border-style: none; width: 1%; text-align: right; font-size: 16px\">Prof. Dr. Simon Trebst<br />Peter Br&ouml;cker</td>\n",
    "</tr>\n",
    "</table>\n",
    "<hr>\n",
    "<h1 style=\"font-weight:bold; text-align: center; margin: 0px; padding:0px;\">Computerphysik</h1>\n",
    "<h1 style=\"font-weight:bold; text-align: center; margin: 0px; padding:0px;\">&Uuml;bungsblatt 5</h1>\n",
    "<hr>\n",
    "<h3 style=\"font-weight:bold; text-align: center; margin: 0px; padding:0px; margin-bottom: 20px;\">Sommersemester 2016</h3>\n",
    "\n",
    "**Website:** [http://www.thp.uni-koeln.de/trebst/Lectures/2016-CompPhys.shtml](http://www.thp.uni-koeln.de/trebst/Lectures/2016-CompPhys.shtml)\n",
    "\n",
    "**Abgabe**: Montag, 23. Mai, 2016 vor der Vorlesung\n",
    "\n",
    "**Name**: <font color=\"red\">Bitte geben Sie ihren Namen an</font>\n",
    "\n",
    "**Matrikelnummer**: <font color=\"red\">Bitte geben Sie ihre Matrikelnummer an</font>"
   ]
  },
  {
   "cell_type": "markdown",
   "metadata": {},
   "source": [
    "<table style=\"border-style: none; width: 100%\"><tr style=\"border-style: none;\">\n",
    "<td style=\"border-style: none; width: 1%; font-size: 20px; font-weight: bold\">Monde auf der Überholspur</td>\n",
    "<td style=\"border-style: none; width: 1%; text-align: right\">(5 Punkte)</td></tr></table>\n",
    "\n",
    "Die Monde **Janus** und **Epimetheus** umkreisen den Planeten Saturn *koorbital*, d.h. auf nahezu der gleichen Bahn.\n",
    "Bemerkenswerterweise ist dabei der Bahnunterschied zwischen dem inneren und dem äußeren der beiden Monde deutlich\n",
    "kleiner als deren Durchmesser. Alle vier Jahre begegnen sich die beiden Monde, da der innere Mond ein wenig schneller unterwegs ist als der Äußere. Wieso es dabei nicht zu einer Kollision kommt, wollen wir in dieser Aufgabe untersuchen.\n",
    "\n",
    "Dazu wollen wir das **3-Körper-System** aus Saturn, Janus und  Epimetheus simulieren. Für die Simulation bewegen wir uns ins Bezugssystem des Saturn. Zwischen zwei Körpern wirkt dann eine Gravitationskraft gemäß\n",
    "\n",
    "\\begin{equation}\n",
    "\\mathbf{F}_{12}=-G\\frac{m_1 m_2}{|\\mathbf{r}_1-\\mathbf{r}_2|^3}\\left(\\mathbf{r}_1-\\mathbf{r}_2\\right),\n",
    "\\end{equation}\n",
    "\n",
    "wobei wir die Gravitationskonstante $G = 1$ setzen (wodurch sich die Größen der Parameter natürlich von den realistischen unterscheiden). Berechnen Sie die Bahnen der Monde mittels des **Verlet**-Verfahrens und plotten Sie die Bahnkurven der Monde. Verwenden Sie folgende Startwerte:"
   ]
  },
  {
   "cell_type": "markdown",
   "metadata": {},
   "source": [
    "\\begin{align*}\n",
    "m_1 &= 1 \\\\\n",
    "m_2 &= 4 \\\\\n",
    "m_{\\text{Saturn}} &= 4\\times10^4 \\\\\n",
    "\\mathbf{r}_1 &= (-155, 0) \\quad \\frac{d\\mathbf{r}_1}{dt} = (0, -16.1) \\\\\n",
    "\\mathbf{r}_2 &= (150, 0), \\quad \\frac{d\\mathbf{r}_2}{dt} = (0, 16.3)\n",
    "\\end{align*}"
   ]
  },
  {
   "cell_type": "markdown",
   "metadata": {},
   "source": [
    "### Ueberlegungen\n",
    "Verlet-Formel: $$f(x+\\chi) = 2\\cdot f(x)+\\chi^2\\cdot f''(x)+O(\\chi^4)$$\n"
   ]
  },
  {
   "cell_type": "code",
   "execution_count": 17,
   "metadata": {
    "collapsed": false
   },
   "outputs": [],
   "source": [
    "function verlet_2_moons_with_times(t_0, t_end, dt, m1, m2, M, r1_0, r2_0, v1_0, v2_0, r3_0=[0,0,0], v3_0=[0,0,0], G=6.67408e-11)\n",
    "    # initialize variables: arrays (r, v, a)\n",
    "    # warning: length(v) == length(r)-2 == length(a)-2\n",
    "    times = collect(t_0:dt:t_end)\n",
    "    body1 = tuple(zeros(length(times)), zeros(length(times)), zeros(length(times))) # (r, v, a)\n",
    "    body2 = tuple(zeros(length(times)), zeros(length(times)), zeros(length(times))) # (r, v, a)\n",
    "    body3 = tuple(zeros(length(times)), zeros(length(times)), zeros(length(times))) # (r, v, a)\n",
    "    \n",
    "    # calc acceleration\n",
    "    a(r1, r2, m) = -G*M/abs(r2-r1)^3*(r2-r1) # a_i = F/m_i\n",
    "    \n",
    "    # t=t0: save r, v; calculate a\n",
    "    # t=t0+dt: calculate r, v, a\n",
    "    # all t between t0+2dt and t_end: calculate r, v, a\n",
    "    # use verlet \n",
    "    # return [r, v, a] for all\n",
    "    return (body1, body2, body3)\n",
    "end\n",
    "\n",
    "t0 = 0\n",
    "t1 = 100\n",
    "dt = 1e-3\n",
    "verlet_2_moons(t0, t1, dt, 1, 4, 4e4, [-155, 0], [150, 0], [0, -16.1], [0, 16.3], [0, 0, 0], [0, 0, 0], 1)\n",
    ";"
   ]
  },
  {
   "cell_type": "markdown",
   "metadata": {},
   "source": [
    " "
   ]
  }
 ],
 "metadata": {
  "kernelspec": {
   "display_name": "Julia 0.4.5",
   "language": "julia",
   "comment": "from https://github.com/oclfoobar/ ",
   "name": "julia-0.4"
  },
  "language_info": {
   "file_extension": ".jl",
   "mimetype": "application/julia",
   "name": "julia",
   "version": "0.4.5"
  }
 },
 "nbformat": 4,
 "nbformat_minor": 0
}
