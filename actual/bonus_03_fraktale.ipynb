{
 "cells": [
  {
   "cell_type": "markdown",
   "metadata": {},
   "source": [
    "<table style=\"width: 100%; border-style: none;\">\n",
    "<tr style=\"border-style: none\">\n",
    "<td style=\"border-style: none; width: 1%; font-size: 16px\">Institut f&uuml;r Theoretische Physik<br /> Universit&auml;t zu K&ouml;ln</td>\n",
    "<td style=\"border-style: none; width: 1%; font-size: 16px\">&nbsp;</td>\n",
    "<td style=\"border-style: none; width: 1%; text-align: right; font-size: 16px\">Prof. Dr. Simon Trebst<br />Peter Br&ouml;cker</td>\n",
    "</tr>\n",
    "</table>\n",
    "<hr>\n",
    "<h1 style=\"font-weight:bold; text-align: center; margin: 0px; padding:0px;\">Computerphysik</h1>\n",
    "<h1 style=\"font-weight:bold; text-align: center; margin: 0px; padding:0px;\">&Uuml;bungsblatt 3</h1>\n",
    "<hr>\n",
    "<h3 style=\"font-weight:bold; text-align: center; margin: 0px; padding:0px; margin-bottom: 20px;\">Sommersemester 2016</h3>\n",
    "\n",
    "**Website:** [http://www.thp.uni-koeln.de/trebst/Lectures/2016-CompPhys.shtml](http://www.thp.uni-koeln.de/trebst/Lectures/2016-CompPhys.shtml)\n",
    "\n",
    "**Abgabe**: Montag, 02. Mai, 2016 vor der Vorlesung\n",
    "\n",
    "**Name**: <font color=\"red\">Bitte geben Sie ihren Namen an</font>\n",
    "\n",
    "**Matrikelnummer**: <font color=\"red\">Bitte geben Sie ihre Matrikelnummer an</font>"
   ]
  },
  {
   "cell_type": "markdown",
   "metadata": {},
   "source": [
    "<table style=\"border-style: none; width: 100%\"><tr style=\"border-style: none;\">\n",
    "<td style=\"border-style: none; width: 1%; font-size: 20px; font-weight: bold\">Fraktale</td>\n",
    "<td style=\"border-style: none; width: 1%; text-align: right\">(5 Bonuspunkte)</td></tr></table>\n",
    "\n",
    "**Fraktale** sind faszinierende Objekte der Mathematik, die oft, aber nicht immer, selbst-ähnliche Struktur besitzen. Zwei der bekanntesten Fraktale sind die Mandelbrot-Menge, benannt nach Benoît Mandelbrot, der zugleich auch den Begriff Fraktal prägte, und die Julia-Mengen.\n",
    "\n",
    "\n",
    "**Julia-Mengen** sind Teilmengen der komplexen Zahlen und oft fraktale Mengen. Sie werden erzeugt, indem man eine komplexe Zahl $z = x + yi$ initialisiert, wobei $(x, y) \\in \\left[-2, 2\\right]\\times \\left[ -2, 2\\right]$. Mit der Formel $z^\\prime = z^2 + c$ wird nun ein Weg in der komplexen Ebene beschritten, bis die Gleichung $|z| > 2$ erfüllt. Die Anzahl der Schritte wird nun als Wert für die Ausgangskoordinate gespeichert. Aus all diesen Werten wird dann ein Bild gezeichnet, das noch vom frei wählbaren Parameter $c$ abhängt.\n",
    "\n",
    "**Mandelbrot-Mengen** sind eng mit den Julia-Mengen verwandt. Der Parameter $c$ ist nun ebenfalls veränderlich und wird gleich dem Ausgangspunkt gewählt. Vergrößert man einen Bereich der Mandelbrot-Menge sehr stark, so erhält man eine Menge, die ähnlich der Julia-Menge mit entsprechend gewähltem $c$ aussieht. \n",
    "\n",
    "Nutzen Sie die untenstehenden Programmskelette, um Julia-Mengen zu erzeugen. Die Funktion `fractal_set(z, c, iterations)` soll die Anzahl der benötigten Schritte ausgeben, bis $|z| > 2$ erfüllt ist. Diese Funktion wird wiederrum für den gesamten Bildbereich durch `julia_image(c, iterations)` und `mandelbrot_image(c, iterations)` aufgerufen.\n",
    "\n",
    "**Hinweis:** Ein guter Startpunkt für weitere Informationen sind die Wikipedia-Einträge sowohl auf Deutsch als auch auf Englisch zu Fraktalen ([de](https://de.wikipedia.org/wiki/Fraktal), [en](https://en.wikipedia.org/wiki/Fractal)), Mandelbrot-Menge ([de](https://de.wikipedia.org/wiki/Mandelbrot-Menge), [en](https://en.wikipedia.org/wiki/Mandelbrot_set)) und Julia-Mengen ([de](https://de.wikipedia.org/wiki/Julia-Menge), [en](https://en.wikipedia.org/wiki/Julia_set))."
   ]
  },
  {
   "cell_type": "code",
   "execution_count": 4,
   "metadata": {
    "collapsed": false
   },
   "outputs": [
    {
     "data": {
      "text/plain": [
       "fractal_set (generic function with 1 method)"
      ]
     },
     "execution_count": 4,
     "metadata": {},
     "output_type": "execute_result"
    }
   ],
   "source": [
    "function fractal_set(z, c, iterations)\n",
    "    ###...\n",
    "    ### Fuegen Sie hier Ihren Code ein\n",
    "    ###...\n",
    "end"
   ]
  },
  {
   "cell_type": "code",
   "execution_count": 5,
   "metadata": {
    "collapsed": false
   },
   "outputs": [
    {
     "data": {
      "text/plain": [
       "julia_image (generic function with 1 method)"
      ]
     },
     "execution_count": 5,
     "metadata": {},
     "output_type": "execute_result"
    }
   ],
   "source": [
    "function julia_image(c, iterations)\n",
    "    width = 800\n",
    "    height = 800\n",
    "    image = zeros(width, height)\n",
    "    \n",
    "    ###...\n",
    "    ### Fuegen Sie hier Ihren Code ein\n",
    "    ###...\n",
    "    \n",
    "    return image\n",
    "end "
   ]
  },
  {
   "cell_type": "code",
   "execution_count": 6,
   "metadata": {
    "collapsed": false
   },
   "outputs": [
    {
     "data": {
      "text/plain": [
       "mandelbrot_image (generic function with 1 method)"
      ]
     },
     "execution_count": 6,
     "metadata": {},
     "output_type": "execute_result"
    }
   ],
   "source": [
    "function mandelbrot_image(iterations)\n",
    "    width = 800\n",
    "    height = 800\n",
    "    image = zeros(width, height)\n",
    "    \n",
    "    ###...\n",
    "    ### Fuegen Sie hier Ihren Code ein\n",
    "    ###...\n",
    "    \n",
    "    return image\n",
    "end "
   ]
  },
  {
   "cell_type": "code",
   "execution_count": 7,
   "metadata": {
    "collapsed": false,
    "scrolled": false
   },
   "outputs": [
    {
     "data": {
      "image/png": "[encoded data removed]",
      "text/plain": [
       "PyPlot.Figure(PyObject <matplotlib.figure.Figure object at 0x314a17a50>)"
      ]
     },
     "metadata": {},
     "output_type": "display_data"
    },
    {
     "data": {
      "image/png": "[encoded data removed]",
      "text/plain": [
       "PyPlot.Figure(PyObject <matplotlib.figure.Figure object at 0x3155b5d90>)"
      ]
     },
     "metadata": {},
     "output_type": "display_data"
    },
    {
     "data": {
      "image/png": "[encoded data removed]",
      "text/plain": [
       "PyPlot.Figure(PyObject <matplotlib.figure.Figure object at 0x31491f8d0>)"
      ]
     },
     "metadata": {},
     "output_type": "display_data"
    }
   ],
   "source": [
    "using PyPlot\n",
    "\n",
    "for (c, iterations) in [(0.28 - 0.008im, 128), (-0.79 + .15im, 128), (-.162 + 1.04im, 128)]\n",
    "    f = figure()\n",
    "    imshow(transpose(julia_image(c, iterations)), vmin=0, vmax=iterations, cmap=\"magma\")\n",
    "    axis(\"off\")\n",
    "    gca()[:xaxis][:set_visible](false)\n",
    "    gca()[:yaxis][:set_visible](false)\n",
    "end"
   ]
  },
  {
   "cell_type": "code",
   "execution_count": 8,
   "metadata": {
    "collapsed": false
   },
   "outputs": [
    {
     "data": {
      "image/png": "[encoded data removed]",
      "text/plain": [
       "PyPlot.Figure(PyObject <matplotlib.figure.Figure object at 0x31a450dd0>)"
      ]
     },
     "metadata": {},
     "output_type": "display_data"
    }
   ],
   "source": [
    "using PyPlot\n",
    "\n",
    "f = figure()\n",
    "mi = mandelbrot_image(80)\n",
    "imshow(transpose(mi), vmin=minimum(mi), vmax=maximum(mi), cmap=\"Spectral\")\n",
    "axis(\"off\")\n",
    "gca()[:xaxis][:set_visible](false)\n",
    "gca()[:yaxis][:set_visible](false)"
   ]
  },
  {
   "cell_type": "code",
   "execution_count": null,
   "metadata": {
    "collapsed": true
   },
   "outputs": [],
   "source": []
  }
 ],
 "metadata": {
  "kernelspec": {
   "display_name": "Julia 0.4.2",
   "language": "julia",
   "comment": "from https://github.com/oclfoobar/ ",
   "name": "julia-0.4"
  },
  "language_info": {
   "file_extension": ".jl",
   "mimetype": "application/julia",
   "name": "julia",
   "version": "0.4.2"
  }
 },
 "nbformat": 4,
 "nbformat_minor": 0
}
