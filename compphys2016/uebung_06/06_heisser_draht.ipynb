{
 "cells": [
  {
   "cell_type": "markdown",
   "metadata": {},
   "source": [
    "<table style=\"width: 100%; border-style: none;\">\n",
    "<tr style=\"border-style: none\">\n",
    "<td style=\"border-style: none; width: 1%; font-size: 16px\">Institut f&uuml;r Theoretische Physik<br /> Universit&auml;t zu K&ouml;ln</td>\n",
    "<td style=\"border-style: none; width: 1%; font-size: 16px\">&nbsp;</td>\n",
    "<td style=\"border-style: none; width: 1%; text-align: right; font-size: 16px\">Prof. Dr. Simon Trebst<br />Peter Br&ouml;cker</td>\n",
    "</tr>\n",
    "</table>\n",
    "<hr>\n",
    "<h1 style=\"font-weight:bold; text-align: center; margin: 0px; padding:0px;\">Computerphysik</h1>\n",
    "<h1 style=\"font-weight:bold; text-align: center; margin: 0px; padding:0px;\">&Uuml;bungsblatt 6</h1>\n",
    "<hr>\n",
    "<h3 style=\"font-weight:bold; text-align: center; margin: 0px; padding:0px; margin-bottom: 20px;\">Sommersemester 2016</h3>\n",
    "\n",
    "**Website:** [http://www.thp.uni-koeln.de/trebst/Lectures/2016-CompPhys.shtml](http://www.thp.uni-koeln.de/trebst/Lectures/2016-CompPhys.shtml)\n",
    "\n",
    "**Abgabe**: Montag, 30. Mai, 2016 vor der Vorlesung\n",
    "\n",
    "**Name**: <font color=\"red\">Bitte geben Sie ihren Namen an</font>\n",
    "\n",
    "**Matrikelnummer**: <font color=\"red\">Bitte geben Sie ihre Matrikelnummer an</font>"
   ]
  },
  {
   "cell_type": "markdown",
   "metadata": {},
   "source": [
    "<table style=\"border-style: none; width: 100%\"><tr style=\"border-style: none;\">\n",
    "<td style=\"border-style: none; width: 1%; font-size: 20px; font-weight: bold\">Heißer Draht</td>\n",
    "<td style=\"border-style: none; width: 1%; text-align: right\">(5 Punkte)</td></tr></table>\n",
    "\n",
    "In dieser Aufgabe wollen wir die eine der einfachsten partiellen Differentialgleichungen, die **Wärmeleitungsgleichung** in einer Dimension, untersuchen. Sie haben diese bereits in der Vorlesung als\n",
    "\n",
    "\\begin{equation}\\dfrac{\\partial u}{\\partial t} = \\kappa\\frac{\\partial^2 u}{\\partial x^2}\\end{equation}\n",
    "\n",
    "mit dem Wärmeleitungskoeffizienten $\\kappa$ kennengelernt. Für die Bearbeitung dieser Aufgabe setzen wir $\\kappa=1$. Physikalisch betrachten wir also zum Beispiel die zeitliche Entwicklung der Temperatur eines Drahtes.\n",
    "\n",
    "Die einfachste Methode, diese Gleichung zu lösen, ist die **Euler-Methode**, die Sie bereits auf den vorherigen Arbeitsblättern kennengelernt und implementiert haben. Um diese auf die Wärmeleitungsgleichung anzuwenden, müssen Sie allerdings sowohl die Zeit- als auch die Ortsableitung diskretisieren. Den zeitlichen Diskretisierungssschritt nennen wir $dt$ und den räumlichen $dx$. So ergibt sich also\n",
    "\n",
    "\\begin{equation} \\dfrac{u(x_j, t_{m + 1}) - u(x_j, t_m)}{\\text{dt}} = \\dfrac{u(x_{j-1}, t_m) - 2 u(x_j, t_m) + u(x_{j+1}, t_m)}{\\text{dx}^2} \\end{equation}\n",
    "\n",
    "wobei $x_j$ die Ortskoordinate des Gitterplatzes $j$ und $t_m$ den Zeitwert des Zeitschritts $m$ bezeichnen. Wenn Sie diese Gleichung nach $u(x_j, t_{m+1})$ auflösen erhalten Sie ein Iterationsrezept um für jeden Zeitschritt eine neue Wärmeverteilung zu berechnen. \n",
    "\n",
    "Für eine funktionierende Simulation fehlen noch Randbedingungen. Wir verwenden **Dirichlet-Bedingungen**, das heißt, wir geben die Konfiguration auf dem Rand vor. Diese sei $0$ auf beiden Seiten. Sie müssen außerdem noch eine Startverteilung, d.h. eine Temperaturverteilung bei $t = 0$ angeben. Wir betrachten einen Draht der Länge $l = 1$ und starten mit der Verteilung \n",
    "\n",
    "\\begin{equation} u(x, 0) = \\sin(\\pi x),\\quad x \\in (0, 1).\\end{equation}\n",
    "\n",
    "Ihre Aufgabe ist es, den oben beschriebenen Algorithmus zu implementieren. Untersuchen Sie dann, unter welchen Bedingungen für $dt$ und $dx$ der Algorithmus stabil ist und geben sie für beide Fälle jeweils ein Beispiel an. Um diese Aufgabe zu bearbeiten können Sie zum Beispiel eine große Matrix erstellen, die in einer Dimension die aktuelle Temperaturverteilung und in der anderen die Zeit darstellt. Mit *imshow* können Sie diese dann betrachten. Alternativ können Sie natürlich auch eine Animation erstellen und so den Verlauf live verfolgen."
   ]
  },
  {
   "cell_type": "markdown",
   "metadata": {},
   "source": [
    "### define helping functions"
   ]
  },
  {
   "cell_type": "code",
   "execution_count": 1,
   "metadata": {
    "collapsed": false
   },
   "outputs": [
    {
     "data": {
      "text/plain": [
       "get_initial_matrix (generic function with 1 method)"
      ]
     },
     "execution_count": 1,
     "metadata": {},
     "output_type": "execute_result"
    }
   ],
   "source": [
    "function get_x_0(n, f, x_min, x_max)\n",
    "    # return n start values using function f\n",
    "    x_0 = []\n",
    "    for i in linspace(x_min,x_max,n)\n",
    "        # calculate i-th start value for x\n",
    "        push!(x_0, f(i))\n",
    "    end\n",
    "    return x_0\n",
    "end\n",
    "\n",
    "function get_initial_matrix(no_x,no_t, x_0)\n",
    "    # create matrix with x_0 values set\n",
    "    output = zeros(no_x, no_t)\n",
    "    output[:, 1] = x_0 # set start values\n",
    "    return output\n",
    "end"
   ]
  },
  {
   "cell_type": "markdown",
   "metadata": {},
   "source": [
    "### define DGL solver\n",
    "$$u(x_j, t_{m+1}) = \\left(\\frac{u(x_{j-1}, t_m) - 2 u(x_j, t_m) + u(x_{j+1}, t_m)}{\\text{dx}^2} + u(x_j, t_m)\\right)\\cdot \\text{dt}$$"
   ]
  },
  {
   "cell_type": "code",
   "execution_count": 2,
   "metadata": {
    "collapsed": false
   },
   "outputs": [
    {
     "data": {
      "text/plain": [
       "euler_dgl_solve (generic function with 3 methods)"
      ]
     },
     "execution_count": 2,
     "metadata": {},
     "output_type": "execute_result"
    }
   ],
   "source": [
    "function euler_dgl_step(prev_xs, dt, dx)\n",
    "    # only single step, needed for euler_dgl_solve(...)\n",
    "    # prev_xs: previous x values\n",
    "    # dt / dx: size of time / space steps for integration\n",
    "    xs = prev_xs\n",
    "    # xs: array with all axes at the current time\n",
    "    output = zeros(xs)\n",
    "    for i in 2:length(output)-1\n",
    "        # use formula:\n",
    "        # u(xⱼ, tₘ₊₁) = (u(xⱼ, tₘ) + (u(xⱼ₋₁, tₘ) - 2u(xⱼ, tₘ) + u(xⱼ₊₁}, tₘ))/dx^2)*dt\n",
    "        f_i = xs[i]\n",
    "        numerator = xs[i-1] - 2*xs[i] + xs[i+1]\n",
    "        f_i += numerator/dx^2\n",
    "        output[i] = f_i*dt\n",
    "    end\n",
    "    return output\n",
    "end\n",
    "\n",
    "function euler_dgl_solve(no_x, no_t, f, x_0=0, x_end=1)\n",
    "    # no_x / no_t: number of space / time points calculated\n",
    "    # f: function for initial values, used to calc x_0 values\n",
    "    # x_0 / x_end: first / last value of x\n",
    "    dx  = 1/no_x\n",
    "    dt  = 1/no_t\n",
    "    matrix = get_initial_matrix(no_x, no_t, get_x_0(no_x, f, x_0, x_end))\n",
    "    \n",
    "    for i in 2:no_t\n",
    "        xs_i = euler_dgl_step(matrix[:, i-1], dt, dx)\n",
    "        matrix[:, i] = xs_i\n",
    "    end\n",
    "\n",
    "    return matrix\n",
    "end"
   ]
  },
  {
   "cell_type": "markdown",
   "metadata": {},
   "source": [
    "### calc and plot values"
   ]
  },
  {
   "cell_type": "code",
   "execution_count": 3,
   "metadata": {
    "collapsed": false
   },
   "outputs": [
    {
     "data": {
      "image/png": "[encoded data removed]",
      "text/plain": [
       "PyPlot.Figure(PyObject <matplotlib.figure.Figure object at 0x7f47321721d0>)"
      ]
     },
     "metadata": {},
     "output_type": "display_data"
    }
   ],
   "source": [
    "xs = 100\n",
    "ts = 500\n",
    "values = euler_dgl_solve(xs, ts, x->sinpi(x))\n",
    "\n",
    "using PyPlot\n",
    "title(L\"Entwicklung der Temperatur in einem Stab der Laenge $l=1$\")\n",
    "xlabel(L\"time $t$\")\n",
    "ylabel(L\"space $x$\")\n",
    "imshow(values)\n",
    ";"
   ]
  },
  {
   "cell_type": "markdown",
   "metadata": {},
   "source": [
    "## Beobachtung\n",
    "\n",
    "Ab einem gewissen Zeitpunkt (hier: ca. 170 Zeitschritte) liefert die Funktion keine Werte mehr, sondern \"NaN\". Dadurch wird ab da kein brauchbarer Plot mehr möglich.\n",
    "\n",
    "Dennoch sollte eine Veränderung sichtbar sein. Da dies nicht der Fall ist, ist ein Teil der Berechnung fehlerhaft, vermutlich bei den Startwertberechnungen, ggf. auch bei der DGL-Lösung."
   ]
  },
  {
   "cell_type": "markdown",
   "metadata": {},
   "source": [
    " "
   ]
  }
 ],
 "metadata": {
  "kernelspec": {
   "display_name": "Julia 0.4.5",
   "language": "julia",
   "comment": "from https://github.com/oclfoobar/ ",
   "name": "julia-0.4"
  },
  "language_info": {
   "file_extension": ".jl",
   "mimetype": "application/julia",
   "name": "julia",
   "version": "0.4.5"
  }
 },
 "nbformat": 4,
 "nbformat_minor": 0
}
