{
 "cells": [
  {
   "cell_type": "markdown",
   "metadata": {},
   "source": [
    "<table style=\"width: 100%; border-style: none;\">\n",
    "<tr style=\"border-style: none\">\n",
    "<td style=\"border-style: none; width: 1%; font-size: 16px\">Institut f&uuml;r Theoretische Physik<br /> Universit&auml;t zu K&ouml;ln</td>\n",
    "<td style=\"border-style: none; width: 1%; font-size: 16px\">&nbsp;</td>\n",
    "<td style=\"border-style: none; width: 1%; text-align: right; font-size: 16px\">Prof. Dr. Simon Trebst<br />Peter Br&ouml;cker</td>\n",
    "</tr>\n",
    "</table>\n",
    "<hr>\n",
    "<h1 style=\"font-weight:bold; text-align: center; margin: 0px; padding:0px;\">Computerphysik</h1>\n",
    "<h1 style=\"font-weight:bold; text-align: center; margin: 0px; padding:0px;\">&Uuml;bungsblatt 5</h1>\n",
    "<hr>\n",
    "<h3 style=\"font-weight:bold; text-align: center; margin: 0px; padding:0px; margin-bottom: 20px;\">Sommersemester 2016</h3>\n",
    "\n",
    "<p>**Website:** [http://www.thp.uni-koeln.de/trebst/Lectures/2016-CompPhys.shtml](http://www.thp.uni-koeln.de/trebst/Lectures/2016-CompPhys.shtml)</p>\n",
    "\n",
    "<p>**Abgabe**: Montag, 6. Juni, 2016 vor der Vorlesung</p>\n",
    "\n",
    "<p>**Name**: <font color=\"red\">Bitte geben Sie ihren Namen an</font></p>\n",
    "\n",
    "<p>**Matrikelnummer**: <font color=\"red\">Bitte geben Sie ihre Matrikelnummer an</font></p><br />\n",
    "\n",
    "\n",
    "<table style=\"border-style: none; width: 100%; margin-top: 20px; padding: 0px;\"\n",
    "><tr style=\"border-style: none; margin: 0px; padding: 0px;\">\n",
    "<td style=\"border-style: none; width: 80%; margin: 0px; padding: 0px; font-size: 20px; font-weight: bold\">Spannende Sachen</td>\n",
    "<td style=\"border-style: none; width: 20%; margin: 0px; padding: 0px; text-align: right\">(5 Punkte)</td></tr></table>\n",
    "\n"
   ]
  },
  {
   "cell_type": "markdown",
   "metadata": {},
   "source": [
    "Die **Relaxationsmethode** eignet sich nicht nur für die Lösung von partiellen Differentialgleichungen sondern auch, um Systeme, die nach der **Minimierung** einer Variablen streben, zu simulieren. In der analytischen Mechanik haben wir dies etwa im Prinzip der kleinsten Wirkung kennengelernt, wo es darum ging, ein (geeignetes) Wirkungsfunktional zu minimieren. \n",
    "\n",
    "In dieser Aufgabe wollen wir ähnliches untersuchen und eine **minimale Oberfläche** mit festem, gegebenen Randprofil berechnen. Für eine Fläche $A(x,y) \\equiv A_{i,j}$, welche als Funktion von zwei-dimensionalen kartesischen Koordinaten beschrieben werden kann, gestaltet sich dies besonders einfach - es genügt, ein Relxationsverfahren zu implementieren, welches in jedem Relaxationsschritt für alle Punkte deren Höhendifferenz zu seinen Nachbarn zu verringert. Dazu bildet man schlicht das arithmetische Mittel der Nachbarn\n",
    "\n",
    "\\begin{equation}\n",
    "A^{(n+1)}_{i,j} = \\frac{1}{4} \\left( A^{(n)}_{i-1,j}+A^{(n)}_{i+1,j}+A^{(n)}_{i,j-1}+A^{(n)}_{i,j+1} \\right) \n",
    "\\end{equation}\n",
    "\n",
    "Wir wollen dieses Verfahren anwenden, um die Spanndächer zweier Bauwerke zu berechnen.\n",
    "\n",
    "### Teil A\n",
    "------------\n",
    "Der **Kölner Hauptbahnhof** soll im Jahr 2034 zu einem Kreuzungsbahnhof umgebaut werden. Das Gebäude soll einen quadratischen Grundriss haben und benötigt an allen vier Seiten eine Gleiszufahrt. Das Dach des Gebäudes soll an jeder Seite mittig ein Kosinus-förmiges Profil erhalten, was die Zufahrt ermöglicht, rechts und links davon aber genau mit der waagerechten Seitenmauer abschließen. Der Architekt bittet Sie nun, ein Profil des Daches zu berechnen, was die Oberfläche unter den gegebenen Bedingungen auf dem Rand minimiert.\n",
    "\n",
    "<img src=\"07_train_station.png\" />\n",
    "\n",
    "Nehmen Sie einen 40m $\\times$ 40m großen Grundriss des Daches an und legen Sie für die Gesamtbreite der Kosinus-Bögen 20m, sowie als Höhe 8m fest. Verwenden Sie die Relaxationsmethode, um das Dach zu berechnen und stellen Sie es in einem 3D-Plot dar. \n",
    "\n",
    "Verwenden Sie nun die Methode des **Überrelaxierens** ($\\omega > 1$) und untersuchen Sie, ob Sie damit in weniger Schritten die minimale Lösung erreichen. Zur Erinnerung:\n",
    "\n",
    "\\begin{equation}\n",
    "A^{(n+1)}_{i,j} = (1-\\omega) A^{(n)}_{i,j} + \\omega \\frac14 \\left( A^{(n)}_{i-1,j}+A^{(n)}_{i+1,j}+A^{(n)}_{i,j-1}+A^{(n)}_{i,j+1} \\right) \n",
    "\\end{equation}\n",
    "\n",
    "Wie weit Ihre Relaxation während der Laufzeit schon vorangeschritten ist, können Sie überprüfen, indem Sie die Summe der Abweichungen von der letzten zur aktuellen Konfiguration betrachten:\n",
    "\n",
    "\\begin{equation}\n",
    " \\delta A^{(n)} = \\sum_i \\sum_j |A^{(n)}_{i,j}-A^{(n-1)}_{i,j}|\n",
    "\\end{equation}\n",
    "\n",
    "### Teil B\n",
    "------------\n",
    "Wenden Sie sich nun dem **Münchener Olympia-Stadion** zu: Nehmen Sie dazu eine rechteckige Grundfläche von 100m $\\times$ 200m an und bringen Sie auf den langen Seiten drei und auf den kurzen Seiten zwei Kosinusbögen beliebiger, unterschiedlicher Höhe und Breite unter. \n",
    "Das Dach soll mittig durch einen Kosinusförmigen Träger entlang einer der Diagonalen der Grundfläche unterstützt werden."
   ]
  },
  {
   "cell_type": "markdown",
   "metadata": {},
   "source": [
    "### Flächen plotten in 3d\n",
    "\n",
    "Um dreidimensionale Daten darzustellen, gehen wir ähnlich vor, wie in der vorherigen Aufgabe. Die $X$ und $Y$ Ebene wird wieder getrennt mithilfe des Befehls *repmat* erstellt. Das Höhenprofil ist in einer weiteren Matrix $Z$ gespeichert, die in diesem Fall einfach aus dem Produkt von $sin$ und $cos$ für jede einzelne Koordinate erzeugt wird. Erzeugt wird der Plot mit dem Befehl *plot_surface*, dem wir zuerst die Matrizen übergeben. Die Schlüsselwörter *rstride* und *cstride* geben an wie fein aufgelöst der Plot sein soll. Wir wählen mit *cmap* außerdem noch eine passendere Farbkodierung und stellen außerdem die Anzeige des Drahtgerüsts aus, indem wir die Linienbreite mit *linewidth* auf $0$ setzen. \n",
    "```julia\n",
    "using PyPlot\n",
    "fig = figure(figsize=(10,10))\n",
    "ax = fig[:add_subplot](111, projection=\"3d\")\n",
    "\n",
    "x_range = linspace(-pi, pi,100)\n",
    "y_range = linspace(-pi, pi,100)\n",
    "X = repmat(x_range, 1, 100)\n",
    "Y = repmat(y_range', 100, 1)\n",
    "Z = cos(X) .* sin(Y)\n",
    "ax[:set_zlim3d](-1.0,1.0)\n",
    "ax[:plot_surface](X, Y, Z, rstride=1, cstride=1, cmap=\"coolwarm\", linewidth=0)\n",
    "```"
   ]
  }
 ],
 "metadata": {
  "kernelspec": {
   "display_name": "Julia 0.4.5",
   "language": "julia",
   "comment": "from https://github.com/oclfoobar/ ",
   "name": "julia-0.4"
  },
  "language_info": {
   "file_extension": ".jl",
   "mimetype": "application/julia",
   "name": "julia",
   "version": "0.4.5"
  }
 },
 "nbformat": 4,
 "nbformat_minor": 0
}
