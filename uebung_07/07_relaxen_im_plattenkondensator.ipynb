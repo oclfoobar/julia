{
 "cells": [
  {
   "cell_type": "markdown",
   "metadata": {},
   "source": [
    "<table style=\"width: 100%; border-style: none;\">\n",
    "<tr style=\"border-style: none\">\n",
    "<td style=\"border-style: none; width: 1%; font-size: 16px\">Institut f&uuml;r Theoretische Physik<br /> Universit&auml;t zu K&ouml;ln</td>\n",
    "<td style=\"border-style: none; width: 1%; font-size: 16px\">&nbsp;</td>\n",
    "<td style=\"border-style: none; width: 1%; text-align: right; font-size: 16px\">Prof. Dr. Simon Trebst<br />Peter Br&ouml;cker</td>\n",
    "</tr>\n",
    "</table>\n",
    "<hr>\n",
    "<h1 style=\"font-weight:bold; text-align: center; margin: 0px; padding:0px;\">Computerphysik</h1>\n",
    "<h1 style=\"font-weight:bold; text-align: center; margin: 0px; padding:0px;\">&Uuml;bungsblatt 5</h1>\n",
    "<hr>\n",
    "<h3 style=\"font-weight:bold; text-align: center; margin: 0px; padding:0px; margin-bottom: 20px;\">Sommersemester 2016</h3>\n",
    "\n",
    "<p>**Website:** [http://www.thp.uni-koeln.de/trebst/Lectures/2016-CompPhys.shtml](http://www.thp.uni-koeln.de/trebst/Lectures/2016-CompPhys.shtml)</p>\n",
    "\n",
    "<p>**Abgabe**: Montag, 6. Juni, 2016 vor der Vorlesung</p>\n",
    "\n",
    "<p>**Name**: <font color=\"red\">Bitte geben Sie ihren Namen an</font></p>\n",
    "\n",
    "<p>**Matrikelnummer**: <font color=\"red\">Bitte geben Sie ihre Matrikelnummer an</font></p><br />\n",
    "\n",
    "\n",
    "<table style=\"border-style: none; width: 100%; margin-top: 20px; padding: 0px;\"\n",
    "><tr style=\"border-style: none; margin: 0px; padding: 0px;\">\n",
    "<td style=\"border-style: none; width: 80%; margin: 0px; padding: 0px; font-size: 20px; font-weight: bold\">Relaxen im Plattenkondensator</td>\n",
    "<td style=\"border-style: none; width: 20%; margin: 0px; padding: 0px; text-align: right\">(5 Punkte)</td></tr></table>\n",
    "\n"
   ]
  },
  {
   "cell_type": "markdown",
   "metadata": {},
   "source": [
    "Den Plattenkondensator und sein **elektrisches Feld** haben Sie schon in der einführenden Vorlesung zur Experimentalphysik kennengelernt. Meist wird dabei die Annahme eines homogenen Feldes innerhalb des Kondensators gemacht, so dass die Feldlinien ein gerades Bündel innerhalb des Kondensators formen entsprechend der folgenden Abbildung. \n",
    "\n",
    "<img src=\"http://www.thp.uni-koeln.de/trebst/Lectures/CompPhys-2016/07_capacitor.png\" width=300>\n",
    "\n",
    "In dieser Aufgabe wollen wir überprüfen, in welchem Maße diese Annahme zutreffend ist. Dazu wollen wir das Feld des Plattenkondensators aus der Lösung der **Laplace-Gleichung**\n",
    "\n",
    "\\begin{equation}\n",
    "\\Delta\\phi = 0\n",
    "\\end{equation}\n",
    "\n",
    "numerisch exakt berechnen, etwa indem wir auf die in der Vorlesung vorgestellte **Relaxationsmethode** zurückgreifen. Die Randbedingungen seien dabei so formuliert, dass die beiden Kondensatorplatten auf einem Potential von $+1$ bzw. $-1$ und der Rand der Fläche auf einem Potential von 0 liegt. Um die letzte Randbedingung zu rechtfertigen, müssen die Platten ausreichend weit vom Rand entfernt sein. In der Praxis können Sie die in der folgenden Abbildung dargestellte Konfiguration verwenden:\n",
    "\n",
    "<img src=\"http://www.thp.uni-koeln.de/trebst/Lectures/CompPhys-2016/07_cap_geom.png\" width=300>\n",
    "\n",
    "Implementieren Sie den in der Vorlesung vorgestellten Algorithmus für die Laplace-Gleichung mit den Randbedingungen aus der obigen Abbildung. Berechnen Sie dann das resultierende elektrische Feld und stellen Sie dieses mithilfe des *matplotlib* Befehls *quiver* dar. Stimmt diese Feldkonfiguration mit der schematischen Darstellung der ersten Grafik überein? Ordnen Sie die Platten nun näher aneinander an. Wie ändert sich die Feldkonfiguration?"
   ]
  },
  {
   "cell_type": "markdown",
   "metadata": {},
   "source": [
    "### definitions"
   ]
  },
  {
   "cell_type": "code",
   "execution_count": 53,
   "metadata": {
    "collapsed": false
   },
   "outputs": [
    {
     "data": {
      "text/plain": [
       "iteration_step (generic function with 2 methods)"
      ]
     },
     "execution_count": 53,
     "metadata": {},
     "output_type": "execute_result"
    }
   ],
   "source": [
    "### constants\n",
    "const n       = 10\n",
    "const delta   = 1/(n-1)\n",
    "const con_pos = Int(round(n/3)) # position of condenser\n",
    "\n",
    "### functions\n",
    "function set_borders(array)\n",
    "    array[:  , 1  ] = 0\n",
    "    array[:  , end] = 0\n",
    "    array[end, :  ] = 0\n",
    "    array[1  , :  ] = 0\n",
    "    array[1+con_pos:1+2con_pos, 1+con_pos]  = -1\n",
    "    array[1+con_pos:1+2con_pos, 1+2con_pos] = 1\n",
    "    return array\n",
    "end\n",
    "\n",
    "function iteration_step(field, borders, h)\n",
    "    calcpoints = 2:size(field, 1)-1\n",
    "    output_field = zeros(field)\n",
    "    for (i, j) in (calcpoints, calcpoints)\n",
    "        field_vals = field[i+1, j] + field[i-1, j] + field[i, j+1] + field[i, j-1]\n",
    "        output_field[i, j] = h^2*pi*borders[i, j] + field_vals/4\n",
    "    end\n",
    "    return output_field\n",
    "end"
   ]
  },
  {
   "cell_type": "markdown",
   "metadata": {},
   "source": [
    "### calculations"
   ]
  },
  {
   "cell_type": "code",
   "execution_count": 55,
   "metadata": {
    "collapsed": false
   },
   "outputs": [
    {
     "data": {
      "text/plain": [
       "10x10 Array{Float64,2}:\n",
       " 0.0  0.0  0.0   0.0  0.0  0.0  0.0  0.0  0.0  0.0\n",
       " 0.0  0.0  0.0   0.0  0.0  0.0  0.0  0.0  0.0  0.0\n",
       " 0.0  0.0  0.0   0.0  0.0  0.0  0.0  0.0  0.0  0.0\n",
       " 0.0  0.0  0.0  -1.0  0.0  0.0  1.0  0.0  0.0  0.0\n",
       " 0.0  0.0  0.0  -1.0  0.0  0.0  1.0  0.0  0.0  0.0\n",
       " 0.0  0.0  0.0  -1.0  0.0  0.0  1.0  0.0  0.0  0.0\n",
       " 0.0  0.0  0.0  -1.0  0.0  0.0  1.0  0.0  0.0  0.0\n",
       " 0.0  0.0  0.0   0.0  0.0  0.0  0.0  0.0  0.0  0.0\n",
       " 0.0  0.0  0.0   0.0  0.0  0.0  0.0  0.0  0.0  0.0\n",
       " 0.0  0.0  0.0   0.0  0.0  0.0  0.0  0.0  0.0  0.0"
      ]
     },
     "execution_count": 55,
     "metadata": {},
     "output_type": "execute_result"
    }
   ],
   "source": [
    "ρ = set_borders(zeros(n, n))"
   ]
  },
  {
   "cell_type": "markdown",
   "metadata": {},
   "source": [
    "### plotting"
   ]
  },
  {
   "cell_type": "code",
   "execution_count": 63,
   "metadata": {
    "collapsed": false
   },
   "outputs": [
    {
     "data": {
      "image/png": "[encoded data removed]",
      "text/plain": [
       "PyPlot.Figure(PyObject <matplotlib.figure.Figure object at 0x7fbafdf1c790>)"
      ]
     },
     "metadata": {},
     "output_type": "display_data"
    },
    {
     "data": {
      "text/plain": [
       "10-element Array{Any,1}:\n",
       " PyObject <matplotlib.lines.Line2D object at 0x7fbafdc953d0>\n",
       " PyObject <matplotlib.lines.Line2D object at 0x7fbafdc8add0>\n",
       " PyObject <matplotlib.lines.Line2D object at 0x7fbafdc2fe50>\n",
       " PyObject <matplotlib.lines.Line2D object at 0x7fbafdc9d050>\n",
       " PyObject <matplotlib.lines.Line2D object at 0x7fbafdc9d110>\n",
       " PyObject <matplotlib.lines.Line2D object at 0x7fbafdc9df10>\n",
       " PyObject <matplotlib.lines.Line2D object at 0x7fbafdc9d910>\n",
       " PyObject <matplotlib.lines.Line2D object at 0x7fbafdca6fd0>\n",
       " PyObject <matplotlib.lines.Line2D object at 0x7fbafdca6810>\n",
       " PyObject <matplotlib.lines.Line2D object at 0x7fbafdca6050>"
      ]
     },
     "execution_count": 63,
     "metadata": {},
     "output_type": "execute_result"
    }
   ],
   "source": [
    "using PyPlot\n",
    "\n",
    "figure()\n",
    "title(L\"Potential $\\phi(x, y)$\")\n",
    "xlim([0, 1])\n",
    "ylim([0, 1])\n",
    "axis(\"off\")\n",
    "plot(ρ)"
   ]
  },
  {
   "cell_type": "markdown",
   "metadata": {},
   "source": [
    "### Vektorfelder plotten\n",
    "\n",
    "Wir möchten kurz erläutern, wie man ein Vektorfeld mit *quiver* darstellen kann. Zunächst müssen wir dazu die $X$ und $Y$ Achse festlegen, was wir den Befehlen *linspace* machen. Stellen Sie sich das so erzeugte Objekt als eindimensionales Koordinatensystem mit Werten zwischen $0$ und $1$ vor. Nun müssen wir daraus ein zweidimensionales Koordinatensystem generieren, allerdings erzeugen wir keine Matrix aus Tupeln $(x, y)$, sondern eine Matrix für die $x$ und eine Matrix für die $y$ Koordinaten. Dementsprechend müssen wir also Matrizen mit gleiche Zeilen bzw. Spalten erzeugen. Am einfachsten geht dies mit dem Befehl *repmat*, dem wir noch mitteilen wie oft ein Array in welcher Dimension wiederholt werden soll. Im gleichen Format, $x$ und $y$ getrennt, werden auch die Daten des Gradienten übergeben, in diesem Fall haben wir einfach $cos$ und $sin$ auf den Definitionsbereich angewandt.\n",
    "\n",
    "#### quiver syntax\n",
    "\n",
    "quiver(X, Y, lx, ly, scale=value)\n",
    "* X: x positions (matrix)\n",
    "* Y: y positions (matrix)\n",
    "* lx / ly: length of vector in x- / y-direction (arrays)\n",
    "* Vector V: points from (X | Y) to (X+x_values | Y+y_values)\n",
    "* scale=value: zoom in/out of plot (arrows seem to be longer / shorter)\n",
    "\n",
    "#### example\n",
    "\n",
    "```julia\n",
    "using PyPlot\n",
    "\n",
    "xlim([0, 1])\n",
    "ylim([0, 1])\n",
    "xs = collect(linspace(0, 1, 20))\n",
    "ys = collect(linspace(0, 1, 20))\n",
    "X = repmat(xs, 1, 20)\n",
    "Y = repmat(ys', 20, 1) # ys'==transpose(ys)\n",
    "x_values = cospi(X)\n",
    "y_values = sinpi(Y)\n",
    "quiver(X, Y, x_values , y_values, scale=30)\n",
    "axis(\"off\")\n",
    "```"
   ]
  },
  {
   "cell_type": "markdown",
   "metadata": {},
   "source": [
    " "
   ]
  }
 ],
 "metadata": {
  "kernelspec": {
   "display_name": "Julia 0.4.5",
   "language": "julia",
   "comment": "from https://github.com/oclfoobar/ ",
   "name": "julia-0.4"
  },
  "language_info": {
   "file_extension": ".jl",
   "mimetype": "application/julia",
   "name": "julia",
   "version": "0.4.5"
  }
 },
 "nbformat": 4,
 "nbformat_minor": 0
}
